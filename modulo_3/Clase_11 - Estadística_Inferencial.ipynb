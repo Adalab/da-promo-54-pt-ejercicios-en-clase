{
    "cells": [
        {
            "cell_type": "markdown",
            "metadata": {},
            "source": [
                "# ESTADÍSTICA INFERENCIAL"
            ]
        },
        {
            "cell_type": "markdown",
            "metadata": {},
            "source": [
                "### En qué casos ayuda la estadística inferencial al análisis de datos?\n",
                "\n",
                "- Generalización a partir de Muestras: \n",
                "  - Estimación de Parámetros: Permite estimar parámetros desconocidos de una población (como la media, la varianza o la proporción) a partir de una muestra de datos. Esta técnica se utiliza cuando es impráctico o imposible recopilar datos de toda la población.\n",
                "  - Intervalos de Confianza: Proporcionan un rango de valores dentro del cual es probable que se encuentre el parámetro poblacional,\n",
                "     junto con un nivel de confianza asociado. Esto ayuda a comunicar la precisión de las estimaciones y la incertidumbre inherente.\n",
                "- Pruebas de Hipótesis\n"
            ]
        },
        {
            "cell_type": "markdown",
            "metadata": {},
            "source": [
                "### ¿Qué diferencia hay entre estadística descriptiva y estadística inferencial?\n",
                "\n",
                "La estadística descriptiva y la estadística inferencial son dos ramas de la estadística que se utilizan para diferentes propósitos. Las principales diferencias entre ambas son:\n",
                "\n",
                "Estadística descriptiva:\n",
                "\n",
                "* Se utiliza para describir y resumir los datos observados de forma sintética y significativa.\n",
                "* Se enfoca en el análisis, el resumen y la presentación de los resultados relacionados con un conjunto de datos derivados de una muestra o de toda la población.\n",
                "* Proporciona resúmenes sobre los datos de la población o muestra, lo que permite estructurar y representar la información contenida en los datos.\n",
                "* No se realizan inferencias sobre la población.\n",
                "\n",
                "Estadística inferencial:\n",
                "\n",
                "* Se utiliza para extraer conclusiones de los datos y realizar inferencias sobre la población a partir de una muestra.\n",
                "* Busca predecir o deducir características o resultados esperados de una población, basados en los datos obtenidos de una muestra de esa población.\n",
                "* Se utiliza para tomar decisiones y hacer predicciones sobre la población en general.\n",
                "* Se basa en la probabilidad y en la teoría de la muestra.\n"
            ]
        },
        {
            "cell_type": "markdown",
            "metadata": {},
            "source": [
                "## Conceptos de Población y Muestra\n",
                "\n",
                "### Población\n",
                "\n",
                "La población en estadística se refiere a todo el grupo de elementos o individuos que están siendo estudiados. Es como si fuera un gran grupo de personas o cosas que queremos entender o analizar en detalle.\n",
                "\n",
                "**Ejemplo de Población:** Si queremos saber la altura promedio de todas las personas en un país en particular, la población sería todas las personas que viven en ese país.\n",
                "\n",
                "### Muestra:\n",
                "\n",
                "Una muestra es un subconjunto más pequeño y representativo de la población total. En lugar de estudiar a todas las personas o elementos en la población, tomamos una muestra para obtener información sobre la población en su conjunto de manera más eficiente.\n",
                "\n",
                "**Ejemplo de Muestra:** Si en lugar de medir la altura de todas las personas en un país, seleccionamos aleatoriamente a 100 personas de diferentes regiones y edades y medimos sus alturas, entonces eso sería nuestra muestra.\n",
                "\n",
                "### Diferencia entre Población y Muestra\n",
                "\n",
                "La diferencia clave entre población y muestra es que la población incluye a todos los individuos o elementos en el grupo que estamos estudiando, mientras que la muestra es solo un grupo más pequeño pero representativo de la población. Usamos la muestra para hacer suposiciones y tomar decisiones sobre la población en su conjunto sin tener que estudiar a cada miembro de la población."
            ]
        },
        {
            "cell_type": "code",
            "execution_count": 2,
            "metadata": {},
            "outputs": [],
            "source": [
                "# ! pip install scipy\n",
                "\n",
                "# importamos las librerías que necesitamos\n",
                "\n",
                "# Tratamiento de datos\n",
                "# -----------------------------------------------------------------------\n",
                "import pandas as pd\n",
                "import numpy as np\n",
                "\n",
                "# Visualización\n",
                "# ------------------------------------------------------------------------------\n",
                "import matplotlib.pyplot as plt\n",
                "import seaborn as sns\n",
                "\n",
                "# Evaluar linealidad de las relaciones entre las variables\n",
                "# y la distribución de las variables\n",
                "# ------------------------------------------------------------------------------\n",
                "#import scipy.stats as stats\n",
                "import scipy.stats as st\n",
                "import scipy.stats as stats\n",
                "from scipy.stats import shapiro, poisson, chisquare, expon, kstest\n",
                "\n",
                "\n",
                "# Configuración\n",
                "# -----------------------------------------------------------------------\n",
                "pd.set_option('display.max_columns', None) # para poder visualizar todas las columnas de los DataFrames\n",
                "\n",
                "# Gestión de los warnings\n",
                "# -----------------------------------------------------------------------\n",
                "import warnings\n",
                "warnings.filterwarnings(\"ignore\")"
            ]
        },
        {
            "cell_type": "code",
            "execution_count": 3,
            "metadata": {},
            "outputs": [
                {
                    "data": {
                        "text/html": [
                            "<div>\n",
                            "<style scoped>\n",
                            "    .dataframe tbody tr th:only-of-type {\n",
                            "        vertical-align: middle;\n",
                            "    }\n",
                            "\n",
                            "    .dataframe tbody tr th {\n",
                            "        vertical-align: top;\n",
                            "    }\n",
                            "\n",
                            "    .dataframe thead th {\n",
                            "        text-align: right;\n",
                            "    }\n",
                            "</style>\n",
                            "<table border=\"1\" class=\"dataframe\">\n",
                            "  <thead>\n",
                            "    <tr style=\"text-align: right;\">\n",
                            "      <th></th>\n",
                            "      <th>income</th>\n",
                            "      <th>kidhome</th>\n",
                            "      <th>teenhome</th>\n",
                            "      <th>dt customer</th>\n",
                            "      <th>numwebvisitsmonth</th>\n",
                            "      <th>id</th>\n",
                            "      <th>job</th>\n",
                            "      <th>marital</th>\n",
                            "      <th>education</th>\n",
                            "      <th>default</th>\n",
                            "      <th>housing</th>\n",
                            "      <th>loan</th>\n",
                            "      <th>contact</th>\n",
                            "      <th>duration</th>\n",
                            "      <th>campaign</th>\n",
                            "      <th>previous</th>\n",
                            "      <th>poutcome</th>\n",
                            "      <th>emp var rate</th>\n",
                            "      <th>cons price idx</th>\n",
                            "      <th>cons conf idx</th>\n",
                            "      <th>nr employed</th>\n",
                            "      <th>y</th>\n",
                            "      <th>date</th>\n",
                            "      <th>latitude</th>\n",
                            "      <th>longitude</th>\n",
                            "      <th>age</th>\n",
                            "      <th>euribor3m</th>\n",
                            "    </tr>\n",
                            "  </thead>\n",
                            "  <tbody>\n",
                            "    <tr>\n",
                            "      <th>0</th>\n",
                            "      <td>161770</td>\n",
                            "      <td>1</td>\n",
                            "      <td>0</td>\n",
                            "      <td>2012-04-04</td>\n",
                            "      <td>29</td>\n",
                            "      <td>089b39d8-e4d0-461b-87d4-814d71e0e079</td>\n",
                            "      <td>housemaid</td>\n",
                            "      <td>married</td>\n",
                            "      <td>basic 4y</td>\n",
                            "      <td>No</td>\n",
                            "      <td>No</td>\n",
                            "      <td>No</td>\n",
                            "      <td>telephone</td>\n",
                            "      <td>261</td>\n",
                            "      <td>1</td>\n",
                            "      <td>0</td>\n",
                            "      <td>nonexistent</td>\n",
                            "      <td>1.1</td>\n",
                            "      <td>93.994</td>\n",
                            "      <td>-36.4</td>\n",
                            "      <td>5191.0</td>\n",
                            "      <td>no</td>\n",
                            "      <td>2019-08-02</td>\n",
                            "      <td>41.495</td>\n",
                            "      <td>-71.233</td>\n",
                            "      <td>39.0</td>\n",
                            "      <td>4.8570</td>\n",
                            "    </tr>\n",
                            "    <tr>\n",
                            "      <th>1</th>\n",
                            "      <td>85477</td>\n",
                            "      <td>1</td>\n",
                            "      <td>1</td>\n",
                            "      <td>2012-12-30</td>\n",
                            "      <td>7</td>\n",
                            "      <td>e9d37224-cb6f-4942-98d7-46672963d097</td>\n",
                            "      <td>services</td>\n",
                            "      <td>married</td>\n",
                            "      <td>high school</td>\n",
                            "      <td>No</td>\n",
                            "      <td>No</td>\n",
                            "      <td>No</td>\n",
                            "      <td>telephone</td>\n",
                            "      <td>149</td>\n",
                            "      <td>1</td>\n",
                            "      <td>0</td>\n",
                            "      <td>nonexistent</td>\n",
                            "      <td>1.1</td>\n",
                            "      <td>93.994</td>\n",
                            "      <td>-36.4</td>\n",
                            "      <td>5191.0</td>\n",
                            "      <td>no</td>\n",
                            "      <td>2016-09-14</td>\n",
                            "      <td>34.601</td>\n",
                            "      <td>-83.923</td>\n",
                            "      <td>57.0</td>\n",
                            "      <td>4.7866</td>\n",
                            "    </tr>\n",
                            "  </tbody>\n",
                            "</table>\n",
                            "</div>"
                        ],
                        "text/plain": [
                            "   income  kidhome  teenhome dt customer  numwebvisitsmonth  \\\n",
                            "0  161770        1         0  2012-04-04                 29   \n",
                            "1   85477        1         1  2012-12-30                  7   \n",
                            "\n",
                            "                                     id        job  marital    education  \\\n",
                            "0  089b39d8-e4d0-461b-87d4-814d71e0e079  housemaid  married     basic 4y   \n",
                            "1  e9d37224-cb6f-4942-98d7-46672963d097   services  married  high school   \n",
                            "\n",
                            "  default housing loan    contact  duration  campaign  previous     poutcome  \\\n",
                            "0      No      No   No  telephone       261         1         0  nonexistent   \n",
                            "1      No      No   No  telephone       149         1         0  nonexistent   \n",
                            "\n",
                            "   emp var rate  cons price idx  cons conf idx  nr employed   y        date  \\\n",
                            "0           1.1          93.994          -36.4       5191.0  no  2019-08-02   \n",
                            "1           1.1          93.994          -36.4       5191.0  no  2016-09-14   \n",
                            "\n",
                            "   latitude  longitude   age  euribor3m  \n",
                            "0    41.495    -71.233  39.0     4.8570  \n",
                            "1    34.601    -83.923  57.0     4.7866  "
                        ]
                    },
                    "execution_count": 3,
                    "metadata": {},
                    "output_type": "execute_result"
                }
            ],
            "source": [
                "df = pd.read_csv(\"bank-additional-clean-nonulls.csv\")\n",
                "df.head(2)"
            ]
        },
        {
            "cell_type": "markdown",
            "metadata": {},
            "source": [
                "## ¿Qué vamos a ver en la clase de hoy?\n",
                "\n",
                "- Intervalos de confianza\n",
                "- Contraste de hipótesis"
            ]
        },
        {
            "cell_type": "markdown",
            "metadata": {},
            "source": [
                "# INTERVALOS DE CONFIANZA\n",
                "\n",
                "Pretendemos estimar, predecir ciertos parámetros poblacionales a partir de una muestra. Para esto es necesario decidir el nivel de confianza que queremos tener. \n",
                "\n",
                "Ejemplo, si dijeramos que la media de alturas de la población con un 95% de nivel de confianza está entre 1.5 - 1.8 metros, estamos diciendo que teniendo en cuenta la muestra analizada, con un nivel de seguridad del 95% aseguramos que la media poblacional se encuentra entre estos valores.\n",
                "\n",
                "Niveles de confianza más altos (como 99%) brindan más seguridad, pero a costa de intervalos más anchos y menos precisos. Por otro lado, niveles de confianza más bajos (como 90%) producen intervalos más estrechos pero con menor seguridad. El nivel de confianza es crucial en la interpretación y comunicación de resultados estadísticos.\n",
                "\n",
                "Para el caso anterior, si quiero tener un nivel de confianza mayor, necesitaré abrir el intervalo, por ejemplo, asegurar que la media de la estatura de la población se encuentra en un 99% de seguridad entre 1.4-1.8 (estamos ganando confianza pero disminuimos la precisión del intervalo)\n"
            ]
        },
        {
            "cell_type": "markdown",
            "metadata": {},
            "source": [
                "## Distribución Normal\n",
                "\n",
                "La distribución gaussiana o normal es una de las distribuciones de probabilidad más importantes en estadística. Se caracteriza por tener una forma de campana, simétrica alrededor de su media, y está completamente definida por dos parámetros: la media (μ) y la desviación estándar (σ). \n",
                "\n",
                "**Características de la Distribución Normal o Gaussiana:**\n",
                "\n",
                "* La media (μ) es el punto en el que se encuentra el pico de la campana y representa el valor central de la distribución.\n",
                "* La desviación estándar (σ) controla cuán extendida o agrupada está la distribución alrededor de la media.\n",
                "* La distribución normal es simétrica, lo que significa que la mitad izquierda es un espejo de la mitad derecha de la curva.\n",
                "* A medida que aumenta la desviación estándar, la distribución se vuelve más ancha y achatada; a medida que disminuye, se vuelve más estrecha y puntiaguda.\n",
                "\n",
                "**Ejemplo de la distribución normal:**\n",
                "\n",
                "Un ejemplo común de una distribución normal es la distribución de alturas de la población. Si se mide la altura de una gran muestra representativa de personas, generalmente se encontrará que sigue una distribución normal. La mayoría de las personas tienen alturas cercanas a la media, y a medida que nos alejamos de la media hacia valores más altos o más bajos, encontramos menos personas con esas alturas extremas.\n",
                "\n",
                "**Identificación de una Distribución Gaussiana:**\n",
                "\n",
                "Para identificar si un conjunto de datos sigue una distribución gaussiana, puedes realizar algunas comprobaciones:\n",
                "\n",
                "1. **Histograma:** Crea un histograma de tus datos y observa si tiene una forma de campana. De ser así, es una indicación de que podría seguir una distribución normal.\n",
                "2. **Prueba de normalidad:** Puedes utilizar pruebas estadísticas como la prueba de Kolmogorov-Smirnov o la prueba de Shapiro-Wilk para evaluar si tus datos se ajustan a una distribución normal.\n",
                "\n",
                "Es importante destacar que en la práctica, los datos reales a menudo no siguen una distribución perfectamente normal, pero la distribución normal es un modelo útil y se utiliza con frecuencia en estadística debido a sus propiedades matemáticas y su amplia aplicabilidad en muchos contextos.\n",
                "\n",
                "Para generar una distribución de datos normal usaremos el método `np.random.normal()`. Si sintaxis es:\n",
                "\n",
                "```python\n",
                "np.random.normal(loc, scale, size)\n",
                "```\n",
                "\n",
                "Donde:\n",
                "\n",
                "* `loc`: Es la media (o promedio) de la distribución normal que deseas generar. Por defecto, es 0.0.\n",
                "* `scale`: Es la desviación estándar de la distribución normal que deseas generar. Por defecto, es 1.0.\n",
                "* `size`: Es el tamaño de la muestra que deseas generar. Puede ser un número entero o una tupla que especifique las dimensiones de la muestra (como lo hicimos en NumPy). Por defecto, es None, lo que genera un solo número aleatorio."
            ]
        },
        {
            "cell_type": "code",
            "execution_count": 4,
            "metadata": {},
            "outputs": [
                {
                    "data": {
                        "image/png": "[encoded data removed]",
                        "text/plain": [
                            "<Figure size 640x480 with 1 Axes>"
                        ]
                    },
                    "metadata": {},
                    "output_type": "display_data"
                }
            ],
            "source": [
                "# generamos un array con media = 0, desviación estándar = 1, 1000 muestras\n",
                "data = np.random.normal(0, 0.5, 1000) \n",
                "\n",
                "# creamos un DataFrame con los datos normales creados previamente\n",
                "df_normal = pd.DataFrame({'Datos': data})\n",
                "\n",
                "# Crear un histograma para visualizar la distribución\n",
                "plt.hist(df_normal['Datos'], \n",
                "         bins=30, \n",
                "         density=True, \n",
                "         alpha=0.5)\n",
                "\n",
                "# ponemos título a la gráfica\n",
                "plt.title('Histograma de Datos')\n",
                "\n",
                "# cambiamos el nombre del eje x\n",
                "plt.xlabel('Valor')\n",
                "\n",
                "# cambiamos el nombre del eje y\n",
                "plt.ylabel('Frecuencia')\n",
                "plt.xlim(-10, 10);\n",
                "\n",
                "# como podemos ver los datos generados tienen forma de campana de Gauss, por lo que podemos decir que es una distribución normal. "
            ]
        },
        {
            "cell_type": "markdown",
            "metadata": {},
            "source": [
                "## Ejemplo 1\n",
                "\n",
                "Imagina que eres el gerente de un centro de llamadas de una empresa de servicios financieros. Tu equipo realiza llamadas a clientes para ofrecerles productos financieros y resolver sus consultas. \n",
                "- Quieres entender mejor cuánto tiempo en promedio pasan tus agentes en una llamada y tener una idea de la variabilidad en la duración de las llamadas. \n",
                "- Esto es importante para la planificación de recursos, la gestión de la carga de trabajo y la optimización de la productividad de tu equipo. "
            ]
        },
        {
            "cell_type": "markdown",
            "metadata": {},
            "source": [
                "## A tener en cuenta:\n",
                "- Estamos trabajando con una muestra, no una población"
            ]
        },
        {
            "cell_type": "markdown",
            "metadata": {},
            "source": [
                "### Receta: Esto es lo que haremos siempre\n",
                "1. Vemos la distribución de llamadas junto con la media\n",
                "2. Calculamos la desviación estandard (std)\n",
                "3. Seleccionamos un nivel de confianza\n",
                "4. Calculamos el intervalo de confianza"
            ]
        },
        {
            "cell_type": "code",
            "execution_count": 5,
            "metadata": {},
            "outputs": [
                {
                    "data": {
                        "image/png": "[encoded data removed]",
                        "text/plain": [
                            "<Figure size 640x480 with 1 Axes>"
                        ]
                    },
                    "metadata": {},
                    "output_type": "display_data"
                }
            ],
            "source": [
                "# 1. Vemos la distribución de llamadas junto con la media\n",
                "\n",
                "mean_duration= df['duration'].mean()\n",
                "\n",
                "# Visualización: Histograma con la media\n",
                "sns.histplot(df['duration'], bins=30)\n",
                "plt.axvline(mean_duration, color='red', linestyle='dashed', linewidth=2, label=f'Media: {mean_duration}')\n",
                "\n",
                "# Cambiar los nombres de los ejes\n",
                "plt.xlabel('Duración de las Llamadas (segundos)')\n",
                "plt.ylabel('Frecuencia')\n",
                "\n",
                "# Cambiar el título del gráfico\n",
                "plt.title('Distribución de la Duración de las Llamadas y Media')\n",
                "plt.legend()\n",
                "plt.show()\n",
                "\n"
            ]
        },
        {
            "cell_type": "code",
            "execution_count": 6,
            "metadata": {},
            "outputs": [
                {
                    "data": {
                        "image/png": "[encoded data removed]",
                        "text/plain": [
                            "<Figure size 1000x600 with 1 Axes>"
                        ]
                    },
                    "metadata": {},
                    "output_type": "display_data"
                }
            ],
            "source": [
                "plt.figure(figsize=(10, 6))\n",
                "sns.boxplot(x=df['duration'])\n",
                "\n",
                "# Añadir leyenda y título\n",
                "plt.legend()\n",
                "plt.title('Boxplot con Media, Mediana y Moda')\n",
                "\n",
                "# Mostrar el gráfico\n",
                "plt.show()"
            ]
        },
        {
            "cell_type": "code",
            "execution_count": 7,
            "metadata": {},
            "outputs": [],
            "source": [
                "# 2. Calculamos la desviación estandard (std)\n",
                "\n",
                "std_duration = df['duration'].std()\n",
                "mean_duration = df['duration'].mean()\n",
                "n = len(df['duration'])\n",
                "\n",
                "confidence = 0.95"
            ]
        },
        {
            "cell_type": "markdown",
            "metadata": {},
            "source": [
                "# 3. Seleccionamos un nivel de confianza\n",
                "El nivel de confianza indica cuán seguro estás de que tu resultado es correcto.\n",
                "\n",
                "Otro ejemplo:\n",
                "- Imagina que estás encuestando a clientes para estimar cuántas personas están satisfechas con un producto. Como no puedes encuestar a toda la población, tomas una muestra.\n",
                "- Si eliges un nivel de confianza del 95%, significa que estás 95% seguro de que la verdadera satisfacción de los clientes está dentro del rango que calculaste.\n",
                "- En otras palabras, si realizas la encuesta 100 veces,  y calculas un intervalo de confianza para cada muestra, el 95% de esos intervalos incluirán la verdadera satisfacción de los clientes.\n",
                "\n",
                "Otra forma de explicarlo:\n",
                "\n",
                "- Un nivel de confianza del 95% significa que confías en que el proceso de construir intervalos capturará la media verdadera el 95% de las veces.\n",
                "\n",
                "- No sabes si el intervalo específico que calculaste contiene la media verdadera, pero confías en el proceso.\n",
                "\n",
                "- Si repites la encuesta muchas veces, el 95% de los intervalos capturarán la media verdadera, pero un 5% no lo hará.\n"
            ]
        },
        {
            "cell_type": "code",
            "execution_count": 8,
            "metadata": {},
            "outputs": [
                {
                    "name": "stdout",
                    "output_type": "stream",
                    "text": [
                        "Media: 257.74 segundos\n",
                        "Intervalo de Confianza al 99%: (254.53, 260.95)\n"
                    ]
                }
            ],
            "source": [
                "# 4. Calculamos el intervalo de confianza\n",
                "\n",
                "# Extraer la columna 'duration' (duración de llamadas en segundos)\n",
                "durations = df['duration']\n",
                "# Tamaño de la muestra\n",
                "n = len(df['duration'])\n",
                "\n",
                "# Calcular el intervalo de confianza al 95%\n",
                "confidence_interval = stats.t.interval(\n",
                "    confidence=0.99,         # Nivel de confianza\n",
                "    df=n-1,             # Grados de libertad\n",
                "    loc=mean_duration,  # Media de la muestra\n",
                "    scale=std_duration/ np.sqrt(n)  # Error estándar de la media\n",
                ")\n",
                "\n",
                "# Mostrar el resultado\n",
                "print(f\"Media: {mean_duration:.2f} segundos\")\n",
                "print(f\"Intervalo de Confianza al 99%: {confidence_interval[0].round(2), confidence_interval[1].round(2)}\")"
            ]
        },
        {
            "cell_type": "markdown",
            "metadata": {},
            "source": [
                "Respuesta: La duración media de las llamadas está contenida en (255.3, 260.2) con un nivel de confianza del 99%"
            ]
        },
        {
            "cell_type": "markdown",
            "metadata": {},
            "source": [
                "# Necesitamos:\n",
                "- media -> calculamos\n",
                "- desviación standard -> calculamos\n",
                "- tamaño de la muestra -> len(muestra)\n",
                "- nivel de confianza -> lo decidimos nostras"
            ]
        },
        {
            "cell_type": "markdown",
            "metadata": {},
            "source": [
                "**Interpretación**:  Indica que, con un 95% de confianza, podemos decir que la duración promedio de las llamadas estará entre 255.29 y 260.18 segundos.\n",
                "\n",
                "Para que nos puede ayudar esto en un caso real: \n",
                "\n",
                "- **Planificación de Recursos:** Saber que el intervalo de confianza va desde, por ejemplo, 255.29 a 269.18 segundos de duración, nos puede permitir planificar la asignación de agentes y recursos en función de esa estimación.\n",
                "\n",
                "- **Gestión de la Carga de Trabajo:** Si tienes un día con un alto volumen de llamadas, puedes utilizar esta estimación para estimar cuánto tiempo llevará atender a todos los clientes y garantizar una distribución adecuada de las llamadas entre los agentes."
            ]
        },
        {
            "cell_type": "markdown",
            "metadata": {},
            "source": [
                "## Ejemplo 2\n",
                "\n",
                "- Imagina que estás desarrollando una estrategia de marketing dirigida a diferentes grupos de edad. Quieres asegurarte de que tus mensajes y ofertas sean relevantes para tus clientes. \n",
                "- Sin embargo, no puedes conocer la edad de todos los clientes, por lo que decides tomar una muestra aleatoria de registros de clientes y calcular un intervalo de confianza para la edad promedio de tu base de clientes."
            ]
        },
        {
            "cell_type": "markdown",
            "metadata": {},
            "source": [
                "En otras palabras:\n",
                "- quieres saber la edad promedio de tus clientes para dirigir campañas apropiadas\n",
                "- como no tienes toda la población (todos los clientes), vamos a trabajar con una muestra (un subgrupo)\n",
                "- en este caso, vamos a dar un intervalo"
            ]
        },
        {
            "cell_type": "markdown",
            "metadata": {},
            "source": [
                "### Receta\n",
                "1. Vemos la distribución de edades junto con la media\n",
                "2. Calculamos la desviación estandard (std)\n",
                "3. Seleccionamos un nivel de confianza\n",
                "4. Calculamos el intervalo de confianza"
            ]
        },
        {
            "cell_type": "code",
            "execution_count": 28,
            "metadata": {},
            "outputs": [
                {
                    "data": {
                        "image/png": "[encoded data removed]",
                        "text/plain": [
                            "<Figure size 640x480 with 1 Axes>"
                        ]
                    },
                    "metadata": {},
                    "output_type": "display_data"
                }
            ],
            "source": [
                "# 1. Vemos la distribución de edades junto con la media\n",
                "\n",
                "mean_age= df['age'].mean()\n",
                "\n",
                "# Visualización: Histograma con la media\n",
                "sns.histplot(df['age'], bins=30)\n",
                "plt.axvline(mean_age, color='red', linestyle='dashed', linewidth=2, label=f'Media: {mean_age}')\n",
                "\n",
                "# Cambiar los nombres de los ejes\n",
                "plt.xlabel('Edad')\n",
                "plt.ylabel('Frecuencia')\n",
                "\n",
                "# Cambiar el título del gráfico\n",
                "plt.title('Distribución de la Edad y Media')\n",
                "plt.legend()\n",
                "plt.show()"
            ]
        },
        {
            "cell_type": "code",
            "execution_count": 29,
            "metadata": {},
            "outputs": [
                {
                    "data": {
                        "image/png": "[encoded data removed]",
                        "text/plain": [
                            "<Figure size 1000x600 with 1 Axes>"
                        ]
                    },
                    "metadata": {},
                    "output_type": "display_data"
                }
            ],
            "source": [
                "plt.figure(figsize=(10, 6))\n",
                "sns.boxplot(x=df['age'])\n",
                "\n",
                "\n",
                "\n",
                "# Añadir leyenda y título\n",
                "plt.legend()\n",
                "plt.title('Boxplot con Media, Mediana y Moda')\n",
                "\n",
                "# Mostrar el gráfico\n",
                "plt.show()"
            ]
        },
        {
            "cell_type": "code",
            "execution_count": null,
            "metadata": {},
            "outputs": [],
            "source": [
                "# 2. Calculamos la desviación estandard (std)\n",
                "\n",
                "std_age = df['age'].std()\n",
                "mean_age = df['age'].mean()\n",
                "n = len(df['age'])\n",
                "\n",
                "conficence = 0.95"
            ]
        },
        {
            "cell_type": "code",
            "execution_count": 40,
            "metadata": {},
            "outputs": [
                {
                    "name": "stdout",
                    "output_type": "stream",
                    "text": [
                        "Media: 39.94 años\n",
                        "Intervalo de Confianza al 95%: (39.84986884535741, 40.037537845293606)\n"
                    ]
                }
            ],
            "source": [
                "# 4. Calculamos el intervalo de confianza\n",
                "\n",
                "# Extraer la columna 'age' (duración de llamadas en segundos)\n",
                "age = df['age']\n",
                "# Tamaño de la muestra\n",
                "n = len(age)\n",
                "\n",
                "# Calcular el intervalo de confianza al 95%\n",
                "confidence_interval = stats.t.interval(\n",
                "    confidence=confidence,         # Nivel de confianza\n",
                "    df=n-1,             # Grados de libertad\n",
                "    loc=mean_age,  # Media de la muestra\n",
                "    scale=std_age/ np.sqrt(n)  # Error estándar de la media\n",
                ")\n",
                "\n",
                "# Mostrar el resultado\n",
                "print(f\"Media: {mean_age:.2f} años\")\n",
                "print(f\"Intervalo de Confianza al 95%: {confidence_interval}\")"
            ]
        },
        {
            "cell_type": "markdown",
            "metadata": {},
            "source": [
                "**Interpretación**:  Indica que, con un 90% de confianza, podemos decir que la edad promedio de los clientes estará entre 39.93 y 40.09 segundos.\n",
                "\n",
                "Para que nos pueden ser útiles estos valores: \n",
                "\n",
                "- **Segmentación Efectiva:** Podemos utilizar el intervalo de confianza para identificar los grupos de edad más probables entre nuestros clientes y adaptar las campañas de marketing específicamente a esas edades.\n",
                "\n",
                "- **Optimización de Recursos:** Si observamos una amplia variabilidad en las edades de los clientes, podemos ajustar la asignación de recursos y personalizar tus estrategias para atender a un espectro más amplio de edades."
            ]
        },
        {
            "cell_type": "markdown",
            "metadata": {},
            "source": [
                "## Pruebas de Hipótesis\n",
                "Una prueba de hipótesis es un procedimiento estadístico que se utiliza para tomar decisiones basadas en datos observados en relación con afirmaciones o suposiciones sobre una población o un proceso. Es una forma de evaluar la validez de una afirmación (hipótesis) sobre poblaciones basadas en la evidencia proporcionada por muestras de datos observados. Normalmente se siguen los siguientes pasos:\n",
                "- **Formulación de la hipótesis**:\n",
                "- **Elección del nivel de significancia**: El nivel de significancia α (alfa) es la probabilidad de rechazar la hipótesis nula cuando en realidad es verdadera. Es una decisión subjetiva tomada por el investigador y generalmente se elige antes de realizar la prueba de hipótesis. Los valores comunes de nivel de significancia son 0.05 (5%) y 0.01 (1%), pero también pueden variar dependiendo del campo de estudio, la naturaleza del problema y las convenciones estadísticas.\n"
            ]
        },
        {
            "cell_type": "markdown",
            "metadata": {},
            "source": [
                "## ¿Qué es el  nivel de significancia?\n",
                "\n",
                "El nivel de significancia (𝛼) es el complemento del nivel de confianza. Indica la probabilidad de cometer un error al rechazar la hipótesis nula cuando en realidad es verdadera.\n",
                "\n",
                "Ejemplo simple:\n",
                "\n",
                "Si seleccionas un nivel de significancia del 5% (𝛼=0.05), significa que aceptas un 5% de riesgo de cometer un error tipo I (rechazar la hipótesis nula cuando en realidad es verdadera).\n",
                "\n",
                "Elegir un nivel más bajo de nivel de significancia (que me llevaría a aceptar más fácilmente la hipótesis nula) o un nivel de significancia más alto (sería más exigente para aceptar la hipótesis nula) depende del contexto. ¿Prefiero no aceptar hipótesis nula aun a riesto de equivocarme y que sea cierta? ¿O prefiero aceptarla aun a riesgo de dar por válidas afirmaciones que no lo son, y que realmente no sea verdadera?\n"
            ]
        },
        {
            "cell_type": "markdown",
            "metadata": {},
            "source": [
                "| Decisión / Realidad | H₀ verdadera                                           | H₁ verdadera                                                  |\n",
                "| ------------------- | ------------------------------------------------------ | ------------------------------------------------------------- |\n",
                "| **Rechazar H₀**     | **Error tipo I (α)**: rechazamos H₀ cuando era cierta. **FALSO NEGATIVO** | Decisión correcta (Detectamos el efecto).                     |\n",
                "| **No rechazar H₀**  | Decisión correcta (Aceptamos H₀ siendo cierta).        | **Error tipo II (β)**: no rechazamos H₀ cuando H₁ era cierta. **FALSO POSITIVO** |\n"
            ]
        },
        {
            "cell_type": "markdown",
            "metadata": {},
            "source": [
                "- **Selección del estadístico de prueba**: \n",
                "\n",
                "![alt text](diagrama_flujo_prueba_hipotesis.png)\n",
                "\n",
                "1) Paso primero: Ver si los datos son normales (kolmogorov-smirnov si muestra > 50 o Shapiro-Wilk si <= 50)\n",
                "2) Si no son normales --> Hacemos test que evalúe medianas y no medias para decidir si rechazamos o no hipotesis nula (si 2 grupos <u> Mann Whitney </u>, si más de dos grupos <u> Kruskal Wallis </u>)\n",
                "3) Si son normales --> Evaluamos homogeneidad de varianzas (Con barlett):\n",
                "      - Si son homogeneas -->  <u> t de student </u> (si dos grupos) <u> ANOVA </u> si más dos grupos \n",
                "      - Si no son homogeneas --> <u> test de Welsch </u> (si dos grupos) <u> Welch-ANOVA </u> si más de dos grupos\n",
                "\n",
                "En el caso de contraste de hipotesis con una muestra usaremos test de student para muestras pareadas y para un solo grupo. \n",
                "\n",
                "\n",
                "Para todos estos casos asumiremos independencia de observaciones: No hay un test estadistico para ello. Debería ser muestras independientes. La independencia de las observaciones es uno de los supuestos más importantes, pero a diferencia de la normalidad o la homogeneidad de varianzas, no se puede “testear” directamente con un test estadístico general. Se evalúa más por    diseño experimental y, en algunos casos, con técnicas indirectas.\n"
            ]
        },
        {
            "cell_type": "code",
            "execution_count": null,
            "metadata": {},
            "outputs": [
                {
                    "name": "stdout",
                    "output_type": "stream",
                    "text": [
                        "Rechazamos hipotesis nula, aceptamos alternativa --> No normal\n",
                        "1.874346850798574e-72\n"
                    ]
                }
            ],
            "source": [
                "# SHAPIRO\n",
                "\n",
                "\n",
                "p_value = stats.shapiro(df['age']).pvalue\n",
                "if p_value > 0.05:\n",
                "    print(\"No rechazamos hipotesis nula --> Distribución normal\")\n",
                "else:\n",
                "    print(\"Rechazamos hipotesis nula, aceptamos alternativa --> No normal\")\n",
                "    \n",
                "\n",
                "print(p_value)"
            ]
        },
        {
            "cell_type": "code",
            "execution_count": 156,
            "metadata": {},
            "outputs": [
                {
                    "name": "stdout",
                    "output_type": "stream",
                    "text": [
                        "Rechazamos hipotesis nula, aceptamos alternativa --> No normal\n",
                        "0.0\n"
                    ]
                }
            ],
            "source": [
                "# kolmogorov - smirnov\n",
                "\n",
                "p_value = stats.kstest(df['age'], 'norm').pvalue\n",
                "\n",
                "if p_value > 0.05:\n",
                "    print(\"No rechazamos hipotesis nula --> Distribución normal\")\n",
                "else:\n",
                "    print(\"Rechazamos hipotesis nula, aceptamos alternativa --> No normal\")\n",
                "    \n",
                "print(p_value)"
            ]
        },
        {
            "cell_type": "code",
            "execution_count": 43,
            "metadata": {},
            "outputs": [
                {
                    "name": "stdout",
                    "output_type": "stream",
                    "text": [
                        "Rechazamos hipotesis nula, aceptamos alternativa --> No normal\n",
                        "0.0\n"
                    ]
                }
            ],
            "source": [
                "# kolmogorov - smirnov\n",
                "\n",
                "p_value = stats.kstest(df[df['marital'] == 'married']['age'], 'norm').pvalue\n",
                "\n",
                "if p_value > 0.05:\n",
                "    print(\"No rechazamos hipotesis nula --> Distribución normal\")\n",
                "else:\n",
                "    print(\"Rechazamos hipotesis nula, aceptamos alternativa --> No normal\")\n",
                "    \n",
                "print(p_value)"
            ]
        },
        {
            "cell_type": "code",
            "execution_count": 45,
            "metadata": {},
            "outputs": [
                {
                    "name": "stdout",
                    "output_type": "stream",
                    "text": [
                        "Rechazamos hipotesis nula, aceptamos alternativa --> No normal\n",
                        "0.0\n"
                    ]
                }
            ],
            "source": [
                "p_value = stats.kstest(df[df['marital'] == 'single']['age'], 'norm').pvalue\n",
                "\n",
                "if p_value > 0.05:\n",
                "    print(\"No rechazamos hipotesis nula --> Distribución normal\")\n",
                "else:\n",
                "    print(\"Rechazamos hipotesis nula, aceptamos alternativa --> No normal\")\n",
                "    \n",
                "print(p_value)"
            ]
        },
        {
            "cell_type": "code",
            "execution_count": 46,
            "metadata": {},
            "outputs": [
                {
                    "name": "stdout",
                    "output_type": "stream",
                    "text": [
                        "Rechazamos hipotesis nula, aceptamos alternativa --> No normal\n",
                        "0.0\n"
                    ]
                }
            ],
            "source": [
                "p_value = stats.kstest(df[df['marital'] == 'divorced']['age'], 'norm').pvalue\n",
                "\n",
                "if p_value > 0.05:\n",
                "    print(\"No rechazamos hipotesis nula --> Distribución normal\")\n",
                "else:\n",
                "    print(\"Rechazamos hipotesis nula, aceptamos alternativa --> No normal\")\n",
                "    \n",
                "print(p_value)"
            ]
        },
        {
            "cell_type": "code",
            "execution_count": 47,
            "metadata": {},
            "outputs": [],
            "source": [
                "# HOMOGENEIDAD VARIANZAS (2 O MÁS GRUPOS)\n",
                "\n",
                "casados = df[df['marital'] == 'married']\n",
                "solteros = df[df['marital'] == 'single']\n",
                "divorciados = df[df['marital'] == 'divorced']"
            ]
        },
        {
            "cell_type": "code",
            "execution_count": 48,
            "metadata": {},
            "outputs": [
                {
                    "name": "stdout",
                    "output_type": "stream",
                    "text": [
                        "Rechazamos hipotesis nula, aceptamos alternativa --> Varianzas diferentes entre grupos\n",
                        "5.1295473400066467e-228\n"
                    ]
                }
            ],
            "source": [
                "# BARLETT (si grupos son normales) # LEVENE si no lo son\n",
                "\n",
                "p_value = stats.bartlett(casados['age'],solteros['age'],divorciados['age']).pvalue\n",
                "\n",
                "if p_value > 0.05:\n",
                "    print(\"No rechazamos hipotesis nula --> Varianzas homogeneas entre grupos\")\n",
                "else:\n",
                "    print(\"Rechazamos hipotesis nula, aceptamos alternativa --> Varianzas diferentes entre grupos\")\n",
                "    \n",
                "print(p_value)"
            ]
        },
        {
            "cell_type": "code",
            "execution_count": 159,
            "metadata": {},
            "outputs": [
                {
                    "name": "stdout",
                    "output_type": "stream",
                    "text": [
                        "Rechazamos hipotesis nula, aceptamos alternativa --> Varianzas diferentes entre grupos\n",
                        "3.2552030472112654e-178\n"
                    ]
                }
            ],
            "source": [
                "p_value = stats.levene(casados['age'],solteros['age'],divorciados['age']).pvalue\n",
                "\n",
                "if p_value > 0.05:\n",
                "    print(\"No rechazamos hipotesis nula --> Varianzas homogeneas entre grupos\")\n",
                "else:\n",
                "    print(\"Rechazamos hipotesis nula, aceptamos alternativa --> Varianzas diferentes entre grupos\")\n",
                "    \n",
                "print(p_value)\n"
            ]
        },
        {
            "cell_type": "markdown",
            "metadata": {},
            "source": [
                "## Ejercicios\n",
                "\n",
                "**Dataset Titanic**:\n",
                "- 1) Normalemente, el precio medio del ticket para embarcar en primera clase era de $65. Queremos comprobar si esto sigue siendo cierto.\n",
                "- 2) Queremos comprobar si el precio medio del ticket es mayor que $65.\n",
                "- 3) Queremos comprobar si los precios medios de las mujeres son los mismos que los de los hombres.\n",
                "\n",
                "**Dataset Presión Sanguínea**:\n",
                "- 4) Queremos evaluar la efectividad de un medicamento en el control de la presión sanguínea.\n",
                "\n",
                "**Dataset Salarios Data Scientists**:\n",
                "- 5) Queremos comprobar si el tamaño de la empresa influye en los salarios.\n",
                "\n",
                "**Dataset Bank**:\n",
                "- 6) Queremos comprobar si existe diferencia entre la duración media de las llamadas entre las diferentes categorías de estado civil.\n",
                "- 7) ¿Hay diferencia entre ingresos promedio según nivel de educación?"
            ]
        },
        {
            "cell_type": "markdown",
            "metadata": {},
            "source": [
                "## Receta\n",
                "1. Formulación de hipótesis\n",
                "2. Cálculo de métricas\n",
                "3. Elección de nivel de significancia\n",
                "----------------------------------------------------------------------------------------------\n",
                "4. Comprobación de condiciones\n",
                "5. Selección del estadístico\n",
                "6. Toma de decisión\n",
                "----------------------------------------------------------------------------------------------\n",
                "7. Interpretación de resultados"
            ]
        },
        {
            "cell_type": "code",
            "execution_count": null,
            "metadata": {},
            "outputs": [],
            "source": [
                "# vamos a definir una función para poder hacer el t-test de Student\n",
                "def prueba_hipotesis(alfa, *args):\n",
                "    \"\"\"\n",
                "    Realiza una prueba de hipótesis para comparar grupos.\n",
                "    1. Primero verifica si los datos son normales usando el test de Shapiro-Wilk o Kolmogorov-Smirnov.\n",
                "    2. Si los datos son normales, usa Bartlett para probar igualdad de varianzas. Si no son normales, usa Levene.\n",
                "    3. Si las varianzas son iguales, usa el t-test de Student; si no, usa la versión de Welch.\n",
                "    4. Si los datos no son normales, usa el test de Mann-Whitney (alternativa no paramétrica).\n",
                "\n",
                "    Parámetros:\n",
                "    *args: listas o arrays con los datos de cada grupo.\n",
                "\n",
                "    Retorna:\n",
                "    dict con resultados del test de normalidad, varianza e hipótesis.\n",
                "    \"\"\"\n",
                "    \n",
                "    # Verificar si hay al menos dos grupos\n",
                "    if len(args) < 2:\n",
                "        raise ValueError(\"Se necesitan al menos dos conjuntos de datos para realizar la prueba.\")\n",
                "    \n",
                "    # Comprobar normalidad en cada grupo\n",
                "    normalidad = []\n",
                "    for grupo in args:\n",
                "        if len(grupo) > 50:\n",
                "            p_valor_norm = stats.kstest(grupo, 'norm').pvalue  # Kolmogorov-Smirnov si n > 50\n",
                "        else:\n",
                "            p_valor_norm = stats.shapiro(grupo).pvalue  # Shapiro-Wilk si n <= 50\n",
                "        normalidad.append(p_valor_norm > 0.05)\n",
                "\n",
                "    datos_normales = all(normalidad)  # True si todos los grupos son normales\n",
                "\n",
                "    # Prueba de igualdad de varianzas\n",
                "    if datos_normales:\n",
                "        p_valor_varianza = stats.bartlett(*args).pvalue  # Test de Bartlett si los datos son normales\n",
                "    else:\n",
                "        p_valor_varianza = stats.levene(*args, center=\"median\").pvalue  # Test de Levene si no son normales\n",
                "\n",
                "    varianzas_iguales = p_valor_varianza > 0.05\n",
                "\n",
                "    # Aplicar el test adecuado\n",
                "    if datos_normales:\n",
                "        if varianzas_iguales:\n",
                "            p_valor = stats.ttest_ind(*args, equal_var=True).pvalue\n",
                "            test_usado = \"t-test de Student (varianzas iguales)\"\n",
                "        else:\n",
                "            p_valor = stats.ttest_ind(*args, equal_var=False).pvalue\n",
                "            test_usado = \"t-test de Welch (varianzas desiguales)\"\n",
                "    else:\n",
                "        try: # si tengo dos grupos\n",
                "            p_valor = stats.mannwhitneyu(*args).pvalue\n",
                "            test_usado = \"Mann-Whitney U (prueba no paramétrica)\"\n",
                "        except: # si tengo mas de dos grupos\n",
                "            p_valor = stats.kruskal(*args).pvalue\n",
                "            test_usado = \"Kruskal Wallis\"\n",
                "\n",
                "\n",
                "\n",
                "    # Nivel de significancia\n",
                "    alfa = alfa\n",
                "\n",
                "    # Resultados\n",
                "    resultado = {\n",
                "        \"Test de Normalidad\": normalidad,\n",
                "        \"Datos Normales\": datos_normales,\n",
                "        \"p-valor Varianza\": p_valor_varianza,\n",
                "        \"Varianzas Iguales\": varianzas_iguales,\n",
                "        \"Test Usado\": test_usado,\n",
                "        \"p-valor\": p_valor,\n",
                "        \"Conclusión\": \"Rechazamos H0 (Diferencias significativas)\" if p_valor < alfa else \"No se rechaza H0 (No hay diferencias significativas)\"\n",
                "    }\n",
                "\n",
                "    # Imprimir resultados de manera más clara\n",
                "    print(\"\\n📊 **Resultados de la Prueba de Hipótesis** 📊\")\n",
                "    print(f\"✅ Test de Normalidad: {'Sí' if datos_normales else 'No'}\")\n",
                "    print(f\"   - Normalidad por grupo: {normalidad}\")\n",
                "    print(f\"✅ Test de Varianza: {'Iguales' if varianzas_iguales else 'Desiguales'} (p = {p_valor_varianza:.4f})\")\n",
                "    print(f\"✅ Test aplicado: {test_usado}\")\n",
                "    print(f\" p-valor: {p_valor:.4f}\")\n",
                "    print(f\"🔍 Conclusión: {resultado['Conclusión']}\\n\")\n",
                "\n",
                "    return resultado"
            ]
        },
        {
            "cell_type": "code",
            "execution_count": 161,
            "metadata": {},
            "outputs": [],
            "source": [
                "# Funciones para el uso de los test estadísticos t-test\n",
                "# One sample t-test\n",
                "\n",
                "# st.ttest_1samp(datos_muestra, H0)\n",
                "\n",
                "# st.ttest_1samp(datos_muestra, H0, alternative = \"greater\")\n",
                "\n",
                "# Two sample t-test\n",
                "\n",
                "# st.ttest_ind(datos_muestra1, datos_muestra2, equal_var=False)\n",
                "\n",
                "\n",
                "# Paired sample t-test\n",
                "\n",
                "# _, p_value = st.ttest_rel(datos_antes, datos_despues)"
            ]
        },
        {
            "cell_type": "code",
            "execution_count": 50,
            "metadata": {},
            "outputs": [],
            "source": [
                "titanic = pd.read_csv(\"https://raw.githubusercontent.com/data-bootcamp-v4/data/main/titanic_train.csv\")\n",
                "blood = pd.read_csv(\"https://raw.githubusercontent.com/data-bootcamp-v4/data/main/blood_pressure.csv\")\n",
                "salaries = pd.read_csv(\"https://raw.githubusercontent.com/data-bootcamp-v4/data/main/data_science_salaries.csv\")"
            ]
        },
        {
            "cell_type": "markdown",
            "metadata": {},
            "source": [
                "  ## Ejercicio 1 - TEST DE UNA MUESTRA\n",
                "  ### Normalemente, el precio medio del ticket de 1ª clase,  era de $65. Queremos comprobar si esto sigue siendo cierto.\n",
                "\n",
                "    - H0: mu 1st class_prices = 65\n",
                "    - H1: mu 1st class_prices!= 65"
            ]
        },
        {
            "cell_type": "code",
            "execution_count": 163,
            "metadata": {},
            "outputs": [
                {
                    "data": {
                        "text/plain": [
                            "Index(['PassengerId', 'Survived', 'Pclass', 'Name', 'Sex', 'Age', 'SibSp',\n",
                            "       'Parch', 'Ticket', 'Fare', 'Cabin', 'Embarked'],\n",
                            "      dtype='object')"
                        ]
                    },
                    "execution_count": 163,
                    "metadata": {},
                    "output_type": "execute_result"
                }
            ],
            "source": [
                "titanic.columns"
            ]
        },
        {
            "cell_type": "code",
            "execution_count": 164,
            "metadata": {},
            "outputs": [
                {
                    "data": {
                        "text/plain": [
                            "1      71.2833\n",
                            "3      53.1000\n",
                            "6      51.8625\n",
                            "11     26.5500\n",
                            "23     35.5000\n",
                            "        ...   \n",
                            "871    52.5542\n",
                            "872     5.0000\n",
                            "879    83.1583\n",
                            "887    30.0000\n",
                            "889    30.0000\n",
                            "Name: Fare, Length: 216, dtype: float64"
                        ]
                    },
                    "execution_count": 164,
                    "metadata": {},
                    "output_type": "execute_result"
                }
            ],
            "source": [
                "titanic[titanic['Pclass'] == 1]['Fare']"
            ]
        },
        {
            "cell_type": "code",
            "execution_count": 58,
            "metadata": {},
            "outputs": [
                {
                    "name": "stdout",
                    "output_type": "stream",
                    "text": [
                        "Rechazamos hipotesis nula, aceptamos alternativa --> La media del ticket de primera clase es diferente de 65\n"
                    ]
                }
            ],
            "source": [
                "# st.ttest_1samp(datos_muestra, H0) -- ASUMIMOS NORMALIDAD, APLICAMOS T STUDENT ONE SAMPLE\n",
                "\n",
                "first_class = titanic[titanic[\"Pclass\"]==1][\"Fare\"] \n",
                "\n",
                "p_value = st.ttest_1samp(first_class, 65).pvalue\n",
                "\n",
                "\n",
                "if p_value > 0.05:\n",
                "    print(\"No rechazamos hipotesis nula --> Varianzas homogeneas entre grupos\")\n",
                "else:\n",
                "    print(\"Rechazamos hipotesis nula, aceptamos alternativa --> La media del ticket de primera clase es diferente de 65\")\n",
                "\n"
            ]
        },
        {
            "cell_type": "markdown",
            "metadata": {},
            "source": [
                "Elegimos 5% significancia -> alpha = 0.05\n",
                "\n",
                "Si p_value > alpha -> Aceptamos hipótesis nula\n",
                "Si p_value < alpha -> Rechazamos hipótesis nula -> Aceptamos la hipótesis alternativa"
            ]
        },
        {
            "cell_type": "markdown",
            "metadata": {},
            "source": [
                "El t-test es robusto frente a violaciones de la normalidad, especialmente si la muestra tiene al menos 30 observaciones. Esto es gracias al Teorema Central del Límite (TCL), que establece que:\n",
                "\n",
                "Si la muestra es suficientemente grande (n ≥ 30), la distribución de la media muestral tiende a ser normal, incluso si los datos originales no lo son."
            ]
        },
        {
            "cell_type": "markdown",
            "metadata": {},
            "source": [
                "  ## Ejercicio 2 - TEST 1 MUESTRA\n",
                "  ### Comprobar si el precio medio del ticket de 1ª clase,  es mayor $65.\n",
                "\n",
                "    - H0: mu 1st class_prices <= 65\n",
                "    - H1: mu 1st class_prices > 65"
            ]
        },
        {
            "cell_type": "code",
            "execution_count": 55,
            "metadata": {},
            "outputs": [
                {
                    "name": "stdout",
                    "output_type": "stream",
                    "text": [
                        "Rechazamos hipotesis nula, aceptamos alternativa --> La media del ticket de primera clase es mayor de 65\n"
                    ]
                }
            ],
            "source": [
                "# st.ttest_1samp(datos_muestra, H0, alternative = \"greater\") t.test para ver si es menor o igual\n",
                "\n",
                "first_class = titanic[titanic[\"Pclass\"]==1][\"Fare\"]\n",
                "_, p_value = st.ttest_1samp(first_class, 65, alternative = \"greater\")\n",
                "\n",
                "if p_value > 0.05:\n",
                "    print(\"No rechazamos hipotesis nula --> Varianzas homogeneas entre grupos\")\n",
                "else:\n",
                "    print(\"Rechazamos hipotesis nula, aceptamos alternativa --> La media del ticket de primera clase es mayor de 65\")"
            ]
        },
        {
            "cell_type": "markdown",
            "metadata": {},
            "source": [
                "  ## Ejercicio 3 - PRUEBAS DOS GRUPOS\n",
                "  ### Queremos comprobar si los precios medios de las mujeres son los mismos que los de los hombres.\n",
                "\n",
                "    - H0: precio medio hombres = precio medio mujeres \n",
                "    - H1: precio medio hombres != precio medio mujeres "
            ]
        },
        {
            "cell_type": "code",
            "execution_count": 59,
            "metadata": {},
            "outputs": [],
            "source": [
                "titanic_mujeres = titanic[titanic[\"Sex\"]==\"female\"][\"Fare\"]\n",
                "titanic_hombres = titanic[titanic[\"Sex\"]==\"male\"][\"Fare\"]"
            ]
        },
        {
            "cell_type": "code",
            "execution_count": 60,
            "metadata": {},
            "outputs": [
                {
                    "name": "stdout",
                    "output_type": "stream",
                    "text": [
                        "\n",
                        "📊 **Resultados de la Prueba de Hipótesis** 📊\n",
                        "✅ Test de Normalidad: No\n",
                        "   - Normalidad por grupo: [False, False]\n",
                        "✅ Test de Varianza: Desiguales (p = 0.0000)\n",
                        "✅ Test aplicado: Mann-Whitney U (prueba no paramétrica)\n",
                        " p-valor: 0.0000\n",
                        "🔍 Conclusión: Rechazamos H0 (Diferencias significativas)\n",
                        "\n"
                    ]
                },
                {
                    "data": {
                        "text/plain": [
                            "{'Test de Normalidad': [False, False],\n",
                            " 'Datos Normales': False,\n",
                            " 'p-valor Varianza': 1.3255194429754062e-05,\n",
                            " 'Varianzas Iguales': False,\n",
                            " 'Test Usado': 'Mann-Whitney U (prueba no paramétrica)',\n",
                            " 'p-valor': 9.61232696290926e-15,\n",
                            " 'Conclusión': 'Rechazamos H0 (Diferencias significativas)'}"
                        ]
                    },
                    "execution_count": 60,
                    "metadata": {},
                    "output_type": "execute_result"
                }
            ],
            "source": [
                "# st.ttest_ind(datos_muestra1, datos_muestra2, equal_var=False)\n",
                "\n",
                "prueba_hipotesis(0.05, titanic_hombres, titanic_mujeres)\n"
            ]
        },
        {
            "cell_type": "markdown",
            "metadata": {},
            "source": [
                "p_value < alpha -> rechazamos hipótesis nula -> aceptamos hipótesis alternativas\n",
                "\n",
                "Podemos concluir que el precio medio del ticket para hombres y mujeres es diferente con un nivel de significancia del 5%. (p_value < 0.05)"
            ]
        },
        {
            "cell_type": "markdown",
            "metadata": {},
            "source": [
                "  ## Ejercicio 4 - MUESTRAS PAREADAS\n",
                "  **Dataset Presión Sanguínea**:\n",
                "  Queremos evaluar la efectividad de un medicamento en el control de la presión sanguínea.\n",
                "\n",
                "  - H0: mu before = mu after\n",
                "  - H1: mu before != mu after\n",
                "\n",
                "nivel significancia -> 0.05\n",
                "alpha = 0.05"
            ]
        },
        {
            "cell_type": "code",
            "execution_count": 170,
            "metadata": {},
            "outputs": [
                {
                    "data": {
                        "text/plain": [
                            "Index(['before', 'after'], dtype='object')"
                        ]
                    },
                    "execution_count": 170,
                    "metadata": {},
                    "output_type": "execute_result"
                }
            ],
            "source": [
                "blood.columns"
            ]
        },
        {
            "cell_type": "code",
            "execution_count": 61,
            "metadata": {},
            "outputs": [
                {
                    "name": "stdout",
                    "output_type": "stream",
                    "text": [
                        "Rechazamos hipotesis nula, aceptamos alternativa --> Varianzas diferentes entre grupos\n",
                        "7.303035069607835e-48\n"
                    ]
                }
            ],
            "source": [
                "p_value = st.ttest_rel(blood[\"before\"], blood[\"after\"]).pvalue\n",
                "\n",
                "if p_value > 0.05:\n",
                "    print(\"No rechazamos hipotesis nula --> Varianzas homogeneas entre grupos\")\n",
                "else:\n",
                "    print(\"Rechazamos hipotesis nula, aceptamos alternativa --> Varianzas diferentes entre grupos\")\n",
                "    \n",
                "print(p_value)"
            ]
        },
        {
            "cell_type": "markdown",
            "metadata": {},
            "source": [
                "p_value es menor que 0.05 -> rechazamos Ho -> la presión sanguínea media antes y después del tratamiento no es igual."
            ]
        },
        {
            "cell_type": "markdown",
            "metadata": {},
            "source": [
                "  ## Ejercicio 5 - 3 GRUPOS\n",
                "\n",
                "**Dataset Salarios Data Scientists**:\n",
                "- Queremos comprobar si el tamaño de la empresa influye en los salarios.\n",
                "\n",
                "  - H0: mu salario medio empresa_pequeña = mu empresa_mediana = mu empresa_grande\n",
                "  - H1: mu salario medio empresa_pequeña != mu empresa_mediana != mu empresa_grande\n",
                "\n",
                "nivel significancia -> 0.10\n",
                "alpha = 0.10"
            ]
        },
        {
            "cell_type": "code",
            "execution_count": 172,
            "metadata": {},
            "outputs": [
                {
                    "data": {
                        "text/plain": [
                            "Index(['work_year', 'experience_level', 'employment_type', 'job_title',\n",
                            "       'salary', 'salary_currency', 'salary_in_usd', 'employee_residence',\n",
                            "       'remote_ratio', 'company_location', 'company_size'],\n",
                            "      dtype='object')"
                        ]
                    },
                    "execution_count": 172,
                    "metadata": {},
                    "output_type": "execute_result"
                }
            ],
            "source": [
                "salaries.columns"
            ]
        },
        {
            "cell_type": "code",
            "execution_count": 63,
            "metadata": {},
            "outputs": [],
            "source": [
                "salaries_small = salaries[(salaries[\"company_size\"]==\"Small\") & (salaries[\"job_title\"]==\"Data Scientist\")][\"salary_in_usd\"]\n",
                "salaries_medium = salaries[(salaries[\"company_size\"]==\"Medium\") & (salaries[\"job_title\"]==\"Data Scientist\")][\"salary_in_usd\"]\n",
                "salaries_large = salaries[(salaries[\"company_size\"]==\"Large\") & (salaries[\"job_title\"]==\"Data Scientist\")][\"salary_in_usd\"]"
            ]
        },
        {
            "cell_type": "code",
            "execution_count": 174,
            "metadata": {},
            "outputs": [
                {
                    "data": {
                        "text/plain": [
                            "array([110000,  12888, 120000,  55000,  75648,  54634,  52008,  60938,\n",
                            "        49268,  48000, 100000,  82500,   9466,  45760,  76958,  90000,\n",
                            "        25532,  16904,  51321,   5679,  12901,  42197,  62726,  21669,\n",
                            "        87738,  91237,  62726, 105000], dtype=int64)"
                        ]
                    },
                    "execution_count": 174,
                    "metadata": {},
                    "output_type": "execute_result"
                }
            ],
            "source": [
                "salaries_small.values"
            ]
        },
        {
            "cell_type": "code",
            "execution_count": 175,
            "metadata": {},
            "outputs": [],
            "source": [
                "# elegimos nivel significancia"
            ]
        },
        {
            "cell_type": "code",
            "execution_count": 176,
            "metadata": {},
            "outputs": [
                {
                    "data": {
                        "text/plain": [
                            "1322    110000\n",
                            "1512     12888\n",
                            "2610    120000\n",
                            "2611     55000\n",
                            "2678     75648\n",
                            "2955     54634\n",
                            "3074     52008\n",
                            "3097     60938\n",
                            "3163     49268\n",
                            "3472     48000\n",
                            "3480    100000\n",
                            "3487     82500\n",
                            "3494      9466\n",
                            "3554     45760\n",
                            "3579     76958\n",
                            "3591     90000\n",
                            "3638     25532\n",
                            "3640     16904\n",
                            "3658     51321\n",
                            "3667      5679\n",
                            "3703     12901\n",
                            "3706     42197\n",
                            "3708     62726\n",
                            "3710     21669\n",
                            "3714     87738\n",
                            "3730     91237\n",
                            "3731     62726\n",
                            "3752    105000\n",
                            "Name: salary_in_usd, dtype: int64"
                        ]
                    },
                    "execution_count": 176,
                    "metadata": {},
                    "output_type": "execute_result"
                }
            ],
            "source": [
                "salaries_small"
            ]
        },
        {
            "cell_type": "code",
            "execution_count": 64,
            "metadata": {},
            "outputs": [
                {
                    "name": "stdout",
                    "output_type": "stream",
                    "text": [
                        "\n",
                        "📊 **Resultados de la Prueba de Hipótesis** 📊\n",
                        "✅ Test de Normalidad: No\n",
                        "   - Normalidad por grupo: [True, False, False]\n",
                        "✅ Test de Varianza: Desiguales (p = 0.0022)\n",
                        "✅ Test aplicado: Kruskal Wallis\n",
                        " p-valor: 0.0000\n",
                        "🔍 Conclusión: Rechazamos H0 (Diferencias significativas)\n",
                        "\n"
                    ]
                },
                {
                    "data": {
                        "text/plain": [
                            "{'Test de Normalidad': [True, False, False],\n",
                            " 'Datos Normales': False,\n",
                            " 'p-valor Varianza': 0.0022386818801915886,\n",
                            " 'Varianzas Iguales': False,\n",
                            " 'Test Usado': 'Kruskal Wallis',\n",
                            " 'p-valor': 1.4698521592770334e-20,\n",
                            " 'Conclusión': 'Rechazamos H0 (Diferencias significativas)'}"
                        ]
                    },
                    "execution_count": 64,
                    "metadata": {},
                    "output_type": "execute_result"
                }
            ],
            "source": [
                "prueba_hipotesis(0.05, salaries_small.values, salaries_medium.values, salaries_large.values)"
            ]
        },
        {
            "cell_type": "markdown",
            "metadata": {},
            "source": [
                "\n",
                "  ## Ejercicio 6 - 2 GRUPOS\n",
                "**Dataset Bank**:\n",
                "- Queremos comprobar si existe diferencia entre la duración media de las llamadas entre las diferentes categorías de estado civil.**\n",
                "\n",
                "1. **Hipótesis sobre la duración de la llamada telefónica en función del estado civil:**\n",
                "   - Hipótesis nula (H0): No hay diferencia en la duración promedio de las llamadas telefónicas entre personas casadas y personas solteras.\n",
                "   - Hipótesis alternativa (H1): Hay una diferencia significativa en la duración promedio de las llamadas telefónicas entre estos dos grupos."
            ]
        },
        {
            "cell_type": "code",
            "execution_count": 181,
            "metadata": {},
            "outputs": [],
            "source": [
                "married = df[df[\"marital\"]=='married'][\"duration\"]\n",
                "single = df[df[\"marital\"]=='single'][\"duration\"]"
            ]
        },
        {
            "cell_type": "code",
            "execution_count": 183,
            "metadata": {},
            "outputs": [
                {
                    "name": "stdout",
                    "output_type": "stream",
                    "text": [
                        "\n",
                        "📊 **Resultados de la Prueba de Hipótesis** 📊\n",
                        "✅ Test de Normalidad: No\n",
                        "   - Normalidad por grupo: [False, False]\n",
                        "✅ Test de Varianza: Iguales (p = 0.0966)\n",
                        "✅ Test aplicado: Mann-Whitney U (prueba no paramétrica)\n",
                        " p-valor: 0.4511\n",
                        "🔍 Conclusión: No se rechaza H0 (No hay diferencias significativas)\n",
                        "\n"
                    ]
                },
                {
                    "data": {
                        "text/plain": [
                            "{'Test de Normalidad': [False, False],\n",
                            " 'Datos Normales': False,\n",
                            " 'p-valor Varianza': 0.09659509301007267,\n",
                            " 'Varianzas Iguales': True,\n",
                            " 'Test Usado': 'Mann-Whitney U (prueba no paramétrica)',\n",
                            " 'p-valor': 0.45105967102504174,\n",
                            " 'Conclusión': 'No se rechaza H0 (No hay diferencias significativas)'}"
                        ]
                    },
                    "execution_count": 183,
                    "metadata": {},
                    "output_type": "execute_result"
                }
            ],
            "source": [
                "prueba_hipotesis(0.05, married, single)"
            ]
        },
        {
            "cell_type": "markdown",
            "metadata": {},
            "source": [
                "  ## Ejercicio 7\n",
                "\n",
                "Hay diferencia entre ingresos promedio según nivel de educación basica 4 años y secundaria ?\n",
                "\n",
                "1. **Hipótesis sobre los ingresos promedio en función de la educación:**\n",
                "   - Hipótesis nula (H0): No hay diferencia en los ingresos promedio entre las personas con educación básica 4 años y las personas con educación secundaria.\n",
                "   - Hipótesis alternativa (H1): Hay una diferencia significativa en los ingresos promedio entre estos dos grupos.\n",
                "   - Prueba de hipótesis: Se podría realizar una prueba t de Student para comparar los ingresos promedio de estos dos grupos."
            ]
        },
        {
            "cell_type": "code",
            "execution_count": 193,
            "metadata": {},
            "outputs": [
                {
                    "name": "stdout",
                    "output_type": "stream",
                    "text": [
                        "\n",
                        "📊 **Resultados de la Prueba de Hipótesis** 📊\n",
                        "✅ Test de Normalidad: No\n",
                        "   - Normalidad por grupo: [False, False, False, False, False, False]\n",
                        "✅ Test de Varianza: Iguales (p = 0.1845)\n",
                        "✅ Test aplicado: Kruskal Wallis\n",
                        " p-valor: 0.1891\n",
                        "🔍 Conclusión: No se rechaza H0 (No hay diferencias significativas)\n",
                        "\n"
                    ]
                },
                {
                    "data": {
                        "text/plain": [
                            "{'Test de Normalidad': [False, False, False, False, False, False],\n",
                            " 'Datos Normales': False,\n",
                            " 'p-valor Varianza': 0.18453386029676194,\n",
                            " 'Varianzas Iguales': True,\n",
                            " 'Test Usado': 'Kruskal Wallis',\n",
                            " 'p-valor': 0.18911873413255986,\n",
                            " 'Conclusión': 'No se rechaza H0 (No hay diferencias significativas)'}"
                        ]
                    },
                    "execution_count": 193,
                    "metadata": {},
                    "output_type": "execute_result"
                }
            ],
            "source": [
                "basic4y = df[df['education'] == 'basic.4y']['income'] \n",
                "high_school = df[df['education'] == 'high.school']['income'] \n",
                "basic6y = df[df['education'] == 'basic.6y']['income'] \n",
                "basic9y = df[df['education'] == 'basic.9y']['income'] \n",
                "profesional_course = df[df['education'] == 'professional.course']['income'] \n",
                "university = df[df['education'] == 'university.degree']['income'] \n",
                "\n",
                "prueba_hipotesis(0.05, basic4y, basic6y, basic9y, profesional_course, high_school,university)"
            ]
        }
    ],
    "metadata": {
        "kernelspec": {
            "display_name": "base",
            "language": "python",
            "name": "python3"
        },
        "language_info": {
            "codemirror_mode": {
                "name": "ipython",
                "version": 3
            },
            "file_extension": ".py",
            "mimetype": "text/x-python",
            "name": "python",
            "nbconvert_exporter": "python",
            "pygments_lexer": "ipython3",
            "version": "3.12.7"
        }
    },
    "nbformat": 4,
    "nbformat_minor": 2
}
