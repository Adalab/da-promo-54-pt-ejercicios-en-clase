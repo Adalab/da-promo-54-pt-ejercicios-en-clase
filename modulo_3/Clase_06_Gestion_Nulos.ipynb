{
 "cells": [
  {
   "cell_type": "markdown",
   "id": "c4a0b1b0",
   "metadata": {},
   "source": [
    "# Clase: Gestión e Imputación de Valores Nulos\n",
    "\n",
    "## 1. Introducción a los Valores Nulos \n",
    "\n",
    "### ¿Qué son los Valores Nulos?\n",
    "En el mundo del análisis de datos, es común encontrarse con **datos incompletos o valores faltantes**. Estos pueden ser el resultado de errores en la recopilación o simplemente la ausencia de información. Saber cómo manejarlos es esencial para análisis precisos y obtener *insights* significativos.\n",
    "\n",
    "### Tipos de Valores Nulos\n",
    "Los valores nulos pueden presentarse de diferentes formas en los datos:\n",
    "*   **`NaN` (Not a Number):** Común en columnas numéricas y de tipo objeto en Pandas, representado por `np.nan`.\n",
    "*   **`None`:** Una constante de Python, no numérica, que se encuentra en columnas de tipo objeto.\n",
    "*   **Valores especiales de datos:** Como \"NA\" o \"N/A\" en encuestas.\n",
    "*   **Valores vacíos o en blanco:** Cadenas vacías o espacios en blanco en columnas de texto.\n",
    "*   **Valores centinelas:** Valores especiales como `-1` o `999` usados como marcadores de nulos.\n",
    "*   **`NaT` (Not a Timestamp):** Para fechas y horas faltantes.\n",
    "\n",
    "### ¿Por qué es Importante Gestionar los Valores Nulos?\n",
    "La gestión de valores nulos es crucial por varias razones:\n",
    "*   **Evitar errores en el análisis:** Pueden causar problemas en cálculos y análisis estadísticos, distorsionando conclusiones.\n",
    "*   **Mantener la integridad de los datos:** Asegura la integridad y evita la pérdida de información valiosa.\n",
    "*   **Mejorar la precisión de los modelos de aprendizaje automático:** Muchos algoritmos no pueden manejarlos, requiriendo su gestión antes del entrenamiento.\n",
    "*   **Optimizar el uso de recursos:** Ocupan espacio y pueden ralentizar el procesamiento.\n",
    "\n",
    "### Principales Causas de Valores Faltantes\n",
    "Las causas pueden variar e influir en la estrategia de manejo:\n",
    "*   **Errores en la recopilación de datos:** Transcripción o problemas técnicos.\n",
    "*   **Falta de respuesta:** En encuestas o estudios.\n",
    "*   **Datos incompletos:** Recopilación parcial de variables o grupos.\n",
    "*   **Fallos en la transmisión de datos:** Pérdida durante la transferencia.\n",
    "\n",
    "### Estrategias para Gestionar Valores Nulos (Introducción)\n",
    "Las estrategias comunes incluyen:\n",
    "1.  **Eliminación de datos:** Borrar filas o columnas con nulos (`drop()`, `dropna()`).\n",
    "2.  **Imputación de valores:** Reemplazar los nulos con valores estimados (estadísticos o modelos).\n",
    "    *   Herramientas clave: **Pandas** (`fillna()`) y **Scikit-learn** (`SimpleImputer`, `KNNImputer`, `IterativeImputer`).\n",
    "\n",
    "## 2. Preparación y Identificación Inicial de Nulos \n",
    "\n",
    "Antes de sumergirnos en la imputación, necesitamos configurar nuestro entorno y entender dónde están los nulos.\n",
    "\n"
   ]
  },
  {
   "cell_type": "code",
   "execution_count": 1,
   "id": "14e4a13b",
   "metadata": {},
   "outputs": [],
   "source": [
    "# 1. Instalación de librerías (descomentar y ejecutar si no están instaladas)\n",
    "# !pip install scikit-learn\n",
    "# !pip install seaborn\n",
    "# !pip install matplotlib\n",
    "\n",
    "# 2. Importación de librerías necesarias\n",
    "# Para tratamiento de datos\n",
    "import pandas as pd \n",
    "import numpy as np \n",
    "\n",
    "# Para imputación de nulos usando métodos estadísticos avanzados\n",
    "from sklearn.impute import SimpleImputer \n",
    "from sklearn.experimental import enable_iterative_imputer # Necesario para IterativeImputer\n",
    "from sklearn.impute import IterativeImputer \n",
    "from sklearn.impute import KNNImputer \n",
    "\n",
    "# Para visualización\n",
    "# import seaborn as sns \n",
    "# import matplotlib.pyplot as plt \n",
    "\n",
    "# 3. Configuración de Pandas para visualizar todas las columnas\n",
    "pd.set_option('display.max_columns', None) "
   ]
  },
  {
   "cell_type": "code",
   "execution_count": 2,
   "id": "d9735ff9",
   "metadata": {},
   "outputs": [
    {
     "data": {
      "text/html": [
       "<div>\n",
       "<style scoped>\n",
       "    .dataframe tbody tr th:only-of-type {\n",
       "        vertical-align: middle;\n",
       "    }\n",
       "\n",
       "    .dataframe tbody tr th {\n",
       "        vertical-align: top;\n",
       "    }\n",
       "\n",
       "    .dataframe thead th {\n",
       "        text-align: right;\n",
       "    }\n",
       "</style>\n",
       "<table border=\"1\" class=\"dataframe\">\n",
       "  <thead>\n",
       "    <tr style=\"text-align: right;\">\n",
       "      <th></th>\n",
       "      <th>income</th>\n",
       "      <th>kidhome</th>\n",
       "      <th>teenhome</th>\n",
       "      <th>dt_customer</th>\n",
       "      <th>numwebvisitsmonth</th>\n",
       "      <th>id</th>\n",
       "      <th>age</th>\n",
       "      <th>job</th>\n",
       "      <th>marital</th>\n",
       "      <th>education</th>\n",
       "      <th>default</th>\n",
       "      <th>housing</th>\n",
       "      <th>loan</th>\n",
       "      <th>contact</th>\n",
       "      <th>duration</th>\n",
       "      <th>campaign</th>\n",
       "      <th>pdays</th>\n",
       "      <th>previous</th>\n",
       "      <th>poutcome</th>\n",
       "      <th>empvarrate</th>\n",
       "      <th>conspriceidx</th>\n",
       "      <th>consconfidx</th>\n",
       "      <th>euribor3m</th>\n",
       "      <th>nremployed</th>\n",
       "      <th>y</th>\n",
       "      <th>date</th>\n",
       "      <th>latitude</th>\n",
       "      <th>longitude</th>\n",
       "      <th>contact_month</th>\n",
       "      <th>contact_year</th>\n",
       "      <th>age_cat</th>\n",
       "    </tr>\n",
       "  </thead>\n",
       "  <tbody>\n",
       "    <tr>\n",
       "      <th>0</th>\n",
       "      <td>161770</td>\n",
       "      <td>1</td>\n",
       "      <td>0</td>\n",
       "      <td>2012-04-04</td>\n",
       "      <td>29</td>\n",
       "      <td>089b39d8-e4d0-461b-87d4-814d71e0e079</td>\n",
       "      <td>NaN</td>\n",
       "      <td>housemaid</td>\n",
       "      <td>married</td>\n",
       "      <td>basic 4y</td>\n",
       "      <td>No</td>\n",
       "      <td>No</td>\n",
       "      <td>No</td>\n",
       "      <td>telephone</td>\n",
       "      <td>261</td>\n",
       "      <td>1</td>\n",
       "      <td>NaN</td>\n",
       "      <td>0</td>\n",
       "      <td>nonexistent</td>\n",
       "      <td>1.1</td>\n",
       "      <td>93.994</td>\n",
       "      <td>-36.4</td>\n",
       "      <td>4.857</td>\n",
       "      <td>5191</td>\n",
       "      <td>no</td>\n",
       "      <td>2-agosto-2019</td>\n",
       "      <td>41.495</td>\n",
       "      <td>-71.233</td>\n",
       "      <td>agosto</td>\n",
       "      <td>2019.0</td>\n",
       "      <td>Adultos mayores</td>\n",
       "    </tr>\n",
       "  </tbody>\n",
       "</table>\n",
       "</div>"
      ],
      "text/plain": [
       "   income  kidhome  teenhome dt_customer  numwebvisitsmonth  \\\n",
       "0  161770        1         0  2012-04-04                 29   \n",
       "\n",
       "                                     id  age        job  marital education  \\\n",
       "0  089b39d8-e4d0-461b-87d4-814d71e0e079  NaN  housemaid  married  basic 4y   \n",
       "\n",
       "  default housing loan    contact  duration  campaign  pdays  previous  \\\n",
       "0      No      No   No  telephone       261         1    NaN         0   \n",
       "\n",
       "      poutcome  empvarrate  conspriceidx  consconfidx  euribor3m nremployed  \\\n",
       "0  nonexistent         1.1        93.994        -36.4      4.857       5191   \n",
       "\n",
       "    y           date  latitude  longitude contact_month  contact_year  \\\n",
       "0  no  2-agosto-2019    41.495    -71.233        agosto        2019.0   \n",
       "\n",
       "           age_cat  \n",
       "0  Adultos mayores  "
      ]
     },
     "execution_count": 2,
     "metadata": {},
     "output_type": "execute_result"
    }
   ],
   "source": [
    "# 4. Carga del DataFrame\n",
    "# Usaremos 'bank-additional_clean.csv' para empezar la gestión de nulos.\n",
    "df = pd.read_csv(\"data/bank-additional_clean.csv\", index_col=0)\n",
    "df.head(1)"
   ]
  },
  {
   "cell_type": "code",
   "execution_count": 3,
   "id": "8ed4393f",
   "metadata": {},
   "outputs": [
    {
     "name": "stdout",
     "output_type": "stream",
     "text": [
      "<class 'pandas.core.frame.DataFrame'>\n",
      "Index: 43000 entries, 0 to 42999\n",
      "Data columns (total 31 columns):\n",
      " #   Column             Non-Null Count  Dtype  \n",
      "---  ------             --------------  -----  \n",
      " 0   income             43000 non-null  int64  \n",
      " 1   kidhome            43000 non-null  int64  \n",
      " 2   teenhome           43000 non-null  int64  \n",
      " 3   dt_customer        43000 non-null  object \n",
      " 4   numwebvisitsmonth  43000 non-null  int64  \n",
      " 5   id                 43000 non-null  object \n",
      " 6   age                37880 non-null  float64\n",
      " 7   job                42655 non-null  object \n",
      " 8   marital            42915 non-null  object \n",
      " 9   education          41193 non-null  object \n",
      " 10  default            34019 non-null  object \n",
      " 11  housing            41974 non-null  object \n",
      " 12  loan               41974 non-null  object \n",
      " 13  contact            43000 non-null  object \n",
      " 14  duration           43000 non-null  int64  \n",
      " 15  campaign           43000 non-null  int64  \n",
      " 16  pdays              1588 non-null   float64\n",
      " 17  previous           43000 non-null  int64  \n",
      " 18  poutcome           43000 non-null  object \n",
      " 19  empvarrate         43000 non-null  float64\n",
      " 20  conspriceidx       42529 non-null  float64\n",
      " 21  consconfidx        43000 non-null  float64\n",
      " 22  euribor3m          33744 non-null  float64\n",
      " 23  nremployed         43000 non-null  object \n",
      " 24  y                  43000 non-null  object \n",
      " 25  date               42752 non-null  object \n",
      " 26  latitude           43000 non-null  float64\n",
      " 27  longitude          43000 non-null  float64\n",
      " 28  contact_month      42752 non-null  object \n",
      " 29  contact_year       42752 non-null  float64\n",
      " 30  age_cat            43000 non-null  object \n",
      "dtypes: float64(9), int64(7), object(15)\n",
      "memory usage: 10.5+ MB\n"
     ]
    }
   ],
   "source": [
    "df.info()"
   ]
  },
  {
   "cell_type": "code",
   "execution_count": null,
   "id": "b6ba5ad4",
   "metadata": {},
   "outputs": [
    {
     "data": {
      "text/plain": [
       "income                   0\n",
       "kidhome                  0\n",
       "teenhome                 0\n",
       "dt_customer              0\n",
       "numwebvisitsmonth        0\n",
       "id                       0\n",
       "age                   5120\n",
       "job                    345\n",
       "marital                 85\n",
       "education             1807\n",
       "default               8981\n",
       "housing               1026\n",
       "loan                  1026\n",
       "contact                  0\n",
       "duration                 0\n",
       "campaign                 0\n",
       "pdays                41412\n",
       "previous                 0\n",
       "poutcome                 0\n",
       "empvarrate               0\n",
       "conspriceidx           471\n",
       "consconfidx              0\n",
       "euribor3m             9256\n",
       "nremployed               0\n",
       "y                        0\n",
       "date                   248\n",
       "latitude                 0\n",
       "longitude                0\n",
       "contact_month          248\n",
       "contact_year           248\n",
       "age_cat                  0\n",
       "dtype: int64"
      ]
     },
     "execution_count": 5,
     "metadata": {},
     "output_type": "execute_result"
    }
   ],
   "source": [
    "# 5. Cálculo del porcentaje de nulos por columna\n",
    "df.isnull().sum()"
   ]
  },
  {
   "cell_type": "code",
   "execution_count": 6,
   "id": "4743b868",
   "metadata": {},
   "outputs": [
    {
     "data": {
      "text/plain": [
       "(43000, 31)"
      ]
     },
     "execution_count": 6,
     "metadata": {},
     "output_type": "execute_result"
    }
   ],
   "source": [
    "df.shape"
   ]
  },
  {
   "cell_type": "code",
   "execution_count": 7,
   "id": "1f53795e",
   "metadata": {},
   "outputs": [
    {
     "data": {
      "text/plain": [
       "income                0.000000\n",
       "kidhome               0.000000\n",
       "teenhome              0.000000\n",
       "dt_customer           0.000000\n",
       "numwebvisitsmonth     0.000000\n",
       "id                    0.000000\n",
       "age                  11.906977\n",
       "job                   0.802326\n",
       "marital               0.197674\n",
       "education             4.202326\n",
       "default              20.886047\n",
       "housing               2.386047\n",
       "loan                  2.386047\n",
       "contact               0.000000\n",
       "duration              0.000000\n",
       "campaign              0.000000\n",
       "pdays                96.306977\n",
       "previous              0.000000\n",
       "poutcome              0.000000\n",
       "empvarrate            0.000000\n",
       "conspriceidx          1.095349\n",
       "consconfidx           0.000000\n",
       "euribor3m            21.525581\n",
       "nremployed            0.000000\n",
       "y                     0.000000\n",
       "date                  0.576744\n",
       "latitude              0.000000\n",
       "longitude             0.000000\n",
       "contact_month         0.576744\n",
       "contact_year          0.576744\n",
       "age_cat               0.000000\n",
       "dtype: float64"
      ]
     },
     "execution_count": 7,
     "metadata": {},
     "output_type": "execute_result"
    }
   ],
   "source": [
    "# Dividimos la suma de valores nulos entre el número de filas del df y multiplicamos por 100 para sacar el porcentaje\n",
    "(df.isnull().sum() / df.shape[0]) * 100"
   ]
  },
  {
   "cell_type": "code",
   "execution_count": 13,
   "id": "35fa65b8",
   "metadata": {},
   "outputs": [
    {
     "data": {
      "text/plain": [
       "pdays                96.31\n",
       "euribor3m            21.53\n",
       "default              20.89\n",
       "age                  11.91\n",
       "education             4.20\n",
       "housing               2.39\n",
       "loan                  2.39\n",
       "conspriceidx          1.10\n",
       "job                   0.80\n",
       "contact_year          0.58\n",
       "contact_month         0.58\n",
       "date                  0.58\n",
       "marital               0.20\n",
       "nremployed            0.00\n",
       "income                0.00\n",
       "y                     0.00\n",
       "latitude              0.00\n",
       "longitude             0.00\n",
       "consconfidx           0.00\n",
       "campaign              0.00\n",
       "empvarrate            0.00\n",
       "poutcome              0.00\n",
       "previous              0.00\n",
       "kidhome               0.00\n",
       "duration              0.00\n",
       "contact               0.00\n",
       "id                    0.00\n",
       "numwebvisitsmonth     0.00\n",
       "dt_customer           0.00\n",
       "teenhome              0.00\n",
       "age_cat               0.00\n",
       "dtype: float64"
      ]
     },
     "execution_count": 13,
     "metadata": {},
     "output_type": "execute_result"
    }
   ],
   "source": [
    "# Redondeamos, ordenamos\n",
    "round((df.isnull().sum() / df.shape[0]) * 100, 2).sort_values(ascending=False)"
   ]
  },
  {
   "cell_type": "code",
   "execution_count": 14,
   "id": "0754cd63",
   "metadata": {},
   "outputs": [
    {
     "data": {
      "text/html": [
       "<div>\n",
       "<style scoped>\n",
       "    .dataframe tbody tr th:only-of-type {\n",
       "        vertical-align: middle;\n",
       "    }\n",
       "\n",
       "    .dataframe tbody tr th {\n",
       "        vertical-align: top;\n",
       "    }\n",
       "\n",
       "    .dataframe thead th {\n",
       "        text-align: right;\n",
       "    }\n",
       "</style>\n",
       "<table border=\"1\" class=\"dataframe\">\n",
       "  <thead>\n",
       "    <tr style=\"text-align: right;\">\n",
       "      <th></th>\n",
       "      <th>%_nulos</th>\n",
       "    </tr>\n",
       "  </thead>\n",
       "  <tbody>\n",
       "    <tr>\n",
       "      <th>pdays</th>\n",
       "      <td>96.31</td>\n",
       "    </tr>\n",
       "    <tr>\n",
       "      <th>euribor3m</th>\n",
       "      <td>21.53</td>\n",
       "    </tr>\n",
       "    <tr>\n",
       "      <th>default</th>\n",
       "      <td>20.89</td>\n",
       "    </tr>\n",
       "    <tr>\n",
       "      <th>age</th>\n",
       "      <td>11.91</td>\n",
       "    </tr>\n",
       "    <tr>\n",
       "      <th>education</th>\n",
       "      <td>4.20</td>\n",
       "    </tr>\n",
       "    <tr>\n",
       "      <th>housing</th>\n",
       "      <td>2.39</td>\n",
       "    </tr>\n",
       "    <tr>\n",
       "      <th>loan</th>\n",
       "      <td>2.39</td>\n",
       "    </tr>\n",
       "    <tr>\n",
       "      <th>conspriceidx</th>\n",
       "      <td>1.10</td>\n",
       "    </tr>\n",
       "    <tr>\n",
       "      <th>job</th>\n",
       "      <td>0.80</td>\n",
       "    </tr>\n",
       "    <tr>\n",
       "      <th>contact_year</th>\n",
       "      <td>0.58</td>\n",
       "    </tr>\n",
       "    <tr>\n",
       "      <th>contact_month</th>\n",
       "      <td>0.58</td>\n",
       "    </tr>\n",
       "    <tr>\n",
       "      <th>date</th>\n",
       "      <td>0.58</td>\n",
       "    </tr>\n",
       "    <tr>\n",
       "      <th>marital</th>\n",
       "      <td>0.20</td>\n",
       "    </tr>\n",
       "    <tr>\n",
       "      <th>nremployed</th>\n",
       "      <td>0.00</td>\n",
       "    </tr>\n",
       "    <tr>\n",
       "      <th>income</th>\n",
       "      <td>0.00</td>\n",
       "    </tr>\n",
       "    <tr>\n",
       "      <th>y</th>\n",
       "      <td>0.00</td>\n",
       "    </tr>\n",
       "    <tr>\n",
       "      <th>latitude</th>\n",
       "      <td>0.00</td>\n",
       "    </tr>\n",
       "    <tr>\n",
       "      <th>longitude</th>\n",
       "      <td>0.00</td>\n",
       "    </tr>\n",
       "    <tr>\n",
       "      <th>consconfidx</th>\n",
       "      <td>0.00</td>\n",
       "    </tr>\n",
       "    <tr>\n",
       "      <th>campaign</th>\n",
       "      <td>0.00</td>\n",
       "    </tr>\n",
       "    <tr>\n",
       "      <th>empvarrate</th>\n",
       "      <td>0.00</td>\n",
       "    </tr>\n",
       "    <tr>\n",
       "      <th>poutcome</th>\n",
       "      <td>0.00</td>\n",
       "    </tr>\n",
       "    <tr>\n",
       "      <th>previous</th>\n",
       "      <td>0.00</td>\n",
       "    </tr>\n",
       "    <tr>\n",
       "      <th>kidhome</th>\n",
       "      <td>0.00</td>\n",
       "    </tr>\n",
       "    <tr>\n",
       "      <th>duration</th>\n",
       "      <td>0.00</td>\n",
       "    </tr>\n",
       "    <tr>\n",
       "      <th>contact</th>\n",
       "      <td>0.00</td>\n",
       "    </tr>\n",
       "    <tr>\n",
       "      <th>id</th>\n",
       "      <td>0.00</td>\n",
       "    </tr>\n",
       "    <tr>\n",
       "      <th>numwebvisitsmonth</th>\n",
       "      <td>0.00</td>\n",
       "    </tr>\n",
       "    <tr>\n",
       "      <th>dt_customer</th>\n",
       "      <td>0.00</td>\n",
       "    </tr>\n",
       "    <tr>\n",
       "      <th>teenhome</th>\n",
       "      <td>0.00</td>\n",
       "    </tr>\n",
       "    <tr>\n",
       "      <th>age_cat</th>\n",
       "      <td>0.00</td>\n",
       "    </tr>\n",
       "  </tbody>\n",
       "</table>\n",
       "</div>"
      ],
      "text/plain": [
       "                   %_nulos\n",
       "pdays                96.31\n",
       "euribor3m            21.53\n",
       "default              20.89\n",
       "age                  11.91\n",
       "education             4.20\n",
       "housing               2.39\n",
       "loan                  2.39\n",
       "conspriceidx          1.10\n",
       "job                   0.80\n",
       "contact_year          0.58\n",
       "contact_month         0.58\n",
       "date                  0.58\n",
       "marital               0.20\n",
       "nremployed            0.00\n",
       "income                0.00\n",
       "y                     0.00\n",
       "latitude              0.00\n",
       "longitude             0.00\n",
       "consconfidx           0.00\n",
       "campaign              0.00\n",
       "empvarrate            0.00\n",
       "poutcome              0.00\n",
       "previous              0.00\n",
       "kidhome               0.00\n",
       "duration              0.00\n",
       "contact               0.00\n",
       "id                    0.00\n",
       "numwebvisitsmonth     0.00\n",
       "dt_customer           0.00\n",
       "teenhome              0.00\n",
       "age_cat               0.00"
      ]
     },
     "execution_count": 14,
     "metadata": {},
     "output_type": "execute_result"
    }
   ],
   "source": [
    "# Otra manera de hacer lo mismo\n",
    "porc_nulos = (df.isnull().sum() / df.shape[0]) * 100\n",
    "df_nulos = pd.DataFrame(porc_nulos, columns = [\"%_nulos\"])\n",
    "df_nulos = round(df_nulos.sort_values(by=\"%_nulos\", ascending=False), 2)\n",
    "df_nulos"
   ]
  },
  {
   "cell_type": "code",
   "execution_count": 15,
   "id": "f5cef9a8",
   "metadata": {},
   "outputs": [
    {
     "data": {
      "text/html": [
       "<div>\n",
       "<style scoped>\n",
       "    .dataframe tbody tr th:only-of-type {\n",
       "        vertical-align: middle;\n",
       "    }\n",
       "\n",
       "    .dataframe tbody tr th {\n",
       "        vertical-align: top;\n",
       "    }\n",
       "\n",
       "    .dataframe thead th {\n",
       "        text-align: right;\n",
       "    }\n",
       "</style>\n",
       "<table border=\"1\" class=\"dataframe\">\n",
       "  <thead>\n",
       "    <tr style=\"text-align: right;\">\n",
       "      <th></th>\n",
       "      <th>%_nulos</th>\n",
       "    </tr>\n",
       "  </thead>\n",
       "  <tbody>\n",
       "    <tr>\n",
       "      <th>pdays</th>\n",
       "      <td>96.31</td>\n",
       "    </tr>\n",
       "    <tr>\n",
       "      <th>euribor3m</th>\n",
       "      <td>21.53</td>\n",
       "    </tr>\n",
       "    <tr>\n",
       "      <th>default</th>\n",
       "      <td>20.89</td>\n",
       "    </tr>\n",
       "    <tr>\n",
       "      <th>age</th>\n",
       "      <td>11.91</td>\n",
       "    </tr>\n",
       "    <tr>\n",
       "      <th>education</th>\n",
       "      <td>4.20</td>\n",
       "    </tr>\n",
       "    <tr>\n",
       "      <th>housing</th>\n",
       "      <td>2.39</td>\n",
       "    </tr>\n",
       "    <tr>\n",
       "      <th>loan</th>\n",
       "      <td>2.39</td>\n",
       "    </tr>\n",
       "    <tr>\n",
       "      <th>conspriceidx</th>\n",
       "      <td>1.10</td>\n",
       "    </tr>\n",
       "    <tr>\n",
       "      <th>job</th>\n",
       "      <td>0.80</td>\n",
       "    </tr>\n",
       "    <tr>\n",
       "      <th>contact_year</th>\n",
       "      <td>0.58</td>\n",
       "    </tr>\n",
       "    <tr>\n",
       "      <th>contact_month</th>\n",
       "      <td>0.58</td>\n",
       "    </tr>\n",
       "    <tr>\n",
       "      <th>date</th>\n",
       "      <td>0.58</td>\n",
       "    </tr>\n",
       "    <tr>\n",
       "      <th>marital</th>\n",
       "      <td>0.20</td>\n",
       "    </tr>\n",
       "  </tbody>\n",
       "</table>\n",
       "</div>"
      ],
      "text/plain": [
       "               %_nulos\n",
       "pdays            96.31\n",
       "euribor3m        21.53\n",
       "default          20.89\n",
       "age              11.91\n",
       "education         4.20\n",
       "housing           2.39\n",
       "loan              2.39\n",
       "conspriceidx      1.10\n",
       "job               0.80\n",
       "contact_year      0.58\n",
       "contact_month     0.58\n",
       "date              0.58\n",
       "marital           0.20"
      ]
     },
     "execution_count": 15,
     "metadata": {},
     "output_type": "execute_result"
    }
   ],
   "source": [
    "# Filtramos para mostrar solo las columnas con nulos\n",
    "df_nulos[df_nulos[\"%_nulos\"] > 0]"
   ]
  },
  {
   "cell_type": "markdown",
   "id": "8c63b058",
   "metadata": {},
   "source": [
    "\n",
    "\n",
    "**Nota sobre la eliminación de columnas:** No hay un porcentaje fijo para decidir si eliminar una columna debido a nulos. La decisión **dependerá del contexto y el análisis**. Algunos expertos sugieren que un porcentaje mayor al **5% o 10%** del total de datos puede ser considerado \"grande\" y requerir atención especial.\n",
    "\n",
    "## 3. Imputación de Valores Nulos en Variables Categóricas \n",
    "\n",
    "Para variables categóricas, podemos usar dos enfoques principales:\n",
    "*   **Imputación basada en la moda:** Reemplazar nulos con el valor más frecuente. Útil si hay una categoría dominante y queremos mantener la distribución original.\n",
    "*   **Imputación como una categoría especial:** Mantener los nulos como una nueva categoría (ej., \"Unknown\"). Útil si no hay una categoría dominante o si queremos distinguir los valores imputados.\n",
    "\n",
    "La elección depende del conocimiento del dominio y del propósito del análisis.\n",
    "\n"
   ]
  },
  {
   "cell_type": "code",
   "execution_count": 16,
   "id": "57d10e89",
   "metadata": {},
   "outputs": [
    {
     "data": {
      "text/plain": [
       "Index(['dt_customer', 'id', 'job', 'marital', 'education', 'default',\n",
       "       'housing', 'loan', 'contact', 'poutcome', 'nremployed', 'y', 'date',\n",
       "       'contact_month', 'age_cat'],\n",
       "      dtype='object')"
      ]
     },
     "execution_count": 16,
     "metadata": {},
     "output_type": "execute_result"
    }
   ],
   "source": [
    "# 1. Obtener la lista de columnas categóricas con nulos\n",
    "df.select_dtypes(include='O').columns # Ver las columnas del df que sean de tipo 'object'"
   ]
  },
  {
   "cell_type": "code",
   "execution_count": 17,
   "id": "003942c5",
   "metadata": {},
   "outputs": [
    {
     "data": {
      "text/plain": [
       "['dt_customer',\n",
       " 'id',\n",
       " 'job',\n",
       " 'marital',\n",
       " 'education',\n",
       " 'default',\n",
       " 'housing',\n",
       " 'loan',\n",
       " 'contact',\n",
       " 'poutcome',\n",
       " 'nremployed',\n",
       " 'y',\n",
       " 'date',\n",
       " 'contact_month',\n",
       " 'age_cat']"
      ]
     },
     "execution_count": 17,
     "metadata": {},
     "output_type": "execute_result"
    }
   ],
   "source": [
    "df.select_dtypes(include='O').columns.to_list() # to_list() convierte el Index a lista "
   ]
  },
  {
   "cell_type": "code",
   "execution_count": 21,
   "id": "22e20db2",
   "metadata": {},
   "outputs": [
    {
     "data": {
      "text/plain": [
       "dt_customer         0\n",
       "id                  0\n",
       "job               345\n",
       "marital            85\n",
       "education        1807\n",
       "default          8981\n",
       "housing          1026\n",
       "loan             1026\n",
       "contact             0\n",
       "poutcome            0\n",
       "nremployed          0\n",
       "y                   0\n",
       "date              248\n",
       "contact_month     248\n",
       "age_cat             0\n",
       "dtype: int64"
      ]
     },
     "execution_count": 21,
     "metadata": {},
     "output_type": "execute_result"
    }
   ],
   "source": [
    "# Creamos una variable nueva para guardar el resultado de pasar la lista de columnas de tipo objeto al df, aquí estamos filtrando. \n",
    "serie_nulos = df[df.select_dtypes(include='O').columns.to_list()].isnull().sum() # Además sobre el resultado hacemos isnull y sum\n",
    "serie_nulos # Lo que nos devuelve una Series con la suma de los valores nulos de las columnas categóricas"
   ]
  },
  {
   "cell_type": "code",
   "execution_count": 23,
   "id": "5931f21e",
   "metadata": {},
   "outputs": [
    {
     "data": {
      "text/plain": [
       "Index(['job', 'marital', 'education', 'default', 'housing', 'loan', 'date',\n",
       "       'contact_month'],\n",
       "      dtype='object')"
      ]
     },
     "execution_count": 23,
     "metadata": {},
     "output_type": "execute_result"
    }
   ],
   "source": [
    "serie_nulos[serie_nulos > 0].index # Filtramos la Series por los valores que sean mayores a 0 y sacamos los indices"
   ]
  },
  {
   "cell_type": "code",
   "execution_count": 24,
   "id": "42ece7d8",
   "metadata": {},
   "outputs": [
    {
     "data": {
      "text/plain": [
       "Index(['job', 'marital', 'education', 'default', 'housing', 'loan', 'date',\n",
       "       'contact_month'],\n",
       "      dtype='object')"
      ]
     },
     "execution_count": 24,
     "metadata": {},
     "output_type": "execute_result"
    }
   ],
   "source": [
    "# Otra manera de hacer lo mismo\n",
    "nulos_esta_cat = df[df.columns[df.isnull().any()]].select_dtypes(include = \"O\").columns\n",
    "nulos_esta_cat"
   ]
  },
  {
   "cell_type": "code",
   "execution_count": 33,
   "id": "20415f1f",
   "metadata": {},
   "outputs": [
    {
     "name": "stdout",
     "output_type": "stream",
     "text": [
      "\n",
      "Distribución de las categorías para las columnas categóricas con nulos:\n",
      "\n",
      "La distribución de las categorías para la columna JOB\n"
     ]
    },
    {
     "data": {
      "text/plain": [
       "job\n",
       "admin.           25.286047\n",
       "blue-collar      22.451163\n",
       "technician       16.339535\n",
       "services          9.679070\n",
       "management        7.093023\n",
       "retired           4.162791\n",
       "entrepreneur      3.539535\n",
       "self-employed     3.462791\n",
       "housemaid         2.611628\n",
       "unemployed        2.472093\n",
       "student           2.100000\n",
       "NaN               0.802326\n",
       "Name: proportion, dtype: float64"
      ]
     },
     "metadata": {},
     "output_type": "display_data"
    },
    {
     "name": "stdout",
     "output_type": "stream",
     "text": [
      "........................\n",
      "\n",
      "La distribución de las categorías para la columna MARITAL\n"
     ]
    },
    {
     "data": {
      "text/plain": [
       "marital\n",
       "married     60.462791\n",
       "single      28.151163\n",
       "divorced    11.188372\n",
       "NaN          0.197674\n",
       "Name: proportion, dtype: float64"
      ]
     },
     "metadata": {},
     "output_type": "display_data"
    },
    {
     "name": "stdout",
     "output_type": "stream",
     "text": [
      "........................\n",
      "\n",
      "La distribución de las categorías para la columna EDUCATION\n"
     ]
    },
    {
     "data": {
      "text/plain": [
       "education\n",
       "university degree      29.586047\n",
       "high school            23.081395\n",
       "basic 9y               14.672093\n",
       "professional course    12.737209\n",
       "basic 4y               10.130233\n",
       "basic 6y                5.548837\n",
       "NaN                     4.202326\n",
       "illiterate              0.041860\n",
       "Name: proportion, dtype: float64"
      ]
     },
     "metadata": {},
     "output_type": "display_data"
    },
    {
     "name": "stdout",
     "output_type": "stream",
     "text": [
      "........................\n",
      "\n",
      "La distribución de las categorías para la columna DEFAULT\n"
     ]
    },
    {
     "data": {
      "text/plain": [
       "default\n",
       "No     79.106977\n",
       "NaN    20.886047\n",
       "Si      0.006977\n",
       "Name: proportion, dtype: float64"
      ]
     },
     "metadata": {},
     "output_type": "display_data"
    },
    {
     "name": "stdout",
     "output_type": "stream",
     "text": [
      "........................\n",
      "\n",
      "La distribución de las categorías para la columna HOUSING\n"
     ]
    },
    {
     "data": {
      "text/plain": [
       "housing\n",
       "Si     52.320930\n",
       "No     45.293023\n",
       "NaN     2.386047\n",
       "Name: proportion, dtype: float64"
      ]
     },
     "metadata": {},
     "output_type": "display_data"
    },
    {
     "name": "stdout",
     "output_type": "stream",
     "text": [
      "........................\n",
      "\n",
      "La distribución de las categorías para la columna LOAN\n"
     ]
    },
    {
     "data": {
      "text/plain": [
       "loan\n",
       "No     82.423256\n",
       "Si     15.190698\n",
       "NaN     2.386047\n",
       "Name: proportion, dtype: float64"
      ]
     },
     "metadata": {},
     "output_type": "display_data"
    },
    {
     "name": "stdout",
     "output_type": "stream",
     "text": [
      "........................\n",
      "\n",
      "La distribución de las categorías para la columna DATE\n"
     ]
    },
    {
     "data": {
      "text/plain": [
       "date\n",
       "NaN                  0.576744\n",
       "4-septiembre-2019    0.095349\n",
       "4-agosto-2017        0.090698\n",
       "22-junio-2019        0.088372\n",
       "10-abril-2018        0.086047\n",
       "                       ...   \n",
       "19-agosto-2015       0.025581\n",
       "21-diciembre-2019    0.023256\n",
       "4-abril-2017         0.023256\n",
       "20-noviembre-2015    0.023256\n",
       "14-abril-2015        0.023256\n",
       "Name: proportion, Length: 1861, dtype: float64"
      ]
     },
     "metadata": {},
     "output_type": "display_data"
    },
    {
     "name": "stdout",
     "output_type": "stream",
     "text": [
      "........................\n",
      "\n",
      "La distribución de las categorías para la columna CONTACT_MONTH\n"
     ]
    },
    {
     "data": {
      "text/plain": [
       "contact_month\n",
       "noviembre     8.379070\n",
       "octubre       8.369767\n",
       "julio         8.355814\n",
       "marzo         8.346512\n",
       "abril         8.330233\n",
       "febrero       8.318605\n",
       "septiembre    8.300000\n",
       "mayo          8.248837\n",
       "junio         8.227907\n",
       "agosto        8.200000\n",
       "enero         8.179070\n",
       "diciembre     8.167442\n",
       "NaN           0.576744\n",
       "Name: proportion, dtype: float64"
      ]
     },
     "metadata": {},
     "output_type": "display_data"
    },
    {
     "name": "stdout",
     "output_type": "stream",
     "text": [
      "........................\n"
     ]
    }
   ],
   "source": [
    "# 2. Analizar la distribución de categorías para cada columna con nulos\n",
    "print(\"\\nDistribución de las categorías para las columnas categóricas con nulos:\")\n",
    "for col in serie_nulos[serie_nulos > 0].index:\n",
    "    print(f\"\\nLa distribución de las categorías para la columna {col.upper()}\")\n",
    "    display(df[col].value_counts(normalize=True, dropna=False)*100) # Muestra el porcentaje de cada categoría y el porcentaje de nulos\n",
    "    print(\"........................\")"
   ]
  },
  {
   "cell_type": "code",
   "execution_count": 46,
   "id": "3dcb86ec",
   "metadata": {},
   "outputs": [],
   "source": [
    "# 3. Decidir la estrategia de imputación para cada columna categórica (basado en el análisis de 'value_counts()')\n",
    "# Basado en la dominancia de categorías, las columnas a reemplazar por la moda (categoría dominante) son:\n",
    "# 'marital' (60% married), 'default' (79% No), 'loan' (82% No)\n",
    "columnas_moda = [\"marital\", \"loan\", \"default\"]\n",
    "\n",
    "# Columnas a reemplazar por una nueva categoría \"Unknown\" (no hay categoría dominante):\n",
    "# 'job', 'education', 'housing', 'contact_month', 'date'\n",
    "columnas_desconocido = [\"job\", \"education\", \"housing\", \"contact_month\", \"date\"]"
   ]
  },
  {
   "cell_type": "code",
   "execution_count": 42,
   "id": "6319a067",
   "metadata": {},
   "outputs": [
    {
     "data": {
      "text/plain": [
       "0    married\n",
       "Name: marital, dtype: object"
      ]
     },
     "execution_count": 42,
     "metadata": {},
     "output_type": "execute_result"
    }
   ],
   "source": [
    "df['marital'].mode()"
   ]
  },
  {
   "cell_type": "code",
   "execution_count": 43,
   "id": "1b6cc333",
   "metadata": {},
   "outputs": [
    {
     "data": {
      "text/plain": [
       "'married'"
      ]
     },
     "execution_count": 43,
     "metadata": {},
     "output_type": "execute_result"
    }
   ],
   "source": [
    "df.marital.mode().iloc[0]"
   ]
  },
  {
   "cell_type": "code",
   "execution_count": 44,
   "id": "e6ac6491",
   "metadata": {},
   "outputs": [
    {
     "data": {
      "text/plain": [
       "'married'"
      ]
     },
     "execution_count": 44,
     "metadata": {},
     "output_type": "execute_result"
    }
   ],
   "source": [
    "df.marital.mode()[0]"
   ]
  },
  {
   "cell_type": "code",
   "execution_count": 47,
   "id": "d2bd37ae",
   "metadata": {},
   "outputs": [
    {
     "name": "stdout",
     "output_type": "stream",
     "text": [
      "\n",
      "--- Imputando columnas por la moda ---\n",
      "Columna 'marital': Nulos reemplazados por la moda 'married'\n",
      "Columna 'loan': Nulos reemplazados por la moda 'No'\n",
      "Columna 'default': Nulos reemplazados por la moda 'No'\n"
     ]
    }
   ],
   "source": [
    "# 4. Imputación usando el método .fillna() de Pandas\n",
    "# El método fillna() se usa para rellenar valores nulos (NaN) con un valor específico.\n",
    "\n",
    "# a. Reemplazar por la moda para las columnas designadas\n",
    "print(\"\\n--- Imputando columnas por la moda ---\")\n",
    "for columna in columnas_moda:\n",
    "    df[columna] = df[columna].fillna(df[columna].mode().iloc[0]) # Rellena los nulos con la moda calculada\n",
    "    print(f\"Columna '{columna}': Nulos reemplazados por la moda '{df[columna].mode().iloc[0]}'\")"
   ]
  },
  {
   "cell_type": "code",
   "execution_count": 48,
   "id": "e1d2f6fc",
   "metadata": {},
   "outputs": [
    {
     "name": "stdout",
     "output_type": "stream",
     "text": [
      "\n",
      "Nulos restantes después de reemplazar por la moda:\n"
     ]
    },
    {
     "data": {
      "text/plain": [
       "marital    0\n",
       "loan       0\n",
       "default    0\n",
       "dtype: int64"
      ]
     },
     "execution_count": 48,
     "metadata": {},
     "output_type": "execute_result"
    }
   ],
   "source": [
    "# b. Comprobar nulos después de la imputación por la moda\n",
    "print(\"\\nNulos restantes después de reemplazar por la moda:\")\n",
    "df[columnas_moda].isnull().sum()"
   ]
  },
  {
   "cell_type": "code",
   "execution_count": 49,
   "id": "b9d41e56",
   "metadata": {},
   "outputs": [
    {
     "name": "stdout",
     "output_type": "stream",
     "text": [
      "\n",
      "--- Imputando columnas con 'Unknown' ---\n",
      "Columna 'job': Nulos reemplazados por 'Unknown'\n",
      "Columna 'education': Nulos reemplazados por 'Unknown'\n",
      "Columna 'housing': Nulos reemplazados por 'Unknown'\n",
      "Columna 'contact_month': Nulos reemplazados por 'Unknown'\n",
      "Columna 'date': Nulos reemplazados por 'Unknown'\n"
     ]
    }
   ],
   "source": [
    "# c. Reemplazar por la categoría \"Unknown\" para las columnas designadas\n",
    "print(\"\\n--- Imputando columnas con 'Unknown' ---\")\n",
    "for columna in columnas_desconocido:\n",
    "    df[columna] = df[columna].fillna(\"Unknown\") # Rellena los nulos con la cadena \"Unknown\"\n",
    "    print(f\"Columna '{columna}': Nulos reemplazados por 'Unknown'\")"
   ]
  },
  {
   "cell_type": "code",
   "execution_count": 50,
   "id": "27a90fb6",
   "metadata": {},
   "outputs": [
    {
     "name": "stdout",
     "output_type": "stream",
     "text": [
      "\n",
      "Nulos restantes después de reemplazar por 'Unknown':\n"
     ]
    },
    {
     "data": {
      "text/plain": [
       "job              0\n",
       "education        0\n",
       "housing          0\n",
       "contact_month    0\n",
       "date             0\n",
       "dtype: int64"
      ]
     },
     "execution_count": 50,
     "metadata": {},
     "output_type": "execute_result"
    }
   ],
   "source": [
    "# d. Comprobar nulos después de la imputación con \"Unknown\"\n",
    "print(\"\\nNulos restantes después de reemplazar por 'Unknown':\")\n",
    "df[columnas_desconocido].isnull().sum()"
   ]
  },
  {
   "cell_type": "code",
   "execution_count": 51,
   "id": "c540df17",
   "metadata": {},
   "outputs": [
    {
     "name": "stdout",
     "output_type": "stream",
     "text": [
      "\n",
      "DataFrame guardado como 'bank-additional_clean_2.csv' con nulos categóricos imputados.\n"
     ]
    }
   ],
   "source": [
    "# 5. Guardar el DataFrame con los nulos categóricos imputados\n",
    "df.to_csv(\"data/bank-additional_clean_2.csv\", index=False)\n",
    "print(\"\\nDataFrame guardado como 'bank-additional_clean_2.csv' con nulos categóricos imputados.\")"
   ]
  },
  {
   "cell_type": "markdown",
   "id": "b0d87a2c",
   "metadata": {},
   "source": [
    "\n",
    "\n",
    "## 4. Imputación de Valores Nulos en Variables Numéricas \n",
    "\n",
    "Para variables numéricas, tenemos más opciones:\n",
    "*   **Reemplazar con estadísticos:** Media, mediana o moda (`fillna()` de Pandas o `SimpleImputer` de Scikit-learn).\n",
    "*   **Reemplazar con modelos estadísticos avanzados:** `IterativeImputer` o `KNNImputer`.\n",
    "\n",
    "**Criterios de decisión para variables numéricas**:\n",
    "1.  **Cantidad de valores faltantes:** Pequeña cantidad (`<5-10%`): media o mediana. Grande: métodos más sofisticados.\n",
    "2.  **Distribución de los datos:** Si no hay valores atípicos (outliers): media. Si hay valores atípicos: mediana es más robusta.\n",
    "3.  **Propósito del análisis:** Si el análisis se centra en la detección de atípicos, es preferible usar métodos que preserven la variabilidad (`IterativeImputer`, `KNNImputer`).\n",
    "\n"
   ]
  },
  {
   "cell_type": "code",
   "execution_count": 52,
   "id": "d0264ad3",
   "metadata": {},
   "outputs": [
    {
     "data": {
      "text/plain": [
       "Index(['age', 'pdays', 'conspriceidx', 'euribor3m', 'contact_year'], dtype='object')"
      ]
     },
     "execution_count": 52,
     "metadata": {},
     "output_type": "execute_result"
    }
   ],
   "source": [
    "# 1. Obtener la lista de columnas numéricas con nulos\n",
    "nulos_esta_num = df[df.columns[df.isnull().any()]].select_dtypes(include = np.number).columns\n",
    "nulos_esta_num"
   ]
  },
  {
   "cell_type": "code",
   "execution_count": 53,
   "id": "a7f69891",
   "metadata": {},
   "outputs": [
    {
     "name": "stdout",
     "output_type": "stream",
     "text": [
      "\n",
      "Porcentaje de nulos en columnas numéricas:\n"
     ]
    },
    {
     "data": {
      "text/plain": [
       "age             11.906977\n",
       "pdays           96.306977\n",
       "conspriceidx     1.095349\n",
       "euribor3m       21.525581\n",
       "contact_year     0.576744\n",
       "dtype: float64"
      ]
     },
     "execution_count": 53,
     "metadata": {},
     "output_type": "execute_result"
    }
   ],
   "source": [
    "# 2. Calcular el porcentaje de nulos para estas columnas numéricas\n",
    "print(\"\\nPorcentaje de nulos en columnas numéricas:\")\n",
    "(df[nulos_esta_num].isnull().sum() / df.shape[0])*100"
   ]
  },
  {
   "cell_type": "markdown",
   "id": "6eda8b58",
   "metadata": {},
   "source": [
    "### 🔎 ¿Qué es un outlier?\n",
    "\n",
    "Los outliers (o valores atípicos) son datos que se alejan mucho del resto de los valores de una columna. Son extremos, inusuales, y pueden deberse a errores, situaciones excepcionales o variabilidad natural. Detectarlos es importante porque pueden influir en los análisis y resultados, distorsionando las estadísticas, como la media.\n",
    "\n",
    "---\n",
    "\n",
    "### 🧒 Ejemplo 1: Edades de un grupo de alumnas\n",
    "\n",
    "Supón que tenemos las edades de un grupo de alumnas:\n",
    "\n",
    "```python\n",
    "edades = [15, 16, 17, 16, 18, 17, 16, 72]\n",
    "```\n",
    "\n",
    "La mayoría de edades están entre 15 y 18 años, pero hay una persona con **72 años**, que es un outlier.\n",
    "\n",
    "```python\n",
    "import numpy as np\n",
    "\n",
    "np.mean(edades)   # Media\n",
    "np.median(edades) # Mediana\n",
    "```\n",
    "\n",
    "**Resultados:**\n",
    "\n",
    "* Media: \\~23.375\n",
    "* Mediana: 16.5\n",
    "\n",
    "🔍 **Explicación**: La media sube mucho debido al 72, pero la mediana se mantiene cerca del centro real del grupo. Por eso decimos que la mediana **es más robusta ante outliers**.\n",
    "\n",
    "---\n",
    "\n",
    "### 💸 Ejemplo 2: Salarios de un grupo\n",
    "\n",
    "Supón estos salarios en miles de euros:\n",
    "\n",
    "```python\n",
    "salarios = [25, 26, 24, 25, 27, 26, 25, 1000]\n",
    "```\n",
    "\n",
    "La mayoría gana entre 24 k€ y 27 k€, pero hay una persona con un sueldo **de 1 millón** (1000 k€).\n",
    "\n",
    "```python\n",
    "np.mean(salarios)   # Media\n",
    "np.median(salarios) # Mediana\n",
    "```\n",
    "\n",
    "**Resultados:**\n",
    "\n",
    "* Media: \\~147.25 k€\n",
    "* Mediana: 25.5 k€\n",
    "\n",
    "🔍 **Explicación**: La media se ve fuertemente afectada por el sueldo millonario, mientras que la mediana sigue representando bien al grupo. Nuevamente, la mediana es más fiable cuando hay outliers.\n",
    "\n",
    "---\n",
    "\n",
    "### ✅ Conclusión\n",
    "\n",
    "En presencia de outliers, la **mediana es una mejor medida del centro de los datos** que la media, porque no se ve tan afectada por los valores extremos."
   ]
  },
  {
   "cell_type": "code",
   "execution_count": null,
   "id": "90198968",
   "metadata": {},
   "outputs": [],
   "source": [
    "# 5. Decidir estrategia de imputación para cada columna numérica:\n",
    "# 'conspriceidx' y 'contact_year': Porcentaje bajo de nulos (<5-10%), sin outliers para 'conspriceidx'.\n",
    "#   - 'conspriceidx': usaremos .fillna()\n",
    "#   - 'contact_year': usaremos SimpleImputer (Ambos reemplazan por media/mediana/moda, la diferencia es solo en el código)\n",
    "# 'age', 'pdays', 'euribor3m': Tienen outliers ('age', 'pdays') o alto porcentaje de nulos.\n",
    "#   - Usaremos IterativeImputer y KNNImputer para comparar."
   ]
  },
  {
   "cell_type": "code",
   "execution_count": 63,
   "id": "2863d96e",
   "metadata": {},
   "outputs": [
    {
     "data": {
      "text/plain": [
       "93.57421926215054"
      ]
     },
     "execution_count": 63,
     "metadata": {},
     "output_type": "execute_result"
    }
   ],
   "source": [
    "df[\"conspriceidx\"].mean() # Calcula la media"
   ]
  },
  {
   "cell_type": "code",
   "execution_count": 64,
   "id": "8a60b8d5",
   "metadata": {},
   "outputs": [
    {
     "name": "stdout",
     "output_type": "stream",
     "text": [
      "\n",
      "--- Imputación de 'conspriceidx' con fillna() (media) ---\n",
      "La media de la columna 'conspriceidx' es: 93.57\n",
      "Después del 'fillna' tenemos 0 nulos en 'conspriceidx'\n"
     ]
    }
   ],
   "source": [
    "# 6. Imputación de 'conspriceidx' usando .fillna() con la media\n",
    "print(\"\\n--- Imputación de 'conspriceidx' con fillna() (media) ---\")\n",
    "media_conspriceidx = df[\"conspriceidx\"].mean() # Calcula la media\n",
    "print(f\"La media de la columna 'conspriceidx' es: {round(media_conspriceidx, 2)}\")\n",
    "df[\"conspriceidx\"] = df[\"conspriceidx\"].fillna(media_conspriceidx) # Rellena los nulos\n",
    "print(f\"Después del 'fillna' tenemos {df['conspriceidx'].isnull().sum()} nulos en 'conspriceidx'\")"
   ]
  },
  {
   "cell_type": "code",
   "execution_count": 65,
   "id": "b9cb8b15",
   "metadata": {},
   "outputs": [
    {
     "name": "stdout",
     "output_type": "stream",
     "text": [
      "\n",
      "--- Imputación de 'contact_year' con SimpleImputer ---\n",
      "\n",
      "Estadísticos de 'contact_year' para decidir entre media y mediana:\n"
     ]
    },
    {
     "data": {
      "text/plain": [
       "mean    2017.00131\n",
       "50%     2017.00000\n",
       "Name: contact_year, dtype: float64"
      ]
     },
     "metadata": {},
     "output_type": "display_data"
    },
    {
     "name": "stdout",
     "output_type": "stream",
     "text": [
      "Después del 'SimpleImputer' tenemos 0 nulos en 'contact_year'\n"
     ]
    }
   ],
   "source": [
    "# 7. Imputación de 'contact_year' usando SimpleImputer\n",
    "print(\"\\n--- Imputación de 'contact_year' con SimpleImputer ---\")\n",
    "# SimpleImputer reemplaza valores faltantes con estrategias como media, mediana, moda o un valor constante.\n",
    "\n",
    "# ¿Media o Mediana?\n",
    "# - Media: Promedio, útil si los datos están distribuidos uniformemente y sin outliers.\n",
    "# - Mediana: Valor central, robusta ante outliers o datos sesgados.\n",
    "# Podemos saber si los datos están sesgados comparando media y mediana; grandes diferencias sugieren sesgo.\n",
    "print(\"\\nEstadísticos de 'contact_year' para decidir entre media y mediana:\")\n",
    "display(df[\"contact_year\"].describe()[[\"mean\", \"50%\"]]) # '50%' es la mediana\n",
    "\n",
    "# En este caso, la media y la mediana son muy parecidas, por lo que usaremos la media.\n",
    "imputer_contact_year = SimpleImputer(strategy = \"mean\") # Crea una instancia del imputer con estrategia 'mean'\n",
    "# Ajustar y transformar los datos. fit_transform espera un array 2D, por eso los dos corchetes.\n",
    "contact_year_imputado = imputer_contact_year.fit_transform(df[[\"contact_year\"]])\n",
    "\n",
    "# Sobreescribir la columna original con los valores imputados\n",
    "df[\"contact_year\"] = contact_year_imputado\n",
    "print(f\"Después del 'SimpleImputer' tenemos {df['contact_year'].isnull().sum()} nulos en 'contact_year'\")"
   ]
  },
  {
   "cell_type": "code",
   "execution_count": 66,
   "id": "0b3a40b2",
   "metadata": {},
   "outputs": [
    {
     "name": "stdout",
     "output_type": "stream",
     "text": [
      "\n",
      "--- Imputación con métodos avanzados (IterativeImputer y KNNImputer) ---\n",
      "Después del 'IterativeImputer' tenemos: \n",
      "age_iterative        0\n",
      "pdays_iterative      0\n",
      "euribor_iterative    0\n",
      "dtype: int64 nulos\n",
      "\n",
      "Preparando KNNImputer (puede tardar un poco)...\n",
      "Después del 'KNNImputer' tenemos: \n",
      "age_knn        0\n",
      "pdays_knn      0\n",
      "euribor_knn    0\n",
      "dtype: int64 nulos\n"
     ]
    }
   ],
   "source": [
    "# 8. Imputación de 'age', 'pdays', 'euribor3m' con IterativeImputer y KNNImputer\n",
    "print(\"\\n--- Imputación con métodos avanzados (IterativeImputer y KNNImputer) ---\")\n",
    "# Haremos una copia del DataFrame para aplicar ambos métodos y comparar.\n",
    "df_copia = df.copy()\n",
    "\n",
    "# a. IterativeImputer\n",
    "# Utiliza un modelo de regresión para estimar valores faltantes basándose en otras columnas.\n",
    "# max_iter: número de iteraciones. random_state: para reproducibilidad.\n",
    "imputer_iterative = IterativeImputer(max_iter = 20, random_state = 42)\n",
    "# Ajustar y transformar los datos para las columnas especificadas.\n",
    "imputer_iterative_imputado = imputer_iterative.fit_transform(df_copia[[\"age\", \"pdays\", \"euribor3m\"]])\n",
    "\n",
    "# Añadir las columnas imputadas al DataFrame copia con nuevos nombres\n",
    "df_copia[[\"age_iterative\", \"pdays_iterative\", \"euribor_iterative\"]] = imputer_iterative_imputado\n",
    "print(f\"Después del 'IterativeImputer' tenemos: \\n{df_copia[['age_iterative', 'pdays_iterative', 'euribor_iterative']].isnull().sum()} nulos\") \n",
    "\n",
    "# b. KNNImputer\n",
    "# Basado en el algoritmo de k-vecinos más cercanos (KNN). Estima valores faltantes usando observaciones similares.\n",
    "# n_neighbors: número de vecinos a considerar.\n",
    "print(\"\\nPreparando KNNImputer (puede tardar un poco)...\")\n",
    "imputer_knn = KNNImputer(n_neighbors = 5) \n",
    "# Ajustar y transformar los datos para las mismas columnas.\n",
    "imputer_knn_imputado = imputer_knn.fit_transform(df_copia[[\"age\", \"pdays\", \"euribor3m\"]]) \n",
    "\n",
    "# Añadir las columnas imputadas al DataFrame copia con nuevos nombres\n",
    "df_copia[[\"age_knn\", \"pdays_knn\", \"euribor_knn\"]] = imputer_knn_imputado \n",
    "print(f\"Después del 'KNNImputer' tenemos: \\n{df_copia[['age_knn', 'pdays_knn', 'euribor_knn']].isnull().sum()} nulos\") "
   ]
  },
  {
   "cell_type": "code",
   "execution_count": 67,
   "id": "e03290e7",
   "metadata": {},
   "outputs": [
    {
     "name": "stdout",
     "output_type": "stream",
     "text": [
      "\n",
      "--- Comparando estadísticos de las columnas originales y las imputadas ---\n"
     ]
    },
    {
     "data": {
      "text/html": [
       "<div>\n",
       "<style scoped>\n",
       "    .dataframe tbody tr th:only-of-type {\n",
       "        vertical-align: middle;\n",
       "    }\n",
       "\n",
       "    .dataframe tbody tr th {\n",
       "        vertical-align: top;\n",
       "    }\n",
       "\n",
       "    .dataframe thead th {\n",
       "        text-align: right;\n",
       "    }\n",
       "</style>\n",
       "<table border=\"1\" class=\"dataframe\">\n",
       "  <thead>\n",
       "    <tr style=\"text-align: right;\">\n",
       "      <th></th>\n",
       "      <th>age</th>\n",
       "      <th>age_iterative</th>\n",
       "      <th>age_knn</th>\n",
       "      <th>pdays</th>\n",
       "      <th>pdays_iterative</th>\n",
       "      <th>pdays_knn</th>\n",
       "      <th>euribor3m</th>\n",
       "      <th>euribor_iterative</th>\n",
       "      <th>euribor_knn</th>\n",
       "    </tr>\n",
       "  </thead>\n",
       "  <tbody>\n",
       "    <tr>\n",
       "      <th>count</th>\n",
       "      <td>37880.000000</td>\n",
       "      <td>43000.000000</td>\n",
       "      <td>43000.000000</td>\n",
       "      <td>1588.000000</td>\n",
       "      <td>43000.000000</td>\n",
       "      <td>43000.000000</td>\n",
       "      <td>33744.000000</td>\n",
       "      <td>43000.000000</td>\n",
       "      <td>43000.000000</td>\n",
       "    </tr>\n",
       "    <tr>\n",
       "      <th>mean</th>\n",
       "      <td>39.977112</td>\n",
       "      <td>39.988040</td>\n",
       "      <td>39.934414</td>\n",
       "      <td>6.072418</td>\n",
       "      <td>2.650482</td>\n",
       "      <td>6.123526</td>\n",
       "      <td>3.616521</td>\n",
       "      <td>3.595413</td>\n",
       "      <td>3.624018</td>\n",
       "    </tr>\n",
       "    <tr>\n",
       "      <th>std</th>\n",
       "      <td>10.437957</td>\n",
       "      <td>9.933618</td>\n",
       "      <td>9.921883</td>\n",
       "      <td>3.863182</td>\n",
       "      <td>2.330438</td>\n",
       "      <td>2.030092</td>\n",
       "      <td>1.737117</td>\n",
       "      <td>1.567801</td>\n",
       "      <td>1.604428</td>\n",
       "    </tr>\n",
       "    <tr>\n",
       "      <th>min</th>\n",
       "      <td>17.000000</td>\n",
       "      <td>-50.903756</td>\n",
       "      <td>17.000000</td>\n",
       "      <td>0.000000</td>\n",
       "      <td>-0.577994</td>\n",
       "      <td>0.000000</td>\n",
       "      <td>0.634000</td>\n",
       "      <td>-12.678706</td>\n",
       "      <td>0.634000</td>\n",
       "    </tr>\n",
       "    <tr>\n",
       "      <th>25%</th>\n",
       "      <td>32.000000</td>\n",
       "      <td>33.000000</td>\n",
       "      <td>32.200000</td>\n",
       "      <td>3.000000</td>\n",
       "      <td>0.907566</td>\n",
       "      <td>4.600000</td>\n",
       "      <td>1.344000</td>\n",
       "      <td>1.445000</td>\n",
       "      <td>1.415000</td>\n",
       "    </tr>\n",
       "    <tr>\n",
       "      <th>50%</th>\n",
       "      <td>38.000000</td>\n",
       "      <td>39.955946</td>\n",
       "      <td>39.000000</td>\n",
       "      <td>6.000000</td>\n",
       "      <td>1.828094</td>\n",
       "      <td>5.800000</td>\n",
       "      <td>4.857000</td>\n",
       "      <td>4.076000</td>\n",
       "      <td>4.731800</td>\n",
       "    </tr>\n",
       "    <tr>\n",
       "      <th>75%</th>\n",
       "      <td>47.000000</td>\n",
       "      <td>46.000000</td>\n",
       "      <td>46.000000</td>\n",
       "      <td>7.000000</td>\n",
       "      <td>4.000000</td>\n",
       "      <td>7.200000</td>\n",
       "      <td>4.961000</td>\n",
       "      <td>4.959000</td>\n",
       "      <td>4.959000</td>\n",
       "    </tr>\n",
       "    <tr>\n",
       "      <th>max</th>\n",
       "      <td>98.000000</td>\n",
       "      <td>98.000000</td>\n",
       "      <td>98.000000</td>\n",
       "      <td>27.000000</td>\n",
       "      <td>27.000000</td>\n",
       "      <td>27.000000</td>\n",
       "      <td>5.045000</td>\n",
       "      <td>5.830842</td>\n",
       "      <td>5.045000</td>\n",
       "    </tr>\n",
       "  </tbody>\n",
       "</table>\n",
       "</div>"
      ],
      "text/plain": [
       "                age  age_iterative       age_knn        pdays  \\\n",
       "count  37880.000000   43000.000000  43000.000000  1588.000000   \n",
       "mean      39.977112      39.988040     39.934414     6.072418   \n",
       "std       10.437957       9.933618      9.921883     3.863182   \n",
       "min       17.000000     -50.903756     17.000000     0.000000   \n",
       "25%       32.000000      33.000000     32.200000     3.000000   \n",
       "50%       38.000000      39.955946     39.000000     6.000000   \n",
       "75%       47.000000      46.000000     46.000000     7.000000   \n",
       "max       98.000000      98.000000     98.000000    27.000000   \n",
       "\n",
       "       pdays_iterative     pdays_knn     euribor3m  euribor_iterative  \\\n",
       "count     43000.000000  43000.000000  33744.000000       43000.000000   \n",
       "mean          2.650482      6.123526      3.616521           3.595413   \n",
       "std           2.330438      2.030092      1.737117           1.567801   \n",
       "min          -0.577994      0.000000      0.634000         -12.678706   \n",
       "25%           0.907566      4.600000      1.344000           1.445000   \n",
       "50%           1.828094      5.800000      4.857000           4.076000   \n",
       "75%           4.000000      7.200000      4.961000           4.959000   \n",
       "max          27.000000     27.000000      5.045000           5.830842   \n",
       "\n",
       "        euribor_knn  \n",
       "count  43000.000000  \n",
       "mean       3.624018  \n",
       "std        1.604428  \n",
       "min        0.634000  \n",
       "25%        1.415000  \n",
       "50%        4.731800  \n",
       "75%        4.959000  \n",
       "max        5.045000  "
      ]
     },
     "execution_count": 67,
     "metadata": {},
     "output_type": "execute_result"
    }
   ],
   "source": [
    "# 9. Comparar los resultados de IterativeImputer y KNNImputer\n",
    "print(\"\\n--- Comparando estadísticos de las columnas originales y las imputadas ---\")\n",
    "# Compararemos los estadísticos (media, mediana, etc.) antes y después de la imputación.\n",
    "# Nos quedaremos con el método que menos modifique los estadísticos.\n",
    "df_copia.describe()[[\"age\",\"age_iterative\", \"age_knn\",\n",
    "                          \"pdays\", \"pdays_iterative\", \"pdays_knn\",\n",
    "                          \"euribor3m\", \"euribor_iterative\", \"euribor_knn\"]]\n",
    "\n",
    "# Análisis de los resultados:\n",
    "# - 'age': Ni la media ni la mediana cambian mucho. Ambos métodos son correctos.\n",
    "# - 'pdays': El IterativeImputer cambia mucho la media y la mediana. KNNImputer es más apropiado.\n",
    "# - 'euribor3m': Similar a 'age', ambos métodos son válidos."
   ]
  },
  {
   "cell_type": "code",
   "execution_count": 68,
   "id": "a295d786",
   "metadata": {},
   "outputs": [
    {
     "name": "stdout",
     "output_type": "stream",
     "text": [
      "\n",
      "--- Limpiando el DataFrame final ---\n",
      "\n",
      "DataFrame final sin nulos guardado como 'bank-additional-clean-nonulls.csv'.\n"
     ]
    }
   ],
   "source": [
    "# 10. Limpiar el DataFrame final y guardar\n",
    "print(\"\\n--- Limpiando el DataFrame final ---\")\n",
    "# Eliminamos las columnas originales con nulos y las imputaciones menos óptimas.\n",
    "df_copia.drop([\"age\", \"pdays\", \"euribor3m\", # Originales con nulos\n",
    "              \"age_knn\" , \"euribor_knn\", # Podríamos haber elegido cualquiera de los dos, eliminamos estos\n",
    "              \"pdays_iterative\" # El que peor imputó para pdays\n",
    "             ], axis = 1, inplace = True)\n",
    "\n",
    "# Cambiar el nombre de las columnas restantes a sus nombres originales\n",
    "nuevo_nombre = {\"age_iterative\": \"age\", 'euribor_iterative': \"euribor3m\", \"pdays_knn\": \"pdays\" } \n",
    "df_copia.rename(columns = nuevo_nombre, inplace = True) \n",
    "\n",
    "# Guardar el DataFrame final sin nulos para futuras lecciones\n",
    "df_copia.to_csv(\"data/bank-additional-clean-nonulls.csv\", index=False) \n",
    "print(\"\\nDataFrame final sin nulos guardado como 'bank-additional-clean-nonulls.csv'.\")"
   ]
  },
  {
   "cell_type": "code",
   "execution_count": 69,
   "id": "8b8f5c84",
   "metadata": {},
   "outputs": [
    {
     "name": "stdout",
     "output_type": "stream",
     "text": [
      "<class 'pandas.core.frame.DataFrame'>\n",
      "Index: 43000 entries, 0 to 42999\n",
      "Data columns (total 31 columns):\n",
      " #   Column             Non-Null Count  Dtype  \n",
      "---  ------             --------------  -----  \n",
      " 0   income             43000 non-null  int64  \n",
      " 1   kidhome            43000 non-null  int64  \n",
      " 2   teenhome           43000 non-null  int64  \n",
      " 3   dt_customer        43000 non-null  object \n",
      " 4   numwebvisitsmonth  43000 non-null  int64  \n",
      " 5   id                 43000 non-null  object \n",
      " 6   job                43000 non-null  object \n",
      " 7   marital            43000 non-null  object \n",
      " 8   education          43000 non-null  object \n",
      " 9   default            43000 non-null  object \n",
      " 10  housing            43000 non-null  object \n",
      " 11  loan               43000 non-null  object \n",
      " 12  contact            43000 non-null  object \n",
      " 13  duration           43000 non-null  int64  \n",
      " 14  campaign           43000 non-null  int64  \n",
      " 15  previous           43000 non-null  int64  \n",
      " 16  poutcome           43000 non-null  object \n",
      " 17  empvarrate         43000 non-null  float64\n",
      " 18  conspriceidx       43000 non-null  float64\n",
      " 19  consconfidx        43000 non-null  float64\n",
      " 20  nremployed         43000 non-null  object \n",
      " 21  y                  43000 non-null  object \n",
      " 22  date               43000 non-null  object \n",
      " 23  latitude           43000 non-null  float64\n",
      " 24  longitude          43000 non-null  float64\n",
      " 25  contact_month      43000 non-null  object \n",
      " 26  contact_year       43000 non-null  float64\n",
      " 27  age_cat            43000 non-null  object \n",
      " 28  age                43000 non-null  float64\n",
      " 29  euribor3m          43000 non-null  float64\n",
      " 30  pdays              43000 non-null  float64\n",
      "dtypes: float64(9), int64(7), object(15)\n",
      "memory usage: 10.5+ MB\n"
     ]
    }
   ],
   "source": [
    "df_copia.info()"
   ]
  },
  {
   "cell_type": "markdown",
   "id": "15071421",
   "metadata": {},
   "source": [
    "\n",
    "\n",
    "## 5. Conclusiones\n",
    "\n",
    "### Consideraciones Clave\n",
    "*   **Cada conjunto de datos es único** y las decisiones de imputación deben basarse en una comprensión profunda del dominio.\n",
    "*   Siempre es una buena idea **evaluar el efecto de la imputación** en la distribución y calidad de tus datos antes de continuar con el análisis.\n",
    "*   La **causa de los valores faltantes** puede influir en la estrategia.\n",
    "\n",
    "---"
   ]
  }
 ],
 "metadata": {
  "kernelspec": {
   "display_name": "base",
   "language": "python",
   "name": "python3"
  },
  "language_info": {
   "codemirror_mode": {
    "name": "ipython",
    "version": 3
   },
   "file_extension": ".py",
   "mimetype": "text/x-python",
   "name": "python",
   "nbconvert_exporter": "python",
   "pygments_lexer": "ipython3",
   "version": "3.11.9"
  }
 },
 "nbformat": 4,
 "nbformat_minor": 5
}
