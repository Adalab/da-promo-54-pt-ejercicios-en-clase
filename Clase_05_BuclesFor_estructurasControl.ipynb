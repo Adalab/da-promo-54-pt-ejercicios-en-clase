{
 "cells": [
  {
   "cell_type": "markdown",
   "id": "4a80b1fb",
   "metadata": {},
   "source": [
    "# Bucles `for` y Estructuras de Control en Python\n",
    "---\n",
    "\n",
    "## 1. Introducción a los bucles `for`\n",
    "\n",
    "Los bucles `for` permiten ejecutar un bloque de código varias veces, una por cada elemento de una secuencia (lista, string, rango, etc.).\n",
    "\n",
    "### Sintaxis básica\n",
    "\n",
    "```python\n",
    "for variable in secuencia:\n",
    "    # bloque de código\n",
    "```"
   ]
  },
  {
   "cell_type": "code",
   "execution_count": 1,
   "id": "814e967b",
   "metadata": {},
   "outputs": [
    {
     "name": "stdout",
     "output_type": "stream",
     "text": [
      "Hola Ada\n",
      "Hola Lola\n",
      "Hola Marta\n"
     ]
    }
   ],
   "source": [
    "# Ejemplo con lista\n",
    "nombres = [\"Ada\", \"Lola\", \"Marta\"]\n",
    "for nombre in nombres:\n",
    "    print(\"Hola\", nombre)"
   ]
  },
  {
   "cell_type": "code",
   "execution_count": 2,
   "id": "7eeed1f7",
   "metadata": {},
   "outputs": [
    {
     "name": "stdout",
     "output_type": "stream",
     "text": [
      "ROJO\n",
      "AZUL\n",
      "VERDE\n"
     ]
    }
   ],
   "source": [
    "# Ejemplo con tupla\n",
    "colores = (\"rojo\", \"azul\", \"verde\")\n",
    "for color in colores:\n",
    "    print(color.upper())"
   ]
  },
  {
   "cell_type": "code",
   "execution_count": 3,
   "id": "a4c2b4be",
   "metadata": {},
   "outputs": [
    {
     "name": "stdout",
     "output_type": "stream",
     "text": [
      "P\n",
      "y\n",
      "t\n",
      "h\n",
      "o\n",
      "n\n"
     ]
    }
   ],
   "source": [
    "# Ejemplo con string\n",
    "palabra = \"Python\"\n",
    "for letra in palabra:\n",
    "    print(letra)"
   ]
  },
  {
   "cell_type": "code",
   "execution_count": 4,
   "id": "3414635e",
   "metadata": {},
   "outputs": [
    {
     "name": "stdout",
     "output_type": "stream",
     "text": [
      "[1, 3, 6, 10]\n"
     ]
    }
   ],
   "source": [
    "numeros = [1, 2, 3, 4]\n",
    "suma_acumulada = 0\n",
    "resultado = []\n",
    "\n",
    "for numero in numeros:\n",
    "    suma_acumulada += numero\n",
    "    resultado.append(suma_acumulada)\n",
    "    \n",
    "print(resultado)\n"
   ]
  },
  {
   "cell_type": "code",
   "execution_count": 5,
   "id": "43cd648c",
   "metadata": {},
   "outputs": [
    {
     "name": "stdout",
     "output_type": "stream",
     "text": [
      "['menor de edad', 22, 'menor de edad', 30]\n"
     ]
    }
   ],
   "source": [
    "edades = [15, 22, 10, 30]\n",
    "mayores = []\n",
    "\n",
    "for edad in edades:\n",
    "    if edad >= 18:\n",
    "        mayores.append(edad)\n",
    "    else:\n",
    "        mayores.append('menor de edad')\n",
    "\n",
    "print(mayores)"
   ]
  },
  {
   "cell_type": "code",
   "execution_count": 6,
   "id": "2c8046b5",
   "metadata": {},
   "outputs": [
    {
     "name": "stdout",
     "output_type": "stream",
     "text": [
      "0 0\n",
      "0 1\n",
      "1 0\n",
      "1 1\n",
      "2 0\n",
      "2 1\n"
     ]
    }
   ],
   "source": [
    "# bucle anidado\n",
    "for i in [0, 1, 2]:\n",
    "    for j in [0, 1]:\n",
    "        print(i, j)"
   ]
  },
  {
   "cell_type": "markdown",
   "id": "86994974",
   "metadata": {},
   "source": [
    "## 2. La función `range()`\n",
    "\n",
    "`range(start, stop, step)` genera una secuencia de números.\n",
    "\n",
    "- start: inclusive, por defecto es 0.\n",
    "- stop: exclusivo (stop-1), parámetro obligatorio.\n",
    "- step: incremento, por defecto es 1."
   ]
  },
  {
   "cell_type": "code",
   "execution_count": 7,
   "id": "55d9b350",
   "metadata": {},
   "outputs": [
    {
     "data": {
      "text/plain": [
       "[0, 1, 2, 3, 4, 5]"
      ]
     },
     "execution_count": 7,
     "metadata": {},
     "output_type": "execute_result"
    }
   ],
   "source": [
    "list(range(6))"
   ]
  },
  {
   "cell_type": "code",
   "execution_count": 8,
   "id": "29fbb132",
   "metadata": {},
   "outputs": [
    {
     "data": {
      "text/plain": [
       "[2, 4, 6, 8, 10]"
      ]
     },
     "execution_count": 8,
     "metadata": {},
     "output_type": "execute_result"
    }
   ],
   "source": [
    "list(range(2, 11, 2))"
   ]
  },
  {
   "cell_type": "code",
   "execution_count": 9,
   "id": "dd4df4b0",
   "metadata": {},
   "outputs": [
    {
     "name": "stdout",
     "output_type": "stream",
     "text": [
      "0\n",
      "1\n",
      "2\n",
      "3\n",
      "4\n"
     ]
    }
   ],
   "source": [
    "for i in range(5):\n",
    "    print(i)"
   ]
  },
  {
   "cell_type": "code",
   "execution_count": 10,
   "id": "130dbe6b",
   "metadata": {},
   "outputs": [
    {
     "name": "stdout",
     "output_type": "stream",
     "text": [
      "2\n",
      "4\n",
      "6\n",
      "8\n"
     ]
    }
   ],
   "source": [
    "for i in range(2, 10, 2):\n",
    "    print(i)"
   ]
  },
  {
   "cell_type": "code",
   "execution_count": 11,
   "id": "249ddb75",
   "metadata": {},
   "outputs": [
    {
     "name": "stdout",
     "output_type": "stream",
     "text": [
      "10\n",
      "9\n",
      "8\n",
      "7\n",
      "6\n",
      "5\n"
     ]
    }
   ],
   "source": [
    "for i in range(10, 4, -1):\n",
    "    print(i)"
   ]
  },
  {
   "cell_type": "code",
   "execution_count": 12,
   "id": "68df2968",
   "metadata": {},
   "outputs": [
    {
     "name": "stdout",
     "output_type": "stream",
     "text": [
      "nombre\n",
      "edad\n"
     ]
    }
   ],
   "source": [
    "persona = {'nombre':'Ana', 'edad':30}\n",
    "\n",
    "for elemento in persona: # .keys()\n",
    "    print(elemento)"
   ]
  },
  {
   "cell_type": "code",
   "execution_count": 13,
   "id": "8d705485",
   "metadata": {},
   "outputs": [
    {
     "name": "stdout",
     "output_type": "stream",
     "text": [
      "Ana\n",
      "30\n"
     ]
    }
   ],
   "source": [
    "persona = {'nombre':'Ana', 'edad':30}\n",
    "\n",
    "for elemento in persona.values():\n",
    "    print(elemento)"
   ]
  },
  {
   "cell_type": "code",
   "execution_count": 14,
   "id": "82d7f497",
   "metadata": {},
   "outputs": [
    {
     "name": "stdout",
     "output_type": "stream",
     "text": [
      "clave: nombre, valor: Ana\n",
      "clave: edad, valor: 30\n"
     ]
    }
   ],
   "source": [
    "persona = {'nombre':'Ana', 'edad':30}\n",
    "\n",
    "for k, v in persona.items():\n",
    "    print(f\"clave: {k}, valor: {v}\")"
   ]
  },
  {
   "cell_type": "markdown",
   "id": "d9400985",
   "metadata": {},
   "source": [
    "## 4. Uso de `enumerate()`\n",
    "\n",
    "Permite obtener el índice y el valor en cada vuelta:\n"
   ]
  },
  {
   "cell_type": "code",
   "execution_count": 15,
   "id": "58f1c0b9",
   "metadata": {},
   "outputs": [
    {
     "data": {
      "text/plain": [
       "('rojo', 'azul', 'verde')"
      ]
     },
     "execution_count": 15,
     "metadata": {},
     "output_type": "execute_result"
    }
   ],
   "source": [
    "colores"
   ]
  },
  {
   "cell_type": "code",
   "execution_count": 17,
   "id": "2573f612",
   "metadata": {},
   "outputs": [
    {
     "data": {
      "text/plain": [
       "[(0, 'rojo'), (1, 'azul'), (2, 'verde')]"
      ]
     },
     "execution_count": 17,
     "metadata": {},
     "output_type": "execute_result"
    }
   ],
   "source": [
    "list(enumerate(colores))"
   ]
  },
  {
   "cell_type": "code",
   "execution_count": 19,
   "id": "fb6dc151",
   "metadata": {},
   "outputs": [
    {
     "name": "stdout",
     "output_type": "stream",
     "text": [
      "indice: 0, color: rojo\n",
      "indice: 1, color: azul\n",
      "indice: 2, color: verde\n"
     ]
    }
   ],
   "source": [
    "for indice, color in enumerate(colores):\n",
    "    print(f\"indice: {indice}, color: {color}\")"
   ]
  },
  {
   "cell_type": "markdown",
   "id": "76451b73",
   "metadata": {},
   "source": [
    "## 5. Estructuras de control en bucles\n",
    "\n",
    "### `break`: salir del bucle antes de terminar\n"
   ]
  },
  {
   "cell_type": "code",
   "execution_count": 20,
   "id": "80169041",
   "metadata": {},
   "outputs": [
    {
     "name": "stdout",
     "output_type": "stream",
     "text": [
      "0\n",
      "1\n",
      "2\n",
      "3\n",
      "4\n"
     ]
    }
   ],
   "source": [
    "for numero in range(10):\n",
    "    if numero == 5:\n",
    "        break\n",
    "    \n",
    "    print(numero)"
   ]
  },
  {
   "cell_type": "code",
   "execution_count": 21,
   "id": "fbe790eb",
   "metadata": {},
   "outputs": [
    {
     "name": "stdout",
     "output_type": "stream",
     "text": [
      "0\n",
      "1\n",
      "2\n",
      "3\n"
     ]
    }
   ],
   "source": [
    "contador = 0\n",
    "\n",
    "while True:\n",
    "    print(contador)\n",
    "    if contador == 3:\n",
    "        break\n",
    "    contador += 1\n"
   ]
  },
  {
   "cell_type": "markdown",
   "id": "73c31b48",
   "metadata": {},
   "source": [
    "### `continue`: saltarse una vuelta del bucle"
   ]
  },
  {
   "cell_type": "code",
   "execution_count": 22,
   "id": "1536c76e",
   "metadata": {},
   "outputs": [
    {
     "name": "stdout",
     "output_type": "stream",
     "text": [
      "0\n",
      "1\n",
      "3\n",
      "4\n"
     ]
    }
   ],
   "source": [
    "for numero in range(5):\n",
    "    if numero == 2:\n",
    "        continue\n",
    "    print(numero)"
   ]
  },
  {
   "cell_type": "code",
   "execution_count": 23,
   "id": "3006a6ac",
   "metadata": {},
   "outputs": [
    {
     "name": "stdout",
     "output_type": "stream",
     "text": [
      "1\n",
      "2\n",
      "4\n",
      "5\n"
     ]
    }
   ],
   "source": [
    "numero = 0 \n",
    "\n",
    "while numero < 5:\n",
    "    numero += 1\n",
    "    if numero == 3:\n",
    "        continue\n",
    "    print(numero)"
   ]
  },
  {
   "cell_type": "markdown",
   "id": "a5c25eb0",
   "metadata": {},
   "source": [
    "### `pass`: no hacer nada (placeholder)\n",
    "\n",
    "Un placeholder en programación es como una marca temporal: es un sitio reservado donde en el futuro irá código o información real.\n",
    "Es como un post-it que pones en una presentación: “Aquí irá una imagen”, o “Aquí va el título”. Aún no está, pero ya dejaste el sitio reservado."
   ]
  },
  {
   "cell_type": "code",
   "execution_count": null,
   "id": "969a7f36",
   "metadata": {},
   "outputs": [],
   "source": [
    "for i in range(5):\n",
    "    pass"
   ]
  },
  {
   "cell_type": "code",
   "execution_count": 27,
   "id": "76c4d64e",
   "metadata": {},
   "outputs": [
    {
     "name": "stdout",
     "output_type": "stream",
     "text": [
      "Intenta de nuevo...\n",
      "Intenta de nuevo...\n",
      "Intenta de nuevo...\n"
     ]
    }
   ],
   "source": [
    "respuesta = \"\"\n",
    "\n",
    "while True:\n",
    "    respuesta = input(\"Escribe sí o no: \")\n",
    "    if respuesta == \"sí\":\n",
    "        break\n",
    "    else:\n",
    "        print(\"Intenta de nuevo...\")"
   ]
  },
  {
   "cell_type": "markdown",
   "id": "2360f6fa",
   "metadata": {},
   "source": [
    "# Control de Errores en Python: `try` y variantes\n",
    "\n",
    "En esta parte de la lección veremos cómo manejar errores usando las sentencias `try`, `except`, `else` y `finally`. Esto es útil para evitar que nuestro programa se detenga por errores inesperados.\n"
   ]
  },
  {
   "cell_type": "markdown",
   "id": "ec9fa3d0",
   "metadata": {},
   "source": [
    "## 1. `try` ... `except`\n",
    "\n",
    "Se usa cuando queremos **intentar ejecutar un código que podría fallar**, y manejar el error si ocurre."
   ]
  },
  {
   "cell_type": "code",
   "execution_count": 28,
   "id": "ffb570cf",
   "metadata": {},
   "outputs": [
    {
     "ename": "ValueError",
     "evalue": "invalid literal for int() with base 10: 'hiu'",
     "output_type": "error",
     "traceback": [
      "\u001b[0;31m---------------------------------------------------------------------------\u001b[0m",
      "\u001b[0;31mValueError\u001b[0m                                Traceback (most recent call last)",
      "Cell \u001b[0;32mIn[28], line 1\u001b[0m\n\u001b[0;32m----> 1\u001b[0m numero \u001b[38;5;241m=\u001b[39m \u001b[38;5;28mint\u001b[39m(\u001b[38;5;28minput\u001b[39m(\u001b[38;5;124m'\u001b[39m\u001b[38;5;124mIntroduce un numero: \u001b[39m\u001b[38;5;124m'\u001b[39m))\n",
      "\u001b[0;31mValueError\u001b[0m: invalid literal for int() with base 10: 'hiu'"
     ]
    }
   ],
   "source": [
    "numero = int(input('Introduce un numero: '))"
   ]
  },
  {
   "cell_type": "code",
   "execution_count": 31,
   "id": "63701db5",
   "metadata": {},
   "outputs": [
    {
     "name": "stdout",
     "output_type": "stream",
     "text": [
      "Esto no es un número válido\n"
     ]
    }
   ],
   "source": [
    "try:\n",
    "    numero = int(input('Introduce un numero: '))\n",
    "except:\n",
    "    print('Esto no es un número válido')\n"
   ]
  },
  {
   "cell_type": "markdown",
   "id": "7a339104",
   "metadata": {},
   "source": [
    "## 2. `try` ... `except` ... `except`\n",
    "\n",
    "Podemos manejar **distintos tipos de errores** con varios `except`."
   ]
  },
  {
   "cell_type": "code",
   "execution_count": 32,
   "id": "48aaa68b",
   "metadata": {},
   "outputs": [
    {
     "ename": "ZeroDivisionError",
     "evalue": "division by zero",
     "output_type": "error",
     "traceback": [
      "\u001b[0;31m---------------------------------------------------------------------------\u001b[0m",
      "\u001b[0;31mZeroDivisionError\u001b[0m                         Traceback (most recent call last)",
      "Cell \u001b[0;32mIn[32], line 1\u001b[0m\n\u001b[0;32m----> 1\u001b[0m \u001b[38;5;241m10\u001b[39m \u001b[38;5;241m/\u001b[39m \u001b[38;5;241m0\u001b[39m\n",
      "\u001b[0;31mZeroDivisionError\u001b[0m: division by zero"
     ]
    }
   ],
   "source": [
    "10 / 0 "
   ]
  },
  {
   "cell_type": "code",
   "execution_count": 35,
   "id": "edb2183c",
   "metadata": {},
   "outputs": [
    {
     "name": "stdout",
     "output_type": "stream",
     "text": [
      "No puedes dividir entre cero.\n"
     ]
    }
   ],
   "source": [
    "try:\n",
    "    numero = int(input('Divide 10 entre: '))\n",
    "    resultado = 10 / numero\n",
    "    print(resultado)\n",
    "except ValueError:\n",
    "    print('debes introducir un número')\n",
    "except ZeroDivisionError:\n",
    "    print('No puedes dividir entre cero.')\n"
   ]
  },
  {
   "cell_type": "markdown",
   "id": "103ae9d5",
   "metadata": {},
   "source": [
    "## 3. `try` ... `except` ... `else`\n",
    "\n",
    "`else` se ejecuta **solo si no hubo errores** en el bloque `try`."
   ]
  },
  {
   "cell_type": "code",
   "execution_count": 38,
   "id": "0aae57f7",
   "metadata": {},
   "outputs": [
    {
     "name": "stdout",
     "output_type": "stream",
     "text": [
      "Eso no es un número.\n"
     ]
    }
   ],
   "source": [
    "# “Intenta hacer esto, y si no hay errores, entonces haz esto otro.”\n",
    "try:\n",
    "    numero = int(input(\"Introduce un número: \"))\n",
    "except ValueError:\n",
    "    print(\"Eso no es un número.\")\n",
    "else: \n",
    "    print(f\"Has introducido el número {numero}\")"
   ]
  },
  {
   "cell_type": "markdown",
   "id": "d45cbf5e",
   "metadata": {},
   "source": [
    "## 4. `try` ... `except` ... `finally`\n",
    "\n",
    "`finally` se ejecuta **siempre**, haya o no haya error. Ideal para cerrar archivos, Cerrar conexiones (por ejemplo, a una base de datos) o mostrar un mensaje final."
   ]
  },
  {
   "cell_type": "code",
   "execution_count": 40,
   "id": "1e3169cf",
   "metadata": {},
   "outputs": [
    {
     "ename": "FileNotFoundError",
     "evalue": "[Errno 2] No such file or directory: 'datos.txt'",
     "output_type": "error",
     "traceback": [
      "\u001b[0;31m---------------------------------------------------------------------------\u001b[0m",
      "\u001b[0;31mFileNotFoundError\u001b[0m                         Traceback (most recent call last)",
      "Cell \u001b[0;32mIn[40], line 1\u001b[0m\n\u001b[0;32m----> 1\u001b[0m archivo \u001b[38;5;241m=\u001b[39m \u001b[38;5;28mopen\u001b[39m(\u001b[38;5;124m\"\u001b[39m\u001b[38;5;124mdatos.txt\u001b[39m\u001b[38;5;124m\"\u001b[39m, \u001b[38;5;124m\"\u001b[39m\u001b[38;5;124mr\u001b[39m\u001b[38;5;124m\"\u001b[39m)\n\u001b[1;32m      2\u001b[0m contenido \u001b[38;5;241m=\u001b[39m archivo\u001b[38;5;241m.\u001b[39mread()\n",
      "File \u001b[0;32m/opt/anaconda3/lib/python3.11/site-packages/IPython/core/interactiveshell.py:310\u001b[0m, in \u001b[0;36m_modified_open\u001b[0;34m(file, *args, **kwargs)\u001b[0m\n\u001b[1;32m    303\u001b[0m \u001b[38;5;28;01mif\u001b[39;00m file \u001b[38;5;129;01min\u001b[39;00m {\u001b[38;5;241m0\u001b[39m, \u001b[38;5;241m1\u001b[39m, \u001b[38;5;241m2\u001b[39m}:\n\u001b[1;32m    304\u001b[0m     \u001b[38;5;28;01mraise\u001b[39;00m \u001b[38;5;167;01mValueError\u001b[39;00m(\n\u001b[1;32m    305\u001b[0m         \u001b[38;5;124mf\u001b[39m\u001b[38;5;124m\"\u001b[39m\u001b[38;5;124mIPython won\u001b[39m\u001b[38;5;124m'\u001b[39m\u001b[38;5;124mt let you open fd=\u001b[39m\u001b[38;5;132;01m{\u001b[39;00mfile\u001b[38;5;132;01m}\u001b[39;00m\u001b[38;5;124m by default \u001b[39m\u001b[38;5;124m\"\u001b[39m\n\u001b[1;32m    306\u001b[0m         \u001b[38;5;124m\"\u001b[39m\u001b[38;5;124mas it is likely to crash IPython. If you know what you are doing, \u001b[39m\u001b[38;5;124m\"\u001b[39m\n\u001b[1;32m    307\u001b[0m         \u001b[38;5;124m\"\u001b[39m\u001b[38;5;124myou can use builtins\u001b[39m\u001b[38;5;124m'\u001b[39m\u001b[38;5;124m open.\u001b[39m\u001b[38;5;124m\"\u001b[39m\n\u001b[1;32m    308\u001b[0m     )\n\u001b[0;32m--> 310\u001b[0m \u001b[38;5;28;01mreturn\u001b[39;00m io_open(file, \u001b[38;5;241m*\u001b[39margs, \u001b[38;5;241m*\u001b[39m\u001b[38;5;241m*\u001b[39mkwargs)\n",
      "\u001b[0;31mFileNotFoundError\u001b[0m: [Errno 2] No such file or directory: 'datos.txt'"
     ]
    }
   ],
   "source": [
    "archivo = open(\"datos.txt\", \"r\")\n",
    "contenido = archivo.read()"
   ]
  },
  {
   "cell_type": "code",
   "execution_count": 39,
   "id": "e9fc48e4",
   "metadata": {},
   "outputs": [
    {
     "name": "stdout",
     "output_type": "stream",
     "text": [
      "No se encontró el archivo.\n",
      "Fin del intento de lectura.\n"
     ]
    }
   ],
   "source": [
    "try:\n",
    "    archivo = open(\"datos.txt\", \"r\")\n",
    "    contenido = archivo.read()\n",
    "except FileNotFoundError:\n",
    "    print(\"No se encontró el archivo.\")\n",
    "finally:\n",
    "    print(\"Fin del intento de lectura.\")"
   ]
  },
  {
   "cell_type": "code",
   "execution_count": 42,
   "id": "39c00944",
   "metadata": {},
   "outputs": [
    {
     "name": "stdout",
     "output_type": "stream",
     "text": [
      "No es un número.\n",
      "Gracias por usar nuestro programa.\n"
     ]
    }
   ],
   "source": [
    "try:\n",
    "    numero = int(input(\"Escribe un número: \"))\n",
    "except ValueError:\n",
    "    print(\"No es un número.\")\n",
    "finally:\n",
    "    print(\"Gracias por usar nuestro programa.\")"
   ]
  },
  {
   "cell_type": "markdown",
   "id": "e83cab74",
   "metadata": {},
   "source": [
    "### Ejemplos de errores:\n",
    "\n",
    "- `TypeError`: se produce cuando una función o operación se aplica a un objeto de tipo inapropiado.\n",
    "\n",
    "- `ValueError`: se produce cuando una función o método recibe un argumento de tipo correcto pero con un valor inapropiado.\n",
    "\n",
    "- `IndexError`: se produce cuando se intenta acceder a un índice que está fuera del rango de una lista o secuencia.\n",
    "\n",
    "- `KeyError`: se produce cuando se intenta acceder a una clave que no existe en un diccionario.\n",
    "\n",
    "- `AttributeError`: se produce cuando se intenta acceder a un atributo que no existe en un objeto.\n",
    "\n",
    "- `IOError`: se produce cuando se intenta acceder a un archivo que no existe o no se puede abrir.\n",
    "\n",
    "- `ZeroDivisionError`: se produce cuando se intenta dividir un número por cero.\n",
    "\n",
    "- `ImportError`: se produce cuando no se puede importar un módulo.\n",
    "\n",
    "- `KeyboardInterrupt`: se produce cuando el usuario interrumpe la ejecución del programa."
   ]
  }
 ],
 "metadata": {
  "kernelspec": {
   "display_name": "base",
   "language": "python",
   "name": "python3"
  },
  "language_info": {
   "codemirror_mode": {
    "name": "ipython",
    "version": 3
   },
   "file_extension": ".py",
   "mimetype": "text/x-python",
   "name": "python",
   "nbconvert_exporter": "python",
   "pygments_lexer": "ipython3",
   "version": "3.11.9"
  }
 },
 "nbformat": 4,
 "nbformat_minor": 5
}
