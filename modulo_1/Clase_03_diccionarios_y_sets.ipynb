{
 "cells": [
  {
   "cell_type": "markdown",
   "id": "273db9e8",
   "metadata": {},
   "source": [
    "# Parte 1: Diccionarios en Python\n",
    "\n",
    "## ¿Qué es un diccionario?\n",
    "Un **diccionario** es una colección de pares **clave:valor**. Se define con llaves `{}`.\n"
   ]
  },
  {
   "cell_type": "code",
   "execution_count": null,
   "id": "31c23861",
   "metadata": {},
   "outputs": [],
   "source": [
    "contactos = {\"Ana\": 12345, \"Luis\": 67890, \"Marta\": 56374}"
   ]
  },
  {
   "cell_type": "code",
   "execution_count": 3,
   "id": "8e23f0a0",
   "metadata": {},
   "outputs": [
    {
     "data": {
      "text/plain": [
       "dict"
      ]
     },
     "execution_count": 3,
     "metadata": {},
     "output_type": "execute_result"
    }
   ],
   "source": [
    "type(contactos)"
   ]
  },
  {
   "cell_type": "markdown",
   "id": "edec0ee1",
   "metadata": {},
   "source": [
    "## Propiedades de los diccionarios\n",
    "- Las claves son **únicas**.\n",
    "- Las claves deben ser **inmutables** (strings, números, tuplas).\n",
    "- Los valores pueden ser de cualquier tipo.\n",
    "- Los diccionarios son **ordenados**. 📌 **Mantienen el orden de inserción** de las claves.\n",
    "Esto significa que si agregas primero `\"a\"`, luego `\"b\"`, y luego `\"c\"`, se imprimirán y recorrerán **en ese mismo orden**. (Desde Python 3.7 en adelante (oficialmente desde 3.8))\n",
    "📌 **Ordenados significa orden de inserción**, **no orden alfabético ni numérico**\n",
    "\n",
    "---"
   ]
  },
  {
   "cell_type": "code",
   "execution_count": 4,
   "id": "e7339da3",
   "metadata": {},
   "outputs": [
    {
     "data": {
      "text/plain": [
       "{'nombre': 'Ana', 'edad': 30}"
      ]
     },
     "execution_count": 4,
     "metadata": {},
     "output_type": "execute_result"
    }
   ],
   "source": [
    "# Directamente con `{}`:\n",
    "datos = {\"nombre\": \"Ana\", \"edad\": 30}\n",
    "datos"
   ]
  },
  {
   "cell_type": "code",
   "execution_count": 5,
   "id": "411dcf8b",
   "metadata": {},
   "outputs": [
    {
     "data": {
      "text/plain": [
       "{'nombre': 'Ana', 'edad': 30}"
      ]
     },
     "execution_count": 5,
     "metadata": {},
     "output_type": "execute_result"
    }
   ],
   "source": [
    "# Usando `dict()`:\n",
    "datos = dict(nombre='Ana', edad = 30)\n",
    "datos"
   ]
  },
  {
   "cell_type": "code",
   "execution_count": 6,
   "id": "76209991",
   "metadata": {},
   "outputs": [
    {
     "data": {
      "text/plain": [
       "{'nombre': 'Ana', 'edad': 30}"
      ]
     },
     "execution_count": 6,
     "metadata": {},
     "output_type": "execute_result"
    }
   ],
   "source": [
    "# Usando `dict()`:\n",
    "datos = dict([('nombre', 'Ana'), ('edad', 30)])\n",
    "datos"
   ]
  },
  {
   "cell_type": "markdown",
   "id": "e502124f",
   "metadata": {},
   "source": [
    "### 📋 Métodos de Diccionarios en Python\n",
    "- `keys()`: devuelve una vista de las claves.\n",
    "- `values()`: devuelve una vista de los valores.\n",
    "- `items()`: devuelve pares clave-valor.\n",
    "- `len()`: devuelve la cantidad de elementos que hay en el dicconario."
   ]
  },
  {
   "cell_type": "code",
   "execution_count": 12,
   "id": "bb8886aa",
   "metadata": {},
   "outputs": [],
   "source": [
    "contactos = {\"Ana\": [12345, 7162786186, 18297319], \"Luis\": 67890}"
   ]
  },
  {
   "cell_type": "code",
   "execution_count": 8,
   "id": "42d837fd",
   "metadata": {},
   "outputs": [
    {
     "data": {
      "text/plain": [
       "dict_keys(['Ana', 'Luis'])"
      ]
     },
     "execution_count": 8,
     "metadata": {},
     "output_type": "execute_result"
    }
   ],
   "source": [
    "contactos.keys()"
   ]
  },
  {
   "cell_type": "code",
   "execution_count": 9,
   "id": "371376e4",
   "metadata": {},
   "outputs": [
    {
     "data": {
      "text/plain": [
       "dict_values([12345, 67890])"
      ]
     },
     "execution_count": 9,
     "metadata": {},
     "output_type": "execute_result"
    }
   ],
   "source": [
    "contactos.values()"
   ]
  },
  {
   "cell_type": "code",
   "execution_count": 10,
   "id": "2f2fbc08",
   "metadata": {},
   "outputs": [
    {
     "data": {
      "text/plain": [
       "dict_items([('Ana', 12345), ('Luis', 67890)])"
      ]
     },
     "execution_count": 10,
     "metadata": {},
     "output_type": "execute_result"
    }
   ],
   "source": [
    "contactos.items()"
   ]
  },
  {
   "cell_type": "code",
   "execution_count": 15,
   "id": "af52dfb6",
   "metadata": {},
   "outputs": [
    {
     "data": {
      "text/plain": [
       "2"
      ]
     },
     "execution_count": 15,
     "metadata": {},
     "output_type": "execute_result"
    }
   ],
   "source": [
    "len(contactos)"
   ]
  },
  {
   "cell_type": "code",
   "execution_count": 16,
   "id": "a63665b0",
   "metadata": {},
   "outputs": [
    {
     "data": {
      "text/plain": [
       "dict_values([[12345, 7162786186, 18297319], 67890])"
      ]
     },
     "execution_count": 16,
     "metadata": {},
     "output_type": "execute_result"
    }
   ],
   "source": [
    "contactos.values()"
   ]
  },
  {
   "cell_type": "markdown",
   "id": "9a8658c7",
   "metadata": {},
   "source": [
    "### `copy()`\n",
    "🔹 Devuelve una **copia superficial** del diccionario."
   ]
  },
  {
   "cell_type": "code",
   "execution_count": 17,
   "id": "954817cd",
   "metadata": {},
   "outputs": [
    {
     "data": {
      "text/plain": [
       "{'a': 1, 'b': 2}"
      ]
     },
     "execution_count": 17,
     "metadata": {},
     "output_type": "execute_result"
    }
   ],
   "source": [
    "original = {\"a\": 1, \"b\": 2}\n",
    "copia = original.copy()\n",
    "copia"
   ]
  },
  {
   "cell_type": "code",
   "execution_count": 18,
   "id": "57742b52",
   "metadata": {},
   "outputs": [
    {
     "data": {
      "text/plain": [
       "{'a': 1, 'b': 2}"
      ]
     },
     "execution_count": 18,
     "metadata": {},
     "output_type": "execute_result"
    }
   ],
   "source": [
    "original"
   ]
  },
  {
   "cell_type": "markdown",
   "id": "39505b30",
   "metadata": {},
   "source": [
    "### `clear()`\n",
    "🔹 **Elimina todos los elementos** del diccionario."
   ]
  },
  {
   "cell_type": "code",
   "execution_count": 19,
   "id": "94e8b486",
   "metadata": {},
   "outputs": [
    {
     "data": {
      "text/plain": [
       "{'x': 10, 'y': 20}"
      ]
     },
     "execution_count": 19,
     "metadata": {},
     "output_type": "execute_result"
    }
   ],
   "source": [
    "datos = {\"x\": 10, \"y\": 20}\n",
    "datos"
   ]
  },
  {
   "cell_type": "code",
   "execution_count": 20,
   "id": "ba77457b",
   "metadata": {},
   "outputs": [
    {
     "data": {
      "text/plain": [
       "{}"
      ]
     },
     "execution_count": 20,
     "metadata": {},
     "output_type": "execute_result"
    }
   ],
   "source": [
    "datos.clear()\n",
    "datos"
   ]
  },
  {
   "cell_type": "markdown",
   "id": "39670bee",
   "metadata": {},
   "source": [
    "### `update()`\n",
    "🔹 **Actualiza** el diccionario con otro diccionario o lista de tuplas."
   ]
  },
  {
   "cell_type": "code",
   "execution_count": 36,
   "id": "899e2891",
   "metadata": {},
   "outputs": [
    {
     "data": {
      "text/plain": [
       "{'nombre': 'Pepa', 'edad': 30}"
      ]
     },
     "execution_count": 36,
     "metadata": {},
     "output_type": "execute_result"
    }
   ],
   "source": [
    "dict_ejemplo = {'nombre':'Pepa', 'edad':30}\n",
    "dict_ejemplo"
   ]
  },
  {
   "cell_type": "code",
   "execution_count": 37,
   "id": "5d38fee1",
   "metadata": {},
   "outputs": [
    {
     "data": {
      "text/plain": [
       "{'ciudad': 'Barcelona', 'telefono': 876543637}"
      ]
     },
     "execution_count": 37,
     "metadata": {},
     "output_type": "execute_result"
    }
   ],
   "source": [
    "actualizar = {'ciudad':'Barcelona', 'telefono':876543637}\n",
    "actualizar"
   ]
  },
  {
   "cell_type": "code",
   "execution_count": 40,
   "id": "b8db0c50",
   "metadata": {},
   "outputs": [],
   "source": [
    "# Modificar valor en el diccionario\n",
    "actualizar['ciudad'] = 'Madrid'"
   ]
  },
  {
   "cell_type": "code",
   "execution_count": 41,
   "id": "8e251e67",
   "metadata": {},
   "outputs": [
    {
     "data": {
      "text/plain": [
       "{'ciudad': 'Madrid', 'telefono': 876543637}"
      ]
     },
     "execution_count": 41,
     "metadata": {},
     "output_type": "execute_result"
    }
   ],
   "source": [
    "actualizar"
   ]
  },
  {
   "cell_type": "code",
   "execution_count": null,
   "id": "ec3c39e8",
   "metadata": {},
   "outputs": [],
   "source": [
    "[('clave1', 'valor1'), ('valor3', 'valor4')] # Ejemplo de lista de tuplas"
   ]
  },
  {
   "cell_type": "code",
   "execution_count": 38,
   "id": "637cf5f8",
   "metadata": {},
   "outputs": [],
   "source": [
    "dict_ejemplo.update(actualizar)"
   ]
  },
  {
   "cell_type": "code",
   "execution_count": 39,
   "id": "87e21def",
   "metadata": {},
   "outputs": [
    {
     "data": {
      "text/plain": [
       "{'nombre': 'Pepa', 'edad': 30, 'ciudad': 'Barcelona', 'telefono': 876543637}"
      ]
     },
     "execution_count": 39,
     "metadata": {},
     "output_type": "execute_result"
    }
   ],
   "source": [
    "dict_ejemplo"
   ]
  },
  {
   "cell_type": "code",
   "execution_count": 21,
   "id": "c01155e9",
   "metadata": {},
   "outputs": [],
   "source": [
    "info = {\"nombre\": \"Ana\"}\n",
    "otro_diccionario = {\"edad\": 30, \"ciudad\": \"Madrid\"}\n",
    "info.update(otro_diccionario)\n"
   ]
  },
  {
   "cell_type": "code",
   "execution_count": 22,
   "id": "8ef1f33b",
   "metadata": {},
   "outputs": [
    {
     "data": {
      "text/plain": [
       "{'nombre': 'Ana', 'edad': 30, 'ciudad': 'Madrid'}"
      ]
     },
     "execution_count": 22,
     "metadata": {},
     "output_type": "execute_result"
    }
   ],
   "source": [
    "info"
   ]
  },
  {
   "cell_type": "markdown",
   "id": "e3277b27",
   "metadata": {},
   "source": [
    "### `get()`\n",
    "🔹 Devuelve el valor de una clave o un **valor por defecto** si no existe."
   ]
  },
  {
   "cell_type": "code",
   "execution_count": 27,
   "id": "d6df5a62",
   "metadata": {},
   "outputs": [
    {
     "data": {
      "text/plain": [
       "'La edad no existe'"
      ]
     },
     "execution_count": 27,
     "metadata": {},
     "output_type": "execute_result"
    }
   ],
   "source": [
    "persona = {\"nombre\": \"Luis\"}\n",
    "persona.get(\"edad\", \"La edad no existe\")"
   ]
  },
  {
   "cell_type": "markdown",
   "id": "a9c89b94",
   "metadata": {},
   "source": [
    "### `setdefault()`\n",
    "🔹 Devuelve el valor si la clave existe, si no, la **crea con un valor predeterminado**."
   ]
  },
  {
   "cell_type": "code",
   "execution_count": 48,
   "id": "929a9095",
   "metadata": {},
   "outputs": [
    {
     "data": {
      "text/plain": [
       "{'nombre': 'Ana', 'edad': 30, 'ciudad': 'Madrid'}"
      ]
     },
     "execution_count": 48,
     "metadata": {},
     "output_type": "execute_result"
    }
   ],
   "source": [
    "info"
   ]
  },
  {
   "cell_type": "code",
   "execution_count": 50,
   "id": "d692c0d1",
   "metadata": {},
   "outputs": [
    {
     "data": {
      "text/plain": [
       "678456345"
      ]
     },
     "execution_count": 50,
     "metadata": {},
     "output_type": "execute_result"
    }
   ],
   "source": [
    "info.setdefault('telefono', 678456345)"
   ]
  },
  {
   "cell_type": "code",
   "execution_count": 51,
   "id": "61a79427",
   "metadata": {},
   "outputs": [
    {
     "data": {
      "text/plain": [
       "{'nombre': 'Ana', 'edad': 30, 'ciudad': 'Madrid', 'telefono': 678456345}"
      ]
     },
     "execution_count": 51,
     "metadata": {},
     "output_type": "execute_result"
    }
   ],
   "source": [
    "info"
   ]
  },
  {
   "cell_type": "code",
   "execution_count": 33,
   "id": "2e92b061",
   "metadata": {},
   "outputs": [
    {
     "data": {
      "text/plain": [
       "30"
      ]
     },
     "execution_count": 33,
     "metadata": {},
     "output_type": "execute_result"
    }
   ],
   "source": [
    "registro = {\"usuario\": \"Ada\"}\n",
    "registro.setdefault(\"edad\", 30)\n"
   ]
  },
  {
   "cell_type": "markdown",
   "id": "6682a054",
   "metadata": {},
   "source": [
    "### `pop()`\n",
    "🔹 **Elimina y devuelve** el valor de una clave. Si no existe, lanza error o devuelve valor por defecto."
   ]
  },
  {
   "cell_type": "code",
   "execution_count": 52,
   "id": "c1f1291d",
   "metadata": {},
   "outputs": [
    {
     "data": {
      "text/plain": [
       "'#f00'"
      ]
     },
     "execution_count": 52,
     "metadata": {},
     "output_type": "execute_result"
    }
   ],
   "source": [
    "colores = {\"rojo\": \"#f00\", \"verde\": \"#0f0\"}\n",
    "codigo = colores.pop(\"rojo\")\n",
    "codigo"
   ]
  },
  {
   "cell_type": "code",
   "execution_count": 53,
   "id": "b00f65a2",
   "metadata": {},
   "outputs": [
    {
     "data": {
      "text/plain": [
       "{'verde': '#0f0'}"
      ]
     },
     "execution_count": 53,
     "metadata": {},
     "output_type": "execute_result"
    }
   ],
   "source": [
    "colores"
   ]
  },
  {
   "cell_type": "code",
   "execution_count": null,
   "id": "e9114485",
   "metadata": {},
   "outputs": [
    {
     "ename": "KeyError",
     "evalue": "'amarillo'",
     "output_type": "error",
     "traceback": [
      "\u001b[0;31m---------------------------------------------------------------------------\u001b[0m",
      "\u001b[0;31mKeyError\u001b[0m                                  Traceback (most recent call last)",
      "Cell \u001b[0;32mIn[56], line 1\u001b[0m\n\u001b[0;32m----> 1\u001b[0m \u001b[43mcolores\u001b[49m\u001b[38;5;241;43m.\u001b[39;49m\u001b[43mpop\u001b[49m\u001b[43m(\u001b[49m\u001b[38;5;124;43m\"\u001b[39;49m\u001b[38;5;124;43mamarillo\u001b[39;49m\u001b[38;5;124;43m\"\u001b[39;49m\u001b[43m)\u001b[49m\n",
      "\u001b[0;31mKeyError\u001b[0m: 'amarillo'"
     ]
    }
   ],
   "source": [
    "colores.pop(\"amarillo\") # Error sin valor predeterminado"
   ]
  },
  {
   "cell_type": "code",
   "execution_count": 57,
   "id": "ec754f0f",
   "metadata": {},
   "outputs": [
    {
     "data": {
      "text/plain": [
       "'no existe'"
      ]
     },
     "execution_count": 57,
     "metadata": {},
     "output_type": "execute_result"
    }
   ],
   "source": [
    "colores.pop(\"amarillo\", 'no existe') # Con valor predeterminado, sin error\n"
   ]
  },
  {
   "cell_type": "markdown",
   "id": "73976353",
   "metadata": {},
   "source": [
    "### `popitem()`\n",
    "🔹 Elimina y devuelve el **último par clave-valor insertado**.\n",
    "El comportamiento es ordenado (los diccionarios conservan el orden de inserción desde Python 3.7)."
   ]
  },
  {
   "cell_type": "code",
   "execution_count": 58,
   "id": "a9a85409",
   "metadata": {},
   "outputs": [
    {
     "data": {
      "text/plain": [
       "('agua', 2)"
      ]
     },
     "execution_count": 58,
     "metadata": {},
     "output_type": "execute_result"
    }
   ],
   "source": [
    "productos = {\"pan\": 1.5, \"leche\": 0.9, \"agua\": 2}\n",
    "item = productos.popitem()\n",
    "item"
   ]
  },
  {
   "cell_type": "code",
   "execution_count": 59,
   "id": "8ec7a445",
   "metadata": {},
   "outputs": [
    {
     "data": {
      "text/plain": [
       "{'pan': 1.5, 'leche': 0.9}"
      ]
     },
     "execution_count": 59,
     "metadata": {},
     "output_type": "execute_result"
    }
   ],
   "source": [
    "productos"
   ]
  },
  {
   "cell_type": "code",
   "execution_count": 60,
   "id": "5d2607f5",
   "metadata": {},
   "outputs": [
    {
     "data": {
      "text/plain": [
       "('leche', 0.9)"
      ]
     },
     "execution_count": 60,
     "metadata": {},
     "output_type": "execute_result"
    }
   ],
   "source": [
    "item = productos.popitem()\n",
    "item"
   ]
  },
  {
   "cell_type": "code",
   "execution_count": 61,
   "id": "e3299f57",
   "metadata": {},
   "outputs": [
    {
     "data": {
      "text/plain": [
       "{'pan': 1.5}"
      ]
     },
     "execution_count": 61,
     "metadata": {},
     "output_type": "execute_result"
    }
   ],
   "source": [
    "productos"
   ]
  },
  {
   "cell_type": "markdown",
   "id": "90e7fe18",
   "metadata": {},
   "source": [
    "### `sorted()`\n",
    "🔹 Ordena **las claves** del diccionario (no modifica el diccionario original).  \n",
    "Se puede usar con `keys()`, `values()` o `items()`."
   ]
  },
  {
   "cell_type": "code",
   "execution_count": 63,
   "id": "b156bd0e",
   "metadata": {},
   "outputs": [
    {
     "data": {
      "text/plain": [
       "{'pan': 1.5, 'manzana': 0.8, 'leche': 1.2}"
      ]
     },
     "execution_count": 63,
     "metadata": {},
     "output_type": "execute_result"
    }
   ],
   "source": [
    "precios = {\"pan\": 1.5, \"manzana\": 0.8, \"leche\": 1.2}\n",
    "precios"
   ]
  },
  {
   "cell_type": "code",
   "execution_count": 64,
   "id": "32f4829c",
   "metadata": {},
   "outputs": [
    {
     "data": {
      "text/plain": [
       "['leche', 'manzana', 'pan']"
      ]
     },
     "execution_count": 64,
     "metadata": {},
     "output_type": "execute_result"
    }
   ],
   "source": [
    "sorted(precios)"
   ]
  },
  {
   "cell_type": "code",
   "execution_count": 65,
   "id": "e4458c30",
   "metadata": {},
   "outputs": [
    {
     "data": {
      "text/plain": [
       "{'pan': 1.5, 'manzana': 0.8, 'leche': 1.2}"
      ]
     },
     "execution_count": 65,
     "metadata": {},
     "output_type": "execute_result"
    }
   ],
   "source": [
    "precios"
   ]
  },
  {
   "cell_type": "code",
   "execution_count": 66,
   "id": "90c998e6",
   "metadata": {},
   "outputs": [
    {
     "data": {
      "text/plain": [
       "[0.8, 1.2, 1.5]"
      ]
     },
     "execution_count": 66,
     "metadata": {},
     "output_type": "execute_result"
    }
   ],
   "source": [
    "sorted(precios.values())"
   ]
  },
  {
   "cell_type": "markdown",
   "id": "adb223ac",
   "metadata": {},
   "source": [
    "## Acceder a elementos\n"
   ]
  },
  {
   "cell_type": "code",
   "execution_count": 67,
   "id": "0bbf3428",
   "metadata": {},
   "outputs": [],
   "source": [
    "contactos = {\"Ana\": 12345, \"Luis\": 67890}\n"
   ]
  },
  {
   "cell_type": "code",
   "execution_count": 68,
   "id": "6764853a",
   "metadata": {},
   "outputs": [
    {
     "data": {
      "text/plain": [
       "12345"
      ]
     },
     "execution_count": 68,
     "metadata": {},
     "output_type": "execute_result"
    }
   ],
   "source": [
    "contactos['Ana']"
   ]
  },
  {
   "cell_type": "markdown",
   "id": "381b6f84",
   "metadata": {},
   "source": [
    "## Modificar elementos\n"
   ]
  },
  {
   "cell_type": "code",
   "execution_count": 69,
   "id": "8fda91ba",
   "metadata": {},
   "outputs": [],
   "source": [
    "contactos[\"Ana\"] = 54321  # Actualizar"
   ]
  },
  {
   "cell_type": "code",
   "execution_count": 70,
   "id": "b6725ae3",
   "metadata": {},
   "outputs": [
    {
     "data": {
      "text/plain": [
       "{'Ana': 54321, 'Luis': 67890}"
      ]
     },
     "execution_count": 70,
     "metadata": {},
     "output_type": "execute_result"
    }
   ],
   "source": [
    "contactos"
   ]
  },
  {
   "cell_type": "code",
   "execution_count": 71,
   "id": "3fe8cf06",
   "metadata": {},
   "outputs": [
    {
     "data": {
      "text/plain": [
       "{'Ana': 54321, 'Luis': 67890}"
      ]
     },
     "execution_count": 71,
     "metadata": {},
     "output_type": "execute_result"
    }
   ],
   "source": [
    "contactos"
   ]
  },
  {
   "cell_type": "code",
   "execution_count": 72,
   "id": "d587b87e",
   "metadata": {},
   "outputs": [],
   "source": [
    "contactos['Pepa'] = 78965"
   ]
  },
  {
   "cell_type": "code",
   "execution_count": 73,
   "id": "1e55e1b4",
   "metadata": {},
   "outputs": [
    {
     "data": {
      "text/plain": [
       "{'Ana': 54321, 'Luis': 67890, 'Pepa': 78965}"
      ]
     },
     "execution_count": 73,
     "metadata": {},
     "output_type": "execute_result"
    }
   ],
   "source": [
    "contactos"
   ]
  },
  {
   "cell_type": "code",
   "execution_count": 74,
   "id": "8d30b407",
   "metadata": {},
   "outputs": [
    {
     "data": {
      "text/plain": [
       "True"
      ]
     },
     "execution_count": 74,
     "metadata": {},
     "output_type": "execute_result"
    }
   ],
   "source": [
    "'Ana' in contactos"
   ]
  },
  {
   "cell_type": "code",
   "execution_count": 75,
   "id": "aa65c5f9",
   "metadata": {},
   "outputs": [
    {
     "data": {
      "text/plain": [
       "True"
      ]
     },
     "execution_count": 75,
     "metadata": {},
     "output_type": "execute_result"
    }
   ],
   "source": [
    "'Pepito' not in contactos"
   ]
  },
  {
   "cell_type": "code",
   "execution_count": 77,
   "id": "c45f8ca4",
   "metadata": {},
   "outputs": [
    {
     "data": {
      "text/plain": [
       "True"
      ]
     },
     "execution_count": 77,
     "metadata": {},
     "output_type": "execute_result"
    }
   ],
   "source": [
    "'Pepa' in contactos"
   ]
  },
  {
   "cell_type": "markdown",
   "id": "c0c005fc",
   "metadata": {},
   "source": [
    "## Diccionarios anidados"
   ]
  },
  {
   "cell_type": "code",
   "execution_count": 79,
   "id": "7b3076cc",
   "metadata": {},
   "outputs": [],
   "source": [
    "persona = {\"nombre\": \"Ana\", \"contacto\": {\"email\": \"ana@example.com\", \"telefono\": 12345}}"
   ]
  },
  {
   "cell_type": "code",
   "execution_count": 80,
   "id": "40d83844",
   "metadata": {},
   "outputs": [
    {
     "data": {
      "text/plain": [
       "dict_values(['Ana', {'email': 'ana@example.com', 'telefono': 12345}])"
      ]
     },
     "execution_count": 80,
     "metadata": {},
     "output_type": "execute_result"
    }
   ],
   "source": [
    "persona.values()"
   ]
  },
  {
   "cell_type": "code",
   "execution_count": 81,
   "id": "b9d2c980",
   "metadata": {},
   "outputs": [
    {
     "data": {
      "text/plain": [
       "'Ana'"
      ]
     },
     "execution_count": 81,
     "metadata": {},
     "output_type": "execute_result"
    }
   ],
   "source": [
    "persona['nombre']"
   ]
  },
  {
   "cell_type": "code",
   "execution_count": 84,
   "id": "fb256b4b",
   "metadata": {},
   "outputs": [
    {
     "data": {
      "text/plain": [
       "dict_keys(['nombre', 'contacto'])"
      ]
     },
     "execution_count": 84,
     "metadata": {},
     "output_type": "execute_result"
    }
   ],
   "source": [
    "persona.keys()"
   ]
  },
  {
   "cell_type": "code",
   "execution_count": 89,
   "id": "277de7f4",
   "metadata": {},
   "outputs": [
    {
     "data": {
      "text/plain": [
       "12345"
      ]
     },
     "execution_count": 89,
     "metadata": {},
     "output_type": "execute_result"
    }
   ],
   "source": [
    "persona['contacto']['telefono']"
   ]
  },
  {
   "cell_type": "markdown",
   "id": "8a017b56",
   "metadata": {},
   "source": [
    "# Parte 2: Sets en Python\n",
    "\n",
    "## ¿Qué es un set?\n",
    "Un **set** es una colección no ordenada de elementos únicos. Se define con llaves `{}` o usando `set()`."
   ]
  },
  {
   "cell_type": "code",
   "execution_count": null,
   "id": "b8cf52cc",
   "metadata": {},
   "outputs": [],
   "source": [
    "contactos = {\"Ana\": 12345, \"Luis\": 67890} # diccionario"
   ]
  },
  {
   "cell_type": "code",
   "execution_count": 96,
   "id": "5d7e4edd",
   "metadata": {},
   "outputs": [
    {
     "data": {
      "text/plain": [
       "{'banana', 'cereza', 'manzana'}"
      ]
     },
     "execution_count": 96,
     "metadata": {},
     "output_type": "execute_result"
    }
   ],
   "source": [
    "frutas = {\"manzana\", \"banana\", \"cereza\"}\n",
    "frutas"
   ]
  },
  {
   "cell_type": "code",
   "execution_count": 91,
   "id": "a377e9aa",
   "metadata": {},
   "outputs": [
    {
     "data": {
      "text/plain": [
       "set"
      ]
     },
     "execution_count": 91,
     "metadata": {},
     "output_type": "execute_result"
    }
   ],
   "source": [
    "type(frutas)"
   ]
  },
  {
   "cell_type": "markdown",
   "id": "c8600598",
   "metadata": {},
   "source": [
    "## Propiedades de los sets\n",
    "- No permiten duplicados.\n",
    "- No tienen orden. No podemos acceder a los elementos por indice.\n",
    "- Son mutables (puedes agregar y eliminar elementos).\n",
    "- Tienen métodos para realizar operaciones matemáticas como: unión, intersección, diferencia y diferencia simétrica entre conjuntos.\n",
    "- No admite elementos mutables.\n"
   ]
  },
  {
   "cell_type": "markdown",
   "id": "f4b63b3c",
   "metadata": {},
   "source": [
    "## Crear sets\n"
   ]
  },
  {
   "cell_type": "code",
   "execution_count": 97,
   "id": "8992680c",
   "metadata": {},
   "outputs": [
    {
     "data": {
      "text/plain": [
       "{1, 2, 3}"
      ]
     },
     "execution_count": 97,
     "metadata": {},
     "output_type": "execute_result"
    }
   ],
   "source": [
    "# Directamente:\n",
    "numeros = {1, 2, 3}\n",
    "numeros"
   ]
  },
  {
   "cell_type": "code",
   "execution_count": 98,
   "id": "dde93eb7",
   "metadata": {},
   "outputs": [
    {
     "name": "stdout",
     "output_type": "stream",
     "text": [
      "{1, 2, 3}\n",
      "{1, 3}\n"
     ]
    }
   ],
   "source": [
    "# Desde una lista:\n",
    "numeros = set([1, 2, 2, 3])  # {1, 2, 3}\n",
    "print(numeros)\n",
    "\n",
    "# Desde una tupla:\n",
    "numeros = set((1, 1, 3, 3))  # {1, 3}\n",
    "print(numeros)"
   ]
  },
  {
   "cell_type": "code",
   "execution_count": 99,
   "id": "c7003215",
   "metadata": {},
   "outputs": [
    {
     "data": {
      "text/plain": [
       "4"
      ]
     },
     "execution_count": 99,
     "metadata": {},
     "output_type": "execute_result"
    }
   ],
   "source": [
    "mi_set = {1, 3, 7, 'Pepito'}\n",
    "len(mi_set)"
   ]
  },
  {
   "cell_type": "code",
   "execution_count": 100,
   "id": "d00c7c82",
   "metadata": {},
   "outputs": [
    {
     "data": {
      "text/plain": [
       "True"
      ]
     },
     "execution_count": 100,
     "metadata": {},
     "output_type": "execute_result"
    }
   ],
   "source": [
    "'Pepito' in mi_set"
   ]
  },
  {
   "cell_type": "code",
   "execution_count": 101,
   "id": "0bc8940f",
   "metadata": {},
   "outputs": [
    {
     "data": {
      "text/plain": [
       "False"
      ]
     },
     "execution_count": 101,
     "metadata": {},
     "output_type": "execute_result"
    }
   ],
   "source": [
    "29 in mi_set"
   ]
  }
 ],
 "metadata": {
  "kernelspec": {
   "display_name": "Python 3",
   "language": "python",
   "name": "python3"
  },
  "language_info": {
   "codemirror_mode": {
    "name": "ipython",
    "version": 3
   },
   "file_extension": ".py",
   "mimetype": "text/x-python",
   "name": "python",
   "nbconvert_exporter": "python",
   "pygments_lexer": "ipython3",
   "version": "3.9.6"
  }
 },
 "nbformat": 4,
 "nbformat_minor": 5
}
