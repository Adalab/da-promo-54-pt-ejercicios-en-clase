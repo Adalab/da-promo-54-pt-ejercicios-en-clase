{
 "cells": [
  {
   "cell_type": "code",
   "execution_count": 32,
   "id": "0d818898",
   "metadata": {},
   "outputs": [],
   "source": [
    "# Diccionarios para almacenar productos, clientes, ventas\n",
    "productos = {}\n",
    "clientes = {}\n",
    "ventas = []"
   ]
  },
  {
   "cell_type": "code",
   "execution_count": 23,
   "id": "b824e3ad",
   "metadata": {},
   "outputs": [],
   "source": [
    "# Agrega un nuevo producto si no existe\n",
    "def agregar_producto(id_producto, nombre, precio, stock):\n",
    "    if id_producto not in productos: # verifica si el id no existe \n",
    "        productos[id_producto] = [nombre, precio, stock] # Guarda la información\n",
    "        print(f\"Producto {nombre} agregado con éxito.\")\n",
    "    else:\n",
    "        print(f\"El producto con ID {id_producto} ya existe.\")"
   ]
  },
  {
   "cell_type": "code",
   "execution_count": 52,
   "id": "62e92e92",
   "metadata": {},
   "outputs": [
    {
     "name": "stdout",
     "output_type": "stream",
     "text": [
      "Producto camisa agregado con éxito.\n"
     ]
    }
   ],
   "source": [
    "agregar_producto(1, 'camisa', 10, 5)"
   ]
  },
  {
   "cell_type": "code",
   "execution_count": 25,
   "id": "3c15027e",
   "metadata": {},
   "outputs": [
    {
     "data": {
      "text/plain": [
       "{1: ['camisa', 10, 5]}"
      ]
     },
     "execution_count": 25,
     "metadata": {},
     "output_type": "execute_result"
    }
   ],
   "source": [
    "productos"
   ]
  },
  {
   "cell_type": "code",
   "execution_count": 26,
   "id": "ed35005a",
   "metadata": {},
   "outputs": [
    {
     "name": "stdout",
     "output_type": "stream",
     "text": [
      "El producto con ID 1 ya existe.\n"
     ]
    }
   ],
   "source": [
    "agregar_producto(1, 'camisa', 10, 5)"
   ]
  },
  {
   "cell_type": "code",
   "execution_count": 27,
   "id": "75623ed5",
   "metadata": {},
   "outputs": [
    {
     "data": {
      "text/plain": [
       "{1: ['camisa', 10, 5]}"
      ]
     },
     "execution_count": 27,
     "metadata": {},
     "output_type": "execute_result"
    }
   ],
   "source": [
    "productos"
   ]
  },
  {
   "cell_type": "code",
   "execution_count": null,
   "id": "63bfa473",
   "metadata": {},
   "outputs": [],
   "source": [
    "# Elimina un producto\n",
    "def eliminar_producto(id_producto):\n",
    "    if id_producto in productos: \n",
    "        del productos[id_producto] # Elimina el producto del diccionario\n",
    "        print('Producto eliminado.')\n",
    "    else:\n",
    "        print('Producto no encontrado.')"
   ]
  },
  {
   "cell_type": "code",
   "execution_count": 29,
   "id": "e60f6cd9",
   "metadata": {},
   "outputs": [
    {
     "name": "stdout",
     "output_type": "stream",
     "text": [
      "Producto eliminado.\n"
     ]
    }
   ],
   "source": [
    "eliminar_producto(1)"
   ]
  },
  {
   "cell_type": "code",
   "execution_count": 30,
   "id": "32c3fa36",
   "metadata": {},
   "outputs": [
    {
     "data": {
      "text/plain": [
       "{}"
      ]
     },
     "execution_count": 30,
     "metadata": {},
     "output_type": "execute_result"
    }
   ],
   "source": [
    "productos"
   ]
  },
  {
   "cell_type": "code",
   "execution_count": 31,
   "id": "38022f17",
   "metadata": {},
   "outputs": [
    {
     "name": "stdout",
     "output_type": "stream",
     "text": [
      "Producto no encontrado.\n"
     ]
    }
   ],
   "source": [
    "eliminar_producto(1)"
   ]
  },
  {
   "cell_type": "code",
   "execution_count": 34,
   "id": "25cbdad0",
   "metadata": {},
   "outputs": [],
   "source": [
    "# Agregar un cliente si no existe\n",
    "def agregar_cliente(id_cliente, nombre, email):\n",
    "    if id_cliente not in clientes:\n",
    "        clientes[id_cliente] = [nombre, email] # guarda el cliente\n",
    "        print(f'Cliente {nombre} agregado con éxito.')\n",
    "    else:\n",
    "        print('cliente ya existe.')"
   ]
  },
  {
   "cell_type": "code",
   "execution_count": 35,
   "id": "31d6648f",
   "metadata": {},
   "outputs": [
    {
     "name": "stdout",
     "output_type": "stream",
     "text": [
      "Cliente Maricarmen agregado con éxito.\n"
     ]
    }
   ],
   "source": [
    "agregar_cliente(1, 'Maricarmen', 'mari@adalab.es')"
   ]
  },
  {
   "cell_type": "code",
   "execution_count": 41,
   "id": "cefaa565",
   "metadata": {},
   "outputs": [
    {
     "data": {
      "text/plain": [
       "{1: ['Maricarmen', 'mari@adalab.es'], 5: ['Pedro', 'patata']}"
      ]
     },
     "execution_count": 41,
     "metadata": {},
     "output_type": "execute_result"
    }
   ],
   "source": [
    "clientes"
   ]
  },
  {
   "cell_type": "code",
   "execution_count": 40,
   "id": "4a93bd8d",
   "metadata": {},
   "outputs": [
    {
     "name": "stdout",
     "output_type": "stream",
     "text": [
      "Cliente Pedro agregado con éxito.\n"
     ]
    }
   ],
   "source": [
    "agregar_cliente(5, 'Pedro', 'patata')"
   ]
  },
  {
   "cell_type": "code",
   "execution_count": 42,
   "id": "1f313746",
   "metadata": {},
   "outputs": [],
   "source": [
    "prod = {1: ['camisa', 10, 5]}"
   ]
  },
  {
   "cell_type": "code",
   "execution_count": 48,
   "id": "dede710c",
   "metadata": {},
   "outputs": [
    {
     "data": {
      "text/plain": [
       "5"
      ]
     },
     "execution_count": 48,
     "metadata": {},
     "output_type": "execute_result"
    }
   ],
   "source": [
    "prod[1][2]"
   ]
  },
  {
   "cell_type": "code",
   "execution_count": 50,
   "id": "dfce8d23",
   "metadata": {},
   "outputs": [],
   "source": [
    "# Realizar venta\n",
    "def realizar_venta(id_cliente, id_producto, cantidad):\n",
    "    if id_cliente in clientes and id_producto in productos:\n",
    "        # te puedo vender un producto\n",
    "        if productos[id_producto][2] >= cantidad: # verifico el stock\n",
    "            id_venta = len(ventas) + 1 # crea ID nuevo de venta\n",
    "            ventas.append((id_venta, id_cliente, id_producto, cantidad)) # guarda la venta\n",
    "            productos[id_producto][2] -= cantidad # productos[id_producto][2] = productos[id_producto][2] - cantidad > Resta del stock\n",
    "            print(f\"venta exitosa. ID venta: {id_venta}.\")\n",
    "        else:\n",
    "            print('Stock insuficiente.')\n",
    "    else:\n",
    "        print('Cliente o producto no existe')\n"
   ]
  },
  {
   "cell_type": "code",
   "execution_count": 53,
   "id": "8bd09560",
   "metadata": {},
   "outputs": [
    {
     "data": {
      "text/plain": [
       "{1: ['camisa', 10, 5]}"
      ]
     },
     "execution_count": 53,
     "metadata": {},
     "output_type": "execute_result"
    }
   ],
   "source": [
    "productos"
   ]
  },
  {
   "cell_type": "code",
   "execution_count": 54,
   "id": "dfa2e7ce",
   "metadata": {},
   "outputs": [
    {
     "data": {
      "text/plain": [
       "{1: ['Maricarmen', 'mari@adalab.es'], 5: ['Pedro', 'patata']}"
      ]
     },
     "execution_count": 54,
     "metadata": {},
     "output_type": "execute_result"
    }
   ],
   "source": [
    "clientes"
   ]
  },
  {
   "cell_type": "code",
   "execution_count": 55,
   "id": "7d9ec101",
   "metadata": {},
   "outputs": [
    {
     "name": "stdout",
     "output_type": "stream",
     "text": [
      "Cliente o producto no existe\n"
     ]
    }
   ],
   "source": [
    "realizar_venta(10, 1, 1) # id de cliente no existe"
   ]
  },
  {
   "cell_type": "code",
   "execution_count": null,
   "id": "1e763610",
   "metadata": {},
   "outputs": [
    {
     "name": "stdout",
     "output_type": "stream",
     "text": [
      "Cliente o producto no existe\n"
     ]
    }
   ],
   "source": [
    "realizar_venta(1, 10, 1) # id de producto no existe"
   ]
  },
  {
   "cell_type": "code",
   "execution_count": 57,
   "id": "9f1ce603",
   "metadata": {},
   "outputs": [
    {
     "name": "stdout",
     "output_type": "stream",
     "text": [
      "Stock insuficiente.\n"
     ]
    }
   ],
   "source": [
    "realizar_venta(1, 1, 10) # stock insuficiente"
   ]
  },
  {
   "cell_type": "code",
   "execution_count": 58,
   "id": "fefd033e",
   "metadata": {},
   "outputs": [
    {
     "name": "stdout",
     "output_type": "stream",
     "text": [
      "venta exitosa. ID venta: 1.\n"
     ]
    }
   ],
   "source": [
    "realizar_venta(1, 1, 2) # venta exitosa"
   ]
  },
  {
   "cell_type": "code",
   "execution_count": 59,
   "id": "48ff593b",
   "metadata": {},
   "outputs": [
    {
     "data": {
      "text/plain": [
       "[(1, 1, 1, 2)]"
      ]
     },
     "execution_count": 59,
     "metadata": {},
     "output_type": "execute_result"
    }
   ],
   "source": [
    "ventas"
   ]
  },
  {
   "cell_type": "code",
   "execution_count": 60,
   "id": "8d9283c2",
   "metadata": {},
   "outputs": [
    {
     "data": {
      "text/plain": [
       "{1: ['camisa', 10, 3]}"
      ]
     },
     "execution_count": 60,
     "metadata": {},
     "output_type": "execute_result"
    }
   ],
   "source": [
    "productos"
   ]
  },
  {
   "cell_type": "code",
   "execution_count": 61,
   "id": "2050abcd",
   "metadata": {},
   "outputs": [
    {
     "data": {
      "text/plain": [
       "dict_items([(1, ['camisa', 10, 3])])"
      ]
     },
     "execution_count": 61,
     "metadata": {},
     "output_type": "execute_result"
    }
   ],
   "source": [
    "productos.items()"
   ]
  },
  {
   "cell_type": "code",
   "execution_count": 62,
   "id": "d66f2176",
   "metadata": {},
   "outputs": [
    {
     "name": "stdout",
     "output_type": "stream",
     "text": [
      "1\n",
      "camisa\n",
      "10\n",
      "3\n"
     ]
    }
   ],
   "source": [
    "for k, v in productos.items():\n",
    "    print(k)\n",
    "    nombre, precio, stock = v # Desempaquetar\n",
    "    print(nombre)\n",
    "    print(precio)\n",
    "    print(stock)"
   ]
  },
  {
   "cell_type": "code",
   "execution_count": 68,
   "id": "7fcf6d6e",
   "metadata": {},
   "outputs": [],
   "source": [
    "# Genera un resumen de inventario por producto\n",
    "def obtener_inventario():\n",
    "    inventario = {}\n",
    "    for id_p, (nombre, precio, stock) in productos.items():\n",
    "        inventario[id_p] = {\n",
    "            \"Nombre\": nombre,\n",
    "            \"Precio\": precio,\n",
    "            \"Stock Disponible\": stock,\n",
    "        }\n",
    "    return inventario if inventario else \"No hay productos en el inventario.\""
   ]
  },
  {
   "cell_type": "code",
   "execution_count": 69,
   "id": "fee25f5c",
   "metadata": {},
   "outputs": [
    {
     "data": {
      "text/plain": [
       "{1: {'Nombre': 'camisa', 'Precio': 10, 'Stock Disponible': 3}}"
      ]
     },
     "execution_count": 69,
     "metadata": {},
     "output_type": "execute_result"
    }
   ],
   "source": [
    "obtener_inventario()"
   ]
  },
  {
   "cell_type": "code",
   "execution_count": 70,
   "id": "fcaafb12",
   "metadata": {},
   "outputs": [],
   "source": [
    "# Devuelve los clientes\n",
    "def obtener_clientes():\n",
    "    salida = {}\n",
    "    for id_c, (nombre, email) in clientes.items():\n",
    "        salida[id_c] = {\"Nombre\": nombre, \"Email\": email}\n",
    "    return salida"
   ]
  },
  {
   "cell_type": "code",
   "execution_count": 71,
   "id": "c839e285",
   "metadata": {},
   "outputs": [
    {
     "data": {
      "text/plain": [
       "{1: {'Nombre': 'Maricarmen', 'Email': 'mari@adalab.es'},\n",
       " 5: {'Nombre': 'Pedro', 'Email': 'patata'}}"
      ]
     },
     "execution_count": 71,
     "metadata": {},
     "output_type": "execute_result"
    }
   ],
   "source": [
    "obtener_clientes()\n"
   ]
  },
  {
   "cell_type": "code",
   "execution_count": 72,
   "id": "070f390d",
   "metadata": {},
   "outputs": [],
   "source": [
    "# Permite actualizar un producto ya registrado\n",
    "def actualizar_producto(id_producto, nombre=None, precio=None, stock=None):\n",
    "    if id_producto in productos:\n",
    "        if nombre: productos[id_producto][0] = nombre\n",
    "        if precio: productos[id_producto][1] = precio\n",
    "        if stock: productos[id_producto][2] = stock\n",
    "        print(\"Producto actualizado.\")\n",
    "    else:\n",
    "        print(\"Producto no encontrado.\")"
   ]
  },
  {
   "cell_type": "code",
   "execution_count": 73,
   "id": "09816024",
   "metadata": {},
   "outputs": [
    {
     "name": "stdout",
     "output_type": "stream",
     "text": [
      "Producto actualizado.\n"
     ]
    }
   ],
   "source": [
    "actualizar_producto(1, 'camisa', 20, 50)"
   ]
  },
  {
   "cell_type": "code",
   "execution_count": 74,
   "id": "9a36d10a",
   "metadata": {},
   "outputs": [
    {
     "data": {
      "text/plain": [
       "{1: ['camisa', 20, 50]}"
      ]
     },
     "execution_count": 74,
     "metadata": {},
     "output_type": "execute_result"
    }
   ],
   "source": [
    "productos"
   ]
  },
  {
   "cell_type": "code",
   "execution_count": 75,
   "id": "29538f8b",
   "metadata": {},
   "outputs": [
    {
     "name": "stdout",
     "output_type": "stream",
     "text": [
      "Producto no encontrado.\n"
     ]
    }
   ],
   "source": [
    "actualizar_producto(5, 'pantalon', 20, 50)"
   ]
  },
  {
   "cell_type": "code",
   "execution_count": 76,
   "id": "304a070d",
   "metadata": {},
   "outputs": [],
   "source": [
    "# Busca productos por coincidencia en el nombre\n",
    "def buscar_producto_por_nombre(nombre):\n",
    "    for id_p, p in productos.items():\n",
    "        if nombre.lower() in p[0].lower():\n",
    "            return id_p, p\n",
    "        else:\n",
    "            return \"Nombre de producto no encontrado.\""
   ]
  },
  {
   "cell_type": "code",
   "execution_count": null,
   "id": "e7588ffc",
   "metadata": {},
   "outputs": [
    {
     "data": {
      "text/plain": [
       "'Nombre de producto no encontrado.'"
      ]
     },
     "execution_count": 77,
     "metadata": {},
     "output_type": "execute_result"
    }
   ],
   "source": [
    "buscar_producto_por_nombre('pantalon')"
   ]
  },
  {
   "cell_type": "code",
   "execution_count": 78,
   "id": "ce7b9523",
   "metadata": {},
   "outputs": [
    {
     "data": {
      "text/plain": [
       "(1, ['camisa', 20, 50])"
      ]
     },
     "execution_count": 78,
     "metadata": {},
     "output_type": "execute_result"
    }
   ],
   "source": [
    "buscar_producto_por_nombre('camisa')"
   ]
  }
 ],
 "metadata": {
  "kernelspec": {
   "display_name": "base",
   "language": "python",
   "name": "python3"
  },
  "language_info": {
   "codemirror_mode": {
    "name": "ipython",
    "version": 3
   },
   "file_extension": ".py",
   "mimetype": "text/x-python",
   "name": "python",
   "nbconvert_exporter": "python",
   "pygments_lexer": "ipython3",
   "version": "3.11.9"
  }
 },
 "nbformat": 4,
 "nbformat_minor": 5
}
