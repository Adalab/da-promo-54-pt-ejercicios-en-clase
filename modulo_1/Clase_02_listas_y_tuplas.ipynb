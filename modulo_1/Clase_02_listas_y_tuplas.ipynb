{
 "cells": [
  {
   "cell_type": "markdown",
   "id": "88fcf7d8",
   "metadata": {},
   "source": [
    "# Parte 1: Listas en Python\n",
    "\n",
    "## ¿Qué es una lista?\n",
    "Una **lista** en Python es una colección ordenada y mutable de elementos. Puede contener cualquier tipo de dato (números, strings, otras listas, etc.) y se define usando corchetes `[]`, separando los elementos con comas."
   ]
  },
  {
   "cell_type": "code",
   "execution_count": 7,
   "id": "006b0120",
   "metadata": {},
   "outputs": [],
   "source": [
    "nombres = ['Laura', 'Ana', 'Pedro']"
   ]
  },
  {
   "cell_type": "code",
   "execution_count": 8,
   "id": "87021de0",
   "metadata": {},
   "outputs": [
    {
     "data": {
      "text/plain": [
       "list"
      ]
     },
     "execution_count": 8,
     "metadata": {},
     "output_type": "execute_result"
    }
   ],
   "source": [
    "type(nombres)"
   ]
  },
  {
   "cell_type": "code",
   "execution_count": 9,
   "id": "865ea030",
   "metadata": {},
   "outputs": [],
   "source": [
    "apellidos = []"
   ]
  },
  {
   "cell_type": "code",
   "execution_count": 10,
   "id": "15dafa89",
   "metadata": {},
   "outputs": [
    {
     "data": {
      "text/plain": [
       "list"
      ]
     },
     "execution_count": 10,
     "metadata": {},
     "output_type": "execute_result"
    }
   ],
   "source": [
    "type(apellidos)\n"
   ]
  },
  {
   "cell_type": "code",
   "execution_count": 11,
   "id": "c8bc48fd",
   "metadata": {},
   "outputs": [],
   "source": [
    "datos = [25, 'Madrid', 3.15, True]"
   ]
  },
  {
   "cell_type": "markdown",
   "id": "7e784c81",
   "metadata": {},
   "source": [
    "## Propiedades principales\n",
    "- **Ordenadas**: el orden de inserción se mantiene.\n",
    "- **Mutables**: Se pueden modificar después de ser creadas.\n",
    "- **Heterogéneas**: pueden contener diferentes tipos de datos."
   ]
  },
  {
   "cell_type": "markdown",
   "id": "6187c0b1",
   "metadata": {},
   "source": [
    "## Indexación y Slicing\n",
    "\n",
    "## Indexación en listas\n",
    "Los elementos de una lista se acceden por índice, empezando desde `0`.\n"
   ]
  },
  {
   "cell_type": "code",
   "execution_count": 15,
   "id": "4d9c4d6b",
   "metadata": {},
   "outputs": [
    {
     "name": "stdout",
     "output_type": "stream",
     "text": [
      "manzana\n",
      "pera\n",
      "platano\n",
      "platano\n"
     ]
    }
   ],
   "source": [
    "frutas = ['manzana', 'pera', 'platano']\n",
    "print(frutas[0])\n",
    "print(frutas[1])\n",
    "print(frutas[-1])\n",
    "print(frutas[2])\n"
   ]
  },
  {
   "cell_type": "code",
   "execution_count": 17,
   "id": "8ab3eee7",
   "metadata": {},
   "outputs": [],
   "source": [
    "frutas[0] = 'melón'"
   ]
  },
  {
   "cell_type": "code",
   "execution_count": 18,
   "id": "65516c22",
   "metadata": {},
   "outputs": [
    {
     "data": {
      "text/plain": [
       "['melón', 'pera', 'platano']"
      ]
     },
     "execution_count": 18,
     "metadata": {},
     "output_type": "execute_result"
    }
   ],
   "source": [
    "frutas"
   ]
  },
  {
   "cell_type": "markdown",
   "id": "34c7c6bd",
   "metadata": {},
   "source": [
    "## Slicing (rebanado de listas)\n",
    "Permite obtener sublistas usando el formato `lista[inicio:fin:paso]`."
   ]
  },
  {
   "cell_type": "code",
   "execution_count": null,
   "id": "ac0d5c1e",
   "metadata": {},
   "outputs": [
    {
     "name": "stdout",
     "output_type": "stream",
     "text": [
      "[2, 3, 4, 5]\n",
      "[0, 1, 2, 3]\n"
     ]
    }
   ],
   "source": [
    "numeros = [0, 1, 2, 3, 4, 5, 6, 7, 8, 9]\n",
    "\n",
    "print(numeros[2:6])\n",
    "print(numeros[:4]) # [0:4] = [:4]"
   ]
  },
  {
   "cell_type": "code",
   "execution_count": null,
   "id": "4bcd3c90",
   "metadata": {},
   "outputs": [
    {
     "name": "stdout",
     "output_type": "stream",
     "text": [
      "[5, 6, 7, 8, 9]\n"
     ]
    }
   ],
   "source": [
    "print(numeros[5:])"
   ]
  },
  {
   "cell_type": "code",
   "execution_count": 192,
   "id": "f03147d6",
   "metadata": {},
   "outputs": [
    {
     "data": {
      "text/plain": [
       "[6, 7, 8, 9]"
      ]
     },
     "execution_count": 192,
     "metadata": {},
     "output_type": "execute_result"
    }
   ],
   "source": [
    "numeros[6:20]"
   ]
  },
  {
   "cell_type": "code",
   "execution_count": null,
   "id": "657cb916",
   "metadata": {},
   "outputs": [
    {
     "ename": "IndexError",
     "evalue": "list index out of range",
     "output_type": "error",
     "traceback": [
      "\u001b[0;31m---------------------------------------------------------------------------\u001b[0m",
      "\u001b[0;31mIndexError\u001b[0m                                Traceback (most recent call last)",
      "Cell \u001b[0;32mIn[193], line 1\u001b[0m\n\u001b[0;32m----> 1\u001b[0m \u001b[43mnumeros\u001b[49m\u001b[43m[\u001b[49m\u001b[38;5;241;43m20\u001b[39;49m\u001b[43m]\u001b[49m\n",
      "\u001b[0;31mIndexError\u001b[0m: list index out of range"
     ]
    }
   ],
   "source": [
    "numeros[20] # El indice 20 no existe > IndexError"
   ]
  },
  {
   "cell_type": "markdown",
   "id": "3d011048",
   "metadata": {},
   "source": [
    "## 🧠 ¿Por qué el slicing no lanza error si el índice está fuera del rango?\n",
    "\n",
    "Cuando haces slicing en una lista, como:\n",
    "\n",
    "```python\n",
    "numeros = [0, 1, 2, 3, 4, 5, 6, 7, 8, 9]\n",
    "print(numeros[6:20])\n",
    "```\n",
    "\n",
    "Python **no lanza un error**, incluso aunque el índice `20` **no exista**.  \n",
    "Esto es porque el slicing (`[:]`) en Python es **tolerante**: simplemente devuelve **hasta donde pueda**.\n",
    "\n",
    "---\n",
    "\n",
    "### ✅ ¿Qué devuelve?\n",
    "```python\n",
    "[6, 7, 8, 9]\n",
    "```\n",
    "Python empieza en el índice 6 y sigue **hasta el final**, sin quejarse por el 20.\n",
    "\n",
    "---\n",
    "\n",
    "### ❌ Pero si haces acceso directo:\n",
    "\n",
    "```python\n",
    "print(numeros[20])  # Esto sí lanza IndexError\n",
    "```\n",
    "\n",
    "Porque aquí le estás diciendo:  \n",
    "> “Dame exactamente el elemento en la posición 20”  \n",
    "Y como no existe, **lanza error**."
   ]
  },
  {
   "cell_type": "code",
   "execution_count": 32,
   "id": "0a2a38b6",
   "metadata": {},
   "outputs": [
    {
     "name": "stdout",
     "output_type": "stream",
     "text": [
      "[0, 2, 4, 6, 8]\n"
     ]
    }
   ],
   "source": [
    "print(numeros[::2])"
   ]
  },
  {
   "cell_type": "code",
   "execution_count": 33,
   "id": "e4695cbd",
   "metadata": {},
   "outputs": [
    {
     "name": "stdout",
     "output_type": "stream",
     "text": [
      "[9, 8, 7, 6, 5, 4, 3, 2, 1, 0]\n"
     ]
    }
   ],
   "source": [
    "print(numeros[::-1])"
   ]
  },
  {
   "cell_type": "code",
   "execution_count": null,
   "id": "84ffb031",
   "metadata": {},
   "outputs": [],
   "source": []
  },
  {
   "cell_type": "code",
   "execution_count": 34,
   "id": "7540913d",
   "metadata": {},
   "outputs": [
    {
     "name": "stdout",
     "output_type": "stream",
     "text": [
      "10\n"
     ]
    }
   ],
   "source": [
    "# Usando len()\n",
    "print(len(numeros))"
   ]
  },
  {
   "cell_type": "code",
   "execution_count": 37,
   "id": "949760d5",
   "metadata": {},
   "outputs": [
    {
     "data": {
      "text/plain": [
       "5"
      ]
     },
     "execution_count": 37,
     "metadata": {},
     "output_type": "execute_result"
    }
   ],
   "source": [
    "len('María')"
   ]
  },
  {
   "cell_type": "code",
   "execution_count": 35,
   "id": "537decaa",
   "metadata": {},
   "outputs": [
    {
     "name": "stdout",
     "output_type": "stream",
     "text": [
      "9\n"
     ]
    }
   ],
   "source": [
    "# Usando max()\n",
    "print(max(numeros))"
   ]
  },
  {
   "cell_type": "code",
   "execution_count": 36,
   "id": "bfa5b474",
   "metadata": {},
   "outputs": [
    {
     "name": "stdout",
     "output_type": "stream",
     "text": [
      "0\n"
     ]
    }
   ],
   "source": [
    "# Usando min()\n",
    "print(min(numeros))"
   ]
  },
  {
   "cell_type": "markdown",
   "id": "6da7ff50",
   "metadata": {},
   "source": [
    "## 🔍 El operador `in` y `not in`\n",
    "\n",
    "En Python, `in` y `not in` se usan para comprobar **si un elemento está (o no está)** dentro de una lista (o cualquier otra colección).\n",
    "\n",
    "### ✅ `in`\n",
    "Devuelve `True` si el elemento **está** en la lista."
   ]
  },
  {
   "cell_type": "code",
   "execution_count": 38,
   "id": "6a876dc2",
   "metadata": {},
   "outputs": [
    {
     "data": {
      "text/plain": [
       "['melón', 'pera', 'platano']"
      ]
     },
     "execution_count": 38,
     "metadata": {},
     "output_type": "execute_result"
    }
   ],
   "source": [
    "frutas"
   ]
  },
  {
   "cell_type": "code",
   "execution_count": 39,
   "id": "cec7e352",
   "metadata": {},
   "outputs": [
    {
     "data": {
      "text/plain": [
       "False"
      ]
     },
     "execution_count": 39,
     "metadata": {},
     "output_type": "execute_result"
    }
   ],
   "source": [
    "'manzana' in frutas"
   ]
  },
  {
   "cell_type": "code",
   "execution_count": 40,
   "id": "57f9fe1f",
   "metadata": {},
   "outputs": [
    {
     "data": {
      "text/plain": [
       "True"
      ]
     },
     "execution_count": 40,
     "metadata": {},
     "output_type": "execute_result"
    }
   ],
   "source": [
    "'pera' in frutas"
   ]
  },
  {
   "cell_type": "code",
   "execution_count": 41,
   "id": "7cc333fe",
   "metadata": {},
   "outputs": [
    {
     "data": {
      "text/plain": [
       "True"
      ]
     },
     "execution_count": 41,
     "metadata": {},
     "output_type": "execute_result"
    }
   ],
   "source": [
    "'manzana' not in frutas"
   ]
  },
  {
   "cell_type": "markdown",
   "id": "53bdc8a3",
   "metadata": {},
   "source": [
    "## Métodos comunes de listas\n",
    "\n",
    "- `append(x)`: Añade `x` al final.\n",
    "- `insert(i, x)`: Inserta `x` en la posición `i`.\n",
    "- `remove(x)`: Elimina la primera aparición de `x`.\n",
    "- `pop([i])`: Elimina y devuelve el elemento en `i` (o el último si no se indica).\n",
    "- `clear()`: Elimina todos los elementos.\n",
    "- `copy()`: Devuelve una copia superficial.\n",
    "- `count(x)`: Cuenta las apariciones de `x`.\n",
    "- `index(x)`: Devuelve la posición de la primera aparición de `x`.\n",
    "- `reverse()`: Invierte los elementos. (modifica la original)\n",
    "- `sort()`: Ordena la lista (modifica la original).\n",
    "- `sorted(lista)`: Devuelve una nueva lista ordenada, sin modificar la original.\n",
    "- `extend(iterable)`: Agrega los elementos de un iterable."
   ]
  },
  {
   "cell_type": "code",
   "execution_count": 63,
   "id": "0f4f7ac0",
   "metadata": {},
   "outputs": [],
   "source": [
    "lista = [3, 1, 4, 1, 5]"
   ]
  },
  {
   "cell_type": "code",
   "execution_count": 51,
   "id": "7be29882",
   "metadata": {},
   "outputs": [
    {
     "data": {
      "text/plain": [
       "[3, 1, 4, 1, 5, 9]"
      ]
     },
     "execution_count": 51,
     "metadata": {},
     "output_type": "execute_result"
    }
   ],
   "source": [
    "lista.append(9)\n",
    "lista"
   ]
  },
  {
   "cell_type": "code",
   "execution_count": 52,
   "id": "da96f545",
   "metadata": {},
   "outputs": [
    {
     "data": {
      "text/plain": [
       "[3, 1, 7, 4, 1, 5, 9]"
      ]
     },
     "execution_count": 52,
     "metadata": {},
     "output_type": "execute_result"
    }
   ],
   "source": [
    "lista.insert(2, 7)\n",
    "lista"
   ]
  },
  {
   "cell_type": "code",
   "execution_count": 53,
   "id": "10779b92",
   "metadata": {},
   "outputs": [
    {
     "data": {
      "text/plain": [
       "[3, 7, 4, 1, 5, 9]"
      ]
     },
     "execution_count": 53,
     "metadata": {},
     "output_type": "execute_result"
    }
   ],
   "source": [
    "lista.remove(1)\n",
    "lista"
   ]
  },
  {
   "cell_type": "code",
   "execution_count": 54,
   "id": "bcf81e74",
   "metadata": {},
   "outputs": [
    {
     "data": {
      "text/plain": [
       "[3, 7, 4, 1, 5, 9]"
      ]
     },
     "execution_count": 54,
     "metadata": {},
     "output_type": "execute_result"
    }
   ],
   "source": [
    "lista"
   ]
  },
  {
   "cell_type": "code",
   "execution_count": 58,
   "id": "d333e71c",
   "metadata": {},
   "outputs": [
    {
     "data": {
      "text/plain": [
       "5"
      ]
     },
     "execution_count": 58,
     "metadata": {},
     "output_type": "execute_result"
    }
   ],
   "source": [
    "len(lista)"
   ]
  },
  {
   "cell_type": "code",
   "execution_count": 61,
   "id": "d5750685",
   "metadata": {},
   "outputs": [
    {
     "data": {
      "text/plain": [
       "7"
      ]
     },
     "execution_count": 61,
     "metadata": {},
     "output_type": "execute_result"
    }
   ],
   "source": [
    "lista.pop(1)"
   ]
  },
  {
   "cell_type": "code",
   "execution_count": 69,
   "id": "abd41178",
   "metadata": {},
   "outputs": [
    {
     "data": {
      "text/plain": [
       "[3, 1, 4, 1, 5]"
      ]
     },
     "execution_count": 69,
     "metadata": {},
     "output_type": "execute_result"
    }
   ],
   "source": [
    "lista"
   ]
  },
  {
   "cell_type": "code",
   "execution_count": 70,
   "id": "244c64bf",
   "metadata": {},
   "outputs": [],
   "source": [
    "lista.clear()"
   ]
  },
  {
   "cell_type": "code",
   "execution_count": 74,
   "id": "76577681",
   "metadata": {},
   "outputs": [
    {
     "data": {
      "text/plain": [
       "[]"
      ]
     },
     "execution_count": 74,
     "metadata": {},
     "output_type": "execute_result"
    }
   ],
   "source": [
    "lista"
   ]
  },
  {
   "cell_type": "code",
   "execution_count": 85,
   "id": "45b060e0",
   "metadata": {},
   "outputs": [],
   "source": [
    "lista = [3, 1, 4, 1, 5, 9]"
   ]
  },
  {
   "cell_type": "code",
   "execution_count": 76,
   "id": "31939afe",
   "metadata": {},
   "outputs": [],
   "source": [
    "lista_copia = lista.copy()"
   ]
  },
  {
   "cell_type": "code",
   "execution_count": 77,
   "id": "65e06567",
   "metadata": {},
   "outputs": [
    {
     "data": {
      "text/plain": [
       "[3, 1, 4, 1, 5, 9]"
      ]
     },
     "execution_count": 77,
     "metadata": {},
     "output_type": "execute_result"
    }
   ],
   "source": [
    "lista_copia"
   ]
  },
  {
   "cell_type": "code",
   "execution_count": 79,
   "id": "745e31bf",
   "metadata": {},
   "outputs": [
    {
     "data": {
      "text/plain": [
       "2"
      ]
     },
     "execution_count": 79,
     "metadata": {},
     "output_type": "execute_result"
    }
   ],
   "source": [
    "lista.count(1)"
   ]
  },
  {
   "cell_type": "code",
   "execution_count": 81,
   "id": "a628d922",
   "metadata": {},
   "outputs": [
    {
     "data": {
      "text/plain": [
       "5"
      ]
     },
     "execution_count": 81,
     "metadata": {},
     "output_type": "execute_result"
    }
   ],
   "source": [
    "lista.index(9)"
   ]
  },
  {
   "cell_type": "code",
   "execution_count": 86,
   "id": "d8d82c00",
   "metadata": {},
   "outputs": [
    {
     "data": {
      "text/plain": [
       "[3, 1, 4, 1, 5, 9]"
      ]
     },
     "execution_count": 86,
     "metadata": {},
     "output_type": "execute_result"
    }
   ],
   "source": [
    "lista"
   ]
  },
  {
   "cell_type": "code",
   "execution_count": null,
   "id": "f64d849f",
   "metadata": {},
   "outputs": [],
   "source": [
    "lista_reves = lista.reverse()"
   ]
  },
  {
   "cell_type": "code",
   "execution_count": 89,
   "id": "c9414e1f",
   "metadata": {},
   "outputs": [],
   "source": [
    "lista_reves"
   ]
  },
  {
   "cell_type": "code",
   "execution_count": 90,
   "id": "9e218a6c",
   "metadata": {},
   "outputs": [
    {
     "data": {
      "text/plain": [
       "[9, 5, 1, 4, 1, 3]"
      ]
     },
     "execution_count": 90,
     "metadata": {},
     "output_type": "execute_result"
    }
   ],
   "source": [
    "lista"
   ]
  },
  {
   "cell_type": "code",
   "execution_count": 93,
   "id": "8c08c61a",
   "metadata": {},
   "outputs": [
    {
     "data": {
      "text/plain": [
       "[3, 1, 4, 1, 5, 9]"
      ]
     },
     "execution_count": 93,
     "metadata": {},
     "output_type": "execute_result"
    }
   ],
   "source": [
    "lista_reves = lista[::-1]\n",
    "lista_reves"
   ]
  },
  {
   "cell_type": "code",
   "execution_count": 94,
   "id": "416ccc19",
   "metadata": {},
   "outputs": [
    {
     "data": {
      "text/plain": [
       "[9, 5, 1, 4, 1, 3]"
      ]
     },
     "execution_count": 94,
     "metadata": {},
     "output_type": "execute_result"
    }
   ],
   "source": [
    "lista"
   ]
  },
  {
   "cell_type": "code",
   "execution_count": 95,
   "id": "f024c65b",
   "metadata": {},
   "outputs": [
    {
     "data": {
      "text/plain": [
       "[1, 1, 3, 4, 5, 9]"
      ]
     },
     "execution_count": 95,
     "metadata": {},
     "output_type": "execute_result"
    }
   ],
   "source": [
    "lista.sort()\n",
    "lista"
   ]
  },
  {
   "cell_type": "code",
   "execution_count": 96,
   "id": "f9692a78",
   "metadata": {},
   "outputs": [],
   "source": [
    "lista = [5, 2, 8, 1]"
   ]
  },
  {
   "cell_type": "code",
   "execution_count": 97,
   "id": "84efcc65",
   "metadata": {},
   "outputs": [
    {
     "data": {
      "text/plain": [
       "[5, 2, 8, 1]"
      ]
     },
     "execution_count": 97,
     "metadata": {},
     "output_type": "execute_result"
    }
   ],
   "source": [
    "lista"
   ]
  },
  {
   "cell_type": "code",
   "execution_count": 98,
   "id": "72788a89",
   "metadata": {},
   "outputs": [
    {
     "data": {
      "text/plain": [
       "[1, 2, 5, 8]"
      ]
     },
     "execution_count": 98,
     "metadata": {},
     "output_type": "execute_result"
    }
   ],
   "source": [
    "nueva_lista = sorted(lista)\n",
    "nueva_lista"
   ]
  },
  {
   "cell_type": "code",
   "execution_count": 99,
   "id": "e6a0e6d9",
   "metadata": {},
   "outputs": [
    {
     "data": {
      "text/plain": [
       "[5, 2, 8, 1]"
      ]
     },
     "execution_count": 99,
     "metadata": {},
     "output_type": "execute_result"
    }
   ],
   "source": [
    "lista"
   ]
  },
  {
   "cell_type": "markdown",
   "id": "2483cd95",
   "metadata": {},
   "source": [
    "### Diferencia entre `sort()` y `sorted()`\n",
    "- `sort()`: ordena y modifica la lista original.\n",
    "- `sorted()`: devuelve una nueva lista ordenada sin modificar la original."
   ]
  },
  {
   "cell_type": "code",
   "execution_count": 103,
   "id": "5504a495",
   "metadata": {},
   "outputs": [],
   "source": [
    "lista = [1, 2, 3, 1.50, 5.75]"
   ]
  },
  {
   "cell_type": "code",
   "execution_count": 104,
   "id": "3798174e",
   "metadata": {},
   "outputs": [
    {
     "data": {
      "text/plain": [
       "[1, 2, 3, 1.5, 5.75]"
      ]
     },
     "execution_count": 104,
     "metadata": {},
     "output_type": "execute_result"
    }
   ],
   "source": [
    "lista"
   ]
  },
  {
   "cell_type": "code",
   "execution_count": 105,
   "id": "7d2e9c69",
   "metadata": {},
   "outputs": [],
   "source": [
    "lista.sort()"
   ]
  },
  {
   "cell_type": "code",
   "execution_count": 106,
   "id": "6ce65129",
   "metadata": {},
   "outputs": [
    {
     "data": {
      "text/plain": [
       "[1, 1.5, 2, 3, 5.75]"
      ]
     },
     "execution_count": 106,
     "metadata": {},
     "output_type": "execute_result"
    }
   ],
   "source": [
    "lista"
   ]
  },
  {
   "cell_type": "code",
   "execution_count": 107,
   "id": "31e0db9d",
   "metadata": {},
   "outputs": [
    {
     "data": {
      "text/plain": [
       "['Laura', 'Ana', 'Pedro']"
      ]
     },
     "execution_count": 107,
     "metadata": {},
     "output_type": "execute_result"
    }
   ],
   "source": [
    "nombres"
   ]
  },
  {
   "cell_type": "code",
   "execution_count": 108,
   "id": "5e94bd60",
   "metadata": {},
   "outputs": [
    {
     "data": {
      "text/plain": [
       "['Ana', 'Laura', 'Pedro']"
      ]
     },
     "execution_count": 108,
     "metadata": {},
     "output_type": "execute_result"
    }
   ],
   "source": [
    "nombres.sort()\n",
    "nombres"
   ]
  },
  {
   "cell_type": "code",
   "execution_count": 109,
   "id": "bcfe0801",
   "metadata": {},
   "outputs": [
    {
     "data": {
      "text/plain": [
       "[1, 1.5, 2, 3, 5.75]"
      ]
     },
     "execution_count": 109,
     "metadata": {},
     "output_type": "execute_result"
    }
   ],
   "source": [
    "lista"
   ]
  },
  {
   "cell_type": "code",
   "execution_count": 114,
   "id": "ff14b1b7",
   "metadata": {},
   "outputs": [],
   "source": [
    "lista.extend([10, 30, 50, 40, 3, 6, 7.8])"
   ]
  },
  {
   "cell_type": "code",
   "execution_count": 115,
   "id": "dfb16f23",
   "metadata": {},
   "outputs": [
    {
     "data": {
      "text/plain": [
       "[1, 1.5, 2, 3, 5.75, 10, 30, 10, 30, 50, 40, 3, 6, 7.8]"
      ]
     },
     "execution_count": 115,
     "metadata": {},
     "output_type": "execute_result"
    }
   ],
   "source": [
    "lista"
   ]
  },
  {
   "cell_type": "markdown",
   "id": "e3493cb0",
   "metadata": {},
   "source": [
    "## Errores comunes en listas\n",
    "- **IndexError**: Intentar acceder a un índice que no existe.\n",
    "- **ValueError**: Intentar eliminar un elemento que no está en la lista."
   ]
  },
  {
   "cell_type": "code",
   "execution_count": 116,
   "id": "520a4108",
   "metadata": {},
   "outputs": [
    {
     "ename": "IndexError",
     "evalue": "list index out of range",
     "output_type": "error",
     "traceback": [
      "\u001b[0;31m---------------------------------------------------------------------------\u001b[0m",
      "\u001b[0;31mIndexError\u001b[0m                                Traceback (most recent call last)",
      "Cell \u001b[0;32mIn[116], line 2\u001b[0m\n\u001b[1;32m      1\u001b[0m numeros \u001b[38;5;241m=\u001b[39m [\u001b[38;5;241m10\u001b[39m, \u001b[38;5;241m20\u001b[39m, \u001b[38;5;241m30\u001b[39m]\n\u001b[0;32m----> 2\u001b[0m \u001b[43mnumeros\u001b[49m\u001b[43m[\u001b[49m\u001b[38;5;241;43m5\u001b[39;49m\u001b[43m]\u001b[49m\n",
      "\u001b[0;31mIndexError\u001b[0m: list index out of range"
     ]
    }
   ],
   "source": [
    "numeros = [10, 20, 30]\n",
    "numeros[5]"
   ]
  },
  {
   "cell_type": "code",
   "execution_count": 117,
   "id": "78ec39a7",
   "metadata": {},
   "outputs": [
    {
     "ename": "ValueError",
     "evalue": "list.remove(x): x not in list",
     "output_type": "error",
     "traceback": [
      "\u001b[0;31m---------------------------------------------------------------------------\u001b[0m",
      "\u001b[0;31mValueError\u001b[0m                                Traceback (most recent call last)",
      "Cell \u001b[0;32mIn[117], line 2\u001b[0m\n\u001b[1;32m      1\u001b[0m nombres \u001b[38;5;241m=\u001b[39m [\u001b[38;5;124m\"\u001b[39m\u001b[38;5;124mAna\u001b[39m\u001b[38;5;124m\"\u001b[39m, \u001b[38;5;124m\"\u001b[39m\u001b[38;5;124mLuis\u001b[39m\u001b[38;5;124m\"\u001b[39m, \u001b[38;5;124m\"\u001b[39m\u001b[38;5;124mMarta\u001b[39m\u001b[38;5;124m\"\u001b[39m]\n\u001b[0;32m----> 2\u001b[0m \u001b[43mnombres\u001b[49m\u001b[38;5;241;43m.\u001b[39;49m\u001b[43mremove\u001b[49m\u001b[43m(\u001b[49m\u001b[38;5;124;43m'\u001b[39;49m\u001b[38;5;124;43mPedro\u001b[39;49m\u001b[38;5;124;43m'\u001b[39;49m\u001b[43m)\u001b[49m\n",
      "\u001b[0;31mValueError\u001b[0m: list.remove(x): x not in list"
     ]
    }
   ],
   "source": [
    "nombres = [\"Ana\", \"Luis\", \"Marta\"]\n",
    "nombres.remove('Pedro')"
   ]
  },
  {
   "cell_type": "markdown",
   "id": "c9d66de9",
   "metadata": {},
   "source": [
    "# Parte 2: Tuplas en Python\n",
    "\n",
    "## ¿Qué es una tupla?\n",
    "Una **tupla** es una colección ordenada e inmutable. Se define con paréntesis `()`.\n",
    "Las tuplas se utilizan para representar datos que no deben cambiarse, como los días de la semana, los meses del año, etc. Además, las tuplas se pueden utilizar en situaciones en las que se desea garantizar que los datos no cambien accidentalmente.\n"
   ]
  },
  {
   "cell_type": "code",
   "execution_count": 118,
   "id": "11d151a6",
   "metadata": {},
   "outputs": [],
   "source": [
    "tupla = ('Lola', 'Pepa', 'Marta')"
   ]
  },
  {
   "cell_type": "code",
   "execution_count": 119,
   "id": "3c75cfaa",
   "metadata": {},
   "outputs": [
    {
     "data": {
      "text/plain": [
       "tuple"
      ]
     },
     "execution_count": 119,
     "metadata": {},
     "output_type": "execute_result"
    }
   ],
   "source": [
    "type(tupla)"
   ]
  },
  {
   "cell_type": "markdown",
   "id": "0a743213",
   "metadata": {},
   "source": [
    "## Propiedades principales\n",
    "- **Ordenadas**.\n",
    "- **Inmutables**.\n",
    "- **Heterogéneas**.\n",
    "- `Eficiencia`: Las tuplas son más eficientes que las listas para operaciones de lectura de elementos, ya que no necesitan ser modificadas.\n"
   ]
  },
  {
   "cell_type": "code",
   "execution_count": 130,
   "id": "87c517e4",
   "metadata": {},
   "outputs": [],
   "source": [
    "tupla = (5,)"
   ]
  },
  {
   "cell_type": "code",
   "execution_count": 129,
   "id": "56853b0a",
   "metadata": {},
   "outputs": [
    {
     "data": {
      "text/plain": [
       "tuple"
      ]
     },
     "execution_count": 129,
     "metadata": {},
     "output_type": "execute_result"
    }
   ],
   "source": [
    "type(tupla)"
   ]
  },
  {
   "cell_type": "code",
   "execution_count": 143,
   "id": "9260a358",
   "metadata": {},
   "outputs": [],
   "source": [
    "tupla_solitario = 10,"
   ]
  },
  {
   "cell_type": "code",
   "execution_count": 144,
   "id": "433c5129",
   "metadata": {},
   "outputs": [
    {
     "data": {
      "text/plain": [
       "tuple"
      ]
     },
     "execution_count": 144,
     "metadata": {},
     "output_type": "execute_result"
    }
   ],
   "source": [
    "type(tupla_solitario)\n"
   ]
  },
  {
   "cell_type": "code",
   "execution_count": 147,
   "id": "1ed0e6de",
   "metadata": {},
   "outputs": [],
   "source": [
    "tupla = 1, 2, 'Ana', True"
   ]
  },
  {
   "cell_type": "code",
   "execution_count": 148,
   "id": "759684e5",
   "metadata": {},
   "outputs": [
    {
     "data": {
      "text/plain": [
       "tuple"
      ]
     },
     "execution_count": 148,
     "metadata": {},
     "output_type": "execute_result"
    }
   ],
   "source": [
    "type(tupla)"
   ]
  },
  {
   "cell_type": "markdown",
   "id": "86cdeb56",
   "metadata": {},
   "source": [
    "## Indexación y Slicing en tuplas\n",
    "Igual que las listas:"
   ]
  },
  {
   "cell_type": "code",
   "execution_count": 149,
   "id": "37da2e07",
   "metadata": {},
   "outputs": [],
   "source": [
    "letras = (\"A\", \"B\", \"C\", \"D\", \"E\", \"F\", \"G\", \"H\", \"I\")"
   ]
  },
  {
   "cell_type": "code",
   "execution_count": 150,
   "id": "d1ce66cc",
   "metadata": {},
   "outputs": [
    {
     "data": {
      "text/plain": [
       "'B'"
      ]
     },
     "execution_count": 150,
     "metadata": {},
     "output_type": "execute_result"
    }
   ],
   "source": [
    "letras[1]"
   ]
  },
  {
   "cell_type": "code",
   "execution_count": 151,
   "id": "8deaa261",
   "metadata": {},
   "outputs": [
    {
     "data": {
      "text/plain": [
       "('A', 'B')"
      ]
     },
     "execution_count": 151,
     "metadata": {},
     "output_type": "execute_result"
    }
   ],
   "source": [
    "letras[:2]"
   ]
  },
  {
   "cell_type": "code",
   "execution_count": 154,
   "id": "c2805744",
   "metadata": {},
   "outputs": [
    {
     "data": {
      "text/plain": [
       "('A', 'B')"
      ]
     },
     "execution_count": 154,
     "metadata": {},
     "output_type": "execute_result"
    }
   ],
   "source": [
    "letras[:-7]"
   ]
  },
  {
   "cell_type": "code",
   "execution_count": null,
   "id": "8e70c33d",
   "metadata": {},
   "outputs": [],
   "source": [
    "letras = (\"A\", \"B\", \"C\", \"D\", \"E\", \"F\", \"G\", \"H\", \"I\")"
   ]
  },
  {
   "cell_type": "code",
   "execution_count": 155,
   "id": "e1ed6fe6",
   "metadata": {},
   "outputs": [
    {
     "data": {
      "text/plain": [
       "('B', 'C')"
      ]
     },
     "execution_count": 155,
     "metadata": {},
     "output_type": "execute_result"
    }
   ],
   "source": [
    "letras[1:3]"
   ]
  },
  {
   "cell_type": "code",
   "execution_count": 156,
   "id": "e0b79ea1",
   "metadata": {},
   "outputs": [
    {
     "data": {
      "text/plain": [
       "('H', 'I')"
      ]
     },
     "execution_count": 156,
     "metadata": {},
     "output_type": "execute_result"
    }
   ],
   "source": [
    "letras[-2:]"
   ]
  },
  {
   "cell_type": "markdown",
   "id": "702fd66e",
   "metadata": {},
   "source": [
    "## Métodos de tuplas\n",
    "- `count(x)`: Cuenta ocurrencias de `x`.\n",
    "- `index(x)`: Devuelve el índice de `x`.\n",
    "\n",
    "Otros métodos indirectos (trabajando con funciones externas):\n",
    "- `len(tupla)`: Devuelve el número de elementos.\n",
    "- `sorted(tupla)`: Ordena temporalmente (devuelve lista).\n"
   ]
  },
  {
   "cell_type": "code",
   "execution_count": 157,
   "id": "94cbe9d4",
   "metadata": {},
   "outputs": [],
   "source": [
    "letras = (\"a\", \"b\", \"a\", \"c\", \"y\")"
   ]
  },
  {
   "cell_type": "code",
   "execution_count": 158,
   "id": "688cd287",
   "metadata": {},
   "outputs": [
    {
     "data": {
      "text/plain": [
       "2"
      ]
     },
     "execution_count": 158,
     "metadata": {},
     "output_type": "execute_result"
    }
   ],
   "source": [
    "letras.count('a')"
   ]
  },
  {
   "cell_type": "code",
   "execution_count": 160,
   "id": "17890ffc",
   "metadata": {},
   "outputs": [
    {
     "data": {
      "text/plain": [
       "4"
      ]
     },
     "execution_count": 160,
     "metadata": {},
     "output_type": "execute_result"
    }
   ],
   "source": [
    "letras.index('y')"
   ]
  },
  {
   "cell_type": "code",
   "execution_count": 161,
   "id": "ab6567b6",
   "metadata": {},
   "outputs": [
    {
     "data": {
      "text/plain": [
       "5"
      ]
     },
     "execution_count": 161,
     "metadata": {},
     "output_type": "execute_result"
    }
   ],
   "source": [
    "len(letras)"
   ]
  },
  {
   "cell_type": "code",
   "execution_count": 162,
   "id": "b8881a40",
   "metadata": {},
   "outputs": [
    {
     "data": {
      "text/plain": [
       "'y'"
      ]
     },
     "execution_count": 162,
     "metadata": {},
     "output_type": "execute_result"
    }
   ],
   "source": [
    "max(letras)"
   ]
  },
  {
   "cell_type": "code",
   "execution_count": 163,
   "id": "9d412b53",
   "metadata": {},
   "outputs": [
    {
     "data": {
      "text/plain": [
       "'a'"
      ]
     },
     "execution_count": 163,
     "metadata": {},
     "output_type": "execute_result"
    }
   ],
   "source": [
    "min(letras)"
   ]
  },
  {
   "cell_type": "code",
   "execution_count": 164,
   "id": "1bb2ece4",
   "metadata": {},
   "outputs": [
    {
     "data": {
      "text/plain": [
       "('a', 'b', 'a', 'c', 'y')"
      ]
     },
     "execution_count": 164,
     "metadata": {},
     "output_type": "execute_result"
    }
   ],
   "source": [
    "letras"
   ]
  },
  {
   "cell_type": "code",
   "execution_count": 165,
   "id": "c7083047",
   "metadata": {},
   "outputs": [
    {
     "data": {
      "text/plain": [
       "['a', 'a', 'b', 'c', 'y']"
      ]
     },
     "execution_count": 165,
     "metadata": {},
     "output_type": "execute_result"
    }
   ],
   "source": [
    "sorted(letras)"
   ]
  },
  {
   "cell_type": "markdown",
   "id": "5420ff4b",
   "metadata": {},
   "source": [
    "## Errores comunes en tuplas\n",
    "- Intentar modificar sus elementos genera un **TypeError**:"
   ]
  },
  {
   "cell_type": "code",
   "execution_count": 167,
   "id": "585be3b1",
   "metadata": {},
   "outputs": [
    {
     "ename": "TypeError",
     "evalue": "'tuple' object does not support item assignment",
     "output_type": "error",
     "traceback": [
      "\u001b[0;31m---------------------------------------------------------------------------\u001b[0m",
      "\u001b[0;31mTypeError\u001b[0m                                 Traceback (most recent call last)",
      "Cell \u001b[0;32mIn[167], line 2\u001b[0m\n\u001b[1;32m      1\u001b[0m tupla \u001b[38;5;241m=\u001b[39m (\u001b[38;5;241m1\u001b[39m, \u001b[38;5;241m2\u001b[39m, \u001b[38;5;241m3\u001b[39m)\n\u001b[0;32m----> 2\u001b[0m \u001b[43mtupla\u001b[49m\u001b[43m[\u001b[49m\u001b[38;5;241;43m0\u001b[39;49m\u001b[43m]\u001b[49m \u001b[38;5;241m=\u001b[39m \u001b[38;5;241m10\u001b[39m\n",
      "\u001b[0;31mTypeError\u001b[0m: 'tuple' object does not support item assignment"
     ]
    }
   ],
   "source": [
    "tupla = (1, 2, 3)\n",
    "tupla[0] = 10"
   ]
  },
  {
   "cell_type": "markdown",
   "id": "c43692e1",
   "metadata": {},
   "source": [
    "## \"Modificación de las tuplas\"\n",
    "**Convertir la tupla a una lista, modificar la lista y luego convertirla de nuevo a una tupla.**"
   ]
  },
  {
   "cell_type": "code",
   "execution_count": 168,
   "id": "56548836",
   "metadata": {},
   "outputs": [],
   "source": [
    "tupla_colores = (\"Azul\", \"Verde\", \"Morado\")"
   ]
  },
  {
   "cell_type": "code",
   "execution_count": 169,
   "id": "ebf7a134",
   "metadata": {},
   "outputs": [
    {
     "data": {
      "text/plain": [
       "tuple"
      ]
     },
     "execution_count": 169,
     "metadata": {},
     "output_type": "execute_result"
    }
   ],
   "source": [
    "type(tupla_colores)"
   ]
  },
  {
   "cell_type": "code",
   "execution_count": null,
   "id": "931d5f44",
   "metadata": {},
   "outputs": [],
   "source": [
    "int(), str(), bool(), float(), list(), tuple()"
   ]
  },
  {
   "cell_type": "code",
   "execution_count": 170,
   "id": "c575fc60",
   "metadata": {},
   "outputs": [
    {
     "data": {
      "text/plain": [
       "list"
      ]
     },
     "execution_count": 170,
     "metadata": {},
     "output_type": "execute_result"
    }
   ],
   "source": [
    "lista_colores = list(tupla_colores)\n",
    "type(lista_colores)"
   ]
  },
  {
   "cell_type": "code",
   "execution_count": 171,
   "id": "bbd5d64d",
   "metadata": {},
   "outputs": [
    {
     "data": {
      "text/plain": [
       "['Azul', 'Verde', 'Morado']"
      ]
     },
     "execution_count": 171,
     "metadata": {},
     "output_type": "execute_result"
    }
   ],
   "source": [
    "lista_colores"
   ]
  },
  {
   "cell_type": "code",
   "execution_count": 172,
   "id": "46017bce",
   "metadata": {},
   "outputs": [
    {
     "data": {
      "text/plain": [
       "['Amarillo', 'Verde', 'Morado']"
      ]
     },
     "execution_count": 172,
     "metadata": {},
     "output_type": "execute_result"
    }
   ],
   "source": [
    "lista_colores[0] = 'Amarillo'\n",
    "lista_colores"
   ]
  },
  {
   "cell_type": "code",
   "execution_count": 173,
   "id": "e63bb650",
   "metadata": {},
   "outputs": [
    {
     "data": {
      "text/plain": [
       "('Amarillo', 'Verde', 'Morado')"
      ]
     },
     "execution_count": 173,
     "metadata": {},
     "output_type": "execute_result"
    }
   ],
   "source": [
    "tupla_colores = tuple(lista_colores)\n",
    "tupla_colores"
   ]
  },
  {
   "cell_type": "code",
   "execution_count": 174,
   "id": "62549ab6",
   "metadata": {},
   "outputs": [
    {
     "data": {
      "text/plain": [
       "tuple"
      ]
     },
     "execution_count": 174,
     "metadata": {},
     "output_type": "execute_result"
    }
   ],
   "source": [
    "type(tupla_colores)"
   ]
  },
  {
   "cell_type": "markdown",
   "id": "aae2ded1",
   "metadata": {},
   "source": [
    "## Descomposición de tuplas"
   ]
  },
  {
   "cell_type": "code",
   "execution_count": 175,
   "id": "d90ca222",
   "metadata": {},
   "outputs": [],
   "source": [
    "tupla_nombres = ('Lola', 'Marta', 'Pepa')\n",
    "a, b, c = tupla_nombres"
   ]
  },
  {
   "cell_type": "code",
   "execution_count": 179,
   "id": "842de660",
   "metadata": {},
   "outputs": [
    {
     "data": {
      "text/plain": [
       "'Marta'"
      ]
     },
     "execution_count": 179,
     "metadata": {},
     "output_type": "execute_result"
    }
   ],
   "source": [
    "tupla_nombres[1]"
   ]
  },
  {
   "cell_type": "code",
   "execution_count": 176,
   "id": "08937cde",
   "metadata": {},
   "outputs": [
    {
     "data": {
      "text/plain": [
       "'Lola'"
      ]
     },
     "execution_count": 176,
     "metadata": {},
     "output_type": "execute_result"
    }
   ],
   "source": [
    "a"
   ]
  },
  {
   "cell_type": "code",
   "execution_count": 177,
   "id": "f5f0ed11",
   "metadata": {},
   "outputs": [
    {
     "data": {
      "text/plain": [
       "'Marta'"
      ]
     },
     "execution_count": 177,
     "metadata": {},
     "output_type": "execute_result"
    }
   ],
   "source": [
    "b"
   ]
  },
  {
   "cell_type": "code",
   "execution_count": 178,
   "id": "c107995b",
   "metadata": {},
   "outputs": [
    {
     "data": {
      "text/plain": [
       "'Pepa'"
      ]
     },
     "execution_count": 178,
     "metadata": {},
     "output_type": "execute_result"
    }
   ],
   "source": [
    "c"
   ]
  },
  {
   "cell_type": "markdown",
   "id": "c17b0ac7",
   "metadata": {},
   "source": [
    "## Función Zip\n",
    "\n",
    "En Python, `zip()` es una función que toma dos o más objetos iterables (como listas, tuplas, diccionarios, etc.) y los combina en una sola estructura de datos. "
   ]
  },
  {
   "cell_type": "code",
   "execution_count": 181,
   "id": "338e3905",
   "metadata": {},
   "outputs": [
    {
     "name": "stdout",
     "output_type": "stream",
     "text": [
      "<zip object at 0x1039c8340>\n",
      "[('b', 2), ('a', 4), ('d', 3), ('c', 1)]\n"
     ]
    }
   ],
   "source": [
    "letras = ['b', 'a', 'd', 'c']\n",
    "numeros = [ 2, 4, 3, 1]\n",
    "\n",
    "zip1 = zip(letras, numeros)\n",
    "print(zip1)\n",
    "print(list(zip1))"
   ]
  },
  {
   "cell_type": "markdown",
   "id": "fae7ce3b",
   "metadata": {},
   "source": [
    "Zip es una función de Python de un solo uso:"
   ]
  },
  {
   "cell_type": "code",
   "execution_count": 182,
   "id": "a79aee7e",
   "metadata": {},
   "outputs": [
    {
     "name": "stdout",
     "output_type": "stream",
     "text": [
      "[]\n"
     ]
    }
   ],
   "source": [
    "print(list(zip1))"
   ]
  },
  {
   "cell_type": "code",
   "execution_count": 183,
   "id": "5bb8e9d4",
   "metadata": {},
   "outputs": [
    {
     "name": "stdout",
     "output_type": "stream",
     "text": [
      "[('b', 2), ('a', 4), ('d', 3), ('c', 1)]\n"
     ]
    }
   ],
   "source": [
    "letras = ['b', 'a', 'd', 'c']\n",
    "numeros = [ 2, 4, 3, 1]\n",
    "\n",
    "zip1 = list(zip(letras, numeros))\n",
    "print(zip1)"
   ]
  },
  {
   "cell_type": "code",
   "execution_count": 184,
   "id": "7deabf90",
   "metadata": {},
   "outputs": [
    {
     "data": {
      "text/plain": [
       "[('b', 2), ('a', 4), ('d', 3), ('c', 1)]"
      ]
     },
     "execution_count": 184,
     "metadata": {},
     "output_type": "execute_result"
    }
   ],
   "source": [
    "zip1"
   ]
  },
  {
   "cell_type": "code",
   "execution_count": null,
   "id": "c923eff9",
   "metadata": {},
   "outputs": [],
   "source": []
  }
 ],
 "metadata": {
  "kernelspec": {
   "display_name": "Python 3",
   "language": "python",
   "name": "python3"
  },
  "language_info": {
   "codemirror_mode": {
    "name": "ipython",
    "version": 3
   },
   "file_extension": ".py",
   "mimetype": "text/x-python",
   "name": "python",
   "nbconvert_exporter": "python",
   "pygments_lexer": "ipython3",
   "version": "3.10.1"
  }
 },
 "nbformat": 4,
 "nbformat_minor": 5
}
