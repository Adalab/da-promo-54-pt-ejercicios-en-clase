{
 "cells": [
  {
   "cell_type": "markdown",
   "id": "720ea24d",
   "metadata": {},
   "source": [
    "## ¿Qué es Regex?\n",
    "\n",
    "Regex (abreviatura de **expresión regular**) es un lenguaje de patrones para buscar, validar o extraer texto. Sirve para:\n",
    "\n",
    "* Encontrar coincidencias en textos (palabras, números, fechas, etc.)\n",
    "* Validar formatos (correos, teléfonos)\n",
    "* Reemplazar fragmentos\n",
    "* Dividir cadenas\n",
    "\n",
    "> Es como un \"buscador avanzado\" que te permite definir exactamente qué estás buscando.\n",
    "\n",
    "- Regex es universal para cualquier lenguaje de programación, será igual para Python, que para Java por ejemplo.\n"
   ]
  },
  {
   "cell_type": "markdown",
   "id": "e6c333ea",
   "metadata": {},
   "source": [
    "👉 Por ejemplo, aunque no sepas el número exacto de teléfono de alguien, sabes cómo **debería verse**:\n",
    "En EE.UU. o Canadá, un número suele tener **3 dígitos, un guion y luego 4 dígitos** (como `555-1234`, o `415-555-1234` si incluye el código de área).\n",
    "\n",
    "🧠 Reconocemos muchos otros patrones sin darnos cuenta:\n",
    "\n",
    "* Correos electrónicos contienen `@`\n",
    "* Números de la seguridad social tienen 9 dígitos y guiones\n",
    "* URLs usan puntos y barras `/`\n",
    "* Hashtags comienzan con `#` y no tienen espacios"
   ]
  },
  {
   "cell_type": "markdown",
   "id": "400cfc8f",
   "metadata": {},
   "source": [
    "### 🔍 Buscar patrones de texto **sin** expresiones regulares\n",
    "\n",
    "Supongamos que quieres encontrar un número de teléfono estadounidense dentro de una cadena de texto.\n",
    "Sabes que el patrón es: **tres dígitos, un guion, tres dígitos, otro guion y cuatro dígitos**.\n",
    "Por ejemplo: `415-555-4242`\n",
    "\n",
    "Podemos crear una función llamada `esNumeroTelefono()` que verifique si una cadena sigue este formato.\n",
    "La función devolverá `True` si es un número válido y `False` si no lo es.\n",
    "\n",
    "Esto es lo que vamos a implementar paso a paso antes de usar expresiones regulares. Así veremos **cuánto más código** hace falta sin regex.\n"
   ]
  },
  {
   "cell_type": "code",
   "execution_count": null,
   "id": "52513a24",
   "metadata": {},
   "outputs": [],
   "source": [
    "# Validar teléfono\n",
    "telef = '415-555-4242'\n",
    "\n",
    "# Verificar si es un dígito\n",
    "# verificar si tiene guiones y si los guiones están en su sitio\n",
    "# verificar si tenemos 12 caracteres en total"
   ]
  },
  {
   "cell_type": "code",
   "execution_count": 3,
   "id": "13ec285c",
   "metadata": {},
   "outputs": [],
   "source": [
    "numero = telef.replace('-', '')"
   ]
  },
  {
   "cell_type": "code",
   "execution_count": 4,
   "id": "25a17111",
   "metadata": {},
   "outputs": [
    {
     "data": {
      "text/plain": [
       "'4155554242'"
      ]
     },
     "execution_count": 4,
     "metadata": {},
     "output_type": "execute_result"
    }
   ],
   "source": [
    "numero"
   ]
  },
  {
   "cell_type": "code",
   "execution_count": 10,
   "id": "c96e4288",
   "metadata": {},
   "outputs": [
    {
     "data": {
      "text/plain": [
       "True"
      ]
     },
     "execution_count": 10,
     "metadata": {},
     "output_type": "execute_result"
    }
   ],
   "source": [
    "numero.isdecimal()"
   ]
  },
  {
   "cell_type": "code",
   "execution_count": 13,
   "id": "051c7f02",
   "metadata": {},
   "outputs": [
    {
     "data": {
      "text/plain": [
       "True"
      ]
     },
     "execution_count": 13,
     "metadata": {},
     "output_type": "execute_result"
    }
   ],
   "source": [
    "telef[3] == '-'"
   ]
  },
  {
   "cell_type": "code",
   "execution_count": 15,
   "id": "399f9f14",
   "metadata": {},
   "outputs": [
    {
     "data": {
      "text/plain": [
       "'-'"
      ]
     },
     "execution_count": 15,
     "metadata": {},
     "output_type": "execute_result"
    }
   ],
   "source": [
    "telef[7]"
   ]
  },
  {
   "cell_type": "code",
   "execution_count": 22,
   "id": "060b1901",
   "metadata": {},
   "outputs": [
    {
     "data": {
      "text/plain": [
       "True"
      ]
     },
     "execution_count": 22,
     "metadata": {},
     "output_type": "execute_result"
    }
   ],
   "source": [
    "telef[:3].isdecimal()"
   ]
  },
  {
   "cell_type": "code",
   "execution_count": 50,
   "id": "fbe5267c",
   "metadata": {},
   "outputs": [],
   "source": [
    "def esNumeroTelefono(telefono):\n",
    "    \n",
    "    if len(telefono) != 12:\n",
    "        print('1')\n",
    "        return False\n",
    "    \n",
    "    if telefono[3] != '-' or telefono[7] != '-':\n",
    "        print('2')\n",
    "        return False\n",
    "    \n",
    "    parte1 = telefono[:3]\n",
    "    parte2 = telefono[4:7]\n",
    "    parte3 = telefono[8:]\n",
    "\n",
    "    if not (parte1.isdecimal() and parte2.isdecimal() and parte3.isdecimal()):\n",
    "        print('3')\n",
    "        return False\n",
    "    \n",
    "    return True\n"
   ]
  },
  {
   "cell_type": "code",
   "execution_count": 52,
   "id": "a5af5abf",
   "metadata": {},
   "outputs": [
    {
     "data": {
      "text/plain": [
       "True"
      ]
     },
     "execution_count": 52,
     "metadata": {},
     "output_type": "execute_result"
    }
   ],
   "source": [
    "esNumeroTelefono('414-555-4242')"
   ]
  },
  {
   "cell_type": "markdown",
   "id": "01b55543",
   "metadata": {},
   "source": [
    "### 🔍 Buscar patrones de texto **con** expresiones regulares\n",
    "\n",
    "* `\\d` representa **un dígito del 0 al 9**\n",
    "\n",
    "Entonces el patrón:\n",
    "\n",
    "```regex\n",
    "\\d\\d\\d-\\d\\d\\d-\\d\\d\\d\\d\n",
    "```\n",
    "\n",
    "coincide con números como `415-555-4242`:\n",
    "👉 tres dígitos, un guion, tres dígitos, otro guion, y cuatro dígitos.\n",
    "\n",
    "Este patrón hace lo mismo que hicimos antes con la función `esNumeroTelefono()` pero con **menos código** y más elegancia.\n"
   ]
  },
  {
   "cell_type": "markdown",
   "id": "ead68884",
   "metadata": {},
   "source": [
    "### 🧠 Versión mejorada\n",
    "\n",
    "En lugar de escribir `\\d\\d\\d`, podemos usar **llaves `{}`** para indicar cuántas repeticiones queremos.\n",
    "Así, el patrón:\n",
    "\n",
    "```regex\n",
    "\\d{3}-\\d{3}-\\d{4}\n",
    "```\n",
    "\n",
    "también coincide con `415-555-4242` y es más **limpio y fácil de leer**."
   ]
  },
  {
   "cell_type": "markdown",
   "id": "b6b26506",
   "metadata": {},
   "source": [
    "### Importar el módulo `re`\n",
    "\n",
    "```python\n",
    "import re\n",
    "```\n"
   ]
  },
  {
   "cell_type": "code",
   "execution_count": 53,
   "id": "4609c696",
   "metadata": {},
   "outputs": [],
   "source": [
    "import re"
   ]
  },
  {
   "cell_type": "code",
   "execution_count": 56,
   "id": "1b05cdd5",
   "metadata": {},
   "outputs": [],
   "source": [
    "patron = '\\d{3}-\\d{3}-\\d{4}'\n",
    "\n",
    "coincide = re.match(patron, '415-55-4242') # si hay coincidencia, devuelve un objeto de tipo re.match"
   ]
  },
  {
   "cell_type": "code",
   "execution_count": 58,
   "id": "0d2b112d",
   "metadata": {},
   "outputs": [],
   "source": [
    "if coincide:\n",
    "    print('ok')"
   ]
  },
  {
   "cell_type": "code",
   "execution_count": 64,
   "id": "498f9f98",
   "metadata": {},
   "outputs": [],
   "source": [
    "def esNumeroTelefono_regex(telefono):\n",
    "    patron = '\\d{3}-\\d{3}-\\d{4}'\n",
    "    coincide = re.match(patron, telefono)\n",
    "    return True if coincide else False\n",
    "\n",
    "    # esto es lo mismo:\n",
    "    # if coincide:\n",
    "    #     return True\n",
    "    # else:\n",
    "    #     return False\n"
   ]
  },
  {
   "cell_type": "code",
   "execution_count": 65,
   "id": "3995b6ff",
   "metadata": {},
   "outputs": [
    {
     "data": {
      "text/plain": [
       "True"
      ]
     },
     "execution_count": 65,
     "metadata": {},
     "output_type": "execute_result"
    }
   ],
   "source": [
    "esNumeroTelefono_regex('458-676-6789')"
   ]
  },
  {
   "cell_type": "markdown",
   "id": "7f18af10",
   "metadata": {},
   "source": [
    "## Funciones principales del módulo `re`\n",
    "\n",
    "### `re.findall()`\n",
    "\n",
    "Busca **todas las coincidencias** y devuelve una lista."
   ]
  },
  {
   "cell_type": "code",
   "execution_count": 66,
   "id": "346074c7",
   "metadata": {},
   "outputs": [
    {
     "data": {
      "text/plain": [
       "['654123987', '30', '876', '10']"
      ]
     },
     "execution_count": 66,
     "metadata": {},
     "output_type": "execute_result"
    }
   ],
   "source": [
    "re.findall(\"\\d+\", \"Mi teléfono es 654123987 y mi edad es 30, bla bla bla, 876, que frío hace, 10ºC.\")"
   ]
  },
  {
   "cell_type": "markdown",
   "id": "83734529",
   "metadata": {},
   "source": [
    "### `re.sub()`\n",
    "\n",
    "Sustituye coincidencias por otro texto."
   ]
  },
  {
   "cell_type": "code",
   "execution_count": 67,
   "id": "fb36f35a",
   "metadata": {},
   "outputs": [
    {
     "data": {
      "text/plain": [
       "'clave***, mi telefono es *********, tengo ** años.'"
      ]
     },
     "execution_count": 67,
     "metadata": {},
     "output_type": "execute_result"
    }
   ],
   "source": [
    "re.sub(\"\\d\", \"*\", \"clave123, mi telefono es 890765456, tengo 25 años.\") # cuando encuentres un número, sustituye por *"
   ]
  },
  {
   "cell_type": "markdown",
   "id": "c1ffbb57",
   "metadata": {},
   "source": [
    "### `re.split()`\n",
    "\n",
    "Divide un texto según el patrón."
   ]
  },
  {
   "cell_type": "code",
   "execution_count": 68,
   "id": "69fa129b",
   "metadata": {},
   "outputs": [
    {
     "data": {
      "text/plain": [
       "['Hola', 'mundo', 'bonito']"
      ]
     },
     "execution_count": 68,
     "metadata": {},
     "output_type": "execute_result"
    }
   ],
   "source": [
    "re.split(\"\\s\", \"Hola mundo bonito\")"
   ]
  },
  {
   "cell_type": "code",
   "execution_count": 71,
   "id": "6e51d4bb",
   "metadata": {},
   "outputs": [
    {
     "data": {
      "text/plain": [
       "['Hola', 'mundo', 'bonito']"
      ]
     },
     "execution_count": 71,
     "metadata": {},
     "output_type": "execute_result"
    }
   ],
   "source": [
    "re.split(\"@\", \"Hola@mundo@bonito\")"
   ]
  },
  {
   "cell_type": "markdown",
   "id": "f046f444",
   "metadata": {},
   "source": [
    "### `re.match()`\n",
    "\n",
    "Comprueba si **al principio del texto** hay una coincidencia."
   ]
  },
  {
   "cell_type": "code",
   "execution_count": 76,
   "id": "7fe402f2",
   "metadata": {},
   "outputs": [
    {
     "data": {
      "text/plain": [
       "<re.Match object; span=(0, 4), match='Hola'>"
      ]
     },
     "execution_count": 76,
     "metadata": {},
     "output_type": "execute_result"
    }
   ],
   "source": [
    "re.match(\"Hola\", \"Hola mundo\") # Coincide porque comienza con 'Hola' "
   ]
  },
  {
   "cell_type": "markdown",
   "id": "805144c8",
   "metadata": {},
   "source": [
    "### `re.search()`\n",
    "\n",
    "Busca la **primera coincidencia en cualquier parte del texto**."
   ]
  },
  {
   "cell_type": "code",
   "execution_count": 79,
   "id": "47f695a2",
   "metadata": {},
   "outputs": [
    {
     "data": {
      "text/plain": [
       "<re.Match object; span=(11, 17), match='bonito'>"
      ]
     },
     "execution_count": 79,
     "metadata": {},
     "output_type": "execute_result"
    }
   ],
   "source": [
    "re.search(\"bonito\", \"Hola mundo bonito\") # Coincide aunque no esté al principio"
   ]
  },
  {
   "cell_type": "markdown",
   "id": "f21723bd",
   "metadata": {},
   "source": [
    "## Operadores comunes de Regex\n",
    "\n",
    "| Símbolo | Significado                                  | Ejemplo                                                                                         |\n",
    "| ------- | -------------------------------------------- | ----------------------------------------------------------------------------------------------- |\n",
    "| `+`     | Una o más repeticiones del elemento anterior | `ab+c`  → \"abc\", \"abbc\", \"abbbc\". La letra \"b\" debe aparecer 1 o más veces.                     |\n",
    "| `*`     | Cero o más repeticiones                      | `ab*c`  → \"abc\", \"abbc\", \"abbbc\", \"ac\". La \"b\" puede aparecer muchas veces o ninguna.           |\n",
    "| `?`     | Cero o una repetición                        | `colou?r` → \"color\", \"colour\". La \"u\" puede aparecer 1 vez o ninguna.                           |\n",
    "| `.`     | Cualquier carácter                           | `a.c`  → \"abc\", \"a-c\", \"a9c\" (pero no \"ac\"). Debe haber un carácter cualquiera entre \"a\" y \"c\". |\n",
    "| `.*`    | Cualquier cantidad de caracteres             | `a.*c` → \"abc\", \"axyzc\", \"ac\". Cualquier cosa entre \"a\" y \"c\" (incluso nada).                   |\n",
    "| `^`     | Inicio de la cadena                          | `^Hola` → Coincide con \"Hola mundo\", pero no con \"Mundo Hola\".                                  |\n",
    "| `$`     | Fin de la cadena                             | `mundo$` → Coincide con \"Hola mundo\", pero no con \"mundo cruel\".                                |\n",
    "\n",
    "---\n",
    "\n",
    "## Sintaxis especial\n",
    "\n",
    "| Código | Significado                   | Ejemplo                                               |\n",
    "| ------ | ----------------------------- | ----------------------------------------------------- |\n",
    "| `\\w`   | Cualquier letra o dígito      | `\\w+` encuentra \"palabras\" como \"Hola123\"             → letras a-z, A-Z, números 0-9 y guión bajo _, es decir \\w ≈ [a-zA-Z0-9_]| \n",
    "| `\\d`   | Cualquier dígito              | `\\d+` encuentra números como \"123\", \"4567\"            |\n",
    "| `\\s`   | Espacios                      | `\\s+` detecta espacios o tabulaciones entre palabras  |\n",
    "| `\\n`   | Saltos de línea               | `\\n` detecta un salto de línea en un texto multilínea |\n",
    "| `\\W`   | Todo excepto letras o dígitos | `\\W+` encuentra signos como \".\", \"!\", \"#\" → opuesto de \\w|\n",
    "| `\\D`   | Todo excepto dígitos          | `\\D+` encuentra letras, espacios, signos, etc. → opuesto de \\d|\n",
    "| `\\S`   | Todo excepto espacios         | `\\S+` encuentra bloques de texto sin espacios → opuesto de \\s|\n",
    "\n",
    "\n",
    "### Otros:\n",
    "\n",
    "* `()` agrupa y captura\n",
    "* `[]` define un conjunto: `[a-z]`, `[A-Z]`, `[0-9]`\n",
    "* `[^x]` niega: todo excepto \"x\"\n",
    "* `|` operador OR: `hola|hi`\n",
    "* `\\.` escapa un carácter especial (como el punto)\n",
    "* `{n}` n repeticiones, `{n,}` al menos n repeticiones, `{n,m}` entre n y m repecticiones → para definir cuántas repeticiones queremos\n",
    "\n",
    "---"
   ]
  },
  {
   "cell_type": "markdown",
   "id": "586d5d2f",
   "metadata": {},
   "source": [
    "## Links útiles  🤓\n",
    "\n",
    "**1- Documentación**\n",
    "\n",
    "   - [La documentación](https://docs.python.org/3/howto/regex.html)\n",
    "\n",
    "**2- Cheatsheet**\n",
    "\n",
    "   - [Cheatsheet de expresiones regulares](https://cheatography.com/davechild/cheat-sheets/regular-expressions/)\n",
    "\n",
    "**3- Para practicar y comprobar patrones**\n",
    "\n",
    "- Regex101, [para comprobar patrones](https://regex101.com/)\n",
    "- RegexOne, [RegexOne](https://regexone.com/)\n",
    "\n",
    "**4- Más enlaces**\n",
    "\n",
    "   - [Construir, probar y depurar regex](https://regex101.com/)"
   ]
  }
 ],
 "metadata": {
  "kernelspec": {
   "display_name": "base",
   "language": "python",
   "name": "python3"
  },
  "language_info": {
   "codemirror_mode": {
    "name": "ipython",
    "version": 3
   },
   "file_extension": ".py",
   "mimetype": "text/x-python",
   "name": "python",
   "nbconvert_exporter": "python",
   "pygments_lexer": "ipython3",
   "version": "3.11.9"
  }
 },
 "nbformat": 4,
 "nbformat_minor": 5
}
