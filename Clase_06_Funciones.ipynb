{
 "cells": [
  {
   "cell_type": "markdown",
   "id": "c1401977",
   "metadata": {},
   "source": [
    "## 1. ¿Qué es una función?\n",
    "\n",
    "Una **función** es un bloque de código reutilizable que realiza una tarea específica. Nos permite **dividir el código en partes más pequeñas y legibles**.\n",
    "\n",
    "### 💡 Ventajas\n",
    "\n",
    "* **Reutilización**: Evita repetir código.\n",
    "* Hace el código más organizado y legible.\n",
    "* Facilita la depuración y el mantenimiento.\n",
    "* **Modularidad**: Puedes dividir procesos complejos en partes independientes."
   ]
  },
  {
   "cell_type": "markdown",
   "id": "cecc39f9",
   "metadata": {},
   "source": [
    "## 2. Componentes de una función en Python\n",
    "\n",
    "* `def`: palabra clave obligatoria.\n",
    "* `nombre_de_la_funcion`: como una etiqueta que describe qué hace.\n",
    "* `paréntesis ()`: necesarios aunque no tenga parámetros.\n",
    "* `parámetros` (opcional): valores que la función necesita.\n",
    "* `return` (opcional): valor que la función devuelve."
   ]
  },
  {
   "cell_type": "markdown",
   "id": "7fbd0c5d",
   "metadata": {},
   "source": [
    "## 3. Definir y llamar funciones\n",
    "\n",
    "### 📝 Sintaxis básica\n",
    "\n",
    "```python\n",
    "def nombre_funcion():\n",
    "    # código\n",
    "```"
   ]
  },
  {
   "cell_type": "code",
   "execution_count": 10,
   "id": "f732f10e",
   "metadata": {},
   "outputs": [],
   "source": [
    "def saludar():\n",
    "    print('¡Buenos días!')"
   ]
  },
  {
   "cell_type": "code",
   "execution_count": 11,
   "id": "a45035f5",
   "metadata": {},
   "outputs": [
    {
     "name": "stdout",
     "output_type": "stream",
     "text": [
      "¡Buenos días!\n"
     ]
    }
   ],
   "source": [
    "saludar() # llamada a la función"
   ]
  },
  {
   "cell_type": "markdown",
   "id": "28321738",
   "metadata": {},
   "source": [
    "## 4. Parámetros y argumentos\n",
    "\n",
    "* **Parámetros**: las \"variables\" entre paréntesis en la definición de la función.\n",
    "* **Argumentos**: los \"valores\" que pasamos cuando llamamos a la función.\n"
   ]
  },
  {
   "cell_type": "code",
   "execution_count": 12,
   "id": "c51bcaf4",
   "metadata": {},
   "outputs": [],
   "source": [
    "def saludar(nombre):\n",
    "    print(f\"Hola {nombre}.\")"
   ]
  },
  {
   "cell_type": "code",
   "execution_count": 13,
   "id": "26313197",
   "metadata": {},
   "outputs": [
    {
     "name": "stdout",
     "output_type": "stream",
     "text": [
      "Hola Clara.\n"
     ]
    }
   ],
   "source": [
    "saludar('Clara')"
   ]
  },
  {
   "cell_type": "code",
   "execution_count": 14,
   "id": "3470d8ec",
   "metadata": {},
   "outputs": [],
   "source": [
    "def far_a_celsius(temp_far):\n",
    "    resultado = (temp_far - 32) * 5/9\n",
    "    print(resultado)"
   ]
  },
  {
   "cell_type": "code",
   "execution_count": 15,
   "id": "a416532b",
   "metadata": {},
   "outputs": [
    {
     "name": "stdout",
     "output_type": "stream",
     "text": [
      "37.77777777777778\n"
     ]
    }
   ],
   "source": [
    "far_a_celsius(100)"
   ]
  },
  {
   "cell_type": "code",
   "execution_count": 16,
   "id": "79471c9b",
   "metadata": {},
   "outputs": [
    {
     "name": "stdout",
     "output_type": "stream",
     "text": [
      "26.666666666666668\n"
     ]
    }
   ],
   "source": [
    "far_a_celsius(80)\n"
   ]
  },
  {
   "cell_type": "code",
   "execution_count": 17,
   "id": "049a50a2",
   "metadata": {},
   "outputs": [
    {
     "name": "stdout",
     "output_type": "stream",
     "text": [
      "43.333333333333336\n"
     ]
    }
   ],
   "source": [
    "far_a_celsius(110)\n"
   ]
  },
  {
   "cell_type": "markdown",
   "id": "1c779a48",
   "metadata": {},
   "source": [
    "## 5. Funciones sin parámetros\n",
    "\n",
    "Son funciones que hacen algo fijo sin necesitar datos externos."
   ]
  },
  {
   "cell_type": "code",
   "execution_count": 18,
   "id": "1c448285",
   "metadata": {},
   "outputs": [
    {
     "name": "stdout",
     "output_type": "stream",
     "text": [
      "Hola\n"
     ]
    }
   ],
   "source": [
    "def hola():\n",
    "    print(\"Hola\")\n",
    "\n",
    "hola()"
   ]
  },
  {
   "cell_type": "markdown",
   "id": "3ebf5326",
   "metadata": {},
   "source": [
    "## 6. Funciones con parámetros"
   ]
  },
  {
   "cell_type": "code",
   "execution_count": 19,
   "id": "c923389d",
   "metadata": {},
   "outputs": [],
   "source": [
    "def cuadrado(numero):\n",
    "    print(numero * numero)"
   ]
  },
  {
   "cell_type": "code",
   "execution_count": 20,
   "id": "227940e5",
   "metadata": {},
   "outputs": [
    {
     "name": "stdout",
     "output_type": "stream",
     "text": [
      "16\n"
     ]
    }
   ],
   "source": [
    "cuadrado(4)"
   ]
  },
  {
   "cell_type": "code",
   "execution_count": 21,
   "id": "2af0fdf4",
   "metadata": {},
   "outputs": [],
   "source": [
    "def suma(num1, num2):\n",
    "    print(num1 + num2)"
   ]
  },
  {
   "cell_type": "code",
   "execution_count": 22,
   "id": "2ab06e9f",
   "metadata": {},
   "outputs": [
    {
     "name": "stdout",
     "output_type": "stream",
     "text": [
      "30\n"
     ]
    }
   ],
   "source": [
    "suma(5, 25)"
   ]
  },
  {
   "cell_type": "markdown",
   "id": "5506f22b",
   "metadata": {},
   "source": [
    "## 7. Parámetros por defecto\n",
    "\n",
    "Un **parámetro por defecto** es un valor predefinido que toma un argumento si no se le proporciona uno al llamar a la función.\n",
    "- Los parámetros obligatorios deben ir primero, y los parámetros por defecto deben ir después.\n",
    "\n",
    "### ¿Para qué sirve?\n",
    "\n",
    "* Hace que los argumentos sean **opcionales**.\n",
    "* Permite **llamar funciones con menos datos** si es necesario."
   ]
  },
  {
   "cell_type": "code",
   "execution_count": 23,
   "id": "1b51f072",
   "metadata": {},
   "outputs": [],
   "source": [
    "def mi_funcion(param1, param2=\"valor por defecto\"):\n",
    "    pass # placeholder: cuerpo de la función"
   ]
  },
  {
   "cell_type": "code",
   "execution_count": 24,
   "id": "d386ad41",
   "metadata": {},
   "outputs": [],
   "source": [
    "def saludar(nombre, saludo=\"Buenos días\"):\n",
    "    print(f\"Hola {nombre}, {saludo}.\")"
   ]
  },
  {
   "cell_type": "code",
   "execution_count": 25,
   "id": "b757b7c0",
   "metadata": {},
   "outputs": [
    {
     "name": "stdout",
     "output_type": "stream",
     "text": [
      "Hola Pepa, Buenas tardes.\n"
     ]
    }
   ],
   "source": [
    "saludar('Pepa', 'Buenas tardes')"
   ]
  },
  {
   "cell_type": "code",
   "execution_count": 26,
   "id": "a8d075f3",
   "metadata": {},
   "outputs": [],
   "source": [
    "def calculadora(num1, num2, operacion=\"multiplicación\"):\n",
    "    if operacion == 'multiplicación':\n",
    "        print(num1 * num2)\n",
    "    elif operacion == 'suma':\n",
    "        print(num1 + num2)\n",
    "    elif operacion == 'resta':\n",
    "        print(num1 - num2)\n",
    "    else:\n",
    "        print(num1 / num2)"
   ]
  },
  {
   "cell_type": "code",
   "execution_count": 27,
   "id": "60547dee",
   "metadata": {},
   "outputs": [
    {
     "name": "stdout",
     "output_type": "stream",
     "text": [
      "2.5\n"
     ]
    }
   ],
   "source": [
    "calculadora(5, 2, 'división')"
   ]
  },
  {
   "cell_type": "markdown",
   "id": "7f1ffccd",
   "metadata": {},
   "source": [
    "## 8. Variables locales vs globales\n",
    "\n",
    "* **Global**: definida fuera de cualquier función. Se puede usar en cualquier parte.\n",
    "* **Local**: definida dentro de una función. Solo existe mientras la función se ejecuta."
   ]
  },
  {
   "cell_type": "code",
   "execution_count": 28,
   "id": "c53040a9",
   "metadata": {},
   "outputs": [],
   "source": [
    "mensaje = 'Hola' # global"
   ]
  },
  {
   "cell_type": "code",
   "execution_count": 29,
   "id": "5874c11f",
   "metadata": {},
   "outputs": [
    {
     "data": {
      "text/plain": [
       "'Hola'"
      ]
     },
     "execution_count": 29,
     "metadata": {},
     "output_type": "execute_result"
    }
   ],
   "source": [
    "mensaje"
   ]
  },
  {
   "cell_type": "code",
   "execution_count": 30,
   "id": "c4741f87",
   "metadata": {},
   "outputs": [],
   "source": [
    "def imprimir():\n",
    "    mensaje = 'Adiós' # local\n",
    "    print(mensaje)"
   ]
  },
  {
   "cell_type": "code",
   "execution_count": 31,
   "id": "ec3ba495",
   "metadata": {},
   "outputs": [
    {
     "name": "stdout",
     "output_type": "stream",
     "text": [
      "Adiós\n"
     ]
    }
   ],
   "source": [
    "imprimir()"
   ]
  },
  {
   "cell_type": "code",
   "execution_count": 32,
   "id": "b4ebd795",
   "metadata": {},
   "outputs": [],
   "source": [
    "mensaje = 'Hasta luego'"
   ]
  },
  {
   "cell_type": "code",
   "execution_count": 33,
   "id": "952e3fec",
   "metadata": {},
   "outputs": [
    {
     "data": {
      "text/plain": [
       "'Hasta luego'"
      ]
     },
     "execution_count": 33,
     "metadata": {},
     "output_type": "execute_result"
    }
   ],
   "source": [
    "mensaje"
   ]
  },
  {
   "cell_type": "code",
   "execution_count": 34,
   "id": "87d78f90",
   "metadata": {},
   "outputs": [
    {
     "name": "stdout",
     "output_type": "stream",
     "text": [
      "Adiós\n"
     ]
    }
   ],
   "source": [
    "imprimir()"
   ]
  },
  {
   "cell_type": "markdown",
   "id": "a93e6735",
   "metadata": {},
   "source": [
    "Escribe una función que reciba una cadena de texto como parámetro y devuelva un diccionario con las frecuencias de cada letra en la cadena. Los espacios no deben ser considerados."
   ]
  },
  {
   "cell_type": "code",
   "execution_count": null,
   "id": "a801fb91",
   "metadata": {},
   "outputs": [],
   "source": [
    "# Paso 1: escribe una función que reciba una cadena de texto como parametro y devuelva un diccionario\n",
    "def contar_letras_cadena(cadena_texto): # Definimos la función y pasamos el parámetro cadena_texto\n",
    "    diccionario = {} # pero antes, lo tengo que crear, tiene que existir antes de poder usarlo.\n",
    "    return diccionario # Retorna un diccionario"
   ]
  },
  {
   "cell_type": "markdown",
   "id": "ddf9091f",
   "metadata": {},
   "source": [
    "Hasta aquí:\n",
    "- Hemos definido la función \n",
    "- Elegimos un nombre que explica lo que va a realizar nuestra función\n",
    "- Le pasamos el parámetro tal cuál pide el enunciado\n",
    "- Retornamos el diccionario y luego lo creamos porque no podemos devolver un diccionario que no existe"
   ]
  },
  {
   "cell_type": "code",
   "execution_count": 38,
   "id": "0f761cc6",
   "metadata": {},
   "outputs": [
    {
     "data": {
      "text/plain": [
       "16"
      ]
     },
     "execution_count": 38,
     "metadata": {},
     "output_type": "execute_result"
    }
   ],
   "source": [
    "cadena_texto = 'Texto de ejemplo'\n",
    "len(cadena_texto)"
   ]
  },
  {
   "cell_type": "code",
   "execution_count": 46,
   "id": "2f937a40",
   "metadata": {},
   "outputs": [],
   "source": [
    "# Paso 2: un diccionario con las frecuencias de cada letra en la cadena\n",
    "# Vamos a trabajar en el cuerpo de la función\n",
    "diccionario = {}\n",
    "cadena_texto = 'Texto de ejemplo'\n",
    "\n",
    "# Ahora, como hacemos para contar la frecuencia cada letra de nuestra cadena? \n",
    "\n",
    "for letra in cadena_texto:\n",
    "    if letra not in diccionario:\n",
    "        diccionario[letra] = 1 # diccionario[letra] = diccionario[letra] + 1\n",
    "    else:\n",
    "        diccionario[letra] += 1 "
   ]
  },
  {
   "cell_type": "code",
   "execution_count": 47,
   "id": "432b43d0",
   "metadata": {},
   "outputs": [
    {
     "data": {
      "text/plain": [
       "{'T': 1,\n",
       " 'e': 4,\n",
       " 'x': 1,\n",
       " 't': 1,\n",
       " 'o': 2,\n",
       " ' ': 2,\n",
       " 'd': 1,\n",
       " 'j': 1,\n",
       " 'm': 1,\n",
       " 'p': 1,\n",
       " 'l': 1}"
      ]
     },
     "execution_count": 47,
     "metadata": {},
     "output_type": "execute_result"
    }
   ],
   "source": [
    "diccionario"
   ]
  },
  {
   "cell_type": "markdown",
   "id": "9620795d",
   "metadata": {},
   "source": [
    "Parece que vamos bien, ha contado la 'e' 4 veces, la 'o' 2 veces, el espacio en blanco 2 veces.. \n",
    "Pero... El enunciado no decia algo sobre los espacios en blanco? \n",
    "Sí, dice que los espacios no deben ser considerados. Esto lo tendremos que arreglar. \n",
    "Por lo demás, también podemos ver que nuestro código diferencia la T mayúscula de la t minúscula. \n",
    "Esto también lo tendremos que solucionar de alguna manera. "
   ]
  },
  {
   "cell_type": "code",
   "execution_count": 65,
   "id": "5937a104",
   "metadata": {},
   "outputs": [],
   "source": [
    "# Tenemos que ignorar los espacios de nuestra cadena\n",
    "diccionario = {}\n",
    "cadena_texto = 'Texto de ejemplo'\n",
    "\n",
    "for letra in cadena_texto.upper():\n",
    "    if letra == ' ':\n",
    "        continue # pass\n",
    "    else:\n",
    "        if letra not in diccionario:\n",
    "            diccionario[letra] = 1 # diccionario[letra] = diccionario[letra] + 1\n",
    "        else:\n",
    "            diccionario[letra] += 1 "
   ]
  },
  {
   "cell_type": "code",
   "execution_count": 66,
   "id": "d49f5c5d",
   "metadata": {},
   "outputs": [
    {
     "data": {
      "text/plain": [
       "{'T': 2, 'E': 4, 'X': 1, 'O': 2, 'D': 1, 'J': 1, 'M': 1, 'P': 1, 'L': 1}"
      ]
     },
     "execution_count": 66,
     "metadata": {},
     "output_type": "execute_result"
    }
   ],
   "source": [
    "diccionario"
   ]
  },
  {
   "cell_type": "markdown",
   "id": "7bb00d4b",
   "metadata": {},
   "source": [
    "Hasta aquí parece que nuestro cuerpo de la función ya está funcionando. Ahora vamos a implementar el cuerpo en la función y hacer la llamada para ver si funciona"
   ]
  },
  {
   "cell_type": "code",
   "execution_count": 79,
   "id": "4ea2c462",
   "metadata": {},
   "outputs": [],
   "source": [
    "def contar_letras_cadena(cadena_texto): \n",
    "    diccionario = {}\n",
    "\n",
    "    for letra in cadena_texto.upper():\n",
    "        if letra in [' ', ',', '?']:\n",
    "            continue # pass\n",
    "        else:\n",
    "            if letra not in diccionario:\n",
    "                diccionario[letra] = 1 # diccionario[letra] = diccionario[letra] + 1\n",
    "            else:\n",
    "                diccionario[letra] += 1 \n",
    "\n",
    "    return diccionario"
   ]
  },
  {
   "cell_type": "code",
   "execution_count": 80,
   "id": "ee230daf",
   "metadata": {},
   "outputs": [
    {
     "data": {
      "text/plain": [
       "{'H': 1,\n",
       " 'O': 2,\n",
       " 'L': 1,\n",
       " 'A': 1,\n",
       " 'C': 1,\n",
       " 'Ó': 1,\n",
       " 'M': 1,\n",
       " 'E': 1,\n",
       " 'S': 2,\n",
       " 'T': 1,\n",
       " 'Á': 1}"
      ]
     },
     "execution_count": 80,
     "metadata": {},
     "output_type": "execute_result"
    }
   ],
   "source": [
    "contar_letras_cadena('Hola, cómo estás?')"
   ]
  }
 ],
 "metadata": {
  "kernelspec": {
   "display_name": "base",
   "language": "python",
   "name": "python3"
  },
  "language_info": {
   "codemirror_mode": {
    "name": "ipython",
    "version": 3
   },
   "file_extension": ".py",
   "mimetype": "text/x-python",
   "name": "python",
   "nbconvert_exporter": "python",
   "pygments_lexer": "ipython3",
   "version": "3.11.9"
  }
 },
 "nbformat": 4,
 "nbformat_minor": 5
}
