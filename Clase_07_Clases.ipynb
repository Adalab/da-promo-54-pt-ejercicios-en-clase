{
 "cells": [
  {
   "cell_type": "markdown",
   "id": "7e4571fa",
   "metadata": {},
   "source": [
    "## 1. ¿Qué es la Programación Orientada a Objetos (OOP)?\n",
    "\n",
    "La **OOP** es un estilo de programación que organiza el código en torno a \"objetos\". Un objeto representa algo con **características** (atributos) y **acciones** (métodos).\n",
    "\n",
    "### Analogía:\n",
    "\n",
    "> Una clase es como un **molde de una persona**, y cada objeto es una **persona** hecha con ese molde. Todas tienen la misma forma general, pero pueden tener detalles distintos (color de pelo, altura, color de ojos, etc)."
   ]
  },
  {
   "cell_type": "markdown",
   "id": "0293928c",
   "metadata": {},
   "source": [
    "En Python, clase, tipo y tipo de dato significan lo mismo.\n",
    "Una clase es como una plantilla : un molde para crear objetos (también llamados instancias). Cada objeto representa algo concreto: puede ser un paciente, una mascota o un coche.\n",
    "\n",
    "Las clases son como formularios en blanco, y los objetos creados a partir de ellas son como formularios ya rellenados con datos reales.\n",
    "\n",
    "La Programación Orientada a Objetos (OOP) es una característica muy útil para organizar tu código. Las clases permiten agrupar datos y funciones en nuevos tipos de datos personalizados. A partir de estas clases, puedes crear objetos llamando a su constructor (que es simplemente usar el nombre de la clase como si fuera una función). Esto activa automáticamente el método especial __init__() de la clase.\n",
    "\n",
    "Un método es una función asociada a un objeto, y un atributo es una variable asociada a ese objeto.\n",
    "Todos los métodos llevan self como primer parámetro, que es la forma en que el método accede al objeto que lo llamó. Esto le permite leer o modificar los atributos del objeto o llamar a otros métodos del mismo objeto."
   ]
  },
  {
   "cell_type": "markdown",
   "id": "86a974dd",
   "metadata": {},
   "source": [
    "## 2. Conceptos clave de la OOP\n",
    "\n",
    "* **Clase**: molde o plano para crear objetos\n",
    "* **Objeto**: instancia específica de una clase\n",
    "* **Atributos**: características del objeto (color, forma, sabor)\n",
    "* **Métodos**: funciones asociadas al objeto que definen su comportamiento"
   ]
  },
  {
   "cell_type": "markdown",
   "id": "cd3da8df",
   "metadata": {},
   "source": [
    "## 3. Crear una clase en Python\n",
    "\n",
    "Usamos la palabra clave `class`. Por convención, el nombre de la clase empieza con mayúscula."
   ]
  },
  {
   "cell_type": "code",
   "execution_count": 1,
   "id": "5ef62c24",
   "metadata": {},
   "outputs": [],
   "source": [
    "class Mascota:\n",
    "    pass"
   ]
  },
  {
   "cell_type": "markdown",
   "id": "57c3b28a",
   "metadata": {},
   "source": [
    "## 4. El constructor `__init__()`\n",
    "\n",
    "Se llama automáticamente al crear un nuevo objeto. Sirve para definir los **atributos iniciales**."
   ]
  },
  {
   "cell_type": "code",
   "execution_count": 3,
   "id": "2e055559",
   "metadata": {},
   "outputs": [],
   "source": [
    "class Mascota:\n",
    "    def __init__(self, nombre, tipo):\n",
    "        self.nombre = nombre\n",
    "        self.tipo = tipo"
   ]
  },
  {
   "cell_type": "markdown",
   "id": "c8032528",
   "metadata": {},
   "source": [
    "* `self` representa al objeto mismo (como decir \"yo\")\n",
    "* Los parámetros son los datos que necesita cada objeto nuevo"
   ]
  },
  {
   "cell_type": "markdown",
   "id": "fdf7a412",
   "metadata": {},
   "source": [
    "## 5. Crear objetos a partir de la clase"
   ]
  },
  {
   "cell_type": "code",
   "execution_count": 4,
   "id": "581902bf",
   "metadata": {},
   "outputs": [],
   "source": [
    "mi_mascota = Mascota('Nikita', 'gato')\n",
    "mascota_Luciana = Mascota('Cora', 'gato')"
   ]
  },
  {
   "cell_type": "code",
   "execution_count": 9,
   "id": "e4299d13",
   "metadata": {},
   "outputs": [
    {
     "data": {
      "text/plain": [
       "'Nikita'"
      ]
     },
     "execution_count": 9,
     "metadata": {},
     "output_type": "execute_result"
    }
   ],
   "source": [
    "mi_mascota.nombre"
   ]
  },
  {
   "cell_type": "code",
   "execution_count": 10,
   "id": "74e3e995",
   "metadata": {},
   "outputs": [
    {
     "data": {
      "text/plain": [
       "'gato'"
      ]
     },
     "execution_count": 10,
     "metadata": {},
     "output_type": "execute_result"
    }
   ],
   "source": [
    "mi_mascota.tipo\n"
   ]
  },
  {
   "cell_type": "code",
   "execution_count": 11,
   "id": "2ac6cb6a",
   "metadata": {},
   "outputs": [
    {
     "data": {
      "text/plain": [
       "'Cora'"
      ]
     },
     "execution_count": 11,
     "metadata": {},
     "output_type": "execute_result"
    }
   ],
   "source": [
    "mascota_Luciana.nombre"
   ]
  },
  {
   "cell_type": "code",
   "execution_count": 12,
   "id": "1ef21dab",
   "metadata": {},
   "outputs": [
    {
     "data": {
      "text/plain": [
       "'gato'"
      ]
     },
     "execution_count": 12,
     "metadata": {},
     "output_type": "execute_result"
    }
   ],
   "source": [
    "mascota_Luciana.tipo\n"
   ]
  },
  {
   "cell_type": "code",
   "execution_count": 15,
   "id": "821c310e",
   "metadata": {},
   "outputs": [
    {
     "data": {
      "text/plain": [
       "str"
      ]
     },
     "execution_count": 15,
     "metadata": {},
     "output_type": "execute_result"
    }
   ],
   "source": [
    "cadena1 = 'ejemplo1'\n",
    "type(cadena1)\n"
   ]
  },
  {
   "cell_type": "code",
   "execution_count": 16,
   "id": "b3d31c2e",
   "metadata": {},
   "outputs": [
    {
     "data": {
      "text/plain": [
       "str"
      ]
     },
     "execution_count": 16,
     "metadata": {},
     "output_type": "execute_result"
    }
   ],
   "source": [
    "cadena2 = 'ejemplo2'\n",
    "type(cadena2)"
   ]
  },
  {
   "cell_type": "markdown",
   "id": "93de6e83",
   "metadata": {},
   "source": [
    "Cada objeto es independiente y tiene sus propios datos.\n"
   ]
  },
  {
   "cell_type": "markdown",
   "id": "955f7c4d",
   "metadata": {},
   "source": [
    "## 6. Añadir métodos a una clase\n",
    "\n",
    "Un **método** es una función definida dentro de una clase. Puede usar `self` para acceder a los atributos del objeto."
   ]
  },
  {
   "cell_type": "code",
   "execution_count": 20,
   "id": "944ccd5b",
   "metadata": {},
   "outputs": [
    {
     "name": "stdout",
     "output_type": "stream",
     "text": [
      "Hola, soy Pepito y soy un perro.\n"
     ]
    }
   ],
   "source": [
    "class Mascota:\n",
    "    def __init__(self, nombre, tipo):\n",
    "        self.nombre = nombre\n",
    "        self.tipo = tipo\n",
    "\n",
    "    def saludar(self):\n",
    "        print(f\"Hola, soy {self.nombre} y soy un {self.tipo}.\")\n",
    "\n",
    "mascota = Mascota('Pepito', 'perro')\n",
    "mascota.saludar()\n"
   ]
  },
  {
   "cell_type": "code",
   "execution_count": 22,
   "id": "25dbd29b",
   "metadata": {},
   "outputs": [],
   "source": [
    "class Persona:\n",
    "    def __init__(self, nombre, edad, ciudad):\n",
    "        self.nombre = nombre\n",
    "        self.edad = edad\n",
    "        self.ciudad = ciudad\n",
    "        self.amigos = []\n",
    "\n",
    "    # Método para saludar\n",
    "    def saludar(self):\n",
    "        print(f\"Hola, soy {self.nombre} y tengo {self.edad} años.\")\n",
    "\n",
    "    # Método para decir donde vive\n",
    "    def donde_vive(self):\n",
    "        print(f\"Vivo en {self.ciudad}.\")\n",
    "    \n",
    "    # Método para cumplir años\n",
    "    def cumplir_años(self):\n",
    "        self.edad += 1\n",
    "        print(f\"feliz cumpleaños {self.nombre}! Ahora tienes {self.edad} años.\")\n",
    "    \n",
    "    # Método para agregar amigos\n",
    "    def agregar_amigos(self, amigo):\n",
    "        self.amigos.append(amigo)\n",
    "\n",
    "    # Método para mostrar amigos\n",
    "    def mostrar_amigos(self):\n",
    "        if self.amigos: # if self.amigos == True\n",
    "            print(f\"{self.nombre} tiene estos amigos: {self.amigos}\")\n",
    "        else:\n",
    "            print(f\"{self.nombre} no tiene amigos aún.\")"
   ]
  },
  {
   "cell_type": "code",
   "execution_count": 23,
   "id": "a3f2ac21",
   "metadata": {},
   "outputs": [],
   "source": [
    "ana = Persona('Ana', 27, 'Madrid')\n",
    "luis = Persona('Luis', 25, 'Barcelona')"
   ]
  },
  {
   "cell_type": "code",
   "execution_count": 27,
   "id": "ec3c057a",
   "metadata": {},
   "outputs": [
    {
     "data": {
      "text/plain": [
       "'Ana'"
      ]
     },
     "execution_count": 27,
     "metadata": {},
     "output_type": "execute_result"
    }
   ],
   "source": [
    "ana.nombre"
   ]
  },
  {
   "cell_type": "code",
   "execution_count": 28,
   "id": "f74e79c9",
   "metadata": {},
   "outputs": [
    {
     "data": {
      "text/plain": [
       "27"
      ]
     },
     "execution_count": 28,
     "metadata": {},
     "output_type": "execute_result"
    }
   ],
   "source": [
    "ana.edad\n"
   ]
  },
  {
   "cell_type": "code",
   "execution_count": 29,
   "id": "cbed065e",
   "metadata": {},
   "outputs": [
    {
     "name": "stdout",
     "output_type": "stream",
     "text": [
      "Hola, soy Ana y tengo 27 años.\n"
     ]
    }
   ],
   "source": [
    "ana.saludar()"
   ]
  },
  {
   "cell_type": "code",
   "execution_count": 30,
   "id": "ed4bb438",
   "metadata": {},
   "outputs": [
    {
     "name": "stdout",
     "output_type": "stream",
     "text": [
      "Vivo en Madrid.\n"
     ]
    }
   ],
   "source": [
    "ana.donde_vive()"
   ]
  },
  {
   "cell_type": "code",
   "execution_count": 31,
   "id": "96df9afc",
   "metadata": {},
   "outputs": [
    {
     "name": "stdout",
     "output_type": "stream",
     "text": [
      "feliz cumpleaños Ana! Ahora tienes 28 años.\n"
     ]
    }
   ],
   "source": [
    "ana.cumplir_años()"
   ]
  },
  {
   "cell_type": "code",
   "execution_count": 32,
   "id": "d9fa127e",
   "metadata": {},
   "outputs": [
    {
     "data": {
      "text/plain": [
       "28"
      ]
     },
     "execution_count": 32,
     "metadata": {},
     "output_type": "execute_result"
    }
   ],
   "source": [
    "ana.edad"
   ]
  },
  {
   "cell_type": "code",
   "execution_count": 33,
   "id": "426cae3a",
   "metadata": {},
   "outputs": [],
   "source": [
    "ana.agregar_amigos('Marta')"
   ]
  },
  {
   "cell_type": "code",
   "execution_count": 35,
   "id": "75fa3380",
   "metadata": {},
   "outputs": [],
   "source": [
    "ana.agregar_amigos('Luis')"
   ]
  },
  {
   "cell_type": "code",
   "execution_count": 36,
   "id": "bc8fc9eb",
   "metadata": {},
   "outputs": [
    {
     "name": "stdout",
     "output_type": "stream",
     "text": [
      "Ana tiene estos amigos: ['Marta', 'Luis']\n"
     ]
    }
   ],
   "source": [
    "ana.mostrar_amigos()"
   ]
  },
  {
   "cell_type": "code",
   "execution_count": 37,
   "id": "17543774",
   "metadata": {},
   "outputs": [
    {
     "name": "stdout",
     "output_type": "stream",
     "text": [
      "Hola, soy Luis y tengo 25 años.\n"
     ]
    }
   ],
   "source": [
    "luis.saludar()"
   ]
  },
  {
   "cell_type": "code",
   "execution_count": 38,
   "id": "f86273b1",
   "metadata": {},
   "outputs": [
    {
     "name": "stdout",
     "output_type": "stream",
     "text": [
      "Luis no tiene amigos aún.\n"
     ]
    }
   ],
   "source": [
    "luis.mostrar_amigos()"
   ]
  }
 ],
 "metadata": {
  "kernelspec": {
   "display_name": "base",
   "language": "python",
   "name": "python3"
  },
  "language_info": {
   "codemirror_mode": {
    "name": "ipython",
    "version": 3
   },
   "file_extension": ".py",
   "mimetype": "text/x-python",
   "name": "python",
   "nbconvert_exporter": "python",
   "pygments_lexer": "ipython3",
   "version": "3.11.9"
  }
 },
 "nbformat": 4,
 "nbformat_minor": 5
}
