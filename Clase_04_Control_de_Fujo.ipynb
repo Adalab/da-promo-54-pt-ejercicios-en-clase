{
 "cells": [
  {
   "cell_type": "markdown",
   "id": "6287aaa0",
   "metadata": {},
   "source": [
    "# Sentencias de Control en Python"
   ]
  },
  {
   "cell_type": "markdown",
   "id": "09efdb10",
   "metadata": {},
   "source": [
    "### Condiciones\n",
    "\n",
    "Una **condición** es una expresión que siempre se evalúa como `True` o `False`. Las condiciones se usan en casi todas las sentencias de control. Son esencialmente expresiones booleanas.\n",
    "\n",
    "## 1. Comparaciones\n"
   ]
  },
  {
   "cell_type": "markdown",
   "id": "4e4fe024",
   "metadata": {},
   "source": [
    "Los **operadores de comparación** permiten que el programa tome decisiones:\n",
    "\n",
    "| Operador | Significado       | Ejemplo  | Resultado |\n",
    "| -------- | ----------------- | -------- | --------- |\n",
    "| `==`     | Igual a           | `3 == 3` | `True`    |\n",
    "| `!=`     | Distinto de       | `4 != 5` | `True`    |\n",
    "| `>`      | Mayor que         | `4 > 2`  | `True`    |\n",
    "| `<`      | Menor que         | `2 < 3`  | `True`    |\n",
    "| `>=`     | Mayor o igual que | `3 >= 3` | `True`    |\n",
    "| `<=`     | Menor o igual que | `2 <= 2` | `True`    |\n"
   ]
  },
  {
   "cell_type": "code",
   "execution_count": 1,
   "id": "d9bc0e17",
   "metadata": {},
   "outputs": [],
   "source": [
    "a1 = 0\n",
    "a2 = 1\n",
    "a3 = 2"
   ]
  },
  {
   "cell_type": "code",
   "execution_count": 2,
   "id": "94a271d5",
   "metadata": {},
   "outputs": [
    {
     "data": {
      "text/plain": [
       "True"
      ]
     },
     "execution_count": 2,
     "metadata": {},
     "output_type": "execute_result"
    }
   ],
   "source": [
    "a1 < a2"
   ]
  },
  {
   "cell_type": "code",
   "execution_count": 3,
   "id": "9a230e23",
   "metadata": {},
   "outputs": [
    {
     "data": {
      "text/plain": [
       "True"
      ]
     },
     "execution_count": 3,
     "metadata": {},
     "output_type": "execute_result"
    }
   ],
   "source": [
    "a3 >= a1"
   ]
  },
  {
   "cell_type": "code",
   "execution_count": 4,
   "id": "868d2692",
   "metadata": {},
   "outputs": [
    {
     "data": {
      "text/plain": [
       "False"
      ]
     },
     "execution_count": 4,
     "metadata": {},
     "output_type": "execute_result"
    }
   ],
   "source": [
    "'María' == 'Pepa'"
   ]
  },
  {
   "cell_type": "code",
   "execution_count": 7,
   "id": "483e9663",
   "metadata": {},
   "outputs": [
    {
     "data": {
      "text/plain": [
       "True"
      ]
     },
     "execution_count": 7,
     "metadata": {},
     "output_type": "execute_result"
    }
   ],
   "source": [
    "'María' == 'maría'.title()"
   ]
  },
  {
   "cell_type": "code",
   "execution_count": 6,
   "id": "6f6808c6",
   "metadata": {},
   "outputs": [
    {
     "data": {
      "text/plain": [
       "'Maria'"
      ]
     },
     "execution_count": 6,
     "metadata": {},
     "output_type": "execute_result"
    }
   ],
   "source": [
    "'maria'.title()"
   ]
  },
  {
   "cell_type": "code",
   "execution_count": 9,
   "id": "e9203c10",
   "metadata": {},
   "outputs": [
    {
     "data": {
      "text/plain": [
       "True"
      ]
     },
     "execution_count": 9,
     "metadata": {},
     "output_type": "execute_result"
    }
   ],
   "source": [
    "'z' > 'a'"
   ]
  },
  {
   "cell_type": "code",
   "execution_count": 10,
   "id": "f9b0d6d4",
   "metadata": {},
   "outputs": [
    {
     "data": {
      "text/plain": [
       "False"
      ]
     },
     "execution_count": 10,
     "metadata": {},
     "output_type": "execute_result"
    }
   ],
   "source": [
    "'naranja' > 'platano'"
   ]
  },
  {
   "cell_type": "code",
   "execution_count": 11,
   "id": "0b90130c",
   "metadata": {},
   "outputs": [
    {
     "data": {
      "text/plain": [
       "True"
      ]
     },
     "execution_count": 11,
     "metadata": {},
     "output_type": "execute_result"
    }
   ],
   "source": [
    "'y' in 'python'"
   ]
  },
  {
   "cell_type": "code",
   "execution_count": 13,
   "id": "1c5531f3",
   "metadata": {},
   "outputs": [
    {
     "data": {
      "text/plain": [
       "False"
      ]
     },
     "execution_count": 13,
     "metadata": {},
     "output_type": "execute_result"
    }
   ],
   "source": [
    "1 not in [1, 2, 3, 4]"
   ]
  },
  {
   "cell_type": "code",
   "execution_count": 15,
   "id": "7205de2d",
   "metadata": {},
   "outputs": [
    {
     "data": {
      "text/plain": [
       "True"
      ]
     },
     "execution_count": 15,
     "metadata": {},
     "output_type": "execute_result"
    }
   ],
   "source": [
    "45 in {1:'a', 45:'b'}"
   ]
  },
  {
   "cell_type": "markdown",
   "id": "5b39f9ac",
   "metadata": {},
   "source": [
    "## 2. Control de flujo: `if`, `else`, `elif`\n",
    "\n",
    "### ¿Qué es el control de flujo?\n",
    "\n",
    "Permite a Python decidir qué instrucciones ejecutar según ciertas condiciones.\n",
    "\n",
    "**Analogía**: Como elegir qué camino tomar según el clima: paraguas si llueve, gafas si hace sol, bufanda si hace frío.\n"
   ]
  },
  {
   "cell_type": "code",
   "execution_count": 16,
   "id": "9c7bb4cb",
   "metadata": {},
   "outputs": [
    {
     "data": {
      "text/plain": [
       "True"
      ]
     },
     "execution_count": 16,
     "metadata": {},
     "output_type": "execute_result"
    }
   ],
   "source": [
    "nombre = 'Pepa'\n",
    "nombre == 'Pepa'"
   ]
  },
  {
   "cell_type": "code",
   "execution_count": 19,
   "id": "a2b2024a",
   "metadata": {},
   "outputs": [
    {
     "name": "stdout",
     "output_type": "stream",
     "text": [
      "Hola Pepa\n",
      "¿Como estás?\n"
     ]
    }
   ],
   "source": [
    "# if > Permite ejecutar un bloque solo si se cumple una condición.\n",
    "\n",
    "nombre = 'Pepa'\n",
    "\n",
    "if nombre == 'Pepa':\n",
    "    print('Hola Pepa')\n",
    "    print('¿Como estás?')"
   ]
  },
  {
   "cell_type": "code",
   "execution_count": 23,
   "id": "69c6d200",
   "metadata": {},
   "outputs": [],
   "source": [
    "edad = 16\n",
    "\n",
    "if edad >= 18:\n",
    "    print('Eres mayor de edad.')"
   ]
  },
  {
   "cell_type": "markdown",
   "id": "f1ce7606",
   "metadata": {},
   "source": [
    "### else\n",
    "\n",
    "Permite definir un bloque **alternativo** que se ejecuta si la condición del `if` es falsa.\n"
   ]
  },
  {
   "cell_type": "code",
   "execution_count": null,
   "id": "70565e70",
   "metadata": {},
   "outputs": [
    {
     "name": "stdout",
     "output_type": "stream",
     "text": [
      "Hola desconocida\n"
     ]
    }
   ],
   "source": [
    "nombre = 'Marta'\n",
    "\n",
    "if nombre == 'Pepa':\n",
    "    print('Hola Pepa')\n",
    "    print('¿Como estás?')\n",
    "    print(2 + 3)\n",
    "else:\n",
    "    print('Hola desconocida')"
   ]
  },
  {
   "cell_type": "code",
   "execution_count": 27,
   "id": "ac96979d",
   "metadata": {},
   "outputs": [
    {
     "name": "stdout",
     "output_type": "stream",
     "text": [
      "Eres menor de edad.\n"
     ]
    }
   ],
   "source": [
    "edad = 15\n",
    "\n",
    "if edad >= 18:\n",
    "    print('Eres mayor de edad.')\n",
    "else:\n",
    "    print('Eres menor de edad.')"
   ]
  },
  {
   "cell_type": "markdown",
   "id": "4b3687e8",
   "metadata": {},
   "source": [
    "### elif\n",
    "\n",
    "Se usa para verificar **múltiples condiciones**. Se ejecuta solo si el `if` anterior fue falso, y su propia condición es verdadera.\n"
   ]
  },
  {
   "cell_type": "code",
   "execution_count": null,
   "id": "303c069d",
   "metadata": {},
   "outputs": [],
   "source": [
    "nota = 40\n",
    "if nota >= 90:\n",
    "    print('Excelente')\n",
    "elif nota >= 70:\n",
    "    print('Aprobado')\n",
    "elif nota >= 50:\n",
    "    print('Recuperación')\n",
    "else:\n",
    "    print('Reprobado')"
   ]
  },
  {
   "cell_type": "markdown",
   "id": "e585cbc5",
   "metadata": {},
   "source": [
    "Puedes tener varios `elif`, y opcionalmente un `else` al final.\n"
   ]
  },
  {
   "cell_type": "markdown",
   "id": "1a223ad4",
   "metadata": {},
   "source": [
    "\n",
    "### Importancia del orden en `elif`\n",
    "\n",
    "Solo se ejecuta la **primera condición verdadera**. Las siguientes se ignoran, incluso si también fueran verdaderas."
   ]
  },
  {
   "cell_type": "code",
   "execution_count": null,
   "id": "3bbc5289",
   "metadata": {},
   "outputs": [
    {
     "name": "stdout",
     "output_type": "stream",
     "text": [
      "Muy viejo\n"
     ]
    }
   ],
   "source": [
    "edad = 3000\n",
    "if edad < 12:\n",
    "    print(\"Niño\")\n",
    "elif edad > 100:\n",
    "    print(\"Muy viejo\")\n",
    "elif edad > 2000:\n",
    "    print(\"Vampiro inmortal\")  # Nunca se ejecuta si > 100 viene antes"
   ]
  },
  {
   "cell_type": "markdown",
   "id": "d270d4fa",
   "metadata": {},
   "source": [
    "### Buenas prácticas con if-elif-else\n",
    "\n",
    "* Empieza siempre con `if`\n",
    "* Luego opcionalmente varios `elif`\n",
    "* Finaliza con un `else` si quieres cubrir el \"caso por defecto\"\n"
   ]
  },
  {
   "cell_type": "markdown",
   "id": "d1cb9221",
   "metadata": {},
   "source": [
    "### `if` anidados"
   ]
  },
  {
   "cell_type": "code",
   "execution_count": 47,
   "id": "382073c8",
   "metadata": {},
   "outputs": [
    {
     "name": "stdout",
     "output_type": "stream",
     "text": [
      "el x es positivo\n",
      "la y es negativo\n",
      "Siguiente linea\n"
     ]
    }
   ],
   "source": [
    "x = 10\n",
    "y = -5\n",
    "\n",
    "if x > 0:\n",
    "    print('el x es positivo')\n",
    "    if y > 0:\n",
    "        print('Ambos positivos')\n",
    "    else:\n",
    "        print('la y es negativo')\n",
    "\n",
    "\n",
    "print('Siguiente linea')"
   ]
  },
  {
   "cell_type": "markdown",
   "id": "56ceda59",
   "metadata": {},
   "source": [
    "## Operadores lógicos en condicionales\n",
    "- `and`: todas las condiciones deben ser ciertas.\n",
    "- `or`: al menos una condición debe ser cierta.\n",
    "- `not`: invierte la condición."
   ]
  },
  {
   "cell_type": "code",
   "execution_count": 51,
   "id": "f754fffc",
   "metadata": {},
   "outputs": [],
   "source": [
    "edad = 15\n",
    "tiene_DNI = True\n",
    "\n",
    "if edad >= 18 and tiene_DNI == True:\n",
    "    print('Puede entrar')"
   ]
  },
  {
   "cell_type": "code",
   "execution_count": 50,
   "id": "6c53fbd0",
   "metadata": {},
   "outputs": [
    {
     "name": "stdout",
     "output_type": "stream",
     "text": [
      "Sí\n"
     ]
    }
   ],
   "source": [
    "if tiene_DNI:\n",
    "    print('Sí')"
   ]
  },
  {
   "cell_type": "code",
   "execution_count": 54,
   "id": "8b7650f6",
   "metadata": {},
   "outputs": [
    {
     "name": "stdout",
     "output_type": "stream",
     "text": [
      "acceso denegado\n"
     ]
    }
   ],
   "source": [
    "edad = 16\n",
    "tiene_permiso = False\n",
    "\n",
    "if edad >= 18 or tiene_permiso:\n",
    "    if edad < 18:\n",
    "        print('Acceso permitido con permiso especial')\n",
    "    else:\n",
    "        print('Acceso permitido')\n",
    "else:\n",
    "    print('acceso denegado')"
   ]
  },
  {
   "cell_type": "code",
   "execution_count": 57,
   "id": "86399dce",
   "metadata": {},
   "outputs": [
    {
     "name": "stdout",
     "output_type": "stream",
     "text": [
      "Verifica tu cuenta\n"
     ]
    }
   ],
   "source": [
    "activo = True\n",
    "verificado = False\n",
    "\n",
    "if verificado: # Esto es lo mismo que if verificado == True\n",
    "    if not activo:\n",
    "        print(\"Usuario verificado pero inactivo\")\n",
    "    else:\n",
    "        print(\"Usuario listo para usar\")\n",
    "else:\n",
    "    print(\"Verifica tu cuenta\")"
   ]
  },
  {
   "cell_type": "code",
   "execution_count": 59,
   "id": "ea0d45fe",
   "metadata": {},
   "outputs": [
    {
     "data": {
      "text/plain": [
       "True"
      ]
     },
     "execution_count": 59,
     "metadata": {},
     "output_type": "execute_result"
    }
   ],
   "source": [
    "estoy_cansada = True\n",
    "tengo_pereza = False\n",
    "llueve = True\n",
    "\n",
    "not tengo_pereza"
   ]
  },
  {
   "cell_type": "code",
   "execution_count": 61,
   "id": "881c6221",
   "metadata": {},
   "outputs": [
    {
     "name": "stdout",
     "output_type": "stream",
     "text": [
      "Voy caminando.\n"
     ]
    }
   ],
   "source": [
    "estoy_cansada = False\n",
    "tengo_pereza = False\n",
    "llueve = False\n",
    "\n",
    "if llueve:\n",
    "    if estoy_cansada or tengo_pereza:\n",
    "        print(\"Voy en coche.\")\n",
    "    else:\n",
    "        print(\"Voy en transporte público.\")\n",
    "else:\n",
    "    if not estoy_cansada and not tengo_pereza:\n",
    "        print(\"Voy caminando.\")\n",
    "    else:\n",
    "        print(\"Voy en moto.\")\n",
    "        "
   ]
  },
  {
   "cell_type": "markdown",
   "id": "5d21d782",
   "metadata": {},
   "source": [
    "## 3. Bucles `while`\n",
    "\n",
    "Permiten ejecutar un bloque múltiples veces mientras se cumpla una condición.\n",
    "\n",
    "> USAMOS UN `while` cuando no sabemos cuántas veces vamos a tener que ejecutar el bucle."
   ]
  },
  {
   "cell_type": "code",
   "execution_count": null,
   "id": "8d1531b9",
   "metadata": {},
   "outputs": [],
   "source": [
    "while condicion:\n",
    "    # bloque que se repite"
   ]
  },
  {
   "cell_type": "code",
   "execution_count": 68,
   "id": "44ef09fa",
   "metadata": {},
   "outputs": [
    {
     "data": {
      "text/plain": [
       "'0'"
      ]
     },
     "execution_count": 68,
     "metadata": {},
     "output_type": "execute_result"
    }
   ],
   "source": [
    "str(0)"
   ]
  },
  {
   "cell_type": "code",
   "execution_count": 71,
   "id": "6eaf0263",
   "metadata": {},
   "outputs": [
    {
     "name": "stdout",
     "output_type": "stream",
     "text": [
      "Hola\n",
      "contador: 0\n",
      "Hola\n",
      "contador: 1\n",
      "Hola\n",
      "contador: 2\n",
      "Hola\n",
      "contador: 3\n",
      "Hola\n",
      "contador: 4\n"
     ]
    }
   ],
   "source": [
    "contador = 0\n",
    "while contador < 5:\n",
    "    print(\"Hola\")\n",
    "    print('contador: ' + str(contador))\n",
    "    # print('contador:', contador)\n",
    "    # print(f'contador: {contador}')\n",
    "    contador += 1 # contador = contador + 1"
   ]
  },
  {
   "cell_type": "code",
   "execution_count": 72,
   "id": "b5c86578",
   "metadata": {},
   "outputs": [
    {
     "name": "stdout",
     "output_type": "stream",
     "text": [
      "Demasiado bajo\n",
      "Demasiado bajo\n",
      "Demasiado bajo\n",
      "Demasiado alto\n",
      "Demasiado bajo\n",
      "Correcto, has adivinado el número.\n"
     ]
    }
   ],
   "source": [
    "numero_secreto = 7\n",
    "intento = 0\n",
    "\n",
    "while intento != numero_secreto:\n",
    "    intento = int(input(\"Adivina el número (entre 1 y 10): \"))\n",
    "\n",
    "    if intento < numero_secreto:\n",
    "        print('Demasiado bajo')\n",
    "    elif intento > numero_secreto:\n",
    "        print('Demasiado alto')\n",
    "\n",
    "print('Correcto, has adivinado el número.')\n"
   ]
  },
  {
   "cell_type": "markdown",
   "id": "7ff1adc6",
   "metadata": {},
   "source": [
    "### Cuidado con bucles infinitos\n"
   ]
  },
  {
   "cell_type": "code",
   "execution_count": null,
   "id": "13f854b0",
   "metadata": {},
   "outputs": [],
   "source": [
    "while True: # No hacer esto!!!!\n",
    "    print(\"Nunca termina\")"
   ]
  }
 ],
 "metadata": {
  "kernelspec": {
   "display_name": "base",
   "language": "python",
   "name": "python3"
  },
  "language_info": {
   "codemirror_mode": {
    "name": "ipython",
    "version": 3
   },
   "file_extension": ".py",
   "mimetype": "text/x-python",
   "name": "python",
   "nbconvert_exporter": "python",
   "pygments_lexer": "ipython3",
   "version": "3.11.9"
  }
 },
 "nbformat": 4,
 "nbformat_minor": 5
}
