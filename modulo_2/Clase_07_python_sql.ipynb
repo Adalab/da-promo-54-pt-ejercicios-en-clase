{
 "cells": [
  {
   "cell_type": "markdown",
   "id": "f1183c1a",
   "metadata": {},
   "source": [
    "# Clase: Integración de MySQL con Python 🚀\n",
    "\n",
    "**🚨 NOTA IMPORTANTE: 🚨**\n",
    "Te recomendamos encarecidamente tener el **Workbench abierto** mientras ejecutas las celdas de este notebook. Esto te permitirá ver paso a paso cómo se ejecutan las órdenes desde Python en tu base de datos MySQL."
   ]
  },
  {
   "cell_type": "markdown",
   "id": "45f9b815",
   "metadata": {},
   "source": [
    "## 1. Configuración Inicial y Conexión a una Base de Datos MySQL desde Python\n",
    "\n",
    "Antes de sumergirnos en la conexión, es crucial asegurarnos de tener las librerías necesarias instaladas. Si aún no lo has hecho, ejecuta los siguientes comandos en tu terminal (asegúrate de que tu entorno `base` esté activo si usas Anaconda/Jupyter):\n",
    "\n",
    "```bash\n",
    "pip install mysql-connector-python\n",
    "# pip install pandas\n",
    "```\n",
    "\n",
    "Ahora, vamos a importar las librerías que utilizaremos a lo largo de esta clase. Siempre que queramos trabajar con librerías, debemos cargarlas previamente:\n",
    "\n",
    "### 1.1. Importar Librerías Esenciales\n"
   ]
  },
  {
   "cell_type": "code",
   "execution_count": 1,
   "id": "4801fe95",
   "metadata": {},
   "outputs": [],
   "source": [
    "import mysql.connector\n",
    "from mysql.connector import errorcode"
   ]
  },
  {
   "cell_type": "markdown",
   "id": "99de9edd",
   "metadata": {},
   "source": [
    "### 1.2. Estableciendo la Conexión con `connect()`\n",
    "\n",
    "El constructor `connect()` es el primer paso fundamental para establecer una comunicación entre tu script de Python y un servidor MySQL. Este constructor devuelve un objeto de tipo `MySQLConnection` que representa nuestra conexión.\n",
    "\n",
    "Los **argumentos clave** que se utilizan para conectar a una base de datos son:\n",
    "*   `user`: El nombre de usuario para autenticarse en el servidor MySQL (ej. 'root').\n",
    "*   `password`: La contraseña correspondiente al usuario.\n",
    "*   `host`: La dirección IP o el nombre del servidor MySQL al que te conectarás. Por defecto es \"localhost\" (o '127.0.0.1').\n",
    "*   `database`: El nombre de la base de datos específica a la que deseas conectarte (ej. 'tienda').\n",
    "*   `port`: (Opcional) El puerto TCP/IP del servidor MySQL, por defecto es 3306.\n",
    "\n",
    "Veamos un ejemplo básico de conexión a la base de datos \"tienda\":"
   ]
  },
  {
   "cell_type": "code",
   "execution_count": 2,
   "id": "74c7e3e7",
   "metadata": {},
   "outputs": [],
   "source": [
    "# Hacemos la conexión con el servidor\n",
    "cnx = mysql.connector.connect(\n",
    "    user='root',\n",
    "    password='MySQLPassword2023!',\n",
    "    host='127.0.0.1',\n",
    "    database='tienda'\n",
    ")"
   ]
  },
  {
   "cell_type": "code",
   "execution_count": 4,
   "id": "643416e5",
   "metadata": {},
   "outputs": [
    {
     "name": "stdout",
     "output_type": "stream",
     "text": [
      "<mysql.connector.connection.MySQLConnection object at 0x10eb6d410>\n",
      "Conexión cerrada.\n"
     ]
    }
   ],
   "source": [
    "# Imprimimos el objeto de conexión para verificar\n",
    "print(cnx)\n",
    "\n",
    "# ¡Importante! Siempre debemos cerrar la conexión cuando ya no la necesitemos\n",
    "cnx.close()\n",
    "print(\"Conexión cerrada.\")"
   ]
  },
  {
   "cell_type": "markdown",
   "id": "48f36129",
   "metadata": {},
   "source": [
    "### 1.3. Manejo de Errores en la Conexión con `try-except`\n",
    "\n",
    "En ocasiones, podemos sufrir errores de conexión (por ejemplo, contraseña incorrecta o base de datos inexistente). Es una buena práctica añadir **manejo de excepciones** usando `try-except` para evitar que nuestro código se detenga abruptamente y para proporcionar mensajes de error útiles. El módulo `errorcode` nos permite identificar tipos específicos de errores.\n"
   ]
  },
  {
   "cell_type": "code",
   "execution_count": 9,
   "id": "822eafa3",
   "metadata": {},
   "outputs": [
    {
     "name": "stdout",
     "output_type": "stream",
     "text": [
      "¡Conexión exitosa a MySQL!\n",
      "Conexión cerrada.\n"
     ]
    }
   ],
   "source": [
    "try:\n",
    "    # Intenta hacer la conexión con la base de datos 'tienda'\n",
    "    cnx = mysql.connector.connect(\n",
    "        user='root',\n",
    "        password='MySQLPassword2023!',\n",
    "        host='127.0.0.1',\n",
    "        database='tienda'\n",
    "    )\n",
    "    print(\"¡Conexión exitosa a MySQL!\") #\n",
    "\n",
    "except mysql.connector.Error as err:\n",
    "    # Si es un error de acceso denegado (ej. contraseña o usuario incorrecto)\n",
    "    if err.errno == errorcode.ER_ACCESS_DENIED_ERROR:\n",
    "        print(\"Algo está mal con tu nombre de usuario o contraseña.\") #\n",
    "    # Si la base de datos no existe\n",
    "    elif err.errno == errorcode.ER_BAD_DB_ERROR:\n",
    "        print(\"La base de datos no existe.\") #\n",
    "    # Para cualquier otro tipo de error\n",
    "    else:\n",
    "        print(err) #\n",
    "        print(\"Código de Error:\", err.errno) #\n",
    "        print(\"SQLSTATE\", err.sqlstate) #\n",
    "        print(\"Mensaje\", err.msg) #\n",
    "else:\n",
    "    # Si la conexión fue exitosa, cierra la conexión\n",
    "    cnx.close()\n",
    "    print(\"Conexión cerrada.\")"
   ]
  },
  {
   "cell_type": "markdown",
   "id": "e2c2aa01",
   "metadata": {},
   "source": [
    "### 1.4. Realización de Queries con `cursor()` y `execute()`\n",
    "\n",
    "Una vez que tenemos la conexión, el siguiente paso es ejecutar consultas SQL. Esto se logra mediante el uso del **método `cursor()`** y el **método `execute()`**.\n",
    "*   **`cursor()`**: Crea un objeto cursor, que es como la \"llave\" para interactuar entre Python y MySQL y es esencial para ejecutar consultas SQL.\n",
    "*   **`execute()`**: Envía una consulta SQL al servidor MySQL y la ejecuta. El resultado se almacena en el cursor si todo va correctamente.\n",
    "\n",
    "Podemos pasar cualquier tipo de query a `execute()`: crear tablas, alterar tablas, insertar datos, etc..\n",
    "\n",
    "**Ejemplo: Mostrar tablas de una base de datos**"
   ]
  },
  {
   "cell_type": "code",
   "execution_count": 10,
   "id": "f460dbcd",
   "metadata": {},
   "outputs": [
    {
     "name": "stdout",
     "output_type": "stream",
     "text": [
      "Tablas en la base de datos 'tienda':\n",
      "('customers',)\n",
      "('employees',)\n",
      "('offices',)\n",
      "('order_details',)\n",
      "('orders',)\n",
      "('payments',)\n",
      "('product_lines',)\n",
      "('products',)\n"
     ]
    }
   ],
   "source": [
    "cnx = mysql.connector.connect(\n",
    "    user='root',\n",
    "    password='MySQLPassword2023!',\n",
    "    host='127.0.0.1',\n",
    "    database='tienda'\n",
    ")\n",
    "\n",
    "mycursor = cnx.cursor() # Iniciamos el cursor\n",
    "\n",
    "mycursor.execute(\"SHOW TABLES\") # Ejecutamos la query\n",
    "\n",
    "# El cursor se convierte en un iterable al que podemos acceder, por ejemplo, con un bucle for\n",
    "print(\"Tablas en la base de datos 'tienda':\")\n",
    "for x in mycursor:\n",
    "    print(x) # Devuelve cada resultado como una tupla\n",
    "\n",
    "cnx.close()"
   ]
  },
  {
   "cell_type": "markdown",
   "id": "3f6d4d51",
   "metadata": {},
   "source": [
    "**Ejemplo: Crear una base de datos**\n",
    "\n",
    "Al crear una base de datos, no indicamos ninguna base de datos en la conexión inicial.\n"
   ]
  },
  {
   "cell_type": "code",
   "execution_count": 16,
   "id": "0ae516c2",
   "metadata": {},
   "outputs": [
    {
     "name": "stdout",
     "output_type": "stream",
     "text": [
      "1007 (HY000): Can't create database 'BD_pruebas'; database exists\n",
      "Código de Error: 1007\n",
      "SQLSTATE HY000\n",
      "Mensaje Can't create database 'BD_pruebas'; database exists\n"
     ]
    }
   ],
   "source": [
    "cnx = mysql.connector.connect(\n",
    "    user='root',\n",
    "    password='MySQLPassword2023!',\n",
    "    host='127.0.0.1'\n",
    ")\n",
    "\n",
    "mycursor = cnx.cursor()\n",
    "\n",
    "try:\n",
    "    mycursor.execute(\"CREATE DATABASE BD_pruebas\")\n",
    "    print(\"Base de datos 'BD_pruebas' creada exitosamente.\")\n",
    "except mysql.connector.Error as err:\n",
    "    print(err)\n",
    "    print(\"Código de Error:\", err.errno)\n",
    "    print(\"SQLSTATE\", err.sqlstate)\n",
    "    print(\"Mensaje\", err.msg)\n",
    "\n",
    "cnx.close()\n",
    "# Si ejecutas esta celda dos veces, obtendrás un aviso de que la base de datos ya existe.\n"
   ]
  },
  {
   "cell_type": "markdown",
   "id": "f85bdca2",
   "metadata": {},
   "source": [
    "**Ejemplo: Crear una tabla**\n"
   ]
  },
  {
   "cell_type": "code",
   "execution_count": 17,
   "id": "fa739362",
   "metadata": {},
   "outputs": [
    {
     "name": "stdout",
     "output_type": "stream",
     "text": [
      "Tabla 'customers' creada exitosamente en 'BD_pruebas'.\n"
     ]
    }
   ],
   "source": [
    "cnx = mysql.connector.connect(\n",
    "    user='root',\n",
    "    password='MySQLPassword2023!',\n",
    "    host='127.0.0.1',\n",
    "    database='BD_pruebas' # Ahora nos conectamos a la nueva DB\n",
    ")\n",
    "\n",
    "mycursor = cnx.cursor()\n",
    "\n",
    "try:\n",
    "    mycursor.execute(\"CREATE TABLE customers (name VARCHAR(255), address VARCHAR(255))\")\n",
    "    print(\"Tabla 'customers' creada exitosamente en 'BD_pruebas'.\")\n",
    "except mysql.connector.Error as err:\n",
    "    print(err)\n",
    "    print(\"Código de Error:\", err.errno)\n",
    "    print(\"SQLSTATE\", err.sqlstate)\n",
    "    print(\"Mensaje\", err.msg)\n",
    "\n",
    "cnx.close()"
   ]
  },
  {
   "cell_type": "markdown",
   "id": "5a201b2b",
   "metadata": {},
   "source": [
    "**Ejemplo: Insertar un único registro - Uso de `commit()` y `rollback()`**\n",
    "\n",
    "Para las sentencias `INSERT`, `UPDATE`, `DELETE`, es **necesario usar `cnx.commit()`** para que los cambios se efectúen permanentemente en la base de datos. Si no se llama a este método, las modificaciones no se guardarán.\n",
    "\n",
    "El método `rollback()` permite **deshacer una transacción** si aún no se ha ejecutado `commit()` y los datos introducidos son incorrectos.\n"
   ]
  },
  {
   "cell_type": "code",
   "execution_count": null,
   "id": "1072cba7",
   "metadata": {},
   "outputs": [
    {
     "name": "stdout",
     "output_type": "stream",
     "text": [
      "1 registro insertado.\n"
     ]
    }
   ],
   "source": [
    "cnx = mysql.connector.connect(\n",
    "    user='root',\n",
    "    password='MySQLPassword2023!',\n",
    "    host='127.0.0.1',\n",
    "    database='BD_pruebas'\n",
    ")\n",
    "\n",
    "mycursor = cnx.cursor()\n",
    "\n",
    "query = \"INSERT INTO customers (name, address) VALUES (%s, %s)\" # Usamos %s como placeholders\n",
    "val = (\"Ana\", \"Calle 21\") # Los valores se pasan como una tupla\n",
    "\n",
    "try:\n",
    "    mycursor.execute(query, val) # execute() recibe la query y los valores\n",
    "    cnx.commit() # Guarda los cambios en la base de datos\n",
    "    print(mycursor.rowcount, \"registro insertado.\") # rowcount devuelve el número de filas afectadas\n",
    "except mysql.connector.Error as err:\n",
    "    print(err)\n",
    "    print(\"Código de Error:\", err.errno)\n",
    "    print(\"SQLSTATE\", err.sqlstate)\n",
    "    print(\"Mensaje\", err.msg)\n",
    "\n",
    "cnx.close()\n"
   ]
  },
  {
   "cell_type": "code",
   "execution_count": null,
   "id": "21cca9a1",
   "metadata": {},
   "outputs": [
    {
     "name": "stdout",
     "output_type": "stream",
     "text": [
      "\n",
      "Demostración de rollback:\n",
      "inserción cancelada\n"
     ]
    }
   ],
   "source": [
    "# Ejemplo cuando el commit va bien !!!\n",
    "print(\"\\nDemostración de rollback:\")\n",
    "\n",
    "cnx = mysql.connector.connect(user='root', password='MySQLPassword2023!', host='127.0.0.1', database='BD_pruebas')\n",
    "mycursor = cnx.cursor()\n",
    "sql_multi = \"INSERT INTO customers (name, address) VALUES (%s, %s)\"\n",
    "val_multi = [\n",
    "    ('Rocio', 'Apple st 652'),\n",
    "    ('Sara', 'Mountain 21'),\n",
    "    ('Pedro', 'Valley 345')\n",
    "]\n",
    "\n",
    "try:\n",
    "    mycursor.executemany(sql_multi, val_multi)\n",
    "    # Si algo sale mal aquí con alguno de los valores nos vamos al except.\n",
    "except:\n",
    "    cnx.rollback()  # Cancela el INSERT\n",
    "    print(\"inserción cancelada\")\n",
    "else: # Se ejecuta si todo el try salió bien\n",
    "    cnx.commit()\n",
    "    print(mycursor.rowcount, \"valores insertados.\")\n",
    "finally: # Se ejecuta siempre\n",
    "    cnx.close()\n"
   ]
  },
  {
   "cell_type": "code",
   "execution_count": null,
   "id": "ba25883d",
   "metadata": {},
   "outputs": [],
   "source": [
    "# Ejemplo cuando salta un error en el try a la hora de insertar y nos vamos al rollback !!!\n",
    "print(\"\\nDemostración de rollback:\")\n",
    "\n",
    "cnx = mysql.connector.connect(user='root', password='MySQLPassword2023!', host='127.0.0.1', database='BD_pruebas')\n",
    "mycursor = cnx.cursor()\n",
    "sql_multi = \"INSERT INTO customers (name, address) VALUES (%s, %s)\"\n",
    "val_multi = [\n",
    "    ('Rocio', 'Apple st 652'),\n",
    "    ('Mountain 21'), # Hemos eliminado uno de los valores para forzar el error\n",
    "    ('Pedro', 'Valley 345')\n",
    "]\n",
    "\n",
    "try:\n",
    "    mycursor.executemany(sql_multi, val_multi)\n",
    "    # Si algo sale mal aquí con alguno de los valores nos vamos al except.\n",
    "except:\n",
    "    cnx.rollback()  # Cancela el INSERT\n",
    "    print(\"inserción cancelada\")\n",
    "else: # Se ejecuta si todo el try salió bien\n",
    "    cnx.commit()\n",
    "    print(mycursor.rowcount, \"valores insertados.\")\n",
    "finally: # Se ejecuta siempre\n",
    "    cnx.close()\n"
   ]
  },
  {
   "cell_type": "markdown",
   "id": "43a2b31d",
   "metadata": {},
   "source": [
    "**Ejemplo: Insertar múltiples registros con `executemany()`**\n",
    "\n",
    "Si necesitas insertar varias filas, usa `executemany()` con una lista de tuplas que contenga todos los datos.\n"
   ]
  },
  {
   "cell_type": "code",
   "execution_count": 20,
   "id": "09966005",
   "metadata": {},
   "outputs": [
    {
     "name": "stdout",
     "output_type": "stream",
     "text": [
      "3 registro/s insertado/s.\n"
     ]
    }
   ],
   "source": [
    "cnx = mysql.connector.connect(\n",
    "    user='root',\n",
    "    password='MySQLPassword2023!',\n",
    "    host='127.0.0.1',\n",
    "    database='BD_pruebas'\n",
    ")\n",
    "\n",
    "mycursor = cnx.cursor()\n",
    "\n",
    "sql_multi = \"INSERT INTO customers (name, address) VALUES (%s, %s)\"\n",
    "val_multi = [\n",
    "    ('Rocio', 'Apple st 652'),\n",
    "    ('Juana', 'Mountain 21'),\n",
    "    ('Pedro', 'Valley 345')\n",
    "] # Lista de tuplas\n",
    "\n",
    "try:\n",
    "    mycursor.executemany(sql_multi, val_multi) #\n",
    "    cnx.commit()\n",
    "    print(mycursor.rowcount, \"registro/s insertado/s.\") #\n",
    "except mysql.connector.Error as err:\n",
    "    print(err)\n",
    "\n",
    "cnx.close()"
   ]
  },
  {
   "cell_type": "markdown",
   "id": "934028ee",
   "metadata": {},
   "source": [
    "**Ejemplo: Eliminar registros**\n"
   ]
  },
  {
   "cell_type": "code",
   "execution_count": 21,
   "id": "028bf47d",
   "metadata": {},
   "outputs": [
    {
     "name": "stdout",
     "output_type": "stream",
     "text": [
      "1 registro/s eliminado/s.\n"
     ]
    }
   ],
   "source": [
    "cnx = mysql.connector.connect(\n",
    "    user='root',\n",
    "    password='MySQLPassword2023!',\n",
    "    host='127.0.0.1',\n",
    "    database='BD_pruebas'\n",
    ")\n",
    "\n",
    "mycursor = cnx.cursor()\n",
    "\n",
    "sql_delete = \"DELETE FROM customers WHERE address = 'Calle 21'\" \n",
    "\n",
    "try:\n",
    "    mycursor.execute(sql_delete)\n",
    "    cnx.commit()\n",
    "    print(mycursor.rowcount, \"registro/s eliminado/s.\")\n",
    "except mysql.connector.Error as err:\n",
    "    print(err)\n",
    "\n",
    "cnx.close()"
   ]
  },
  {
   "cell_type": "markdown",
   "id": "b7ac5cb2",
   "metadata": {},
   "source": [
    "**Ejemplo: Actualizar registros**\n"
   ]
  },
  {
   "cell_type": "code",
   "execution_count": 29,
   "id": "ef37b618",
   "metadata": {},
   "outputs": [
    {
     "name": "stdout",
     "output_type": "stream",
     "text": [
      "1 registro/s modificado/s.\n"
     ]
    }
   ],
   "source": [
    "cnx = mysql.connector.connect(\n",
    "    user='root',\n",
    "    password='MySQLPassword2023!',\n",
    "    host='127.0.0.1',\n",
    "    database='BD_pruebas'\n",
    ")\n",
    "\n",
    "mycursor = cnx.cursor()\n",
    "\n",
    "sql_update = \"UPDATE customers SET address = 'Canyon 123' WHERE address = 'Valley 345'\" #\n",
    "\n",
    "try:\n",
    "    mycursor.execute(sql_update)\n",
    "    cnx.commit()\n",
    "    print(mycursor.rowcount, \"registro/s modificado/s.\") #\n",
    "except mysql.connector.Error as err:\n",
    "    print(err)\n",
    "\n",
    "cnx.close()"
   ]
  },
  {
   "cell_type": "markdown",
   "id": "b5ce2e8f",
   "metadata": {},
   "source": [
    "## 2. Acceso a los Resultados de Nuestras Consultas\n",
    "\n",
    "Una vez que hemos ejecutado nuestras consultas, es momento de aprender cómo acceder a los resultados de manera eficiente para poder manipular y analizar la información.\n",
    "\n",
    "### 2.1. Acceder a Resultados de Uno en Uno con `fetchone()`\n",
    "\n",
    "El método `fetchone()` recupera **la primera fila** del resultado de la consulta y **avanza el cursor** al siguiente registro. Esto significa que cada vez que lo uses en el mismo cursor, te mostrará un dato diferente, uno a uno.\n"
   ]
  },
  {
   "cell_type": "code",
   "execution_count": 30,
   "id": "f4dddac3",
   "metadata": {},
   "outputs": [
    {
     "name": "stdout",
     "output_type": "stream",
     "text": [
      "El resultado 1 es:  (1002, 'Murphy', 'Diane', 'x5800', 'dmurphy@classicmodelcars.com', '1', None, 'President')\n"
     ]
    }
   ],
   "source": [
    "cnx = mysql.connector.connect(\n",
    "    host=\"localhost\",\n",
    "    user=\"root\",\n",
    "    password=\"MySQLPassword2023!\",\n",
    "    database=\"tienda\"\n",
    ")\n",
    "\n",
    "mycursor = cnx.cursor()\n",
    "mycursor.execute(\"SELECT * FROM employees\") # Ejecutamos una query en la tabla 'employees'\n",
    "\n",
    "# Primera llamada a fetchone()\n",
    "myresult_1 = mycursor.fetchone()\n",
    "print(\"El resultado 1 es: \", myresult_1) #\n",
    "\n"
   ]
  },
  {
   "cell_type": "code",
   "execution_count": 31,
   "id": "3693a601",
   "metadata": {},
   "outputs": [
    {
     "name": "stdout",
     "output_type": "stream",
     "text": [
      "El resultado 2 es:  (1056, 'Patterson', 'Mary', 'x4611', 'mpatterso@classicmodelcars.com', '1', 1002, 'VP Sales')\n"
     ]
    }
   ],
   "source": [
    "# Segunda llamada a fetchone() en el mismo cursor\n",
    "myresult_2 = mycursor.fetchone()\n",
    "print(\"El resultado 2 es: \", myresult_2) #"
   ]
  },
  {
   "cell_type": "code",
   "execution_count": 32,
   "id": "3b540448",
   "metadata": {},
   "outputs": [
    {
     "data": {
      "text/plain": [
       "(1076,\n",
       " 'Firrelli',\n",
       " 'Jeff',\n",
       " 'x9273',\n",
       " 'jfirrelli@classicmodelcars.com',\n",
       " '1',\n",
       " 1002,\n",
       " 'VP Marketing')"
      ]
     },
     "execution_count": 32,
     "metadata": {},
     "output_type": "execute_result"
    }
   ],
   "source": [
    "mycursor.fetchone()"
   ]
  },
  {
   "cell_type": "code",
   "execution_count": 33,
   "id": "1317db36",
   "metadata": {},
   "outputs": [
    {
     "data": {
      "text/plain": [
       "(1088,\n",
       " 'Patterson',\n",
       " 'William',\n",
       " 'x4871',\n",
       " 'wpatterson@classicmodelcars.com',\n",
       " '6',\n",
       " 1056,\n",
       " 'Sales Manager (APAC)')"
      ]
     },
     "execution_count": 33,
     "metadata": {},
     "output_type": "execute_result"
    }
   ],
   "source": [
    "mycursor.fetchone()\n"
   ]
  },
  {
   "cell_type": "code",
   "execution_count": 34,
   "id": "be1309ab",
   "metadata": {},
   "outputs": [],
   "source": [
    "# Ojo: Si no cerramos la conexión, cada vez que ejecutemos fetchone() pasará al siguiente registro.\n",
    "\n",
    "cnx.close()"
   ]
  },
  {
   "cell_type": "markdown",
   "id": "eaabe268",
   "metadata": {},
   "source": [
    "### 2.2. Acceder a Todos los Resultados con `fetchall()`\n",
    "\n",
    "Si deseas obtener **todos los resultados** devueltos por una consulta SQL de una sola vez, puedes utilizar el método `fetchall()`. Este método devuelve los resultados como una **lista de tuplas**, donde cada tupla representa una fila de la consulta.\n"
   ]
  },
  {
   "cell_type": "code",
   "execution_count": null,
   "id": "1c9a362f",
   "metadata": {},
   "outputs": [
    {
     "name": "stdout",
     "output_type": "stream",
     "text": [
      "Todos los resultados (lista de tuplas):\n",
      "[(1002, 'Murphy', 'Diane', 'x5800', 'dmurphy@classicmodelcars.com', '1', None, 'President'), (1056, 'Patterson', 'Mary', 'x4611', 'mpatterso@classicmodelcars.com', '1', 1002, 'VP Sales'), (1076, 'Firrelli', 'Jeff', 'x9273', 'jfirrelli@classicmodelcars.com', '1', 1002, 'VP Marketing'), (1088, 'Patterson', 'William', 'x4871', 'wpatterson@classicmodelcars.com', '6', 1056, 'Sales Manager (APAC)'), (1102, 'Bondur', 'Gerard', 'x5408', 'gbondur@classicmodelcars.com', '4', 1056, 'Sale Manager (EMEA)'), (1143, 'Bow', 'Anthony', 'x5428', 'abow@classicmodelcars.com', '1', 1056, 'Sales Manager (NA)'), (1165, 'Jennings', 'Leslie', 'x3291', 'ljennings@classicmodelcars.com', '1', 1143, 'Sales Rep'), (1166, 'Thompson', 'Leslie', 'x4065', 'lthompson@classicmodelcars.com', '1', 1143, 'Sales Rep'), (1188, 'Firrelli', 'Julie', 'x2173', 'jfirrelli@classicmodelcars.com', '2', 1143, 'Sales Rep'), (1216, 'Patterson', 'Steve', 'x4334', 'spatterson@classicmodelcars.com', '2', 1143, 'Sales Rep'), (1286, 'Tseng', 'Foon Yue', 'x2248', 'ftseng@classicmodelcars.com', '3', 1143, 'Sales Rep'), (1323, 'Vanauf', 'George', 'x4102', 'gvanauf@classicmodelcars.com', '3', 1143, 'Sales Rep'), (1337, 'Bondur', 'Loui', 'x6493', 'lbondur@classicmodelcars.com', '4', 1102, 'Sales Rep'), (1370, 'Hernandez', 'Gerard', 'x2028', 'ghernande@classicmodelcars.com', '4', 1102, 'Sales Rep'), (1401, 'Castillo', 'Pamela', 'x2759', 'pcastillo@classicmodelcars.com', '4', 1102, 'Sales Rep'), (1501, 'Bott', 'Larry', 'x2311', 'lbott@classicmodelcars.com', '7', 1102, 'Sales Rep'), (1504, 'Jones', 'Barry', 'x102', 'bjones@classicmodelcars.com', '7', 1102, 'Sales Rep'), (1611, 'Fixter', 'Andy', 'x101', 'afixter@classicmodelcars.com', '6', 1088, 'Sales Rep'), (1612, 'Marsh', 'Peter', 'x102', 'pmarsh@classicmodelcars.com', '6', 1088, 'Sales Rep'), (1619, 'King', 'Tom', 'x103', 'tking@classicmodelcars.com', '6', 1088, 'Sales Rep'), (1621, 'Nishi', 'Mami', 'x101', 'mnishi@classicmodelcars.com', '5', 1056, 'Sales Rep'), (1625, 'Kato', 'Yoshimi', 'x102', 'ykato@classicmodelcars.com', '5', 1621, 'Sales Rep'), (1702, 'Gerard', 'Martin', 'x2312', 'mgerard@classicmodelcars.com', '4', 1102, 'Sales Rep')]\n"
     ]
    }
   ],
   "source": [
    "cnx = mysql.connector.connect(\n",
    "    host=\"localhost\",\n",
    "    user=\"root\",\n",
    "    password=\"MySQLPassword2023!\",\n",
    "    database=\"tienda\"\n",
    ")\n",
    "\n",
    "mycursor = cnx.cursor()\n",
    "mycursor.execute(\"SELECT * FROM employees\")\n",
    "\n",
    "# Obtenemos todos los resultados\n",
    "myresults_all = mycursor.fetchall() # Devuelve lista de tuplas\n",
    "print(\"Todos los resultados (lista de tuplas):\")\n",
    "print(myresults_all) #\n",
    "\n",
    "\n"
   ]
  },
  {
   "cell_type": "code",
   "execution_count": 40,
   "id": "af4cc2e0",
   "metadata": {},
   "outputs": [
    {
     "data": {
      "text/plain": [
       "list"
      ]
     },
     "execution_count": 40,
     "metadata": {},
     "output_type": "execute_result"
    }
   ],
   "source": [
    "type(myresults_all)"
   ]
  },
  {
   "cell_type": "code",
   "execution_count": 37,
   "id": "b697d9ae",
   "metadata": {},
   "outputs": [
    {
     "name": "stdout",
     "output_type": "stream",
     "text": [
      "\n",
      "Accediendo a cada fila individualmente:\n",
      "(1002, 'Murphy', 'Diane', 'x5800', 'dmurphy@classicmodelcars.com', '1', None, 'President')\n",
      "(1056, 'Patterson', 'Mary', 'x4611', 'mpatterso@classicmodelcars.com', '1', 1002, 'VP Sales')\n",
      "(1076, 'Firrelli', 'Jeff', 'x9273', 'jfirrelli@classicmodelcars.com', '1', 1002, 'VP Marketing')\n",
      "(1088, 'Patterson', 'William', 'x4871', 'wpatterson@classicmodelcars.com', '6', 1056, 'Sales Manager (APAC)')\n",
      "(1102, 'Bondur', 'Gerard', 'x5408', 'gbondur@classicmodelcars.com', '4', 1056, 'Sale Manager (EMEA)')\n",
      "(1143, 'Bow', 'Anthony', 'x5428', 'abow@classicmodelcars.com', '1', 1056, 'Sales Manager (NA)')\n",
      "(1165, 'Jennings', 'Leslie', 'x3291', 'ljennings@classicmodelcars.com', '1', 1143, 'Sales Rep')\n",
      "(1166, 'Thompson', 'Leslie', 'x4065', 'lthompson@classicmodelcars.com', '1', 1143, 'Sales Rep')\n",
      "(1188, 'Firrelli', 'Julie', 'x2173', 'jfirrelli@classicmodelcars.com', '2', 1143, 'Sales Rep')\n",
      "(1216, 'Patterson', 'Steve', 'x4334', 'spatterson@classicmodelcars.com', '2', 1143, 'Sales Rep')\n",
      "(1286, 'Tseng', 'Foon Yue', 'x2248', 'ftseng@classicmodelcars.com', '3', 1143, 'Sales Rep')\n",
      "(1323, 'Vanauf', 'George', 'x4102', 'gvanauf@classicmodelcars.com', '3', 1143, 'Sales Rep')\n",
      "(1337, 'Bondur', 'Loui', 'x6493', 'lbondur@classicmodelcars.com', '4', 1102, 'Sales Rep')\n",
      "(1370, 'Hernandez', 'Gerard', 'x2028', 'ghernande@classicmodelcars.com', '4', 1102, 'Sales Rep')\n",
      "(1401, 'Castillo', 'Pamela', 'x2759', 'pcastillo@classicmodelcars.com', '4', 1102, 'Sales Rep')\n",
      "(1501, 'Bott', 'Larry', 'x2311', 'lbott@classicmodelcars.com', '7', 1102, 'Sales Rep')\n",
      "(1504, 'Jones', 'Barry', 'x102', 'bjones@classicmodelcars.com', '7', 1102, 'Sales Rep')\n",
      "(1611, 'Fixter', 'Andy', 'x101', 'afixter@classicmodelcars.com', '6', 1088, 'Sales Rep')\n",
      "(1612, 'Marsh', 'Peter', 'x102', 'pmarsh@classicmodelcars.com', '6', 1088, 'Sales Rep')\n",
      "(1619, 'King', 'Tom', 'x103', 'tking@classicmodelcars.com', '6', 1088, 'Sales Rep')\n",
      "(1621, 'Nishi', 'Mami', 'x101', 'mnishi@classicmodelcars.com', '5', 1056, 'Sales Rep')\n",
      "(1625, 'Kato', 'Yoshimi', 'x102', 'ykato@classicmodelcars.com', '5', 1621, 'Sales Rep')\n",
      "(1702, 'Gerard', 'Martin', 'x2312', 'mgerard@classicmodelcars.com', '4', 1102, 'Sales Rep')\n"
     ]
    }
   ],
   "source": [
    "# Podemos iterar sobre esta lista de tuplas para acceder a cada registro individualmente\n",
    "print(\"\\nAccediendo a cada fila individualmente:\")\n",
    "for row in myresults_all:\n",
    "    print(row) #\n",
    "\n",
    "cnx.close()"
   ]
  },
  {
   "cell_type": "code",
   "execution_count": 41,
   "id": "95733ed0",
   "metadata": {},
   "outputs": [],
   "source": [
    "# primero tenemos que importar la librería\n",
    "\n",
    "import pandas as pd  # El \"as\" es como darle un alias a la biblioteca que voy a usar...te recuerda al AS de las query de SQL?"
   ]
  },
  {
   "cell_type": "code",
   "execution_count": 44,
   "id": "754580d8",
   "metadata": {},
   "outputs": [],
   "source": [
    "# hacemos la conexión con el servidor\n",
    "cnx = mysql.connector.connect(user='root', password='MySQLPassword2023!',\n",
    "                              host='127.0.0.1',\n",
    "                              database='tienda')\n",
    "\n",
    "# iniciamos el cursor\n",
    "mycursor = cnx.cursor()\n",
    "\n",
    "# ejecutamos nuestra query\n",
    "mycursor.execute(\"SELECT * FROM employees\")\n",
    "\n",
    "# le decimos que nos devuelva todos los resultados y los almacenamos en una variable llamada myresult\n",
    "myresult = mycursor.fetchall()\n",
    "\n",
    "#Creamos un dataframe con los resultados de la consulta SQL almacenados en myresult. Si os fijáis le estamos pasando un parámetro llamado \"columns\" donde estamos especificando cuáles son las columnas de lo que será nuestro dataframe\n",
    "df = pd.DataFrame(myresult, columns = ['ID', 'Nombre', 'Apellido','Email','Telefono','Direccion','Ciudad','Pais'])\n",
    "\n",
    "#Cerramos la conexion\n",
    "cnx.close()"
   ]
  },
  {
   "cell_type": "code",
   "execution_count": 45,
   "id": "5677d0b4",
   "metadata": {},
   "outputs": [
    {
     "data": {
      "text/html": [
       "<div>\n",
       "<style scoped>\n",
       "    .dataframe tbody tr th:only-of-type {\n",
       "        vertical-align: middle;\n",
       "    }\n",
       "\n",
       "    .dataframe tbody tr th {\n",
       "        vertical-align: top;\n",
       "    }\n",
       "\n",
       "    .dataframe thead th {\n",
       "        text-align: right;\n",
       "    }\n",
       "</style>\n",
       "<table border=\"1\" class=\"dataframe\">\n",
       "  <thead>\n",
       "    <tr style=\"text-align: right;\">\n",
       "      <th></th>\n",
       "      <th>ID</th>\n",
       "      <th>Nombre</th>\n",
       "      <th>Apellido</th>\n",
       "      <th>Email</th>\n",
       "      <th>Telefono</th>\n",
       "      <th>Direccion</th>\n",
       "      <th>Ciudad</th>\n",
       "      <th>Pais</th>\n",
       "    </tr>\n",
       "  </thead>\n",
       "  <tbody>\n",
       "    <tr>\n",
       "      <th>0</th>\n",
       "      <td>1002</td>\n",
       "      <td>Murphy</td>\n",
       "      <td>Diane</td>\n",
       "      <td>x5800</td>\n",
       "      <td>dmurphy@classicmodelcars.com</td>\n",
       "      <td>1</td>\n",
       "      <td>NaN</td>\n",
       "      <td>President</td>\n",
       "    </tr>\n",
       "    <tr>\n",
       "      <th>1</th>\n",
       "      <td>1056</td>\n",
       "      <td>Patterson</td>\n",
       "      <td>Mary</td>\n",
       "      <td>x4611</td>\n",
       "      <td>mpatterso@classicmodelcars.com</td>\n",
       "      <td>1</td>\n",
       "      <td>1002.0</td>\n",
       "      <td>VP Sales</td>\n",
       "    </tr>\n",
       "    <tr>\n",
       "      <th>2</th>\n",
       "      <td>1076</td>\n",
       "      <td>Firrelli</td>\n",
       "      <td>Jeff</td>\n",
       "      <td>x9273</td>\n",
       "      <td>jfirrelli@classicmodelcars.com</td>\n",
       "      <td>1</td>\n",
       "      <td>1002.0</td>\n",
       "      <td>VP Marketing</td>\n",
       "    </tr>\n",
       "    <tr>\n",
       "      <th>3</th>\n",
       "      <td>1088</td>\n",
       "      <td>Patterson</td>\n",
       "      <td>William</td>\n",
       "      <td>x4871</td>\n",
       "      <td>wpatterson@classicmodelcars.com</td>\n",
       "      <td>6</td>\n",
       "      <td>1056.0</td>\n",
       "      <td>Sales Manager (APAC)</td>\n",
       "    </tr>\n",
       "    <tr>\n",
       "      <th>4</th>\n",
       "      <td>1102</td>\n",
       "      <td>Bondur</td>\n",
       "      <td>Gerard</td>\n",
       "      <td>x5408</td>\n",
       "      <td>gbondur@classicmodelcars.com</td>\n",
       "      <td>4</td>\n",
       "      <td>1056.0</td>\n",
       "      <td>Sale Manager (EMEA)</td>\n",
       "    </tr>\n",
       "    <tr>\n",
       "      <th>5</th>\n",
       "      <td>1143</td>\n",
       "      <td>Bow</td>\n",
       "      <td>Anthony</td>\n",
       "      <td>x5428</td>\n",
       "      <td>abow@classicmodelcars.com</td>\n",
       "      <td>1</td>\n",
       "      <td>1056.0</td>\n",
       "      <td>Sales Manager (NA)</td>\n",
       "    </tr>\n",
       "    <tr>\n",
       "      <th>6</th>\n",
       "      <td>1165</td>\n",
       "      <td>Jennings</td>\n",
       "      <td>Leslie</td>\n",
       "      <td>x3291</td>\n",
       "      <td>ljennings@classicmodelcars.com</td>\n",
       "      <td>1</td>\n",
       "      <td>1143.0</td>\n",
       "      <td>Sales Rep</td>\n",
       "    </tr>\n",
       "    <tr>\n",
       "      <th>7</th>\n",
       "      <td>1166</td>\n",
       "      <td>Thompson</td>\n",
       "      <td>Leslie</td>\n",
       "      <td>x4065</td>\n",
       "      <td>lthompson@classicmodelcars.com</td>\n",
       "      <td>1</td>\n",
       "      <td>1143.0</td>\n",
       "      <td>Sales Rep</td>\n",
       "    </tr>\n",
       "    <tr>\n",
       "      <th>8</th>\n",
       "      <td>1188</td>\n",
       "      <td>Firrelli</td>\n",
       "      <td>Julie</td>\n",
       "      <td>x2173</td>\n",
       "      <td>jfirrelli@classicmodelcars.com</td>\n",
       "      <td>2</td>\n",
       "      <td>1143.0</td>\n",
       "      <td>Sales Rep</td>\n",
       "    </tr>\n",
       "    <tr>\n",
       "      <th>9</th>\n",
       "      <td>1216</td>\n",
       "      <td>Patterson</td>\n",
       "      <td>Steve</td>\n",
       "      <td>x4334</td>\n",
       "      <td>spatterson@classicmodelcars.com</td>\n",
       "      <td>2</td>\n",
       "      <td>1143.0</td>\n",
       "      <td>Sales Rep</td>\n",
       "    </tr>\n",
       "    <tr>\n",
       "      <th>10</th>\n",
       "      <td>1286</td>\n",
       "      <td>Tseng</td>\n",
       "      <td>Foon Yue</td>\n",
       "      <td>x2248</td>\n",
       "      <td>ftseng@classicmodelcars.com</td>\n",
       "      <td>3</td>\n",
       "      <td>1143.0</td>\n",
       "      <td>Sales Rep</td>\n",
       "    </tr>\n",
       "    <tr>\n",
       "      <th>11</th>\n",
       "      <td>1323</td>\n",
       "      <td>Vanauf</td>\n",
       "      <td>George</td>\n",
       "      <td>x4102</td>\n",
       "      <td>gvanauf@classicmodelcars.com</td>\n",
       "      <td>3</td>\n",
       "      <td>1143.0</td>\n",
       "      <td>Sales Rep</td>\n",
       "    </tr>\n",
       "    <tr>\n",
       "      <th>12</th>\n",
       "      <td>1337</td>\n",
       "      <td>Bondur</td>\n",
       "      <td>Loui</td>\n",
       "      <td>x6493</td>\n",
       "      <td>lbondur@classicmodelcars.com</td>\n",
       "      <td>4</td>\n",
       "      <td>1102.0</td>\n",
       "      <td>Sales Rep</td>\n",
       "    </tr>\n",
       "    <tr>\n",
       "      <th>13</th>\n",
       "      <td>1370</td>\n",
       "      <td>Hernandez</td>\n",
       "      <td>Gerard</td>\n",
       "      <td>x2028</td>\n",
       "      <td>ghernande@classicmodelcars.com</td>\n",
       "      <td>4</td>\n",
       "      <td>1102.0</td>\n",
       "      <td>Sales Rep</td>\n",
       "    </tr>\n",
       "    <tr>\n",
       "      <th>14</th>\n",
       "      <td>1401</td>\n",
       "      <td>Castillo</td>\n",
       "      <td>Pamela</td>\n",
       "      <td>x2759</td>\n",
       "      <td>pcastillo@classicmodelcars.com</td>\n",
       "      <td>4</td>\n",
       "      <td>1102.0</td>\n",
       "      <td>Sales Rep</td>\n",
       "    </tr>\n",
       "    <tr>\n",
       "      <th>15</th>\n",
       "      <td>1501</td>\n",
       "      <td>Bott</td>\n",
       "      <td>Larry</td>\n",
       "      <td>x2311</td>\n",
       "      <td>lbott@classicmodelcars.com</td>\n",
       "      <td>7</td>\n",
       "      <td>1102.0</td>\n",
       "      <td>Sales Rep</td>\n",
       "    </tr>\n",
       "    <tr>\n",
       "      <th>16</th>\n",
       "      <td>1504</td>\n",
       "      <td>Jones</td>\n",
       "      <td>Barry</td>\n",
       "      <td>x102</td>\n",
       "      <td>bjones@classicmodelcars.com</td>\n",
       "      <td>7</td>\n",
       "      <td>1102.0</td>\n",
       "      <td>Sales Rep</td>\n",
       "    </tr>\n",
       "    <tr>\n",
       "      <th>17</th>\n",
       "      <td>1611</td>\n",
       "      <td>Fixter</td>\n",
       "      <td>Andy</td>\n",
       "      <td>x101</td>\n",
       "      <td>afixter@classicmodelcars.com</td>\n",
       "      <td>6</td>\n",
       "      <td>1088.0</td>\n",
       "      <td>Sales Rep</td>\n",
       "    </tr>\n",
       "    <tr>\n",
       "      <th>18</th>\n",
       "      <td>1612</td>\n",
       "      <td>Marsh</td>\n",
       "      <td>Peter</td>\n",
       "      <td>x102</td>\n",
       "      <td>pmarsh@classicmodelcars.com</td>\n",
       "      <td>6</td>\n",
       "      <td>1088.0</td>\n",
       "      <td>Sales Rep</td>\n",
       "    </tr>\n",
       "    <tr>\n",
       "      <th>19</th>\n",
       "      <td>1619</td>\n",
       "      <td>King</td>\n",
       "      <td>Tom</td>\n",
       "      <td>x103</td>\n",
       "      <td>tking@classicmodelcars.com</td>\n",
       "      <td>6</td>\n",
       "      <td>1088.0</td>\n",
       "      <td>Sales Rep</td>\n",
       "    </tr>\n",
       "    <tr>\n",
       "      <th>20</th>\n",
       "      <td>1621</td>\n",
       "      <td>Nishi</td>\n",
       "      <td>Mami</td>\n",
       "      <td>x101</td>\n",
       "      <td>mnishi@classicmodelcars.com</td>\n",
       "      <td>5</td>\n",
       "      <td>1056.0</td>\n",
       "      <td>Sales Rep</td>\n",
       "    </tr>\n",
       "    <tr>\n",
       "      <th>21</th>\n",
       "      <td>1625</td>\n",
       "      <td>Kato</td>\n",
       "      <td>Yoshimi</td>\n",
       "      <td>x102</td>\n",
       "      <td>ykato@classicmodelcars.com</td>\n",
       "      <td>5</td>\n",
       "      <td>1621.0</td>\n",
       "      <td>Sales Rep</td>\n",
       "    </tr>\n",
       "    <tr>\n",
       "      <th>22</th>\n",
       "      <td>1702</td>\n",
       "      <td>Gerard</td>\n",
       "      <td>Martin</td>\n",
       "      <td>x2312</td>\n",
       "      <td>mgerard@classicmodelcars.com</td>\n",
       "      <td>4</td>\n",
       "      <td>1102.0</td>\n",
       "      <td>Sales Rep</td>\n",
       "    </tr>\n",
       "  </tbody>\n",
       "</table>\n",
       "</div>"
      ],
      "text/plain": [
       "      ID     Nombre  Apellido  Email                         Telefono  \\\n",
       "0   1002     Murphy     Diane  x5800     dmurphy@classicmodelcars.com   \n",
       "1   1056  Patterson      Mary  x4611   mpatterso@classicmodelcars.com   \n",
       "2   1076   Firrelli      Jeff  x9273   jfirrelli@classicmodelcars.com   \n",
       "3   1088  Patterson   William  x4871  wpatterson@classicmodelcars.com   \n",
       "4   1102     Bondur    Gerard  x5408     gbondur@classicmodelcars.com   \n",
       "5   1143        Bow   Anthony  x5428        abow@classicmodelcars.com   \n",
       "6   1165   Jennings    Leslie  x3291   ljennings@classicmodelcars.com   \n",
       "7   1166   Thompson    Leslie  x4065   lthompson@classicmodelcars.com   \n",
       "8   1188   Firrelli     Julie  x2173   jfirrelli@classicmodelcars.com   \n",
       "9   1216  Patterson     Steve  x4334  spatterson@classicmodelcars.com   \n",
       "10  1286      Tseng  Foon Yue  x2248      ftseng@classicmodelcars.com   \n",
       "11  1323     Vanauf    George  x4102     gvanauf@classicmodelcars.com   \n",
       "12  1337     Bondur      Loui  x6493     lbondur@classicmodelcars.com   \n",
       "13  1370  Hernandez    Gerard  x2028   ghernande@classicmodelcars.com   \n",
       "14  1401   Castillo    Pamela  x2759   pcastillo@classicmodelcars.com   \n",
       "15  1501       Bott     Larry  x2311       lbott@classicmodelcars.com   \n",
       "16  1504      Jones     Barry   x102      bjones@classicmodelcars.com   \n",
       "17  1611     Fixter      Andy   x101     afixter@classicmodelcars.com   \n",
       "18  1612      Marsh     Peter   x102      pmarsh@classicmodelcars.com   \n",
       "19  1619       King       Tom   x103       tking@classicmodelcars.com   \n",
       "20  1621      Nishi      Mami   x101      mnishi@classicmodelcars.com   \n",
       "21  1625       Kato   Yoshimi   x102       ykato@classicmodelcars.com   \n",
       "22  1702     Gerard    Martin  x2312     mgerard@classicmodelcars.com   \n",
       "\n",
       "   Direccion  Ciudad                  Pais  \n",
       "0          1     NaN             President  \n",
       "1          1  1002.0              VP Sales  \n",
       "2          1  1002.0          VP Marketing  \n",
       "3          6  1056.0  Sales Manager (APAC)  \n",
       "4          4  1056.0   Sale Manager (EMEA)  \n",
       "5          1  1056.0    Sales Manager (NA)  \n",
       "6          1  1143.0             Sales Rep  \n",
       "7          1  1143.0             Sales Rep  \n",
       "8          2  1143.0             Sales Rep  \n",
       "9          2  1143.0             Sales Rep  \n",
       "10         3  1143.0             Sales Rep  \n",
       "11         3  1143.0             Sales Rep  \n",
       "12         4  1102.0             Sales Rep  \n",
       "13         4  1102.0             Sales Rep  \n",
       "14         4  1102.0             Sales Rep  \n",
       "15         7  1102.0             Sales Rep  \n",
       "16         7  1102.0             Sales Rep  \n",
       "17         6  1088.0             Sales Rep  \n",
       "18         6  1088.0             Sales Rep  \n",
       "19         6  1088.0             Sales Rep  \n",
       "20         5  1056.0             Sales Rep  \n",
       "21         5  1621.0             Sales Rep  \n",
       "22         4  1102.0             Sales Rep  "
      ]
     },
     "execution_count": 45,
     "metadata": {},
     "output_type": "execute_result"
    }
   ],
   "source": [
    "df"
   ]
  }
 ],
 "metadata": {
  "kernelspec": {
   "display_name": "base",
   "language": "python",
   "name": "python3"
  },
  "language_info": {
   "codemirror_mode": {
    "name": "ipython",
    "version": 3
   },
   "file_extension": ".py",
   "mimetype": "text/x-python",
   "name": "python",
   "nbconvert_exporter": "python",
   "pygments_lexer": "ipython3",
   "version": "3.11.9"
  }
 },
 "nbformat": 4,
 "nbformat_minor": 5
}
