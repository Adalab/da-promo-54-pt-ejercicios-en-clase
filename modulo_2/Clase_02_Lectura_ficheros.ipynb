{
 "cells": [
  {
   "cell_type": "markdown",
   "id": "09ac8b12",
   "metadata": {},
   "source": [
    "# 🗂️ Clase: Lectura de Ficheros con Python\n",
    "\n",
    "## Introducción\n",
    "\n",
    "Hoy aprenderemos a trabajar con distintos tipos de archivos que se usan comúnmente en análisis de datos. Exploraremos:\n",
    "\n",
    "* Archivos **XML**\n",
    "* Archivos **JSON**\n",
    "* Archivos **CSV**\n",
    "* Archivos **Excel**\n",
    "* Lectura usando **Python puro** y también con la librería **Pandas**\n",
    "\n",
    "---"
   ]
  },
  {
   "cell_type": "markdown",
   "id": "2b03f199",
   "metadata": {},
   "source": [
    "## 1. Archivos XML con Python\n",
    "\n",
    "### ¿Qué es XML?\n",
    "\n",
    "El formato XML (Extensible Markup Language) es un lenguaje de marcado que se utiliza para codificar y estructurar datos de manera que sean legibles tanto para las máquinas como para los seres humanos. Los datos se organizan mediante **etiquetas** que definen la estructura jerárquica. Cada etiqueta tiene una apertura `<etiqueta>` y un cierre `</etiqueta>`, y puede contener datos o subetiquetas anidadas. XML se utiliza para **almacenar y transportar datos de manera organizada y estructurada**.\n",
    "\n",
    "```xml\n",
    "<correo>\n",
    "  <to>María</to>\n",
    "  <from><name>Ada</name><email>ada@adalab.es</email></from>\n",
    "  <heading>¿Qué tal?</heading>\n",
    "  <body>Hola Mari...</body>\n",
    "</correo>\n",
    "```\n",
    "\n",
    "**Librería:**\n",
    "Usaremos el módulo `xml.etree.ElementTree`, que es parte de la biblioteca estándar de Python, por lo que **no necesitas instalar nada extra**. Permite manipular archivos XML de manera eficiente. Lo llamamos importando:"
   ]
  },
  {
   "cell_type": "code",
   "execution_count": 2,
   "id": "aa4d9d38",
   "metadata": {},
   "outputs": [],
   "source": [
    "import xml.etree.ElementTree as ET # Le dimos un \"alias\" de ET"
   ]
  },
  {
   "cell_type": "markdown",
   "id": "3c7bf3f5",
   "metadata": {},
   "source": [
    "**Métodos clave:**\n",
    "\n",
    "1.  **`ET.parse()`**: Nos permite **cargar un archivo XML** para poder trabajarlo. Una vez que lo cargamos, podemos recorrerlo como si fuera un árbol con nodos."
   ]
  },
  {
   "cell_type": "code",
   "execution_count": 3,
   "id": "34e98654",
   "metadata": {},
   "outputs": [],
   "source": [
    "tree = ET.parse('contacto.xml') # dentro del método parse incluimos el archivo a leer"
   ]
  },
  {
   "cell_type": "code",
   "execution_count": 4,
   "id": "7c702c51",
   "metadata": {},
   "outputs": [
    {
     "data": {
      "text/plain": [
       "<xml.etree.ElementTree.ElementTree at 0x1122b63d0>"
      ]
     },
     "execution_count": 4,
     "metadata": {},
     "output_type": "execute_result"
    }
   ],
   "source": [
    "tree"
   ]
  },
  {
   "cell_type": "code",
   "execution_count": 5,
   "id": "247deaec",
   "metadata": {},
   "outputs": [
    {
     "data": {
      "text/plain": [
       "xml.etree.ElementTree.ElementTree"
      ]
     },
     "execution_count": 5,
     "metadata": {},
     "output_type": "execute_result"
    }
   ],
   "source": [
    "type(tree)"
   ]
  },
  {
   "cell_type": "markdown",
   "id": "c6bb1bef",
   "metadata": {},
   "source": [
    "2.  **`getroot()`**: Nos devuelve el **elemento raíz del archivo XML**."
   ]
  },
  {
   "cell_type": "code",
   "execution_count": 6,
   "id": "6a4aa736",
   "metadata": {},
   "outputs": [],
   "source": [
    "root = tree.getroot()"
   ]
  },
  {
   "cell_type": "code",
   "execution_count": 9,
   "id": "610db5b4",
   "metadata": {},
   "outputs": [
    {
     "data": {
      "text/plain": [
       "<Element 'contact-info' at 0x112a2e980>"
      ]
     },
     "execution_count": 9,
     "metadata": {},
     "output_type": "execute_result"
    }
   ],
   "source": [
    "root"
   ]
  },
  {
   "cell_type": "code",
   "execution_count": 10,
   "id": "5f1ec2c6",
   "metadata": {},
   "outputs": [
    {
     "data": {
      "text/plain": [
       "xml.etree.ElementTree.Element"
      ]
     },
     "execution_count": 10,
     "metadata": {},
     "output_type": "execute_result"
    }
   ],
   "source": [
    "type(root)"
   ]
  },
  {
   "cell_type": "markdown",
   "id": "43cc3f39",
   "metadata": {},
   "source": [
    "Cada elemento, incluyendo el root, tiene un **`tag`** (nombre) y puede tener **`attrib`** (atributos)."
   ]
  },
  {
   "cell_type": "code",
   "execution_count": 11,
   "id": "2f7a603e",
   "metadata": {},
   "outputs": [
    {
     "name": "stdout",
     "output_type": "stream",
     "text": [
      "contact-info\n",
      "{}\n"
     ]
    }
   ],
   "source": [
    "print(root.tag) # imprimimos cuál es la raíz, el padre de nuestro archivo xml\n",
    "print(root.attrib) # sacamos los atributos de nuestro fichero"
   ]
  },
  {
   "cell_type": "markdown",
   "id": "c50c8221",
   "metadata": {},
   "source": [
    "3.  **Navegar la estructura**: Puedes iterar por cada hijo de root y ver la estructura."
   ]
  },
  {
   "cell_type": "code",
   "execution_count": 12,
   "id": "6bcbb6bd",
   "metadata": {},
   "outputs": [
    {
     "name": "stdout",
     "output_type": "stream",
     "text": [
      "contact\n",
      "contact\n",
      "socialmedia\n"
     ]
    }
   ],
   "source": [
    "for child in root:\n",
    "    print(child.tag)"
   ]
  },
  {
   "cell_type": "code",
   "execution_count": 13,
   "id": "d72bb4bb",
   "metadata": {},
   "outputs": [
    {
     "name": "stdout",
     "output_type": "stream",
     "text": [
      "contact: Es un hijo de nuestra raíz 'contact-info'\n",
      "type: Es un nieto de nuestra raíz 'contact-info'\n",
      "url: Es un nieto de nuestra raíz 'contact-info'\n",
      "contact: Es un hijo de nuestra raíz 'contact-info'\n",
      "type: Es un nieto de nuestra raíz 'contact-info'\n",
      "address: Es un nieto de nuestra raíz 'contact-info'\n",
      "socialmedia: Es un hijo de nuestra raíz 'contact-info'\n",
      "profile: Es un nieto de nuestra raíz 'contact-info'\n",
      "profile: Es un nieto de nuestra raíz 'contact-info'\n",
      "profile: Es un nieto de nuestra raíz 'contact-info'\n",
      "profile: Es un nieto de nuestra raíz 'contact-info'\n",
      "profile: Es un nieto de nuestra raíz 'contact-info'\n"
     ]
    }
   ],
   "source": [
    "for child in root:\n",
    "    print(f\"{child.tag}: Es un hijo de nuestra raíz '{root.tag}'\" ) # Modificado para generalizar\n",
    "    for subchild in child:\n",
    "        print(f\"{subchild.tag}: Es un nieto de nuestra raíz '{root.tag}'\" ) # Modificado para generalizar"
   ]
  },
  {
   "cell_type": "markdown",
   "id": "4ca1d77f",
   "metadata": {},
   "source": [
    "La estructura sigue un árbol, con una rama principal (la raíz) de la que salen otras ramas (hijos), y de estas a su vez salen más ramas (nietos)."
   ]
  },
  {
   "cell_type": "markdown",
   "id": "208f1e9a",
   "metadata": {},
   "source": [
    "4.  **`.find()`**: Se utiliza para buscar el **primer subelemento** que coincide con la etiqueta que le pasamos como argumento. Con `.text` accedes al contenido.\n"
   ]
  },
  {
   "cell_type": "code",
   "execution_count": 15,
   "id": "b43c76a2",
   "metadata": {},
   "outputs": [
    {
     "name": "stdout",
     "output_type": "stream",
     "text": [
      "Website\n",
      "https://adalab.es/\n"
     ]
    }
   ],
   "source": [
    "# Ejemplo de acceso anidado\n",
    "print(root.find('contact').find('type').text) \n",
    "print(root.find('contact').find('url').text) "
   ]
  },
  {
   "cell_type": "markdown",
   "id": "754f3485",
   "metadata": {},
   "source": [
    "5.  **`.findall()`**: Obtiene **todos los elementos** que tienen una etiqueta específica. Nos da una lista de todos los elementos cuyo tag coincide con el string dado."
   ]
  },
  {
   "cell_type": "code",
   "execution_count": 16,
   "id": "46bee992",
   "metadata": {},
   "outputs": [
    {
     "data": {
      "text/plain": [
       "[<Element 'contact' at 0x112a2e930>, <Element 'contact' at 0x112a2eb10>]"
      ]
     },
     "execution_count": 16,
     "metadata": {},
     "output_type": "execute_result"
    }
   ],
   "source": [
    "root.findall('contact')"
   ]
  },
  {
   "cell_type": "code",
   "execution_count": 17,
   "id": "897c9f2a",
   "metadata": {},
   "outputs": [
    {
     "name": "stdout",
     "output_type": "stream",
     "text": [
      "<Element 'contact' at 0x112a2e930>\n",
      "<Element 'contact' at 0x112a2eb10>\n"
     ]
    }
   ],
   "source": [
    "for contact in root.findall('contact'):\n",
    "    print(contact)"
   ]
  },
  {
   "cell_type": "code",
   "execution_count": 18,
   "id": "60faaac6",
   "metadata": {},
   "outputs": [
    {
     "name": "stdout",
     "output_type": "stream",
     "text": [
      "Website\n",
      "Mail\n"
     ]
    }
   ],
   "source": [
    "# iteramos por el hijo \"contact\" y accedemos a todos los elementos con tag 'type' dentro de cada contact\n",
    "for contact in root.findall('contact'):\n",
    "    print(contact.find('type').text) # dentro de este sacamos su contenido"
   ]
  },
  {
   "cell_type": "code",
   "execution_count": 19,
   "id": "2ede7063",
   "metadata": {},
   "outputs": [
    {
     "data": {
      "text/plain": [
       "<Element 'socialmedia' at 0x112a2ec00>"
      ]
     },
     "execution_count": 19,
     "metadata": {},
     "output_type": "execute_result"
    }
   ],
   "source": [
    "root.find('socialmedia')"
   ]
  },
  {
   "cell_type": "code",
   "execution_count": 20,
   "id": "c2275299",
   "metadata": {},
   "outputs": [
    {
     "data": {
      "text/plain": [
       "[<Element 'profile' at 0x112a2ec50>,\n",
       " <Element 'profile' at 0x112a2ed40>,\n",
       " <Element 'profile' at 0x112a2ee30>,\n",
       " <Element 'profile' at 0x112a2ef20>,\n",
       " <Element 'profile' at 0x112a2f010>]"
      ]
     },
     "execution_count": 20,
     "metadata": {},
     "output_type": "execute_result"
    }
   ],
   "source": [
    "root.find('socialmedia').findall('profile')"
   ]
  },
  {
   "cell_type": "code",
   "execution_count": 22,
   "id": "b7dcf2de",
   "metadata": {},
   "outputs": [
    {
     "name": "stdout",
     "output_type": "stream",
     "text": [
      "Twitter\n",
      "https://twitter.com/Adalab_Digital\n",
      "Facebook\n",
      "https://www.facebook.com/AdalabDigital/\n",
      "Linkedin\n",
      "https://www.linkedin.com/school/adalab/\n",
      "Instagram\n",
      "https://www.instagram.com/adalab_digital/\n",
      "Youtube\n",
      "https://www.youtube.com/channel/UCYmHARvTgsUrm5YdSYwzmDg\n"
     ]
    }
   ],
   "source": [
    "# Ejemplo para otro elemento anidado\n",
    "for subelement in root.find('socialmedia').findall('profile'):\n",
    "    print(subelement.find('name').text)\n",
    "    print(subelement.find('url').text)\n"
   ]
  },
  {
   "cell_type": "markdown",
   "id": "4aadb49d",
   "metadata": {},
   "source": [
    "## 2. Archivos JSON con Python\n",
    "\n",
    "### ¿Qué es JSON?\n",
    "\n",
    "El formato JSON (JavaScript Object Notation) es **ligero y fácil de leer**. Es muy popular y lo verás mucho en APIs y aplicaciones web. Estructura datos usando **pares clave-valor**, como los diccionarios en Python. Es como un diccionario de Python pero en formato de texto.\n",
    "\n",
    "```json\n",
    "{\n",
    "  \"nombre\": \"Ana\",\n",
    "  \"edad\": 25,\n",
    "  \"cursos\": [\"Python\", \"Data Analyst\"]\n",
    "}\n",
    "```\n",
    "\n",
    "**Librería:**\n",
    "Usaremos el módulo `json` (también estándar, no hace falta instalarla). Esto nos permite convertir datos entre JSON y objetos de Python (como diccionarios y listas)."
   ]
  },
  {
   "cell_type": "code",
   "execution_count": 23,
   "id": "07803f12",
   "metadata": {},
   "outputs": [],
   "source": [
    "import json"
   ]
  },
  {
   "cell_type": "code",
   "execution_count": 27,
   "id": "6aebd799",
   "metadata": {},
   "outputs": [],
   "source": [
    "with open(\"data/personal.json\") as fichero:\n",
    "    data = json.load(fichero)"
   ]
  },
  {
   "cell_type": "code",
   "execution_count": null,
   "id": "d42d1c66",
   "metadata": {},
   "outputs": [
    {
     "data": {
      "text/plain": [
       "{'workers': [{'nombre': 'Ana',\n",
       "   'edad': 34,\n",
       "   'experiencia': 5,\n",
       "   'nivel': 'Senior',\n",
       "   'salario': 50000,\n",
       "   'mascota': 'gatos'},\n",
       "  {'nombre': 'Eva',\n",
       "   'edad': 37,\n",
       "   'experiencia': 2,\n",
       "   'nivel': 'Mid',\n",
       "   'salario': 35000},\n",
       "  {'nombre': 'Marta',\n",
       "   'edad': 27,\n",
       "   'experiencia': 1,\n",
       "   'nivel': 'Junior',\n",
       "   'salario': 25000},\n",
       "  {'nombre': 'Paula',\n",
       "   'edad': 30,\n",
       "   'experiencia': 3,\n",
       "   'nivel': 'Mid',\n",
       "   'salario': 35000}]}"
      ]
     },
     "execution_count": 28,
     "metadata": {},
     "output_type": "execute_result"
    }
   ],
   "source": [
    "data"
   ]
  },
  {
   "cell_type": "markdown",
   "id": "f339f8e3",
   "metadata": {},
   "source": [
    "# 📂 Cómo abrir archivos en Python\n",
    "\n",
    "## 1. ¿Qué es `open()`?\n",
    "\n",
    "La función `open()` se usa para abrir archivos en Python. Necesita al menos dos argumentos:\n",
    "\n",
    "```python\n",
    "open(nombre_archivo, modo)\n",
    "```\n",
    "\n",
    "* `nombre_archivo`: nombre del fichero o ruta.\n",
    "* `modo`:\n",
    "\n",
    "  * `'r'` → leer (modo por defecto)\n",
    "  * `'w'` → escribir (sobrescribe el archivo)\n",
    "  * `'a'` → añadir al final\n",
    "  * `'b'` → modo binario (por ejemplo: `'rb'`, `'wb'`)\n",
    "  * `'x'` → crear un nuevo archivo (falla si ya existe)\n",
    "\n",
    "---\n",
    "\n",
    "## 2. Usando `open()` SIN `with` (versión manual)\n",
    "\n",
    "```python\n",
    "archivo = open(\"ejemplo.txt\", \"r\")  # Abrimos el archivo en modo lectura\n",
    "contenido = archivo.read()          # Leemos el contenido\n",
    "print(contenido)\n",
    "archivo.close()                     # Cerramos el archivo (¡muy importante!)\n",
    "```\n",
    "\n",
    "📌 *Recuerda:* si **no cierras** el archivo con `.close()`, puede causar errores o pérdida de datos.\n",
    "\n",
    "---\n",
    "\n",
    "## 3. Usando `open()` CON `with` (forma recomendada)\n",
    "\n",
    "```python\n",
    "with open(\"ejemplo.txt\", \"r\") as archivo:\n",
    "    contenido = archivo.read()\n",
    "    print(contenido)\n",
    "```\n",
    "\n",
    "### ¿Qué hace `with`?\n",
    "\n",
    "* **Abre** el archivo.\n",
    "* **Lo cierra automáticamente** al salir del bloque.\n",
    "* Evita olvidarse del `.close()`.\n",
    "* Es más limpio y seguro.\n",
    "\n",
    "---\n",
    "\n",
    "## 4. Otros métodos útiles:\n",
    "\n",
    "```python\n",
    "archivo.read()       # Lee todo el contenido\n",
    "archivo.readline()   # Lee una sola línea\n",
    "archivo.readlines()  # Devuelve una lista con todas las líneas\n",
    "archivo.write(texto) # Escribe texto en el archivo\n",
    "```\n",
    "\n",
    "---\n"
   ]
  },
  {
   "cell_type": "code",
   "execution_count": 29,
   "id": "deb7c975",
   "metadata": {},
   "outputs": [
    {
     "data": {
      "text/plain": [
       "{'workers': [{'nombre': 'Ana',\n",
       "   'edad': 34,\n",
       "   'experiencia': 5,\n",
       "   'nivel': 'Senior',\n",
       "   'salario': 50000,\n",
       "   'mascota': 'gatos'},\n",
       "  {'nombre': 'Eva',\n",
       "   'edad': 37,\n",
       "   'experiencia': 2,\n",
       "   'nivel': 'Mid',\n",
       "   'salario': 35000},\n",
       "  {'nombre': 'Marta',\n",
       "   'edad': 27,\n",
       "   'experiencia': 1,\n",
       "   'nivel': 'Junior',\n",
       "   'salario': 25000},\n",
       "  {'nombre': 'Paula',\n",
       "   'edad': 30,\n",
       "   'experiencia': 3,\n",
       "   'nivel': 'Mid',\n",
       "   'salario': 35000}]}"
      ]
     },
     "execution_count": 29,
     "metadata": {},
     "output_type": "execute_result"
    }
   ],
   "source": [
    "data"
   ]
  },
  {
   "cell_type": "code",
   "execution_count": 30,
   "id": "67f9796a",
   "metadata": {},
   "outputs": [
    {
     "data": {
      "text/plain": [
       "dict"
      ]
     },
     "execution_count": 30,
     "metadata": {},
     "output_type": "execute_result"
    }
   ],
   "source": [
    "type(data)"
   ]
  },
  {
   "cell_type": "code",
   "execution_count": 31,
   "id": "0eb91c0f",
   "metadata": {},
   "outputs": [],
   "source": [
    "# Convertir a JSON:\n",
    "diccionario = {\"nombre\": \"Ana\", \"edad\": 25}\n",
    "json_string = json.dumps(diccionario)"
   ]
  },
  {
   "cell_type": "code",
   "execution_count": 32,
   "id": "89c8c228",
   "metadata": {},
   "outputs": [
    {
     "data": {
      "text/plain": [
       "'{\"nombre\": \"Ana\", \"edad\": 25}'"
      ]
     },
     "execution_count": 32,
     "metadata": {},
     "output_type": "execute_result"
    }
   ],
   "source": [
    "json_string"
   ]
  },
  {
   "cell_type": "code",
   "execution_count": 33,
   "id": "a99b9f4f",
   "metadata": {},
   "outputs": [
    {
     "data": {
      "text/plain": [
       "str"
      ]
     },
     "execution_count": 33,
     "metadata": {},
     "output_type": "execute_result"
    }
   ],
   "source": [
    "type(json_string)"
   ]
  },
  {
   "cell_type": "markdown",
   "id": "5486eea6",
   "metadata": {},
   "source": [
    "**Métodos clave:**\n",
    "\n",
    "1.  **`json.loads()`**: Convierte una **cadena JSON** (texto recibido de un API) en un diccionario de Python."
   ]
  },
  {
   "cell_type": "code",
   "execution_count": 34,
   "id": "4cee2870",
   "metadata": {},
   "outputs": [
    {
     "data": {
      "text/plain": [
       "{'nombre': 'Ana', 'edad': 25, 'cursos': ['Python', 'Data Analyst']}"
      ]
     },
     "execution_count": 34,
     "metadata": {},
     "output_type": "execute_result"
    }
   ],
   "source": [
    "# Cadena JSON\n",
    "json_data = '{\"nombre\": \"Ana\", \"edad\": 25, \"cursos\": [\"Python\", \"Data Analyst\"]}'\n",
    "# Convertir JSON a un diccionario de Python\n",
    "data = json.loads(json_data)\n",
    "data"
   ]
  },
  {
   "cell_type": "code",
   "execution_count": 35,
   "id": "5f009f5c",
   "metadata": {},
   "outputs": [
    {
     "name": "stdout",
     "output_type": "stream",
     "text": [
      "Ana\n"
     ]
    }
   ],
   "source": [
    "print(data[\"nombre\"])"
   ]
  },
  {
   "cell_type": "markdown",
   "id": "5cb198d5",
   "metadata": {},
   "source": [
    "2.  **`json.load()`**: **Lee un archivo JSON** y convierte su contenido en un objeto de Python. Uso común con `with open()`. La `'r'` es para leer (read)."
   ]
  },
  {
   "cell_type": "code",
   "execution_count": 37,
   "id": "1e72a0fa",
   "metadata": {},
   "outputs": [
    {
     "name": "stdout",
     "output_type": "stream",
     "text": [
      "<class 'dict'>\n",
      "{'workers': [{'nombre': 'Ana', 'edad': 34, 'experiencia': 5, 'nivel': 'Senior', 'salario': 50000, 'mascota': 'gatos'}, {'nombre': 'Eva', 'edad': 37, 'experiencia': 2, 'nivel': 'Mid', 'salario': 35000}, {'nombre': 'Marta', 'edad': 27, 'experiencia': 1, 'nivel': 'Junior', 'salario': 25000}, {'nombre': 'Paula', 'edad': 30, 'experiencia': 3, 'nivel': 'Mid', 'salario': 35000}]}\n"
     ]
    }
   ],
   "source": [
    "# Leer un archivo JSON\n",
    "with open('data/personal.json', 'r') as fichero: #\n",
    "    personal = json.load(fichero) # igualamos el archivo cargado a una variable para tenerlo almacenado\n",
    "# El objeto cargado es de tipo diccionario\n",
    "print(type(personal))\n",
    "# Podemos ver la estructura del archivo\n",
    "print(personal)"
   ]
  },
  {
   "cell_type": "markdown",
   "id": "45e36f60",
   "metadata": {},
   "source": [
    "3.  **`json.dumps()`**: Convierte un **objeto de Python** (diccionario o lista) en una cadena JSON. Uso: para enviarlo a una API.\n"
   ]
  },
  {
   "cell_type": "code",
   "execution_count": 42,
   "id": "2713f981",
   "metadata": {},
   "outputs": [
    {
     "data": {
      "text/plain": [
       "'{\"nombre\": \"Ana\", \"edad\": 25, \"cursos\": [\"Python\", \"Data Analyst\"]}'"
      ]
     },
     "execution_count": 42,
     "metadata": {},
     "output_type": "execute_result"
    }
   ],
   "source": [
    "# Diccionario de Python\n",
    "data = {\"nombre\": \"Ana\", \"edad\": 25, \"cursos\": [\"Python\", \"Data Analyst\"]}\n",
    "# Convertir diccionario a una cadena JSON\n",
    "json_string = json.dumps(data)\n",
    "json_string"
   ]
  },
  {
   "cell_type": "markdown",
   "id": "8ebda393",
   "metadata": {},
   "source": [
    "4.  **`json.dump()`**: **Escribe un objeto de Python** (diccionario o lista) en un archivo en formato JSON. Uso común con `with open()`. La `'w'` es para escribir (write).\n"
   ]
  },
  {
   "cell_type": "code",
   "execution_count": 45,
   "id": "f902400d",
   "metadata": {},
   "outputs": [],
   "source": [
    "# Diccionario de Python (o el objeto 'personal' después de modificarlo)\n",
    "data_to_save = {\"nombre\": \"Ana\", \"edad\": 25, \"cursos\": [\"Python\", \"Data Analyst\"], \"mascota\": \"gatos\"} # Ejemplo\n",
    "# Escribir el diccionario en un archivo JSON\n",
    "with open('data/data_updated.json', 'w') as file: # Aquí cambio esa \"r\", ahora la \"w\" hace referencia a escritura\n",
    "    json.dump(data_to_save, file)"
   ]
  },
  {
   "cell_type": "markdown",
   "id": "800ae30a",
   "metadata": {},
   "source": [
    "## 📦 Diferencias entre `load` / `loads` y `dump` / `dumps` del módulo `json`\n",
    "\n",
    "| Método         | ¿Qué hace?                                          | Tipo de dato que usa        |\n",
    "| -------------- | --------------------------------------------------- | --------------------------- |\n",
    "| `json.load()`  | Lee JSON desde un archivo → Python (`dict`, `list`) | 📁 Archivo abierto (`file`) |\n",
    "| `json.loads()` | Convierte una **cadena JSON** → Python              | 📄 Cadena (`str`)           |\n",
    "| `json.dump()`  | Convierte Python → JSON y guarda en archivo         | 📁 Archivo abierto (`file`) |\n",
    "| `json.dumps()` | Convierte Python → **cadena JSON**                  | ➡️ Devuelve un `str`        |\n",
    "\n",
    "### 📌 Ejemplos:\n",
    "\n",
    "```python\n",
    "# load\n",
    "with open(\"datos.json\") as f:\n",
    "    data = json.load(f)  # Devuelve un diccionario de Python\n",
    "\n",
    "# loads\n",
    "json_str = '{\"nombre\": \"Ana\", \"edad\": 30}'\n",
    "data = json.loads(json_str)\n",
    "\n",
    "# dump\n",
    "with open(\"salida.json\", \"w\") as f:\n",
    "    json.dump(data, f)\n",
    "\n",
    "# dumps\n",
    "json_texto = json.dumps(data)\n",
    "```\n"
   ]
  },
  {
   "cell_type": "markdown",
   "id": "d93af227",
   "metadata": {},
   "source": [
    "**Manipulación de datos JSON (Python Nativo):**\n",
    "\n",
    "Una vez que el JSON se ha cargado en una variable Python (como `personal`), se convierte en un diccionario o lista Python y podemos manipularlo.\n",
    "\n",
    "Nuestro archivo de ejemplo `personal.json` tiene una estructura como diccionarios, con la key `\"workers\"` y dentro una lista de diccionarios."
   ]
  },
  {
   "cell_type": "code",
   "execution_count": 46,
   "id": "d545ba32",
   "metadata": {},
   "outputs": [
    {
     "data": {
      "text/plain": [
       "{'workers': [{'nombre': 'Ana',\n",
       "   'edad': 34,\n",
       "   'experiencia': 5,\n",
       "   'nivel': 'Senior',\n",
       "   'salario': 50000,\n",
       "   'mascota': 'gatos'},\n",
       "  {'nombre': 'Eva',\n",
       "   'edad': 37,\n",
       "   'experiencia': 2,\n",
       "   'nivel': 'Mid',\n",
       "   'salario': 35000},\n",
       "  {'nombre': 'Marta',\n",
       "   'edad': 27,\n",
       "   'experiencia': 1,\n",
       "   'nivel': 'Junior',\n",
       "   'salario': 25000},\n",
       "  {'nombre': 'Paula',\n",
       "   'edad': 30,\n",
       "   'experiencia': 3,\n",
       "   'nivel': 'Mid',\n",
       "   'salario': 35000}]}"
      ]
     },
     "execution_count": 46,
     "metadata": {},
     "output_type": "execute_result"
    }
   ],
   "source": [
    "personal"
   ]
  },
  {
   "cell_type": "code",
   "execution_count": 48,
   "id": "05ec5db1",
   "metadata": {},
   "outputs": [
    {
     "data": {
      "text/plain": [
       "4"
      ]
     },
     "execution_count": 48,
     "metadata": {},
     "output_type": "execute_result"
    }
   ],
   "source": [
    "# Para saber la longitud de la lista dentro de \"workers\"\n",
    "len(personal['workers'])"
   ]
  },
  {
   "cell_type": "code",
   "execution_count": 64,
   "id": "2a014cd3",
   "metadata": {},
   "outputs": [
    {
     "data": {
      "text/plain": [
       "3"
      ]
     },
     "execution_count": 64,
     "metadata": {},
     "output_type": "execute_result"
    }
   ],
   "source": [
    "len('ana')"
   ]
  },
  {
   "cell_type": "code",
   "execution_count": 53,
   "id": "55914a13",
   "metadata": {},
   "outputs": [
    {
     "data": {
      "text/plain": [
       "[{'nombre': 'Ana',\n",
       "  'edad': 34,\n",
       "  'experiencia': 5,\n",
       "  'nivel': 'Senior',\n",
       "  'salario': 50000,\n",
       "  'mascota': 'gatos'},\n",
       " {'nombre': 'Eva',\n",
       "  'edad': 37,\n",
       "  'experiencia': 2,\n",
       "  'nivel': 'Mid',\n",
       "  'salario': 35000},\n",
       " {'nombre': 'Marta',\n",
       "  'edad': 27,\n",
       "  'experiencia': 1,\n",
       "  'nivel': 'Junior',\n",
       "  'salario': 25000},\n",
       " {'nombre': 'Paula',\n",
       "  'edad': 30,\n",
       "  'experiencia': 3,\n",
       "  'nivel': 'Mid',\n",
       "  'salario': 35000}]"
      ]
     },
     "execution_count": 53,
     "metadata": {},
     "output_type": "execute_result"
    }
   ],
   "source": [
    "personal['workers']"
   ]
  },
  {
   "cell_type": "code",
   "execution_count": 54,
   "id": "da6b66be",
   "metadata": {},
   "outputs": [
    {
     "name": "stdout",
     "output_type": "stream",
     "text": [
      "{'nombre': 'Ana', 'edad': 34, 'experiencia': 5, 'nivel': 'Senior', 'salario': 50000, 'mascota': 'gatos'}\n",
      "{'nombre': 'Eva', 'edad': 37, 'experiencia': 2, 'nivel': 'Mid', 'salario': 35000}\n",
      "{'nombre': 'Marta', 'edad': 27, 'experiencia': 1, 'nivel': 'Junior', 'salario': 25000}\n",
      "{'nombre': 'Paula', 'edad': 30, 'experiencia': 3, 'nivel': 'Mid', 'salario': 35000}\n"
     ]
    }
   ],
   "source": [
    "# Acceder a cada uno de los registros (diccionarios) dentro de \"workers\"\n",
    "for i in personal['workers']:\n",
    "    print(i)"
   ]
  },
  {
   "cell_type": "code",
   "execution_count": 55,
   "id": "436ae424",
   "metadata": {},
   "outputs": [
    {
     "name": "stdout",
     "output_type": "stream",
     "text": [
      "[{'nombre': 'Ana', 'edad': 34, 'experiencia': 5, 'nivel': 'Senior', 'salario': 50000, 'mascota': 'gatos'}, {'nombre': 'Eva', 'edad': 37, 'experiencia': 2, 'nivel': 'Mid', 'salario': 35000}, {'nombre': 'Marta', 'edad': 27, 'experiencia': 1, 'nivel': 'Junior', 'salario': 25000}, {'nombre': 'Paula', 'edad': 30, 'experiencia': 3, 'nivel': 'Mid', 'salario': 35000}]\n"
     ]
    }
   ],
   "source": [
    "# Acceder a cada uno de los registros por índice (ej. el primero)\n",
    "print(personal[\"workers\"])"
   ]
  },
  {
   "cell_type": "code",
   "execution_count": 56,
   "id": "ac5a7185",
   "metadata": {},
   "outputs": [
    {
     "data": {
      "text/plain": [
       "{'workers': [{'nombre': 'Ana',\n",
       "   'edad': 34,\n",
       "   'experiencia': 5,\n",
       "   'nivel': 'Senior',\n",
       "   'salario': 50000,\n",
       "   'mascota': 'gatos'},\n",
       "  {'nombre': 'Eva',\n",
       "   'edad': 37,\n",
       "   'experiencia': 2,\n",
       "   'nivel': 'Mid',\n",
       "   'salario': 35000},\n",
       "  {'nombre': 'Marta',\n",
       "   'edad': 27,\n",
       "   'experiencia': 1,\n",
       "   'nivel': 'Junior',\n",
       "   'salario': 25000},\n",
       "  {'nombre': 'Paula',\n",
       "   'edad': 30,\n",
       "   'experiencia': 3,\n",
       "   'nivel': 'Mid',\n",
       "   'salario': 35000}]}"
      ]
     },
     "execution_count": 56,
     "metadata": {},
     "output_type": "execute_result"
    }
   ],
   "source": [
    "personal"
   ]
  },
  {
   "cell_type": "code",
   "execution_count": 63,
   "id": "b7a5914a",
   "metadata": {},
   "outputs": [
    {
     "data": {
      "text/plain": [
       "'Ana'"
      ]
     },
     "execution_count": 63,
     "metadata": {},
     "output_type": "execute_result"
    }
   ],
   "source": [
    "personal['workers'][0].get('nombre')"
   ]
  },
  {
   "cell_type": "code",
   "execution_count": null,
   "id": "47cb81d7",
   "metadata": {},
   "outputs": [
    {
     "name": "stdout",
     "output_type": "stream",
     "text": [
      "Ana\n"
     ]
    }
   ],
   "source": [
    "# Con las keys podemos acceder a cada uno de los valores del diccionario (ej. el nombre del primero)\n",
    "print(personal['workers'][0]['nombre'])"
   ]
  },
  {
   "cell_type": "code",
   "execution_count": 65,
   "id": "36392a30",
   "metadata": {},
   "outputs": [
    {
     "data": {
      "text/plain": [
       "{'workers': [{'nombre': 'Ana',\n",
       "   'edad': 34,\n",
       "   'experiencia': 5,\n",
       "   'nivel': 'Senior',\n",
       "   'salario': 50000,\n",
       "   'mascota': 'gatos'},\n",
       "  {'nombre': 'Eva',\n",
       "   'edad': 37,\n",
       "   'experiencia': 2,\n",
       "   'nivel': 'Mid',\n",
       "   'salario': 35000},\n",
       "  {'nombre': 'Marta',\n",
       "   'edad': 27,\n",
       "   'experiencia': 1,\n",
       "   'nivel': 'Junior',\n",
       "   'salario': 25000},\n",
       "  {'nombre': 'Paula',\n",
       "   'edad': 30,\n",
       "   'experiencia': 3,\n",
       "   'nivel': 'Mid',\n",
       "   'salario': 35000}]}"
      ]
     },
     "execution_count": 65,
     "metadata": {},
     "output_type": "execute_result"
    }
   ],
   "source": [
    "personal"
   ]
  },
  {
   "cell_type": "code",
   "execution_count": 66,
   "id": "a8f0d0c1",
   "metadata": {},
   "outputs": [
    {
     "name": "stdout",
     "output_type": "stream",
     "text": [
      "[{'nombre': 'Ana', 'edad': 45, 'experiencia': 5, 'nivel': 'Senior', 'salario': 50000, 'mascota': 'gatos'}, {'nombre': 'Eva', 'edad': 37, 'experiencia': 2, 'nivel': 'Mid', 'salario': 35000}, {'nombre': 'Marta', 'edad': 27, 'experiencia': 1, 'nivel': 'Junior', 'salario': 25000}, {'nombre': 'Paula', 'edad': 30, 'experiencia': 3, 'nivel': 'Mid', 'salario': 35000}]\n"
     ]
    }
   ],
   "source": [
    "# Podemos cambiar el valor de una key\n",
    "personal[\"workers\"][0][\"edad\"] = 45\n",
    "print(personal[\"workers\"])"
   ]
  },
  {
   "cell_type": "code",
   "execution_count": 67,
   "id": "d1639178",
   "metadata": {},
   "outputs": [
    {
     "data": {
      "text/plain": [
       "4"
      ]
     },
     "execution_count": 67,
     "metadata": {},
     "output_type": "execute_result"
    }
   ],
   "source": [
    "len(personal[\"workers\"])"
   ]
  },
  {
   "cell_type": "code",
   "execution_count": 68,
   "id": "718f51c3",
   "metadata": {},
   "outputs": [
    {
     "data": {
      "text/plain": [
       "range(0, 4)"
      ]
     },
     "execution_count": 68,
     "metadata": {},
     "output_type": "execute_result"
    }
   ],
   "source": [
    "range(4)"
   ]
  },
  {
   "cell_type": "code",
   "execution_count": 69,
   "id": "4da165c4",
   "metadata": {},
   "outputs": [
    {
     "data": {
      "text/plain": [
       "{'workers': [{'nombre': 'Ana',\n",
       "   'edad': 45,\n",
       "   'experiencia': 5,\n",
       "   'nivel': 'Senior',\n",
       "   'salario': 50000,\n",
       "   'mascota': 'gatos'},\n",
       "  {'nombre': 'Eva',\n",
       "   'edad': 37,\n",
       "   'experiencia': 2,\n",
       "   'nivel': 'Mid',\n",
       "   'salario': 35000},\n",
       "  {'nombre': 'Marta',\n",
       "   'edad': 27,\n",
       "   'experiencia': 1,\n",
       "   'nivel': 'Junior',\n",
       "   'salario': 25000},\n",
       "  {'nombre': 'Paula',\n",
       "   'edad': 30,\n",
       "   'experiencia': 3,\n",
       "   'nivel': 'Mid',\n",
       "   'salario': 35000}]}"
      ]
     },
     "execution_count": 69,
     "metadata": {},
     "output_type": "execute_result"
    }
   ],
   "source": [
    "personal"
   ]
  },
  {
   "cell_type": "code",
   "execution_count": 70,
   "id": "89075875",
   "metadata": {},
   "outputs": [
    {
     "name": "stdout",
     "output_type": "stream",
     "text": [
      "[{'nombre': 'Ana', 'edad': 45, 'experiencia': 5, 'nivel': 'Senior', 'salario': 50000, 'mascota': 'perros'}, {'nombre': 'Eva', 'edad': 37, 'experiencia': 2, 'nivel': 'Mid', 'salario': 35000}, {'nombre': 'Marta', 'edad': 27, 'experiencia': 1, 'nivel': 'Junior', 'salario': 25000}, {'nombre': 'Paula', 'edad': 30, 'experiencia': 3, 'nivel': 'Mid', 'salario': 35000}]\n"
     ]
    }
   ],
   "source": [
    "# Podemos hacerlo en bucle e incluyendo condiciones\n",
    "for i in range(len(personal[\"workers\"])): # for i in range(0, 4):\n",
    "    if personal[\"workers\"][i][\"nombre\"] == \"Ana\":\n",
    "        personal[\"workers\"][i][\"mascota\"] = \"perros\" # En este caso, si el nombre es Ana, cambiamos la key \"mascota\"\n",
    "\n",
    "print(personal[\"workers\"])"
   ]
  },
  {
   "cell_type": "code",
   "execution_count": 71,
   "id": "2d020d74",
   "metadata": {},
   "outputs": [],
   "source": [
    "# Y finalmente, guardar el fichero actualizado\n",
    "with open(\"personal_updated.json\", \"w\") as fichero: # Usamos \"w\" para escribir (write)\n",
    "    json.dump(personal, fichero)"
   ]
  },
  {
   "cell_type": "markdown",
   "id": "9f3c732b",
   "metadata": {},
   "source": [
    "## 3. Introducción a Pandas y DataFrames\n",
    "\n",
    "**¿Qué es Pandas?**\n",
    "Pandas es una **librería de Python que facilita la manipulación y análisis de datos estructurados** (como tablas).\n",
    "\n",
    "**¿Por qué es útil?**\n",
    "\n",
    "*   Permite trabajar con datos en forma de tablas (similares a una hoja de cálculo de Excel) mediante estructuras llamadas **DataFrames** y **Series**.\n",
    "*   Te permite **leer datos de diferentes fuentes** (como archivos CSV, Excel, bases de datos, etc.).\n",
    "*   Puedes limpiar y transformar datos de manera fácil.\n",
    "*   Facilita realizar análisis exploratorio y operaciones como filtrado, agrupación, o estadísticas descriptivas.\n",
    "\n",
    "**Estructuras clave:**\n",
    "\n",
    "*   **DataFrame**: Es una **tabla bidimensional con filas y columnas**.\n",
    "*   **Series**: Es una **columna de un DataFrame** o una lista unidimensional de datos.\n",
    "\n",
    " ---\n",
    "\n",
    "**Instalación:**\n",
    "\n",
    "### 🐼 ¿Tengo pandas instalado?\n",
    "\n",
    "* Abrimos una celda nueva en **Jupyter Notebook**.\n",
    "* Escribir el siguiente código:\n",
    "\n",
    "```python\n",
    "import pandas as pd\n",
    "print(pd.__version__)\n",
    "```\n",
    "* ¿Qué pasa si pandas no está instalado?\n",
    "\n",
    "Si ves un error como:\n",
    "\n",
    "```\n",
    "ModuleNotFoundError: No module named 'pandas'\n",
    "```\n",
    "\n",
    "Necesitas instalar la librería. Abre la terminal y ejecuta:\n",
    "\n",
    "```bash\n",
    "pip install pandas\n",
    "```\n",
    "---\n",
    "\n",
    "**Importación:**\n",
    "La convención común es:\n",
    "\n",
    "```python\n",
    "import pandas as pd\n",
    "```\n",
    "\n",
    "**Método básico `df.head()`:**\n",
    "Lo veremos muchas veces. Nos sirve para ver **por defecto los primeros 5 resultados del DataFrame**."
   ]
  },
  {
   "cell_type": "code",
   "execution_count": 72,
   "id": "c9d76f48",
   "metadata": {},
   "outputs": [
    {
     "name": "stdout",
     "output_type": "stream",
     "text": [
      "2.1.4\n"
     ]
    }
   ],
   "source": [
    "import pandas as pd\n",
    "print(pd.__version__)"
   ]
  },
  {
   "cell_type": "markdown",
   "id": "d07d0661",
   "metadata": {},
   "source": [
    "### 3.1 Archivos CSV con Pandas\n",
    "\n",
    "El formato CSV (Comma-Separated Values) es como el **pan de cada día en el mundo del análisis de datos**. ¡Está por todas partes!\n",
    "\n",
    "**Apertura:**\n",
    "Usamos el método `pd.read_csv()`. Fíjate que volvemos a usar el método de \"read\", con la diferencia que será propio para \"csv\"."
   ]
  },
  {
   "cell_type": "code",
   "execution_count": 73,
   "id": "7da6104a",
   "metadata": {},
   "outputs": [
    {
     "data": {
      "text/html": [
       "<div>\n",
       "<style scoped>\n",
       "    .dataframe tbody tr th:only-of-type {\n",
       "        vertical-align: middle;\n",
       "    }\n",
       "\n",
       "    .dataframe tbody tr th {\n",
       "        vertical-align: top;\n",
       "    }\n",
       "\n",
       "    .dataframe thead th {\n",
       "        text-align: right;\n",
       "    }\n",
       "</style>\n",
       "<table border=\"1\" class=\"dataframe\">\n",
       "  <thead>\n",
       "    <tr style=\"text-align: right;\">\n",
       "      <th></th>\n",
       "      <th>Unnamed: 0</th>\n",
       "      <th>Date_time</th>\n",
       "      <th>date_documented</th>\n",
       "      <th>Year</th>\n",
       "      <th>Month</th>\n",
       "      <th>Hour</th>\n",
       "      <th>Season</th>\n",
       "      <th>Country_Code</th>\n",
       "      <th>Country</th>\n",
       "      <th>Region</th>\n",
       "      <th>Locale</th>\n",
       "      <th>latitude</th>\n",
       "      <th>longitude</th>\n",
       "      <th>UFO_shape</th>\n",
       "      <th>length_of_encounter_seconds</th>\n",
       "      <th>Encounter_Duration</th>\n",
       "      <th>Description</th>\n",
       "    </tr>\n",
       "  </thead>\n",
       "  <tbody>\n",
       "    <tr>\n",
       "      <th>0</th>\n",
       "      <td>0</td>\n",
       "      <td>1949-10-10 20:30:00</td>\n",
       "      <td>4/27/2004</td>\n",
       "      <td>1949</td>\n",
       "      <td>10</td>\n",
       "      <td>20</td>\n",
       "      <td>Autumn</td>\n",
       "      <td>USA</td>\n",
       "      <td>United States</td>\n",
       "      <td>Texas</td>\n",
       "      <td>San Marcos</td>\n",
       "      <td>29.883056</td>\n",
       "      <td>-97.941111</td>\n",
       "      <td>Cylinder</td>\n",
       "      <td>2700.0</td>\n",
       "      <td>45 minutes</td>\n",
       "      <td>This event took place in early fall around 194...</td>\n",
       "    </tr>\n",
       "    <tr>\n",
       "      <th>1</th>\n",
       "      <td>1</td>\n",
       "      <td>1949-10-10 21:00:00</td>\n",
       "      <td>12/16/2005</td>\n",
       "      <td>1949</td>\n",
       "      <td>10</td>\n",
       "      <td>21</td>\n",
       "      <td>Autumn</td>\n",
       "      <td>USA</td>\n",
       "      <td>United States</td>\n",
       "      <td>Texas</td>\n",
       "      <td>Bexar County</td>\n",
       "      <td>29.384210</td>\n",
       "      <td>-98.581082</td>\n",
       "      <td>Light</td>\n",
       "      <td>7200.0</td>\n",
       "      <td>1-2 hrs</td>\n",
       "      <td>1949 Lackland AFB&amp;#44 TX.  Lights racing acros...</td>\n",
       "    </tr>\n",
       "    <tr>\n",
       "      <th>2</th>\n",
       "      <td>2</td>\n",
       "      <td>1955-10-10 17:00:00</td>\n",
       "      <td>1/21/2008</td>\n",
       "      <td>1955</td>\n",
       "      <td>10</td>\n",
       "      <td>17</td>\n",
       "      <td>Autumn</td>\n",
       "      <td>GBR</td>\n",
       "      <td>United Kingdom</td>\n",
       "      <td>England</td>\n",
       "      <td>Chester</td>\n",
       "      <td>53.200000</td>\n",
       "      <td>-2.916667</td>\n",
       "      <td>Circle</td>\n",
       "      <td>20.0</td>\n",
       "      <td>20 seconds</td>\n",
       "      <td>Green/Orange circular disc over Chester&amp;#44 En...</td>\n",
       "    </tr>\n",
       "    <tr>\n",
       "      <th>3</th>\n",
       "      <td>3</td>\n",
       "      <td>1956-10-10 21:00:00</td>\n",
       "      <td>1/17/2004</td>\n",
       "      <td>1956</td>\n",
       "      <td>10</td>\n",
       "      <td>21</td>\n",
       "      <td>Autumn</td>\n",
       "      <td>USA</td>\n",
       "      <td>United States</td>\n",
       "      <td>Texas</td>\n",
       "      <td>Edna</td>\n",
       "      <td>28.978333</td>\n",
       "      <td>-96.645833</td>\n",
       "      <td>Circle</td>\n",
       "      <td>20.0</td>\n",
       "      <td>1/2 hour</td>\n",
       "      <td>My older brother and twin sister were leaving ...</td>\n",
       "    </tr>\n",
       "    <tr>\n",
       "      <th>4</th>\n",
       "      <td>4</td>\n",
       "      <td>1960-10-10 20:00:00</td>\n",
       "      <td>1/22/2004</td>\n",
       "      <td>1960</td>\n",
       "      <td>10</td>\n",
       "      <td>20</td>\n",
       "      <td>Autumn</td>\n",
       "      <td>USA</td>\n",
       "      <td>United States</td>\n",
       "      <td>Hawaii</td>\n",
       "      <td>Kaneohe</td>\n",
       "      <td>21.418056</td>\n",
       "      <td>-157.803611</td>\n",
       "      <td>Light</td>\n",
       "      <td>900.0</td>\n",
       "      <td>15 minutes</td>\n",
       "      <td>AS a Marine 1st Lt. flying an FJ4B fighter/att...</td>\n",
       "    </tr>\n",
       "  </tbody>\n",
       "</table>\n",
       "</div>"
      ],
      "text/plain": [
       "   Unnamed: 0            Date_time date_documented  Year  Month  Hour  Season  \\\n",
       "0           0  1949-10-10 20:30:00       4/27/2004  1949     10    20  Autumn   \n",
       "1           1  1949-10-10 21:00:00      12/16/2005  1949     10    21  Autumn   \n",
       "2           2  1955-10-10 17:00:00       1/21/2008  1955     10    17  Autumn   \n",
       "3           3  1956-10-10 21:00:00       1/17/2004  1956     10    21  Autumn   \n",
       "4           4  1960-10-10 20:00:00       1/22/2004  1960     10    20  Autumn   \n",
       "\n",
       "  Country_Code         Country   Region        Locale   latitude   longitude  \\\n",
       "0          USA   United States    Texas    San Marcos  29.883056  -97.941111   \n",
       "1          USA   United States    Texas  Bexar County  29.384210  -98.581082   \n",
       "2          GBR  United Kingdom  England       Chester  53.200000   -2.916667   \n",
       "3          USA   United States    Texas          Edna  28.978333  -96.645833   \n",
       "4          USA   United States   Hawaii       Kaneohe  21.418056 -157.803611   \n",
       "\n",
       "  UFO_shape  length_of_encounter_seconds Encounter_Duration  \\\n",
       "0  Cylinder                       2700.0         45 minutes   \n",
       "1     Light                       7200.0            1-2 hrs   \n",
       "2    Circle                         20.0         20 seconds   \n",
       "3    Circle                         20.0           1/2 hour   \n",
       "4     Light                        900.0         15 minutes   \n",
       "\n",
       "                                         Description  \n",
       "0  This event took place in early fall around 194...  \n",
       "1  1949 Lackland AFB&#44 TX.  Lights racing acros...  \n",
       "2  Green/Orange circular disc over Chester&#44 En...  \n",
       "3  My older brother and twin sister were leaving ...  \n",
       "4  AS a Marine 1st Lt. flying an FJ4B fighter/att...  "
      ]
     },
     "execution_count": 73,
     "metadata": {},
     "output_type": "execute_result"
    }
   ],
   "source": [
    "df_ufo = pd.read_csv(\"ufo.csv\")\n",
    "df_ufo.head()"
   ]
  },
  {
   "cell_type": "markdown",
   "id": "12a3d3ce",
   "metadata": {},
   "source": [
    "**Problema común:**\n",
    "Al abrir el \"csv\" a veces se crea una columna `\"Unnamed: 0\"` que no forma parte del archivo original. Esto lo hace Pandas al crear un nuevo índice.\n",
    "\n",
    "**Solución:**\n",
    "Decirle que ponga la primera columna del archivo cómo índice con `index_col = 0`."
   ]
  },
  {
   "cell_type": "code",
   "execution_count": 74,
   "id": "21c56dc8",
   "metadata": {},
   "outputs": [
    {
     "data": {
      "text/html": [
       "<div>\n",
       "<style scoped>\n",
       "    .dataframe tbody tr th:only-of-type {\n",
       "        vertical-align: middle;\n",
       "    }\n",
       "\n",
       "    .dataframe tbody tr th {\n",
       "        vertical-align: top;\n",
       "    }\n",
       "\n",
       "    .dataframe thead th {\n",
       "        text-align: right;\n",
       "    }\n",
       "</style>\n",
       "<table border=\"1\" class=\"dataframe\">\n",
       "  <thead>\n",
       "    <tr style=\"text-align: right;\">\n",
       "      <th></th>\n",
       "      <th>Date_time</th>\n",
       "      <th>date_documented</th>\n",
       "      <th>Year</th>\n",
       "      <th>Month</th>\n",
       "      <th>Hour</th>\n",
       "      <th>Season</th>\n",
       "      <th>Country_Code</th>\n",
       "      <th>Country</th>\n",
       "      <th>Region</th>\n",
       "      <th>Locale</th>\n",
       "      <th>latitude</th>\n",
       "      <th>longitude</th>\n",
       "      <th>UFO_shape</th>\n",
       "      <th>length_of_encounter_seconds</th>\n",
       "      <th>Encounter_Duration</th>\n",
       "      <th>Description</th>\n",
       "    </tr>\n",
       "  </thead>\n",
       "  <tbody>\n",
       "    <tr>\n",
       "      <th>0</th>\n",
       "      <td>1949-10-10 20:30:00</td>\n",
       "      <td>4/27/2004</td>\n",
       "      <td>1949</td>\n",
       "      <td>10</td>\n",
       "      <td>20</td>\n",
       "      <td>Autumn</td>\n",
       "      <td>USA</td>\n",
       "      <td>United States</td>\n",
       "      <td>Texas</td>\n",
       "      <td>San Marcos</td>\n",
       "      <td>29.883056</td>\n",
       "      <td>-97.941111</td>\n",
       "      <td>Cylinder</td>\n",
       "      <td>2700.0</td>\n",
       "      <td>45 minutes</td>\n",
       "      <td>This event took place in early fall around 194...</td>\n",
       "    </tr>\n",
       "    <tr>\n",
       "      <th>1</th>\n",
       "      <td>1949-10-10 21:00:00</td>\n",
       "      <td>12/16/2005</td>\n",
       "      <td>1949</td>\n",
       "      <td>10</td>\n",
       "      <td>21</td>\n",
       "      <td>Autumn</td>\n",
       "      <td>USA</td>\n",
       "      <td>United States</td>\n",
       "      <td>Texas</td>\n",
       "      <td>Bexar County</td>\n",
       "      <td>29.384210</td>\n",
       "      <td>-98.581082</td>\n",
       "      <td>Light</td>\n",
       "      <td>7200.0</td>\n",
       "      <td>1-2 hrs</td>\n",
       "      <td>1949 Lackland AFB&amp;#44 TX.  Lights racing acros...</td>\n",
       "    </tr>\n",
       "    <tr>\n",
       "      <th>2</th>\n",
       "      <td>1955-10-10 17:00:00</td>\n",
       "      <td>1/21/2008</td>\n",
       "      <td>1955</td>\n",
       "      <td>10</td>\n",
       "      <td>17</td>\n",
       "      <td>Autumn</td>\n",
       "      <td>GBR</td>\n",
       "      <td>United Kingdom</td>\n",
       "      <td>England</td>\n",
       "      <td>Chester</td>\n",
       "      <td>53.200000</td>\n",
       "      <td>-2.916667</td>\n",
       "      <td>Circle</td>\n",
       "      <td>20.0</td>\n",
       "      <td>20 seconds</td>\n",
       "      <td>Green/Orange circular disc over Chester&amp;#44 En...</td>\n",
       "    </tr>\n",
       "    <tr>\n",
       "      <th>3</th>\n",
       "      <td>1956-10-10 21:00:00</td>\n",
       "      <td>1/17/2004</td>\n",
       "      <td>1956</td>\n",
       "      <td>10</td>\n",
       "      <td>21</td>\n",
       "      <td>Autumn</td>\n",
       "      <td>USA</td>\n",
       "      <td>United States</td>\n",
       "      <td>Texas</td>\n",
       "      <td>Edna</td>\n",
       "      <td>28.978333</td>\n",
       "      <td>-96.645833</td>\n",
       "      <td>Circle</td>\n",
       "      <td>20.0</td>\n",
       "      <td>1/2 hour</td>\n",
       "      <td>My older brother and twin sister were leaving ...</td>\n",
       "    </tr>\n",
       "    <tr>\n",
       "      <th>4</th>\n",
       "      <td>1960-10-10 20:00:00</td>\n",
       "      <td>1/22/2004</td>\n",
       "      <td>1960</td>\n",
       "      <td>10</td>\n",
       "      <td>20</td>\n",
       "      <td>Autumn</td>\n",
       "      <td>USA</td>\n",
       "      <td>United States</td>\n",
       "      <td>Hawaii</td>\n",
       "      <td>Kaneohe</td>\n",
       "      <td>21.418056</td>\n",
       "      <td>-157.803611</td>\n",
       "      <td>Light</td>\n",
       "      <td>900.0</td>\n",
       "      <td>15 minutes</td>\n",
       "      <td>AS a Marine 1st Lt. flying an FJ4B fighter/att...</td>\n",
       "    </tr>\n",
       "  </tbody>\n",
       "</table>\n",
       "</div>"
      ],
      "text/plain": [
       "             Date_time date_documented  Year  Month  Hour  Season  \\\n",
       "0  1949-10-10 20:30:00       4/27/2004  1949     10    20  Autumn   \n",
       "1  1949-10-10 21:00:00      12/16/2005  1949     10    21  Autumn   \n",
       "2  1955-10-10 17:00:00       1/21/2008  1955     10    17  Autumn   \n",
       "3  1956-10-10 21:00:00       1/17/2004  1956     10    21  Autumn   \n",
       "4  1960-10-10 20:00:00       1/22/2004  1960     10    20  Autumn   \n",
       "\n",
       "  Country_Code         Country   Region        Locale   latitude   longitude  \\\n",
       "0          USA   United States    Texas    San Marcos  29.883056  -97.941111   \n",
       "1          USA   United States    Texas  Bexar County  29.384210  -98.581082   \n",
       "2          GBR  United Kingdom  England       Chester  53.200000   -2.916667   \n",
       "3          USA   United States    Texas          Edna  28.978333  -96.645833   \n",
       "4          USA   United States   Hawaii       Kaneohe  21.418056 -157.803611   \n",
       "\n",
       "  UFO_shape  length_of_encounter_seconds Encounter_Duration  \\\n",
       "0  Cylinder                       2700.0         45 minutes   \n",
       "1     Light                       7200.0            1-2 hrs   \n",
       "2    Circle                         20.0         20 seconds   \n",
       "3    Circle                         20.0           1/2 hour   \n",
       "4     Light                        900.0         15 minutes   \n",
       "\n",
       "                                         Description  \n",
       "0  This event took place in early fall around 194...  \n",
       "1  1949 Lackland AFB&#44 TX.  Lights racing acros...  \n",
       "2  Green/Orange circular disc over Chester&#44 En...  \n",
       "3  My older brother and twin sister were leaving ...  \n",
       "4  AS a Marine 1st Lt. flying an FJ4B fighter/att...  "
      ]
     },
     "execution_count": 74,
     "metadata": {},
     "output_type": "execute_result"
    }
   ],
   "source": [
    "df_ufo = pd.read_csv(\"ufo.csv\", index_col = 0)\n",
    "df_ufo.head()"
   ]
  },
  {
   "cell_type": "markdown",
   "id": "0ff9b9ff",
   "metadata": {},
   "source": [
    "**Guardar en otro formato:**\n",
    "Puedes guardar un DataFrame en un formato diferente al que tenía el archivo de inicio."
   ]
  },
  {
   "cell_type": "code",
   "execution_count": 75,
   "id": "670d14c7",
   "metadata": {},
   "outputs": [],
   "source": [
    "# Guardar en Excel\n",
    "df_ufo.to_excel(\"ufo.xlsx\")\n",
    "\n",
    "# Guardar en CSV (si ya tenías un DataFrame y quieres guardarlo)\n",
    "# df.to_csv(\"mi_archivo.csv\")"
   ]
  },
  {
   "cell_type": "markdown",
   "id": "b38794c4",
   "metadata": {},
   "source": [
    "### 3.2 Archivos Excel con Pandas\n",
    "\n",
    "Excel es una herramienta muy común en el mundo empresarial y académico. Con Pandas, ¡abrir y manipular esos archivos de Excel será mucho más fácil!\n",
    "\n",
    "**Apertura:**\n",
    "Usamos el método `pd.read_excel()`. ¡Nuevamente el método “read”... pero ahora para Excel!"
   ]
  },
  {
   "cell_type": "code",
   "execution_count": 76,
   "id": "0afd9229",
   "metadata": {},
   "outputs": [
    {
     "data": {
      "text/html": [
       "<div>\n",
       "<style scoped>\n",
       "    .dataframe tbody tr th:only-of-type {\n",
       "        vertical-align: middle;\n",
       "    }\n",
       "\n",
       "    .dataframe tbody tr th {\n",
       "        vertical-align: top;\n",
       "    }\n",
       "\n",
       "    .dataframe thead th {\n",
       "        text-align: right;\n",
       "    }\n",
       "</style>\n",
       "<table border=\"1\" class=\"dataframe\">\n",
       "  <thead>\n",
       "    <tr style=\"text-align: right;\">\n",
       "      <th></th>\n",
       "      <th>Date_time</th>\n",
       "      <th>date_documented</th>\n",
       "      <th>Year</th>\n",
       "      <th>Month</th>\n",
       "      <th>Hour</th>\n",
       "      <th>Season</th>\n",
       "      <th>Country_Code</th>\n",
       "      <th>Country</th>\n",
       "      <th>Region</th>\n",
       "      <th>Locale</th>\n",
       "      <th>latitude</th>\n",
       "      <th>longitude</th>\n",
       "      <th>UFO_shape</th>\n",
       "      <th>length_of_encounter_seconds</th>\n",
       "      <th>Encounter_Duration</th>\n",
       "      <th>Description</th>\n",
       "    </tr>\n",
       "  </thead>\n",
       "  <tbody>\n",
       "    <tr>\n",
       "      <th>0</th>\n",
       "      <td>1949-10-10 20:30:00</td>\n",
       "      <td>4/27/2004</td>\n",
       "      <td>1949</td>\n",
       "      <td>10</td>\n",
       "      <td>20</td>\n",
       "      <td>Autumn</td>\n",
       "      <td>USA</td>\n",
       "      <td>United States</td>\n",
       "      <td>Texas</td>\n",
       "      <td>San Marcos</td>\n",
       "      <td>29.883056</td>\n",
       "      <td>-97.941111</td>\n",
       "      <td>Cylinder</td>\n",
       "      <td>2700.0</td>\n",
       "      <td>45 minutes</td>\n",
       "      <td>This event took place in early fall around 194...</td>\n",
       "    </tr>\n",
       "    <tr>\n",
       "      <th>1</th>\n",
       "      <td>1949-10-10 21:00:00</td>\n",
       "      <td>12/16/2005</td>\n",
       "      <td>1949</td>\n",
       "      <td>10</td>\n",
       "      <td>21</td>\n",
       "      <td>Autumn</td>\n",
       "      <td>USA</td>\n",
       "      <td>United States</td>\n",
       "      <td>Texas</td>\n",
       "      <td>Bexar County</td>\n",
       "      <td>29.384210</td>\n",
       "      <td>-98.581082</td>\n",
       "      <td>Light</td>\n",
       "      <td>7200.0</td>\n",
       "      <td>1-2 hrs</td>\n",
       "      <td>1949 Lackland AFB&amp;#44 TX.  Lights racing acros...</td>\n",
       "    </tr>\n",
       "    <tr>\n",
       "      <th>2</th>\n",
       "      <td>1955-10-10 17:00:00</td>\n",
       "      <td>1/21/2008</td>\n",
       "      <td>1955</td>\n",
       "      <td>10</td>\n",
       "      <td>17</td>\n",
       "      <td>Autumn</td>\n",
       "      <td>GBR</td>\n",
       "      <td>United Kingdom</td>\n",
       "      <td>England</td>\n",
       "      <td>Chester</td>\n",
       "      <td>53.200000</td>\n",
       "      <td>-2.916667</td>\n",
       "      <td>Circle</td>\n",
       "      <td>20.0</td>\n",
       "      <td>20 seconds</td>\n",
       "      <td>Green/Orange circular disc over Chester&amp;#44 En...</td>\n",
       "    </tr>\n",
       "    <tr>\n",
       "      <th>3</th>\n",
       "      <td>1956-10-10 21:00:00</td>\n",
       "      <td>1/17/2004</td>\n",
       "      <td>1956</td>\n",
       "      <td>10</td>\n",
       "      <td>21</td>\n",
       "      <td>Autumn</td>\n",
       "      <td>USA</td>\n",
       "      <td>United States</td>\n",
       "      <td>Texas</td>\n",
       "      <td>Edna</td>\n",
       "      <td>28.978333</td>\n",
       "      <td>-96.645833</td>\n",
       "      <td>Circle</td>\n",
       "      <td>20.0</td>\n",
       "      <td>1/2 hour</td>\n",
       "      <td>My older brother and twin sister were leaving ...</td>\n",
       "    </tr>\n",
       "    <tr>\n",
       "      <th>4</th>\n",
       "      <td>1960-10-10 20:00:00</td>\n",
       "      <td>1/22/2004</td>\n",
       "      <td>1960</td>\n",
       "      <td>10</td>\n",
       "      <td>20</td>\n",
       "      <td>Autumn</td>\n",
       "      <td>USA</td>\n",
       "      <td>United States</td>\n",
       "      <td>Hawaii</td>\n",
       "      <td>Kaneohe</td>\n",
       "      <td>21.418056</td>\n",
       "      <td>-157.803611</td>\n",
       "      <td>Light</td>\n",
       "      <td>900.0</td>\n",
       "      <td>15 minutes</td>\n",
       "      <td>AS a Marine 1st Lt. flying an FJ4B fighter/att...</td>\n",
       "    </tr>\n",
       "  </tbody>\n",
       "</table>\n",
       "</div>"
      ],
      "text/plain": [
       "             Date_time date_documented  Year  Month  Hour  Season  \\\n",
       "0  1949-10-10 20:30:00       4/27/2004  1949     10    20  Autumn   \n",
       "1  1949-10-10 21:00:00      12/16/2005  1949     10    21  Autumn   \n",
       "2  1955-10-10 17:00:00       1/21/2008  1955     10    17  Autumn   \n",
       "3  1956-10-10 21:00:00       1/17/2004  1956     10    21  Autumn   \n",
       "4  1960-10-10 20:00:00       1/22/2004  1960     10    20  Autumn   \n",
       "\n",
       "  Country_Code         Country   Region        Locale   latitude   longitude  \\\n",
       "0          USA   United States    Texas    San Marcos  29.883056  -97.941111   \n",
       "1          USA   United States    Texas  Bexar County  29.384210  -98.581082   \n",
       "2          GBR  United Kingdom  England       Chester  53.200000   -2.916667   \n",
       "3          USA   United States    Texas          Edna  28.978333  -96.645833   \n",
       "4          USA   United States   Hawaii       Kaneohe  21.418056 -157.803611   \n",
       "\n",
       "  UFO_shape  length_of_encounter_seconds Encounter_Duration  \\\n",
       "0  Cylinder                       2700.0         45 minutes   \n",
       "1     Light                       7200.0            1-2 hrs   \n",
       "2    Circle                         20.0         20 seconds   \n",
       "3    Circle                         20.0           1/2 hour   \n",
       "4     Light                        900.0         15 minutes   \n",
       "\n",
       "                                         Description  \n",
       "0  This event took place in early fall around 194...  \n",
       "1  1949 Lackland AFB&#44 TX.  Lights racing acros...  \n",
       "2  Green/Orange circular disc over Chester&#44 En...  \n",
       "3  My older brother and twin sister were leaving ...  \n",
       "4  AS a Marine 1st Lt. flying an FJ4B fighter/att...  "
      ]
     },
     "execution_count": 76,
     "metadata": {},
     "output_type": "execute_result"
    }
   ],
   "source": [
    "df_ufo_excel = pd.read_excel(\"ufo.xlsx\", index_col = 0) # ya conoces a \"read\" no? :)\n",
    "df_ufo_excel.head()"
   ]
  },
  {
   "cell_type": "markdown",
   "id": "85ddb9b3",
   "metadata": {},
   "source": [
    "### 3.3 Archivos XML con Pandas\n",
    "\n",
    "¡Ya sabemos que Pandas es una herramienta increíble para el análisis de datos tabulares! Pero, ¿sabías que también podemos utilizarlo para trabajar con archivos XML? Nos facilita la vida cuando necesitamos lidiar con datos estructurados en formato XML.\n",
    "\n",
    "**Apertura:**\n",
    "Usamos el método `pd.read_xml()`. Los métodos \"read\" son variados! servirán para varios tipos de archivos.\n"
   ]
  },
  {
   "cell_type": "code",
   "execution_count": 77,
   "id": "14f2d323",
   "metadata": {},
   "outputs": [
    {
     "data": {
      "text/html": [
       "<div>\n",
       "<style scoped>\n",
       "    .dataframe tbody tr th:only-of-type {\n",
       "        vertical-align: middle;\n",
       "    }\n",
       "\n",
       "    .dataframe tbody tr th {\n",
       "        vertical-align: top;\n",
       "    }\n",
       "\n",
       "    .dataframe thead th {\n",
       "        text-align: right;\n",
       "    }\n",
       "</style>\n",
       "<table border=\"1\" class=\"dataframe\">\n",
       "  <thead>\n",
       "    <tr style=\"text-align: right;\">\n",
       "      <th></th>\n",
       "      <th>id</th>\n",
       "      <th>author</th>\n",
       "      <th>title</th>\n",
       "      <th>genre</th>\n",
       "      <th>price</th>\n",
       "      <th>publish_date</th>\n",
       "      <th>description</th>\n",
       "    </tr>\n",
       "  </thead>\n",
       "  <tbody>\n",
       "    <tr>\n",
       "      <th>0</th>\n",
       "      <td>bk101</td>\n",
       "      <td>Gambardella, Matthew</td>\n",
       "      <td>XML Developer's Guide</td>\n",
       "      <td>Computer</td>\n",
       "      <td>44.95</td>\n",
       "      <td>2000-10-01</td>\n",
       "      <td>An in-depth look at creating applications \\n  ...</td>\n",
       "    </tr>\n",
       "    <tr>\n",
       "      <th>1</th>\n",
       "      <td>bk102</td>\n",
       "      <td>Ralls, Kim</td>\n",
       "      <td>Midnight Rain</td>\n",
       "      <td>Fantasy</td>\n",
       "      <td>5.95</td>\n",
       "      <td>2000-12-16</td>\n",
       "      <td>A former architect battles corporate zombies, ...</td>\n",
       "    </tr>\n",
       "    <tr>\n",
       "      <th>2</th>\n",
       "      <td>bk103</td>\n",
       "      <td>Corets, Eva</td>\n",
       "      <td>Maeve Ascendant</td>\n",
       "      <td>Fantasy</td>\n",
       "      <td>5.95</td>\n",
       "      <td>2000-11-17</td>\n",
       "      <td>After the collapse of a nanotechnology \\n     ...</td>\n",
       "    </tr>\n",
       "    <tr>\n",
       "      <th>3</th>\n",
       "      <td>bk104</td>\n",
       "      <td>Corets, Eva</td>\n",
       "      <td>Oberon's Legacy</td>\n",
       "      <td>Fantasy</td>\n",
       "      <td>5.95</td>\n",
       "      <td>2001-03-10</td>\n",
       "      <td>In post-apocalypse England, the mysterious \\n ...</td>\n",
       "    </tr>\n",
       "    <tr>\n",
       "      <th>4</th>\n",
       "      <td>bk105</td>\n",
       "      <td>Corets, Eva</td>\n",
       "      <td>The Sundered Grail</td>\n",
       "      <td>Fantasy</td>\n",
       "      <td>5.95</td>\n",
       "      <td>2001-09-10</td>\n",
       "      <td>The two daughters of Maeve, half-sisters, \\n  ...</td>\n",
       "    </tr>\n",
       "  </tbody>\n",
       "</table>\n",
       "</div>"
      ],
      "text/plain": [
       "      id                author                  title     genre  price  \\\n",
       "0  bk101  Gambardella, Matthew  XML Developer's Guide  Computer  44.95   \n",
       "1  bk102            Ralls, Kim          Midnight Rain   Fantasy   5.95   \n",
       "2  bk103           Corets, Eva        Maeve Ascendant   Fantasy   5.95   \n",
       "3  bk104           Corets, Eva        Oberon's Legacy   Fantasy   5.95   \n",
       "4  bk105           Corets, Eva     The Sundered Grail   Fantasy   5.95   \n",
       "\n",
       "  publish_date                                        description  \n",
       "0   2000-10-01  An in-depth look at creating applications \\n  ...  \n",
       "1   2000-12-16  A former architect battles corporate zombies, ...  \n",
       "2   2000-11-17  After the collapse of a nanotechnology \\n     ...  \n",
       "3   2001-03-10  In post-apocalypse England, the mysterious \\n ...  \n",
       "4   2001-09-10  The two daughters of Maeve, half-sisters, \\n  ...  "
      ]
     },
     "execution_count": 77,
     "metadata": {},
     "output_type": "execute_result"
    }
   ],
   "source": [
    "df = pd.read_xml(\"books.xml\")\n",
    "df.head()"
   ]
  },
  {
   "cell_type": "markdown",
   "id": "93b5e70e",
   "metadata": {},
   "source": [
    "### 3.4 Archivos JSON con Pandas\n",
    "\n",
    "¡El formato JSON es como una caja de sorpresas llena de datos jerárquicos y anidados! 🎁 \n",
    "\n",
    "**Apertura:**\n",
    "Usamos el método `pd.read_json()`. ¡A esta altura tu y \"read\" deberían ser muy amigos!!!"
   ]
  },
  {
   "cell_type": "code",
   "execution_count": 78,
   "id": "fa46bd45",
   "metadata": {},
   "outputs": [
    {
     "data": {
      "text/html": [
       "<div>\n",
       "<style scoped>\n",
       "    .dataframe tbody tr th:only-of-type {\n",
       "        vertical-align: middle;\n",
       "    }\n",
       "\n",
       "    .dataframe tbody tr th {\n",
       "        vertical-align: top;\n",
       "    }\n",
       "\n",
       "    .dataframe thead th {\n",
       "        text-align: right;\n",
       "    }\n",
       "</style>\n",
       "<table border=\"1\" class=\"dataframe\">\n",
       "  <thead>\n",
       "    <tr style=\"text-align: right;\">\n",
       "      <th></th>\n",
       "      <th>rank</th>\n",
       "      <th>trend</th>\n",
       "      <th>season</th>\n",
       "      <th>episode</th>\n",
       "      <th>name</th>\n",
       "      <th>start</th>\n",
       "      <th>total_votes</th>\n",
       "      <th>average_rating</th>\n",
       "    </tr>\n",
       "  </thead>\n",
       "  <tbody>\n",
       "    <tr>\n",
       "      <th>0</th>\n",
       "      <td>24,129</td>\n",
       "      <td>18</td>\n",
       "      <td>1</td>\n",
       "      <td>1</td>\n",
       "      <td>I'm Luffy! The Man Who Will Become the Pirate ...</td>\n",
       "      <td>1999</td>\n",
       "      <td>647</td>\n",
       "      <td>7.6</td>\n",
       "    </tr>\n",
       "    <tr>\n",
       "      <th>1</th>\n",
       "      <td>29,290</td>\n",
       "      <td>11</td>\n",
       "      <td>1</td>\n",
       "      <td>2</td>\n",
       "      <td>The Great Swordsman Appears! Pirate Hunter, Ro...</td>\n",
       "      <td>1999</td>\n",
       "      <td>473</td>\n",
       "      <td>7.8</td>\n",
       "    </tr>\n",
       "    <tr>\n",
       "      <th>2</th>\n",
       "      <td>32,043</td>\n",
       "      <td>7</td>\n",
       "      <td>1</td>\n",
       "      <td>3</td>\n",
       "      <td>Morgan vs. Luffy! Who's This Beautiful Young G...</td>\n",
       "      <td>1999</td>\n",
       "      <td>428</td>\n",
       "      <td>7.7</td>\n",
       "    </tr>\n",
       "    <tr>\n",
       "      <th>3</th>\n",
       "      <td>28,818</td>\n",
       "      <td>8</td>\n",
       "      <td>1</td>\n",
       "      <td>4</td>\n",
       "      <td>Luffy's Past! The Red-haired Shanks Appears!</td>\n",
       "      <td>1999</td>\n",
       "      <td>449</td>\n",
       "      <td>8.1</td>\n",
       "    </tr>\n",
       "    <tr>\n",
       "      <th>4</th>\n",
       "      <td>37,113</td>\n",
       "      <td>4</td>\n",
       "      <td>1</td>\n",
       "      <td>5</td>\n",
       "      <td>Fear, Mysterious Power! Pirate Clown Captain B...</td>\n",
       "      <td>1999</td>\n",
       "      <td>370</td>\n",
       "      <td>7.5</td>\n",
       "    </tr>\n",
       "  </tbody>\n",
       "</table>\n",
       "</div>"
      ],
      "text/plain": [
       "     rank  trend  season  episode  \\\n",
       "0  24,129     18       1        1   \n",
       "1  29,290     11       1        2   \n",
       "2  32,043      7       1        3   \n",
       "3  28,818      8       1        4   \n",
       "4  37,113      4       1        5   \n",
       "\n",
       "                                                name  start  total_votes  \\\n",
       "0  I'm Luffy! The Man Who Will Become the Pirate ...   1999          647   \n",
       "1  The Great Swordsman Appears! Pirate Hunter, Ro...   1999          473   \n",
       "2  Morgan vs. Luffy! Who's This Beautiful Young G...   1999          428   \n",
       "3       Luffy's Past! The Red-haired Shanks Appears!   1999          449   \n",
       "4  Fear, Mysterious Power! Pirate Clown Captain B...   1999          370   \n",
       "\n",
       "   average_rating  \n",
       "0             7.6  \n",
       "1             7.8  \n",
       "2             7.7  \n",
       "3             8.1  \n",
       "4             7.5  "
      ]
     },
     "execution_count": 78,
     "metadata": {},
     "output_type": "execute_result"
    }
   ],
   "source": [
    "df = pd.read_json(\"one_piece.json\")\n",
    "df.head() # recordamos que \"head\" me trae los primeros 5 resultados por defecto"
   ]
  },
  {
   "cell_type": "markdown",
   "id": "732e7ef9",
   "metadata": {},
   "source": [
    "**Transformación:**\n",
    "Pandas puede simplificar la apertura y el análisis de archivos JSON. **Transforma esos datos complejos y anidados en estructuras tabulares** (`DataFrames`) que son mucho más fáciles de manejar y analizar.\n",
    "\n",
    "**Guardar en otro formato:**\n",
    "Al igual que antes, con este DataFrame puedes aplicar los métodos de Pandas que has aprendido, incluso guardarlo con otro formato cómo por ejemplo \"csv\"."
   ]
  },
  {
   "cell_type": "code",
   "execution_count": 79,
   "id": "03253b05",
   "metadata": {},
   "outputs": [],
   "source": [
    "# Guardar el DataFrame en formato CSV\n",
    "df.to_csv(\"one_piece.csv\")"
   ]
  }
 ],
 "metadata": {
  "kernelspec": {
   "display_name": "base",
   "language": "python",
   "name": "python3"
  },
  "language_info": {
   "codemirror_mode": {
    "name": "ipython",
    "version": 3
   },
   "file_extension": ".py",
   "mimetype": "text/x-python",
   "name": "python",
   "nbconvert_exporter": "python",
   "pygments_lexer": "ipython3",
   "version": "3.11.9"
  }
 },
 "nbformat": 4,
 "nbformat_minor": 5
}
