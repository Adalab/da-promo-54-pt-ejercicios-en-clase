{
 "cells": [
  {
   "cell_type": "markdown",
   "id": "1f62c42f",
   "metadata": {},
   "source": [
    "### **Clase: Extracción de Datos Web con Beautiful Soup y Pandas**\n",
    "---\n",
    "\n",
    "### 1. Introducción\n",
    "\n",
    "*   **¿Qué es Beautiful Soup?**\n",
    "    *   Beautiful Soup es una poderosa biblioteca de Python que nos permite extraer datos de páginas web de manera efectiva y estructurada.\n",
    "    *   Es fundamental en el mundo del análisis de datos, ya que a menudo necesitamos obtener información de la web para nuestros proyectos, como noticias, datos de productos, estadísticas deportivas o cualquier otro contenido en línea.\n",
    "    *   Nos brinda la capacidad de acceder a estos datos y convertirlos en un formato que podamos utilizar en nuestro análisis.\n",
    "*   **¿Qué aprenderemos en esta lección?**\n",
    "    *   Comenzaremos por comprender los fundamentos de Beautiful Soup: cómo funciona y cuál es su rol en la extracción de datos web.\n",
    "    *   Aprenderemos cómo utilizar Beautiful Soup para navegar por páginas web, buscar y extraer información específica, como texto, enlaces, imágenes y tablas.\n",
    "\n",
    "---\n",
    "\n",
    "### 2. Fundamentos de HTML y Web Scraping\n",
    "\n",
    "Para extraer información de la web, primero necesitamos entender cómo se estructuran las páginas.\n",
    "\n",
    "#### 2.1. ¿Qué es HTML?\n",
    "\n",
    "*   HTML, siglas de *Hypertext Markup Language* (Lenguaje de Marcado de Hipertexto), es el lenguaje utilizado para crear páginas web.\n",
    "*   Se usa para estructurar y presentar el contenido de una página web, como texto, imágenes, enlaces y formularios.\n",
    "*   El HTML se basa en una estructura jerárquica de etiquetas (también conocidas como elementos) que definen la estructura y el significado del contenido. Cada etiqueta tiene un propósito específico.\n",
    "\n",
    "**Ejemplo Básico de Código HTML:**\n",
    "```html\n",
    "<!DOCTYPE html>\n",
    "<html>\n",
    "<head>\n",
    "    <title>Título de la página</title>\n",
    "</head>\n",
    "<body>\n",
    "    <h1>Título principal</h1>\n",
    "    <p>Este es un párrafo de ejemplo.</p>\n",
    "    <a href=\"https://www.ejemplo.com\">Enlace a Ejemplo.com</a>\n",
    "    <img src=\"imagen.jpg\" alt=\"Descripción de la imagen\">\n",
    "</body>\n",
    "</html>\n",
    "```\n",
    "*   **Etiquetas HTML comunes y su propósito:**\n",
    "    *   `<!DOCTYPE html>`: Declara que el documento es un archivo HTML.\n",
    "    *   `<html>`: Es el elemento raíz que envuelve todo el contenido de la página.\n",
    "    *   `<head>`: Contiene información meta y enlaces a archivos externos (CSS, JavaScript).\n",
    "    *   `<title>`: Define el título de la página, que se muestra en la pestaña del navegador.\n",
    "    *   `<body>`: Contiene el contenido visible de la página web.\n",
    "    *   `<h1>`: Define un encabezado de nivel 1.\n",
    "    *   `<p>`: Define un párrafo de texto.\n",
    "    *   `<a>`: Define un enlace a otra página web.\n",
    "    *   `<img>`: Inserta una imagen en la página web.\n",
    "*   **Elementos HTML para Tablas:**\n",
    "    *   `<table>`: Se utiliza para crear una tabla en HTML y envuelve todas las filas y columnas.\n",
    "    *   `<tr>`: Define filas dentro de una tabla.\n",
    "    *   `<td>`: Representa una celda de datos en una tabla, ubicada dentro de un `<tr>`.\n",
    "    *   `<th>`: Representa una celda de encabezado en una tabla, también ubicada dentro de un `<tr>`.\n",
    "\n",
    "Entender la estructura HTML es fundamental para analizar y extraer datos de sitios web durante el proceso de análisis de datos.\n",
    "\n",
    "#### 2.2. ¿Qué es el Web Scraping?\n",
    "\n",
    "*   El web scraping es una técnica utilizada para extraer información de sitios web de forma automática.\n",
    "*   Consiste en escribir un programa o utilizar herramientas para recorrer y analizar el código HTML o XML de una página web, y luego extraer los datos relevantes de manera estructurada.\n",
    "*   Su objetivo es obtener datos específicos de una página web de manera eficiente y automatizada, en lugar de realizar la extracción manualmente.\n",
    "*   Puede ser utilizado para diversas finalidades, como recopilar datos para análisis, realizar comparaciones de precios, o monitorizar contenido.\n",
    "*   Existen varias bibliotecas en Python para web scraping, siendo las más populares Beautiful Soup, Selenium, Scrapy, lxml y PyQuery. En esta lección, nos centraremos en Beautiful Soup.\n",
    "\n",
    "---\n",
    "\n",
    "### 3. Explorando Beautiful Soup\n",
    "\n",
    "#### 3.1. ¿Qué es Beautiful Soup?\n",
    "\n",
    "*   Beautiful Soup es una biblioteca de Python diseñada para facilitar el análisis y la extracción de datos de archivos HTML y XML.\n",
    "*   Proporciona una interfaz sencilla y legible que simplifica el proceso de navegación y manipulación de la estructura de estos documentos.\n",
    "\n",
    "#### 3.2. Características y Ventajas\n",
    "\n",
    "*   **Análisis de documentos HTML/XML:** Facilita la tarea de analizar documentos y extraer datos específicos de manera eficiente.\n",
    "*   **Interfaz sencilla:** Es fácil de usar y comprender, no requiere conocimientos profundos de programación ni de lenguajes de marcado como HTML o XML.\n",
    "*   **Soporte para analizadores (parsers):** Es compatible con varios analizadores HTML/XML como `html.parser`, `lxml`, `html5lib`, permitiéndote elegir el más adecuado.\n",
    "*   **Navegación basada en árbol:** Utiliza una estructura de árbol para representar la jerarquía de los elementos, lo que permite búsquedas y selecciones basadas en etiquetas, atributos, contenido y estructura.\n",
    "*   **Filtrado y extracción de datos:** Puedes buscar elementos por su nombre de etiqueta, atributos, clases, contenido y más para extraer información relevante.\n",
    "*   **Amplio uso:** Es una de las bibliotecas más populares para web scraping y análisis de datos en Python, con una comunidad activa."
   ]
  },
  {
   "cell_type": "markdown",
   "id": "5e63539d",
   "metadata": {},
   "source": [
    "#### 3.3. Instalación\n",
    "\n",
    "Para instalar Beautiful Soup, abre tu terminal o una celda de código en Jupyter y ejecuta:\n",
    "```python\n",
    "!pip install beautifulsoup4\n",
    "```\n",
    "\n",
    "#### 3.4. Métodos Importantes de Beautiful Soup\n",
    "\n",
    "Una vez instalada, importaremos la librería y veremos sus métodos principales:\n",
    "\n",
    "```python\n",
    "from bs4 import BeautifulSoup\n",
    "```\n",
    "\n",
    "*   `BeautifulSoup(html_doc, 'html.parser')`: Es el constructor principal. Toma el código HTML o XML como entrada y lo analiza para crear un objeto Beautiful Soup.\n",
    "*   `find()` y `find_all()`: Fundamentales para buscar elementos.\n",
    "    *   `find()`: Devuelve el primer elemento que coincide con los criterios de búsqueda.\n",
    "    *   `find_all()`: Devuelve una lista de todos los elementos que coinciden con los criterios de búsqueda.\n",
    "*   `select()`: Devuelve una lista de objetos `Tag` que coinciden con el selector CSS especificado.\n",
    "*   `text` o `getText()`: Devuelve el texto contenido dentro de una etiqueta. Ambos hacen exactamente lo mismo.\n",
    "*   `get()`: Se utiliza para obtener el valor de un atributo de una etiqueta.\n",
    "\n",
    "**Ejemplo Práctico de Métodos de Beautiful Soup:**\n",
    "Vamos a aplicar estos métodos a un ejemplo sencillo de HTML:"
   ]
  },
  {
   "cell_type": "code",
   "execution_count": 2,
   "id": "729287bd",
   "metadata": {},
   "outputs": [],
   "source": [
    "from bs4 import BeautifulSoup"
   ]
  },
  {
   "cell_type": "code",
   "execution_count": 3,
   "id": "bdc74d32",
   "metadata": {},
   "outputs": [],
   "source": [
    "# Un ejemplo de documento HTML (similar al que vimos antes)\n",
    "html_doc_example = \"\"\"\n",
    "<!DOCTYPE html>\n",
    "<html>\n",
    "<head>\n",
    "    <title>Título de la página de ejemplo</title>\n",
    "</head>\n",
    "<body>\n",
    "    <h1>Este es un encabezado principal</h1>\n",
    "    <p>Este es el primer párrafo de <strong>texto</strong>.</p>\n",
    "    <p class=\"introduccion\">Este es el segundo párrafo, con una clase.</p>\n",
    "    <a href=\"https://www.google.com\" id=\"enlace_principal\">Ir a Google</a>\n",
    "    <img src=\"imagen.jpg\" alt=\"Una imagen de ejemplo\">\n",
    "</body>\n",
    "</html>\n",
    "\"\"\""
   ]
  },
  {
   "cell_type": "code",
   "execution_count": 4,
   "id": "347b9fe7",
   "metadata": {},
   "outputs": [
    {
     "data": {
      "text/plain": [
       "str"
      ]
     },
     "execution_count": 4,
     "metadata": {},
     "output_type": "execute_result"
    }
   ],
   "source": [
    "type(html_doc_example)"
   ]
  },
  {
   "cell_type": "code",
   "execution_count": 5,
   "id": "dc10fbb2",
   "metadata": {},
   "outputs": [],
   "source": [
    "# Crear un objeto BeautifulSoup\n",
    "soup = BeautifulSoup(html_doc_example, 'html.parser')"
   ]
  },
  {
   "cell_type": "code",
   "execution_count": 6,
   "id": "94d3c7d8",
   "metadata": {},
   "outputs": [
    {
     "data": {
      "text/plain": [
       "bs4.BeautifulSoup"
      ]
     },
     "execution_count": 6,
     "metadata": {},
     "output_type": "execute_result"
    }
   ],
   "source": [
    "type(soup)"
   ]
  },
  {
   "cell_type": "code",
   "execution_count": 7,
   "id": "1b06db73",
   "metadata": {},
   "outputs": [
    {
     "data": {
      "text/plain": [
       "<title>Título de la página de ejemplo</title>"
      ]
     },
     "execution_count": 7,
     "metadata": {},
     "output_type": "execute_result"
    }
   ],
   "source": [
    "# Acceder al título de la página\n",
    "soup.find('title')"
   ]
  },
  {
   "cell_type": "code",
   "execution_count": 8,
   "id": "e7752c20",
   "metadata": {},
   "outputs": [
    {
     "data": {
      "text/plain": [
       "'Título de la página de ejemplo'"
      ]
     },
     "execution_count": 8,
     "metadata": {},
     "output_type": "execute_result"
    }
   ],
   "source": [
    "soup.find('title').text"
   ]
  },
  {
   "cell_type": "code",
   "execution_count": 9,
   "id": "241882c7",
   "metadata": {},
   "outputs": [
    {
     "name": "stdout",
     "output_type": "stream",
     "text": [
      "Título de la página: Título de la página de ejemplo\n"
     ]
    }
   ],
   "source": [
    "# otra manera para acceder al título de la página\n",
    "print(f\"Título de la página: {soup.title.text}\")"
   ]
  },
  {
   "cell_type": "code",
   "execution_count": 10,
   "id": "2f39ab0c",
   "metadata": {},
   "outputs": [
    {
     "data": {
      "text/plain": [
       "<h1>Este es un encabezado principal</h1>"
      ]
     },
     "execution_count": 10,
     "metadata": {},
     "output_type": "execute_result"
    }
   ],
   "source": [
    "soup.find('h1')"
   ]
  },
  {
   "cell_type": "code",
   "execution_count": 11,
   "id": "1bbc7bfe",
   "metadata": {},
   "outputs": [
    {
     "data": {
      "text/plain": [
       "'Este es un encabezado principal'"
      ]
     },
     "execution_count": 11,
     "metadata": {},
     "output_type": "execute_result"
    }
   ],
   "source": [
    "soup.find('h1').text"
   ]
  },
  {
   "cell_type": "code",
   "execution_count": 12,
   "id": "39665b77",
   "metadata": {},
   "outputs": [
    {
     "name": "stdout",
     "output_type": "stream",
     "text": [
      "Texto del h1: Este es un encabezado principal\n"
     ]
    }
   ],
   "source": [
    "print(f\"Texto del h1: {soup.h1.text}\")"
   ]
  },
  {
   "cell_type": "code",
   "execution_count": 13,
   "id": "00014c25",
   "metadata": {},
   "outputs": [
    {
     "data": {
      "text/plain": [
       "<p>Este es el primer párrafo de <strong>texto</strong>.</p>"
      ]
     },
     "execution_count": 13,
     "metadata": {},
     "output_type": "execute_result"
    }
   ],
   "source": [
    "# Buscar el primer párrafo\n",
    "soup.find('p')"
   ]
  },
  {
   "cell_type": "code",
   "execution_count": 14,
   "id": "7f7095d9",
   "metadata": {},
   "outputs": [
    {
     "data": {
      "text/plain": [
       "'Este es el primer párrafo de texto.'"
      ]
     },
     "execution_count": 14,
     "metadata": {},
     "output_type": "execute_result"
    }
   ],
   "source": [
    "soup.find('p').text"
   ]
  },
  {
   "cell_type": "code",
   "execution_count": 15,
   "id": "982e32bf",
   "metadata": {},
   "outputs": [
    {
     "data": {
      "text/plain": [
       "'Este es el primer párrafo de texto.'"
      ]
     },
     "execution_count": 15,
     "metadata": {},
     "output_type": "execute_result"
    }
   ],
   "source": [
    "soup.p.text"
   ]
  },
  {
   "cell_type": "code",
   "execution_count": 16,
   "id": "dadd0d4e",
   "metadata": {},
   "outputs": [
    {
     "data": {
      "text/plain": [
       "<a href=\"https://www.google.com\" id=\"enlace_principal\">Ir a Google</a>"
      ]
     },
     "execution_count": 16,
     "metadata": {},
     "output_type": "execute_result"
    }
   ],
   "source": [
    "# Buscar el enlace y obtener su atributo 'href'\n",
    "soup.find('a')"
   ]
  },
  {
   "cell_type": "code",
   "execution_count": 17,
   "id": "0b937ae4",
   "metadata": {},
   "outputs": [
    {
     "data": {
      "text/plain": [
       "'Ir a Google'"
      ]
     },
     "execution_count": 17,
     "metadata": {},
     "output_type": "execute_result"
    }
   ],
   "source": [
    "soup.find('a').text"
   ]
  },
  {
   "cell_type": "code",
   "execution_count": 18,
   "id": "fe5b3575",
   "metadata": {},
   "outputs": [
    {
     "data": {
      "text/plain": [
       "'https://www.google.com'"
      ]
     },
     "execution_count": 18,
     "metadata": {},
     "output_type": "execute_result"
    }
   ],
   "source": [
    "soup.find('a').get('href')"
   ]
  },
  {
   "cell_type": "code",
   "execution_count": 19,
   "id": "6c0ac21e",
   "metadata": {},
   "outputs": [
    {
     "data": {
      "text/plain": [
       "'enlace_principal'"
      ]
     },
     "execution_count": 19,
     "metadata": {},
     "output_type": "execute_result"
    }
   ],
   "source": [
    "soup.find('a').get('id')"
   ]
  },
  {
   "cell_type": "code",
   "execution_count": 20,
   "id": "896deb25",
   "metadata": {},
   "outputs": [
    {
     "data": {
      "text/plain": [
       "[<p>Este es el primer párrafo de <strong>texto</strong>.</p>,\n",
       " <p class=\"introduccion\">Este es el segundo párrafo, con una clase.</p>]"
      ]
     },
     "execution_count": 20,
     "metadata": {},
     "output_type": "execute_result"
    }
   ],
   "source": [
    "# Buscar todos los párrafos\n",
    "soup.find_all('p')"
   ]
  },
  {
   "cell_type": "code",
   "execution_count": 21,
   "id": "81654333",
   "metadata": {},
   "outputs": [
    {
     "name": "stdout",
     "output_type": "stream",
     "text": [
      "Este es el primer párrafo de texto.\n",
      "Este es el segundo párrafo, con una clase.\n"
     ]
    }
   ],
   "source": [
    "for p in soup.find_all('p'):\n",
    "    print(p.text)"
   ]
  },
  {
   "cell_type": "code",
   "execution_count": 22,
   "id": "38410bac",
   "metadata": {},
   "outputs": [
    {
     "data": {
      "text/plain": [
       "[<p class=\"introduccion\">Este es el segundo párrafo, con una clase.</p>]"
      ]
     },
     "execution_count": 22,
     "metadata": {},
     "output_type": "execute_result"
    }
   ],
   "source": [
    "# Buscar elementos por clase\n",
    "soup.find_all('p', class_='introduccion')"
   ]
  },
  {
   "cell_type": "code",
   "execution_count": 23,
   "id": "147adb5f",
   "metadata": {},
   "outputs": [
    {
     "name": "stdout",
     "output_type": "stream",
     "text": [
      "Este es el segundo párrafo, con una clase.\n"
     ]
    }
   ],
   "source": [
    "for p in soup.find_all('p', class_='introduccion'):\n",
    "    print(p.text)"
   ]
  },
  {
   "cell_type": "code",
   "execution_count": 24,
   "id": "50cb352e",
   "metadata": {},
   "outputs": [
    {
     "data": {
      "text/plain": [
       "[<a href=\"https://www.google.com\" id=\"enlace_principal\">Ir a Google</a>]"
      ]
     },
     "execution_count": 24,
     "metadata": {},
     "output_type": "execute_result"
    }
   ],
   "source": [
    "# Buscar todos los elementos <a> dentro de elementos <body>\n",
    "soup.select('body a')"
   ]
  },
  {
   "cell_type": "code",
   "execution_count": 25,
   "id": "b3084abe",
   "metadata": {},
   "outputs": [
    {
     "name": "stdout",
     "output_type": "stream",
     "text": [
      "Ir a Google\n"
     ]
    }
   ],
   "source": [
    "for e in soup.select('body a'):\n",
    "    print(e.text) # Enlaces dentro del body"
   ]
  },
  {
   "cell_type": "code",
   "execution_count": 26,
   "id": "4bc27577",
   "metadata": {},
   "outputs": [
    {
     "name": "stdout",
     "output_type": "stream",
     "text": [
      "https://www.google.com\n"
     ]
    }
   ],
   "source": [
    "for e in soup.select('body a'):\n",
    "    print(e.get('href')) # Enlaces dentro del body"
   ]
  },
  {
   "cell_type": "markdown",
   "id": "5687876a",
   "metadata": {},
   "source": [
    "### 4. Web Scraping Práctico: Datos de Móviles en eBay\n",
    "\n",
    "Ahora aplicaremos lo aprendido para extraer información real de una página web.\n",
    "\n",
    "#### 4.1. El Proceso de Web Scraping\n",
    "\n",
    "Para extraer datos, seguiremos estos pasos generales:\n",
    "1.  **Hacer una solicitud HTTP:** Usaremos la biblioteca `requests` de Python para obtener el código fuente de la página web.\n",
    "2.  **Crear un objeto Beautiful Soup:** Una vez que tengamos el código fuente, lo pasaremos a Beautiful Soup para que lo analice.\n",
    "3.  **Localizar y extraer información:** Utilizaremos los métodos de Beautiful Soup (`find()`, `find_all()`, `select()`) para encontrar los elementos HTML que contienen los datos que nos interesan.\n",
    "4.  **Almacenar los datos:** Guardaremos la información extraída en una estructura de datos adecuada, como una lista o un diccionario.\n",
    "\n",
    "#### 4.2. Códigos de Estado HTTP\n",
    "\n",
    "Al hacer una solicitud HTTP con `requests`, obtendremos una respuesta del servidor que incluye un `status_code`. Este código numérico indica el estado de la respuesta y es crucial para saber si la solicitud fue exitosa.\n",
    "\n",
    "*   **200 OK:** La solicitud fue exitosa y el servidor devolvió los datos solicitados. Es lo que esperamos generalmente.\n",
    "*   **404 Not Found:** El recurso solicitado no se encontró en el servidor (URL incorrecta, recurso eliminado).\n",
    "*   **500 Internal Server Error:** Un error interno del servidor impide que se procese correctamente la solicitud.\n",
    "*   **302 Found (Redirección Temporal):** La URL solicitada ha sido redirigida a otra ubicación.\n",
    "*   **401 Unauthorized:** La solicitud requiere autenticación (no tienes acceso sin credenciales válidas).\n",
    "\n",
    "**Es importante verificar el código de estado de la respuesta para asegurarse de que la solicitud fue exitosa y manejar cualquier error.**\n",
    "\n",
    "#### 4.3. Ejemplo: Extracción de Datos de Móviles en eBay\n",
    "\n",
    "Vamos a extraer nombres y precios de teléfonos móviles de una página de eBay.\n"
   ]
  },
  {
   "cell_type": "code",
   "execution_count": 27,
   "id": "5d3b7e7a",
   "metadata": {},
   "outputs": [],
   "source": [
    "# Importar librerías necesarias\n",
    "import requests\n",
    "# from bs4 import BeautifulSoup\n",
    "import pandas as pd # La usaremos después\n",
    "import re # Para limpieza de texto (regex)"
   ]
  },
  {
   "cell_type": "code",
   "execution_count": 28,
   "id": "fd443d1c",
   "metadata": {},
   "outputs": [],
   "source": [
    "# 1. Definir la URL de la página a la que haremos scraping\n",
    "url_moviles = \"https://www.ebay.es/deals/electronica/moviles\""
   ]
  },
  {
   "cell_type": "code",
   "execution_count": 29,
   "id": "55696448",
   "metadata": {},
   "outputs": [],
   "source": [
    "# 2. Hacer la solicitud HTTP a la página\n",
    "res_moviles = requests.get(url_moviles)"
   ]
  },
  {
   "cell_type": "code",
   "execution_count": 30,
   "id": "35634caa",
   "metadata": {},
   "outputs": [
    {
     "name": "stdout",
     "output_type": "stream",
     "text": [
      "La respuesta de la petición es: 200\n"
     ]
    }
   ],
   "source": [
    "# 3. Verificar si la solicitud fue exitosa\n",
    "print(f\"La respuesta de la petición es: {res_moviles.status_code}\")"
   ]
  },
  {
   "cell_type": "code",
   "execution_count": 33,
   "id": "f5c508ad",
   "metadata": {},
   "outputs": [
    {
     "data": {
      "text/plain": [
       "b'<!doctype html><html lang=en><head><meta charset=UTF-8><meta http-equiv=X-UA-Compatible content=IE=E'"
      ]
     },
     "execution_count": 33,
     "metadata": {},
     "output_type": "execute_result"
    }
   ],
   "source": [
    "res_moviles.content[:100]"
   ]
  },
  {
   "cell_type": "code",
   "execution_count": 34,
   "id": "4ad9c7bf",
   "metadata": {},
   "outputs": [
    {
     "name": "stdout",
     "output_type": "stream",
     "text": [
      "\n",
      "Contenido HTML (primeras líneas con prettify):\n",
      "\n",
      "<!DOCTYPE html>\n",
      "<html lang=\"en\">\n",
      " <head>\n",
      "  <meta charset=\"utf-8\"/>\n",
      "  <meta content=\"IE=Edge\" http-equiv=\"X-UA-Compatible\"/>\n",
      "  <meta content=\"width=device-width\" name=\"viewport\"/>\n",
      "  <!-- SEO METADATA START -->\n",
      "  <meta content=\"102628213125203\" property=\"fb:app_id\">\n",
      "   <meta content=\"sites-6603353820027325\" name=\"google-adsense-account\">\n",
      "    <link href=\"https://i.ebayimg.com\" rel=\"preconnect\"/>\n",
      "    <link href=\"https://www.ebay.es/deals/electronica/moviles\" rel=\"canonical\"/>\n",
      "    <meta content=\"unsafe-url\" name=\"referrer\">\n",
      "     <meta content=\"Ahorra con las mejores Ofertas de eBay en Moviles. Descuentos en Moviles con envío gratis. Ofertas nuevas cada semana. ¡No te las pierdas!\" name=\"description\"/>\n",
      "     <link href=\"https://ir.ebaystatic.com\" rel=\"preconnect\"/>\n",
      "     <meta content=\"34E98E6F27109BE1A9DCF19658EEEE33\" name=\"msvalidate.01\"/>\n",
      "     <meta content=\"060ab5e38d266c06\" name=\"y_key\"/>\n",
      "     <title>\n",
      "      Ofertas de eBay en Moviles | Miles de ofertas con envío gratis\n",
      "     </title>\n",
      "     \n",
      "...\n"
     ]
    }
   ],
   "source": [
    "# Si el status_code es 200, continuamos\n",
    "# 4. Crear el objeto Beautiful Soup para analizar el contenido HTML\n",
    "sopa_moviles = BeautifulSoup(res_moviles.content, 'html.parser')\n",
    "print(\"\\nContenido HTML (primeras líneas con prettify):\\n\")\n",
    "print(sopa_moviles.prettify()[:1000]) # Muestra solo las primeras 1000 caracteres para no saturar\n",
    "print(\"...\")"
   ]
  },
  {
   "cell_type": "code",
   "execution_count": 35,
   "id": "fc1e459c",
   "metadata": {},
   "outputs": [
    {
     "name": "stdout",
     "output_type": "stream",
     "text": [
      "\n",
      "--- Extracción de Nombres de Productos ---\n",
      "Resultados de find_all para nombres (primeros 3 elementos):\n",
      " [<span class=\"ebayui-ellipsis-2\" itemprop=\"name\">Apple iPhone 14 Plus 128GB/256GB 5G Sin Simlock Nano SIM 6,7\"  A15 Bionic</span>, <span class=\"ebayui-ellipsis-2\" itemprop=\"name\">Apple iPhone SE (2. Generation) 128GB Schwarz 4,7\" Retina HD Display 12MP Kamera</span>, <span class=\"ebayui-ellipsis-2\" itemprop=\"name\">OPPO Reno 13F 8+256GB 6.67\" 5G Plume Purple ITA</span>]\n"
     ]
    }
   ],
   "source": [
    "print(\"\\n--- Extracción de Nombres de Productos ---\")\n",
    "# 5. Localizar y extraer los nombres de los móviles\n",
    "# Inspeccionando la página, encontramos que los nombres están en etiquetas span con una clase específica\n",
    "lista_nombre_producto = sopa_moviles.find_all(\"span\", {\"class\": \"ebayui-ellipsis-2\"})\n",
    "print(f\"Resultados de find_all para nombres (primeros 3 elementos):\\n {lista_nombre_producto[:3]}\")"
   ]
  },
  {
   "cell_type": "code",
   "execution_count": 38,
   "id": "9936f0e7",
   "metadata": {},
   "outputs": [],
   "source": [
    "# Iterar sobre la lista de elementos y extraer el texto de cada uno\n",
    "nombres_productos = []\n",
    "for producto_html in lista_nombre_producto:\n",
    "    nombres_productos.append(producto_html.text)"
   ]
  },
  {
   "cell_type": "code",
   "execution_count": 39,
   "id": "36e8ca4e",
   "metadata": {},
   "outputs": [
    {
     "data": {
      "text/plain": [
       "['Apple iPhone 14 Plus 128GB/256GB 5G Sin Simlock Nano SIM 6,7\"  A15 Bionic',\n",
       " 'Apple iPhone SE (2. Generation) 128GB Schwarz 4,7\" Retina HD Display 12MP Kamera']"
      ]
     },
     "execution_count": 39,
     "metadata": {},
     "output_type": "execute_result"
    }
   ],
   "source": [
    "nombres_productos[:2]"
   ]
  },
  {
   "cell_type": "code",
   "execution_count": null,
   "id": "9da2d115",
   "metadata": {},
   "outputs": [],
   "source": [
    "<span itemprop=\"price\" class=\"first\">489,99 EUR</span>"
   ]
  },
  {
   "cell_type": "code",
   "execution_count": 40,
   "id": "f3c56e08",
   "metadata": {},
   "outputs": [
    {
     "name": "stdout",
     "output_type": "stream",
     "text": [
      "\n",
      "--- Extracción de Precios ---\n",
      "Resultados de find_all para precios (primeros 3 elementos):\n",
      " [<span class=\"first\" itemprop=\"price\">489,99 EUR</span>, <span class=\"first\" itemprop=\"price\">89,00 EUR</span>, <span class=\"first\" itemprop=\"price\">242,10 EUR</span>]\n"
     ]
    }
   ],
   "source": [
    "print(\"\\n--- Extracción de Precios ---\")\n",
    "# 6. Localizar y extraer los precios de los móviles\n",
    "# Los precios están en etiquetas span con otra clase específica\n",
    "lista_precios_moviles = sopa_moviles.find_all(\"span\", {\"class\": \"first\"})\n",
    "print(f\"Resultados de find_all para precios (primeros 3 elementos):\\n {lista_precios_moviles[:3]}\")\n"
   ]
  },
  {
   "cell_type": "code",
   "execution_count": 41,
   "id": "fd3c252c",
   "metadata": {},
   "outputs": [],
   "source": [
    "# Iterar sobre la lista de elementos y extraer el texto del precio\n",
    "precios_productos_str = []\n",
    "for precio_html in lista_precios_moviles:\n",
    "    precios_productos_str.append(precio_html.text)"
   ]
  },
  {
   "cell_type": "code",
   "execution_count": 42,
   "id": "5bce4dd3",
   "metadata": {},
   "outputs": [
    {
     "data": {
      "text/plain": [
       "['489,99 EUR',\n",
       " '89,00 EUR',\n",
       " '242,10 EUR',\n",
       " '383,96 EUR',\n",
       " '404,44 EUR',\n",
       " '239,99 EUR',\n",
       " '469,99 EUR',\n",
       " '349,37 EUR',\n",
       " '449,99 EUR',\n",
       " '361,41 EUR',\n",
       " '409,99 EUR',\n",
       " '195,04 EUR',\n",
       " '399,99 EUR',\n",
       " '351,68 EUR',\n",
       " '215,00 EUR',\n",
       " '310,64 EUR',\n",
       " '196,00 EUR',\n",
       " '194,99 EUR',\n",
       " '319,99 EUR',\n",
       " '175,00 EUR',\n",
       " '319,00 EUR',\n",
       " '369,00 EUR',\n",
       " '335,88 EUR',\n",
       " '252,09 EUR']"
      ]
     },
     "execution_count": 42,
     "metadata": {},
     "output_type": "execute_result"
    }
   ],
   "source": [
    "precios_productos_str"
   ]
  },
  {
   "cell_type": "markdown",
   "id": "e007e285",
   "metadata": {},
   "source": [
    "# Primero lo hacemos para un elemento (en pequeño!!)"
   ]
  },
  {
   "cell_type": "code",
   "execution_count": 44,
   "id": "d3e2de47",
   "metadata": {},
   "outputs": [],
   "source": [
    "mi_string = '489,99 EUR'"
   ]
  },
  {
   "cell_type": "code",
   "execution_count": 45,
   "id": "04e75548",
   "metadata": {},
   "outputs": [
    {
     "data": {
      "text/plain": [
       "'489,99'"
      ]
     },
     "execution_count": 45,
     "metadata": {},
     "output_type": "execute_result"
    }
   ],
   "source": [
    "mi_string.replace(' EUR', '')"
   ]
  },
  {
   "cell_type": "code",
   "execution_count": 49,
   "id": "d2056dad",
   "metadata": {},
   "outputs": [
    {
     "data": {
      "text/plain": [
       "'489.99'"
      ]
     },
     "execution_count": 49,
     "metadata": {},
     "output_type": "execute_result"
    }
   ],
   "source": [
    "mi_string.split()[0].replace(',', '.')"
   ]
  },
  {
   "cell_type": "code",
   "execution_count": 50,
   "id": "81efc73e",
   "metadata": {},
   "outputs": [
    {
     "data": {
      "text/plain": [
       "489.99"
      ]
     },
     "execution_count": 50,
     "metadata": {},
     "output_type": "execute_result"
    }
   ],
   "source": [
    "float(mi_string.split()[0].replace(',', '.'))"
   ]
  },
  {
   "cell_type": "code",
   "execution_count": 54,
   "id": "c712298f",
   "metadata": {},
   "outputs": [
    {
     "name": "stdout",
     "output_type": "stream",
     "text": [
      "489.99\n",
      "89.0\n",
      "242.1\n",
      "383.96\n",
      "404.44\n"
     ]
    }
   ],
   "source": [
    "# 7. Limpiar los datos de precios:\n",
    "# - Eliminar la palabra \"EUR\"\n",
    "# - Reemplazar las \",\" por \".\" para convertir a formato numérico\n",
    "\n",
    "for precio in precios_productos_str[:5]:\n",
    "    print(float(precio.split()[0].replace(',', '.')))"
   ]
  },
  {
   "cell_type": "code",
   "execution_count": 55,
   "id": "a6ed7818",
   "metadata": {},
   "outputs": [],
   "source": [
    "precios_productos_limpios = []\n",
    "for precio in precios_productos_str:\n",
    "    precios_productos_limpios.append(float(precio.split()[0].replace(',', '.')))"
   ]
  },
  {
   "cell_type": "code",
   "execution_count": 58,
   "id": "5eb3f0de",
   "metadata": {},
   "outputs": [
    {
     "data": {
      "text/plain": [
       "float"
      ]
     },
     "execution_count": 58,
     "metadata": {},
     "output_type": "execute_result"
    }
   ],
   "source": [
    "type(precios_productos_limpios[0])"
   ]
  },
  {
   "cell_type": "markdown",
   "id": "5252aa56",
   "metadata": {},
   "source": [
    "### 5. Trabajando con Datos Extraídos: Pandas\n",
    "\n",
    "Una vez que tenemos los datos, Pandas nos ayuda a estructurarlos para el análisis.\n",
    "\n",
    "#### 5.1. Convertir datos a un DataFrame de Pandas\n",
    "\n",
    "Podemos convertir los datos extraídos en un DataFrame de Pandas de varias formas, como desde un diccionario o una lista de listas. En nuestro caso, los datos de los móviles están en listas separadas (nombres, precios), que podemos combinar en un diccionario y luego en un DataFrame.\n"
   ]
  },
  {
   "cell_type": "code",
   "execution_count": 59,
   "id": "0e88a259",
   "metadata": {},
   "outputs": [],
   "source": [
    "# Crear un diccionario con los datos\n",
    "datos_moviles = {\n",
    "    \"nombre\": nombres_productos,\n",
    "    \"precio\": precios_productos_limpios\n",
    "}\n"
   ]
  },
  {
   "cell_type": "code",
   "execution_count": 60,
   "id": "bc4b021f",
   "metadata": {},
   "outputs": [
    {
     "data": {
      "text/plain": [
       "{'nombre': ['Apple iPhone 14 Plus 128GB/256GB 5G Sin Simlock Nano SIM 6,7\"  A15 Bionic',\n",
       "  'Apple iPhone SE (2. Generation) 128GB Schwarz 4,7\" Retina HD Display 12MP Kamera',\n",
       "  'OPPO Reno 13F 8+256GB 6.67\" 5G Plume Purple ITA',\n",
       "  'Samsung Galaxy S23 Ultra SM-S918U 256GB Green Unlocked Good Condition',\n",
       "  '99% New  Samsung W2019 flagship flip phone 128GB/256GB Android phone',\n",
       "  'Nuevo Samsung Galaxy S20 5G SM-G981U 128GB Desbloqueado Smartphone Teléfono 6.2\"',\n",
       "  'Nuevo Apple iPhone 14 128GB/256GB 5G Sin Simlock 6,1 Zoll A15 Bionic Nano SIM',\n",
       "  'Sony Xperia 1 III 5G XQ-BC72 256GB 512GB  Unlocked Global Smartphone New Sealed',\n",
       "  'Apple iPhone 13 Pro 128GB Alpingrün iOS Smartphone wie neu',\n",
       "  'SAMSUNG Galaxy Z Flip 5 5G SM-F731  256/512GB Unlocked Folding Phone',\n",
       "  'Nuevo Apple iPhone 13 6,1\" 128GB/256GB 5G iOS Sin Simlock Sin Contrato SIMFREE',\n",
       "  'Original Google Pixel 5 128GB +8GB 5G Unlocked Android Smartphone New Sealed',\n",
       "  'Nuevo Apple iPhone 13 128GB/256GB Desbloqueado Sin Contrato 6.1\" iOS Smartphone',\n",
       "  'Apple iPhone 13 Pro 128GB/256/512 - ALL COLOURS - UNLOCKED - GOOD CONDITION',\n",
       "  'Xiaomi Redmi Note 14 Pro 4G Smartphone 8+256GB 200MP Dual SIM 5500mAh 45W Global',\n",
       "  'Samsung Galaxy S24 128GB S921U Unlocked - Excellent',\n",
       "  'Xiaomi Redmi Note 14 5G Smartphone 8+256GB 108MP Dual SIM 2-Jahres-Garantie',\n",
       "  'Nuevo Samsung Galaxy S20+ Plus 5G SM-G986U 128GB Desbloqueado Smartphone',\n",
       "  'Nuevo Apple iPhone 12 128GB/256GB Smartphone Desbloqueado Sin Contrato Teléfono',\n",
       "  'Xiaomi POCO M7 Pro 5G Smartphon 8GB+256GB 120Hz 50MP Dimensity 7025 Ultra Global',\n",
       "  'Apple iPhone 14 128GB red Smartphone ohne Simlock - Zustand akzeptabel',\n",
       "  'Xiaomi POCO X7 Pro 5G Smartphone 12GB+512GB AMOLED Dimensity 8400 Ultra HyperOS2',\n",
       "  \"Xiaomi POCO X7 Pro 5G Smartphone 12+512GB 50MP 6000mAh 6.67'' 120Hz Globale\",\n",
       "  'Apple iPhone 13 128GB Unlocked - Excellent'],\n",
       " 'precio': [489.99,\n",
       "  89.0,\n",
       "  242.1,\n",
       "  383.96,\n",
       "  404.44,\n",
       "  239.99,\n",
       "  469.99,\n",
       "  349.37,\n",
       "  449.99,\n",
       "  361.41,\n",
       "  409.99,\n",
       "  195.04,\n",
       "  399.99,\n",
       "  351.68,\n",
       "  215.0,\n",
       "  310.64,\n",
       "  196.0,\n",
       "  194.99,\n",
       "  319.99,\n",
       "  175.0,\n",
       "  319.0,\n",
       "  369.0,\n",
       "  335.88,\n",
       "  252.09]}"
      ]
     },
     "execution_count": 60,
     "metadata": {},
     "output_type": "execute_result"
    }
   ],
   "source": [
    "datos_moviles"
   ]
  },
  {
   "cell_type": "code",
   "execution_count": 61,
   "id": "a7a3c51a",
   "metadata": {},
   "outputs": [],
   "source": [
    "# Convertir el diccionario a un DataFrame de Pandas\n",
    "df_moviles = pd.DataFrame(datos_moviles)"
   ]
  },
  {
   "cell_type": "code",
   "execution_count": 65,
   "id": "5ba43908",
   "metadata": {},
   "outputs": [
    {
     "data": {
      "text/html": [
       "<div>\n",
       "<style scoped>\n",
       "    .dataframe tbody tr th:only-of-type {\n",
       "        vertical-align: middle;\n",
       "    }\n",
       "\n",
       "    .dataframe tbody tr th {\n",
       "        vertical-align: top;\n",
       "    }\n",
       "\n",
       "    .dataframe thead th {\n",
       "        text-align: right;\n",
       "    }\n",
       "</style>\n",
       "<table border=\"1\" class=\"dataframe\">\n",
       "  <thead>\n",
       "    <tr style=\"text-align: right;\">\n",
       "      <th></th>\n",
       "      <th>nombre</th>\n",
       "      <th>precio</th>\n",
       "    </tr>\n",
       "  </thead>\n",
       "  <tbody>\n",
       "    <tr>\n",
       "      <th>0</th>\n",
       "      <td>Apple iPhone 14 Plus 128GB/256GB 5G Sin Simloc...</td>\n",
       "      <td>489.99</td>\n",
       "    </tr>\n",
       "    <tr>\n",
       "      <th>1</th>\n",
       "      <td>Apple iPhone SE (2. Generation) 128GB Schwarz ...</td>\n",
       "      <td>89.00</td>\n",
       "    </tr>\n",
       "    <tr>\n",
       "      <th>2</th>\n",
       "      <td>OPPO Reno 13F 8+256GB 6.67\" 5G Plume Purple ITA</td>\n",
       "      <td>242.10</td>\n",
       "    </tr>\n",
       "  </tbody>\n",
       "</table>\n",
       "</div>"
      ],
      "text/plain": [
       "                                              nombre  precio\n",
       "0  Apple iPhone 14 Plus 128GB/256GB 5G Sin Simloc...  489.99\n",
       "1  Apple iPhone SE (2. Generation) 128GB Schwarz ...   89.00\n",
       "2    OPPO Reno 13F 8+256GB 6.67\" 5G Plume Purple ITA  242.10"
      ]
     },
     "execution_count": 65,
     "metadata": {},
     "output_type": "execute_result"
    }
   ],
   "source": [
    "df_moviles.head(3)"
   ]
  },
  {
   "cell_type": "code",
   "execution_count": 67,
   "id": "a64b8047",
   "metadata": {},
   "outputs": [
    {
     "name": "stdout",
     "output_type": "stream",
     "text": [
      "\n",
      "--- Información del DataFrame ---\n",
      "Dimensiones del DataFrame (filas, columnas): (24, 2)\n"
     ]
    }
   ],
   "source": [
    "print(\"\\n--- Información del DataFrame ---\")\n",
    "# Conocer las dimensiones del DataFrame (filas, columnas)\n",
    "print(f\"Dimensiones del DataFrame (filas, columnas): {df_moviles.shape}\")"
   ]
  },
  {
   "cell_type": "code",
   "execution_count": 68,
   "id": "2b2a687e",
   "metadata": {},
   "outputs": [
    {
     "name": "stdout",
     "output_type": "stream",
     "text": [
      "\n",
      "Tipos de datos de las columnas:\n",
      "nombre     object\n",
      "precio    float64\n",
      "dtype: object\n"
     ]
    }
   ],
   "source": [
    "# Conocer los tipos de datos de cada columna (strings como 'object')\n",
    "print(\"\\nTipos de datos de las columnas:\")\n",
    "print(df_moviles.dtypes)"
   ]
  },
  {
   "cell_type": "code",
   "execution_count": 69,
   "id": "c2cd527a",
   "metadata": {},
   "outputs": [
    {
     "name": "stdout",
     "output_type": "stream",
     "text": [
      "\n",
      "Información completa del DataFrame con .info():\n",
      "<class 'pandas.core.frame.DataFrame'>\n",
      "RangeIndex: 24 entries, 0 to 23\n",
      "Data columns (total 2 columns):\n",
      " #   Column  Non-Null Count  Dtype  \n",
      "---  ------  --------------  -----  \n",
      " 0   nombre  24 non-null     object \n",
      " 1   precio  24 non-null     float64\n",
      "dtypes: float64(1), object(1)\n",
      "memory usage: 516.0+ bytes\n"
     ]
    }
   ],
   "source": [
    "# Método .info() que aglutina mucha información\n",
    "print(\"\\nInformación completa del DataFrame con .info():\")\n",
    "df_moviles.info()"
   ]
  },
  {
   "cell_type": "code",
   "execution_count": null,
   "id": "25da4440",
   "metadata": {},
   "outputs": [],
   "source": [
    "# Otros métodos útiles que podrían explorar:\n",
    "# df_moviles.describe() # Estadísticas descriptivas de columnas numéricas\n",
    "# df_moviles.isnull().sum() # Conteo de valores nulos por columna\n",
    "# df_moviles[\"nombre\"].unique() # Valores únicos en una columna\n",
    "# df_moviles[\"nombre\"].value_counts() # Conteo de ocurrencias de cada valor único"
   ]
  },
  {
   "cell_type": "markdown",
   "id": "7a9b151b",
   "metadata": {},
   "source": [
    "#### 5.2. Extracción de Datos de Tablas HTML\n",
    "\n",
    "A veces, la información que necesitamos se encuentra dentro de tablas HTML. Beautiful Soup y Pandas trabajan muy bien juntos para esto.\n",
    "\n",
    "*   Recordemos los elementos clave de las tablas HTML: `<table>`, `<tr>`, `<th>`, `<td>`.\n",
    "*   El proceso es similar: hacer la petición, crear el objeto `BeautifulSoup`, encontrar todas las `<table>`, seleccionar la de interés, y luego iterar para extraer los `<th>` (encabezados) y los `<tr>` (filas con sus `<td>` o `<th>`).\n"
   ]
  },
  {
   "cell_type": "code",
   "execution_count": 70,
   "id": "efe0e8b6",
   "metadata": {},
   "outputs": [],
   "source": [
    "# 1. Definir la URL de la tabla (ej. histórico IBEX-35)\n",
    "url_bolsa = \"https://www.bolsamania.com/indice/IBEX-35/historico-precios\""
   ]
  },
  {
   "cell_type": "code",
   "execution_count": 71,
   "id": "fd12009e",
   "metadata": {},
   "outputs": [],
   "source": [
    "# 2. Hacer la petición y crear el objeto BeautifulSoup\n",
    "res_bolsa = requests.get(url_bolsa)\n",
    "sopa_bolsa = BeautifulSoup(res_bolsa.content, 'html.parser')"
   ]
  },
  {
   "cell_type": "code",
   "execution_count": 72,
   "id": "cbfb9c46",
   "metadata": {},
   "outputs": [
    {
     "data": {
      "text/plain": [
       "200"
      ]
     },
     "execution_count": 72,
     "metadata": {},
     "output_type": "execute_result"
    }
   ],
   "source": [
    "res_bolsa.status_code"
   ]
  },
  {
   "cell_type": "code",
   "execution_count": 73,
   "id": "3c0bd052",
   "metadata": {},
   "outputs": [],
   "source": [
    "# 3. Encontrar todas las tablas en la página\n",
    "tablas = sopa_bolsa.find_all(\"table\")"
   ]
  },
  {
   "cell_type": "code",
   "execution_count": 74,
   "id": "3d230a1f",
   "metadata": {},
   "outputs": [
    {
     "data": {
      "text/plain": [
       "bs4.element.ResultSet"
      ]
     },
     "execution_count": 74,
     "metadata": {},
     "output_type": "execute_result"
    }
   ],
   "source": [
    "type(tablas)"
   ]
  },
  {
   "cell_type": "code",
   "execution_count": 75,
   "id": "1beac0e4",
   "metadata": {},
   "outputs": [
    {
     "data": {
      "text/plain": [
       "3"
      ]
     },
     "execution_count": 75,
     "metadata": {},
     "output_type": "execute_result"
    }
   ],
   "source": [
    "len(tablas)"
   ]
  },
  {
   "cell_type": "code",
   "execution_count": 76,
   "id": "9174118c",
   "metadata": {},
   "outputs": [
    {
     "data": {
      "text/plain": [
       "<table class=\"stripped xs-grid-table\">\n",
       "<tbody>\n",
       "<tr>\n",
       "<td>Periodo</td>\n",
       "<td class=\"text-right\">\n",
       "                                    27 may - 26 jun                                </td>\n",
       "</tr>\n",
       "<tr>\n",
       "<td>Máximo</td>\n",
       "<td class=\"text-right\">\n",
       "                                    14.299,1000  (27-may-25)                                </td>\n",
       "</tr>\n",
       "<tr>\n",
       "<td>Mínimo</td>\n",
       "<td class=\"text-right\">\n",
       "                                    13.737,2000  (23-jun-25)                                </td>\n",
       "</tr>\n",
       "</tbody>\n",
       "</table>"
      ]
     },
     "execution_count": 76,
     "metadata": {},
     "output_type": "execute_result"
    }
   ],
   "source": [
    "tablas[0]"
   ]
  },
  {
   "cell_type": "code",
   "execution_count": 77,
   "id": "50d8da6b",
   "metadata": {},
   "outputs": [
    {
     "data": {
      "text/plain": [
       "<table class=\"stripped xs-grid-table\">\n",
       "<tbody>\n",
       "<tr>\n",
       "<td>Diferencia</td>\n",
       "<td class=\"text-right\">561,9000</td>\n",
       "</tr>\n",
       "<tr>\n",
       "<td>Promedio</td>\n",
       "<td class=\"text-right\">14.049,6435</td>\n",
       "</tr>\n",
       "<tr>\n",
       "<td>Variación %</td>\n",
       "<td class=\"text-right\"><span class=\"dred\">-2,81%</span></td>\n",
       "</tr>\n",
       "</tbody>\n",
       "</table>"
      ]
     },
     "execution_count": 77,
     "metadata": {},
     "output_type": "execute_result"
    }
   ],
   "source": [
    "tablas[1]"
   ]
  },
  {
   "cell_type": "code",
   "execution_count": 79,
   "id": "dfe4dc43",
   "metadata": {},
   "outputs": [],
   "source": [
    "nuestra_tabla = tablas[2]"
   ]
  },
  {
   "cell_type": "code",
   "execution_count": 80,
   "id": "a512a3be",
   "metadata": {},
   "outputs": [],
   "source": [
    "# 4. Extraer los encabezados (<th>) de la tabla\n",
    "lista_encabezados_html = nuestra_tabla.find_all(\"th\")"
   ]
  },
  {
   "cell_type": "code",
   "execution_count": 81,
   "id": "09106663",
   "metadata": {},
   "outputs": [
    {
     "data": {
      "text/plain": [
       "[<th class=\"text-left\" v-table-sorter-by=\"'date'\">Fecha<span></span></th>,\n",
       " <th class=\"text-right\" v-table-sorter-by=\"'price'\">Precio<span></span></th>,\n",
       " <th class=\"text-right\" v-table-sorter-by=\"'fallers'\">Variación %<span></span></th>,\n",
       " <th class=\"text-right\" v-table-sorter-by=\"'high'\">Máximo<span></span></th>,\n",
       " <th class=\"text-right\" v-table-sorter-by=\"'low'\">Mínimo<span></span></th>,\n",
       " <th class=\"text-right\" v-table-sorter-by=\"'open'\">Apertura<span></span></th>]"
      ]
     },
     "execution_count": 81,
     "metadata": {},
     "output_type": "execute_result"
    }
   ],
   "source": [
    "lista_encabezados_html"
   ]
  },
  {
   "cell_type": "code",
   "execution_count": 82,
   "id": "721550ed",
   "metadata": {},
   "outputs": [
    {
     "name": "stdout",
     "output_type": "stream",
     "text": [
      "Fecha\n",
      "Precio\n",
      "Variación %\n",
      "Máximo\n",
      "Mínimo\n",
      "Apertura\n"
     ]
    }
   ],
   "source": [
    "for columna in lista_encabezados_html:\n",
    "    print(columna.text)"
   ]
  },
  {
   "cell_type": "code",
   "execution_count": 83,
   "id": "5e906d7d",
   "metadata": {},
   "outputs": [],
   "source": [
    "# 5. Extraer todas las filas (<tr>) de la tabla (excluyendo la primera que ya son los encabezados)\n",
    "filas_ibex_html = nuestra_tabla.find_all(\"tr\")"
   ]
  },
  {
   "cell_type": "code",
   "execution_count": 88,
   "id": "1535daa3",
   "metadata": {},
   "outputs": [
    {
     "data": {
      "text/plain": [
       "24"
      ]
     },
     "execution_count": 88,
     "metadata": {},
     "output_type": "execute_result"
    }
   ],
   "source": [
    "len(filas_ibex_html)"
   ]
  },
  {
   "cell_type": "code",
   "execution_count": 87,
   "id": "ee75643d",
   "metadata": {},
   "outputs": [
    {
     "name": "stdout",
     "output_type": "stream",
     "text": [
      "<tr>\n",
      "<td class=\"text-left\">27-may-25</td>\n",
      "<td class=\"text-right\">14.239,900</td>\n",
      "<td class=\"text-right\"><span class=\"cgreen\">0,13%</span></td>\n",
      "<td class=\"text-right\">14.299,100</td>\n",
      "<td class=\"text-right\">14.164,400</td>\n",
      "<td class=\"text-right\">14.192,900</td>\n",
      "</tr>\n"
     ]
    }
   ],
   "source": [
    "for fila_html in filas_ibex_html[1:2]:\n",
    "    print(fila_html)"
   ]
  },
  {
   "cell_type": "code",
   "execution_count": 90,
   "id": "234fb1a7",
   "metadata": {},
   "outputs": [
    {
     "name": "stdout",
     "output_type": "stream",
     "text": [
      "\n",
      "27-may-25\n",
      "14.239,900\n",
      "0,13%\n",
      "14.299,100\n",
      "14.164,400\n",
      "14.192,900\n",
      "\n"
     ]
    }
   ],
   "source": [
    "for fila_html in filas_ibex_html[1:2]:\n",
    "    mi_string = fila_html.text \n",
    "    print(fila_html.text)"
   ]
  },
  {
   "cell_type": "code",
   "execution_count": 103,
   "id": "e81f112d",
   "metadata": {},
   "outputs": [
    {
     "data": {
      "text/plain": [
       "['27-may-25', '14.239,900', '0,13%', '14.299,100', '14.164,400', '14.192,900']"
      ]
     },
     "execution_count": 103,
     "metadata": {},
     "output_type": "execute_result"
    }
   ],
   "source": [
    "mi_string.split('\\n')[1:-1]"
   ]
  },
  {
   "cell_type": "code",
   "execution_count": 104,
   "id": "73fa9dd4",
   "metadata": {},
   "outputs": [
    {
     "name": "stdout",
     "output_type": "stream",
     "text": [
      "27-may-25\n",
      "14.239,900\n",
      "0,13%\n",
      "14.299,100\n",
      "14.164,400\n",
      "14.192,900\n"
     ]
    }
   ],
   "source": [
    "for fila_html in filas_ibex_html[1:2]:\n",
    "    for elemento in fila_html.text.split('\\n')[1:-1]:\n",
    "        print(elemento)"
   ]
  },
  {
   "cell_type": "code",
   "execution_count": 105,
   "id": "bd5cfdfb",
   "metadata": {},
   "outputs": [
    {
     "name": "stdout",
     "output_type": "stream",
     "text": [
      "27-may-25\n",
      "14.239,900\n",
      "0,13\n",
      "14.299,100\n",
      "14.164,400\n",
      "14.192,900\n"
     ]
    }
   ],
   "source": [
    "for fila_html in filas_ibex_html[1:2]:\n",
    "    for elemento in fila_html.text.split('\\n')[1:-1]:\n",
    "        print(elemento.replace('%', ''))"
   ]
  },
  {
   "cell_type": "code",
   "execution_count": 106,
   "id": "e1003d0f",
   "metadata": {},
   "outputs": [
    {
     "name": "stdout",
     "output_type": "stream",
     "text": [
      "27-may-25\n",
      "14239,900\n",
      "0,13\n",
      "14299,100\n",
      "14164,400\n",
      "14192,900\n"
     ]
    }
   ],
   "source": [
    "for fila_html in filas_ibex_html[1:2]:\n",
    "    for elemento in fila_html.text.split('\\n')[1:-1]:\n",
    "        print(elemento.replace('%', '').replace('.', ''))"
   ]
  },
  {
   "cell_type": "code",
   "execution_count": 107,
   "id": "42568425",
   "metadata": {},
   "outputs": [
    {
     "name": "stdout",
     "output_type": "stream",
     "text": [
      "27-may-25\n",
      "14239.900\n",
      "0.13\n",
      "14299.100\n",
      "14164.400\n",
      "14192.900\n"
     ]
    }
   ],
   "source": [
    "for fila_html in filas_ibex_html[1:2]:\n",
    "    for elemento in fila_html.text.split('\\n')[1:-1]:\n",
    "        print(elemento.replace('%', '').replace('.', '').replace(',', '.'))"
   ]
  },
  {
   "cell_type": "code",
   "execution_count": 108,
   "id": "5d462ba3",
   "metadata": {},
   "outputs": [],
   "source": [
    "resultados_ibex = []\n",
    "# Iteramos desde el segundo elemento (índice 1) para ignorar la fila de encabezados\n",
    "for fila_html in filas_ibex_html[1:]:\n",
    "    # Extraemos el texto de la fila, lo dividimos y limpiamos\n",
    "    elementos_fila = [elemento.replace(\"%\", \"\").replace(\".\", \"\").replace(\",\", \".\") for elemento in fila_html.text.split(\"\\n\")[1:-1]]\n",
    "    # Convertir a float si es posible, mantener como string si no\n",
    "    fila_limpia = []\n",
    "    for item in elementos_fila:\n",
    "        try:\n",
    "            fila_limpia.append(float(item))\n",
    "        except ValueError:\n",
    "            fila_limpia.append(item)\n",
    "    resultados_ibex.append(fila_limpia)\n"
   ]
  },
  {
   "cell_type": "code",
   "execution_count": 109,
   "id": "5bc1a667",
   "metadata": {},
   "outputs": [
    {
     "data": {
      "text/plain": [
       "[['27-may-25', 14239.9, 0.13, 14299.1, 14164.4, 14192.9],\n",
       " ['28-may-25', 14100.6, -0.98, 14262.5, 14094.8, 14208.3],\n",
       " ['29-may-25', 14116.6, 0.11, 14187.5, 14088.9, 14187.5]]"
      ]
     },
     "execution_count": 109,
     "metadata": {},
     "output_type": "execute_result"
    }
   ],
   "source": [
    "resultados_ibex[:3]"
   ]
  },
  {
   "cell_type": "code",
   "execution_count": 110,
   "id": "87c23940",
   "metadata": {},
   "outputs": [
    {
     "name": "stdout",
     "output_type": "stream",
     "text": [
      "Encabezados extraídos (ejemplo): ['Fecha', 'Precio', 'Variación %']\n"
     ]
    }
   ],
   "source": [
    "encabezados_ibex = [columna.text for columna in lista_encabezados_html]\n",
    "print(\"Encabezados extraídos (ejemplo):\", encabezados_ibex[:3])"
   ]
  },
  {
   "cell_type": "code",
   "execution_count": 111,
   "id": "504e63ca",
   "metadata": {},
   "outputs": [],
   "source": [
    "# 6. Convertir la lista de listas a DataFrame y asignar los encabezados\n",
    "df_ibex = pd.DataFrame(resultados_ibex)\n",
    "df_ibex.columns = encabezados_ibex # Asignar los encabezados extraídos"
   ]
  },
  {
   "cell_type": "code",
   "execution_count": 113,
   "id": "a83267b6",
   "metadata": {},
   "outputs": [
    {
     "data": {
      "text/html": [
       "<div>\n",
       "<style scoped>\n",
       "    .dataframe tbody tr th:only-of-type {\n",
       "        vertical-align: middle;\n",
       "    }\n",
       "\n",
       "    .dataframe tbody tr th {\n",
       "        vertical-align: top;\n",
       "    }\n",
       "\n",
       "    .dataframe thead th {\n",
       "        text-align: right;\n",
       "    }\n",
       "</style>\n",
       "<table border=\"1\" class=\"dataframe\">\n",
       "  <thead>\n",
       "    <tr style=\"text-align: right;\">\n",
       "      <th></th>\n",
       "      <th>Fecha</th>\n",
       "      <th>Precio</th>\n",
       "      <th>Variación %</th>\n",
       "      <th>Máximo</th>\n",
       "      <th>Mínimo</th>\n",
       "      <th>Apertura</th>\n",
       "    </tr>\n",
       "  </thead>\n",
       "  <tbody>\n",
       "    <tr>\n",
       "      <th>0</th>\n",
       "      <td>27-may-25</td>\n",
       "      <td>14239.9</td>\n",
       "      <td>0.13</td>\n",
       "      <td>14299.1</td>\n",
       "      <td>14164.4</td>\n",
       "      <td>14192.9</td>\n",
       "    </tr>\n",
       "    <tr>\n",
       "      <th>1</th>\n",
       "      <td>28-may-25</td>\n",
       "      <td>14100.6</td>\n",
       "      <td>-0.98</td>\n",
       "      <td>14262.5</td>\n",
       "      <td>14094.8</td>\n",
       "      <td>14208.3</td>\n",
       "    </tr>\n",
       "    <tr>\n",
       "      <th>2</th>\n",
       "      <td>29-may-25</td>\n",
       "      <td>14116.6</td>\n",
       "      <td>0.11</td>\n",
       "      <td>14187.5</td>\n",
       "      <td>14088.9</td>\n",
       "      <td>14187.5</td>\n",
       "    </tr>\n",
       "    <tr>\n",
       "      <th>3</th>\n",
       "      <td>30-may-25</td>\n",
       "      <td>14152.2</td>\n",
       "      <td>0.25</td>\n",
       "      <td>14214.6</td>\n",
       "      <td>14099.9</td>\n",
       "      <td>14131.0</td>\n",
       "    </tr>\n",
       "    <tr>\n",
       "      <th>4</th>\n",
       "      <td>02-jun-25</td>\n",
       "      <td>14202.8</td>\n",
       "      <td>0.36</td>\n",
       "      <td>14234.4</td>\n",
       "      <td>14099.6</td>\n",
       "      <td>14110.3</td>\n",
       "    </tr>\n",
       "    <tr>\n",
       "      <th>5</th>\n",
       "      <td>03-jun-25</td>\n",
       "      <td>14128.4</td>\n",
       "      <td>-0.52</td>\n",
       "      <td>14249.2</td>\n",
       "      <td>14080.5</td>\n",
       "      <td>14239.4</td>\n",
       "    </tr>\n",
       "    <tr>\n",
       "      <th>6</th>\n",
       "      <td>04-jun-25</td>\n",
       "      <td>14101.3</td>\n",
       "      <td>-0.19</td>\n",
       "      <td>14185.2</td>\n",
       "      <td>14036.4</td>\n",
       "      <td>14173.6</td>\n",
       "    </tr>\n",
       "    <tr>\n",
       "      <th>7</th>\n",
       "      <td>05-jun-25</td>\n",
       "      <td>14203.7</td>\n",
       "      <td>0.73</td>\n",
       "      <td>14204.9</td>\n",
       "      <td>14038.3</td>\n",
       "      <td>14095.4</td>\n",
       "    </tr>\n",
       "    <tr>\n",
       "      <th>8</th>\n",
       "      <td>06-jun-25</td>\n",
       "      <td>14247.6</td>\n",
       "      <td>0.31</td>\n",
       "      <td>14286.1</td>\n",
       "      <td>14179.1</td>\n",
       "      <td>14193.7</td>\n",
       "    </tr>\n",
       "    <tr>\n",
       "      <th>9</th>\n",
       "      <td>09-jun-25</td>\n",
       "      <td>14251.3</td>\n",
       "      <td>0.03</td>\n",
       "      <td>14292.3</td>\n",
       "      <td>14206.3</td>\n",
       "      <td>14227.9</td>\n",
       "    </tr>\n",
       "  </tbody>\n",
       "</table>\n",
       "</div>"
      ],
      "text/plain": [
       "       Fecha   Precio  Variación %   Máximo   Mínimo  Apertura\n",
       "0  27-may-25  14239.9         0.13  14299.1  14164.4   14192.9\n",
       "1  28-may-25  14100.6        -0.98  14262.5  14094.8   14208.3\n",
       "2  29-may-25  14116.6         0.11  14187.5  14088.9   14187.5\n",
       "3  30-may-25  14152.2         0.25  14214.6  14099.9   14131.0\n",
       "4  02-jun-25  14202.8         0.36  14234.4  14099.6   14110.3\n",
       "5  03-jun-25  14128.4        -0.52  14249.2  14080.5   14239.4\n",
       "6  04-jun-25  14101.3        -0.19  14185.2  14036.4   14173.6\n",
       "7  05-jun-25  14203.7         0.73  14204.9  14038.3   14095.4\n",
       "8  06-jun-25  14247.6         0.31  14286.1  14179.1   14193.7\n",
       "9  09-jun-25  14251.3         0.03  14292.3  14206.3   14227.9"
      ]
     },
     "execution_count": 113,
     "metadata": {},
     "output_type": "execute_result"
    }
   ],
   "source": [
    "df_ibex.head(10)"
   ]
  },
  {
   "cell_type": "code",
   "execution_count": 114,
   "id": "052daaaf",
   "metadata": {},
   "outputs": [
    {
     "name": "stdout",
     "output_type": "stream",
     "text": [
      "Dimensiones del DataFrame IBEX: (23, 6)\n"
     ]
    }
   ],
   "source": [
    "print(f\"Dimensiones del DataFrame IBEX: {df_ibex.shape}\")"
   ]
  },
  {
   "cell_type": "code",
   "execution_count": null,
   "id": "ea8ecfcc",
   "metadata": {},
   "outputs": [],
   "source": [
    "# Guardar el DataFrame a un archivo CSV\n",
    "# df_ibex.to_csv(\"datos_ibex.csv\", index=False) # El index=False evita guardar el índice de Pandas como una columna\n",
    "print(\"\\n¡Datos del IBEX-35 listos y guardados en 'datos_ibex.csv'!\")"
   ]
  }
 ],
 "metadata": {
  "kernelspec": {
   "display_name": "base",
   "language": "python",
   "name": "python3"
  },
  "language_info": {
   "codemirror_mode": {
    "name": "ipython",
    "version": 3
   },
   "file_extension": ".py",
   "mimetype": "text/x-python",
   "name": "python",
   "nbconvert_exporter": "python",
   "pygments_lexer": "ipython3",
   "version": "3.11.9"
  }
 },
 "nbformat": 4,
 "nbformat_minor": 5
}
