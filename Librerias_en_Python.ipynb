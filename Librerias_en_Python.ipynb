{
 "cells": [
  {
   "cell_type": "markdown",
   "id": "411017f8",
   "metadata": {},
   "source": [
    "### 🧠 ¿Qué es una librería?\n",
    "\n",
    "Una **librería** es un conjunto de herramientas (funciones, clases, etc.) que ya vienen escritas para que tú las uses. Sirven para **no tener que escribir todo desde cero**.\n",
    "\n",
    "Python tiene muchas librerías “de serie”, y otras se pueden instalar si se necesitan más adelante.\n",
    "\n",
    "de serie: built in\n",
    "terceros: third party"
   ]
  },
  {
   "cell_type": "markdown",
   "id": "3959b71f",
   "metadata": {},
   "source": [
    "### 🛠️ ¿Cómo se importa una librería?\n",
    "\n",
    "Para poder usarla, tienes que **importarla al inicio del programa**:\n",
    "\n",
    "```python\n",
    "import random\n",
    "```\n"
   ]
  },
  {
   "cell_type": "code",
   "execution_count": 1,
   "id": "f3aa7c54",
   "metadata": {},
   "outputs": [],
   "source": [
    "import random"
   ]
  },
  {
   "cell_type": "markdown",
   "id": "8f923a3c",
   "metadata": {},
   "source": [
    "Esto le dice a Python que vas a usar esa herramienta en tu código.\n",
    "\n",
    "También puedes ponerle un **alias** con `as` para escribir menos:\n",
    "\n",
    "```python\n",
    "import random as rd\n",
    "```\n",
    "Entonces puedes usar `rd.choice()` en lugar de `random.choice()`.\n"
   ]
  },
  {
   "cell_type": "code",
   "execution_count": null,
   "id": "cfa87c64",
   "metadata": {},
   "outputs": [],
   "source": [
    "import datetime"
   ]
  },
  {
   "cell_type": "code",
   "execution_count": 4,
   "id": "5f2f5db3",
   "metadata": {},
   "outputs": [
    {
     "data": {
      "text/plain": [
       "datetime.date(2025, 5, 24)"
      ]
     },
     "execution_count": 4,
     "metadata": {},
     "output_type": "execute_result"
    }
   ],
   "source": [
    "hoy = datetime.date.today()\n",
    "hoy"
   ]
  },
  {
   "cell_type": "code",
   "execution_count": 5,
   "id": "41d7c85c",
   "metadata": {},
   "outputs": [
    {
     "name": "stdout",
     "output_type": "stream",
     "text": [
      "la fecha de hoy es: 2025-05-24.\n"
     ]
    }
   ],
   "source": [
    "print(f'la fecha de hoy es: {hoy}.')"
   ]
  },
  {
   "cell_type": "code",
   "execution_count": 6,
   "id": "2a60dd6f",
   "metadata": {},
   "outputs": [],
   "source": [
    "opciones = ['piedra', 'papel', 'tijera', 'lagarto', 'spock']\n"
   ]
  },
  {
   "cell_type": "code",
   "execution_count": 11,
   "id": "ddd972b9",
   "metadata": {},
   "outputs": [
    {
     "data": {
      "text/plain": [
       "'piedra'"
      ]
     },
     "execution_count": 11,
     "metadata": {},
     "output_type": "execute_result"
    }
   ],
   "source": [
    "random.choice(opciones)"
   ]
  },
  {
   "cell_type": "code",
   "execution_count": 17,
   "id": "14f5bc60",
   "metadata": {},
   "outputs": [
    {
     "data": {
      "text/plain": [
       "83"
      ]
     },
     "execution_count": 17,
     "metadata": {},
     "output_type": "execute_result"
    }
   ],
   "source": [
    "numero = random.randint(1, 100)\n",
    "numero"
   ]
  },
  {
   "cell_type": "code",
   "execution_count": 18,
   "id": "d0d566f9",
   "metadata": {},
   "outputs": [],
   "source": [
    "import math"
   ]
  },
  {
   "cell_type": "code",
   "execution_count": 19,
   "id": "0583f512",
   "metadata": {},
   "outputs": [
    {
     "data": {
      "text/plain": [
       "3.141592653589793"
      ]
     },
     "execution_count": 19,
     "metadata": {},
     "output_type": "execute_result"
    }
   ],
   "source": [
    "math.pi"
   ]
  },
  {
   "cell_type": "code",
   "execution_count": null,
   "id": "078e5f0d",
   "metadata": {},
   "outputs": [],
   "source": []
  }
 ],
 "metadata": {
  "kernelspec": {
   "display_name": "base",
   "language": "python",
   "name": "python3"
  },
  "language_info": {
   "codemirror_mode": {
    "name": "ipython",
    "version": 3
   },
   "file_extension": ".py",
   "mimetype": "text/x-python",
   "name": "python",
   "nbconvert_exporter": "python",
   "pygments_lexer": "ipython3",
   "version": "3.11.9"
  }
 },
 "nbformat": 4,
 "nbformat_minor": 5
}
